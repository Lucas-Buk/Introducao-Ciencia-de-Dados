{
  "nbformat": 4,
  "nbformat_minor": 0,
  "metadata": {
    "colab": {
      "name": "Trabalho T1.ipynb",
      "provenance": [],
      "collapsed_sections": [
        "VSNITaCa0dKz",
        "v8n6hVc4u_yB",
        "L-QtJGEFvFva",
        "PE9hT6my1ZbD",
        "DD22DPtDi2wr",
        "Y6A-bKleQl8a",
        "o0I0fgGLo_b5",
        "oLZiYxyipYje",
        "zevJoyDVqmyo",
        "ikNvH40oqYD5",
        "_HClTm8KQl8j",
        "xIGa6weNhvRR",
        "hph-FQoCqSNG",
        "9mRDNHchqdh0",
        "oKsgnpH7qvEZ",
        "WPHbPxwRq-DI"
      ],
      "mount_file_id": "1DNRFXo5xaRXs5Q2naJ6WfA3SPMMYPLKF",
      "authorship_tag": "ABX9TyPD17uuqYkQM/hDsseoVyHE",
      "include_colab_link": true
    },
    "kernelspec": {
      "name": "python3",
      "display_name": "Python 3"
    }
  },
  "cells": [
    {
      "cell_type": "markdown",
      "metadata": {
        "id": "view-in-github",
        "colab_type": "text"
      },
      "source": [
        "<a href=\"https://colab.research.google.com/github/Lucas-Buk/Introducao-Ciencia-de-Dados/blob/master/Trabalho_T1.ipynb\" target=\"_parent\"><img src=\"https://colab.research.google.com/assets/colab-badge.svg\" alt=\"Open In Colab\"/></a>"
      ]
    },
    {
      "cell_type": "markdown",
      "metadata": {
        "id": "sB9CZRnH09v8"
      },
      "source": [
        "# Intalações e importações das bibliotecas\n"
      ]
    },
    {
      "cell_type": "code",
      "metadata": {
        "id": "egQU850H2AN3"
      },
      "source": [
        "!pip install gitly"
      ],
      "execution_count": null,
      "outputs": []
    },
    {
      "cell_type": "code",
      "metadata": {
        "id": "c_0V-KOF0Vmr"
      },
      "source": [
        "from gitly.colab.plot import GitlyPlotter\n",
        "\n",
        "gitly = GitlyPlotter(renderer='colab')"
      ],
      "execution_count": 2,
      "outputs": []
    },
    {
      "cell_type": "code",
      "metadata": {
        "id": "c4n8ZXRh2EDS"
      },
      "source": [
        "import pandas as pd\n",
        "import plotly.express as px\n",
        "import numpy as np"
      ],
      "execution_count": 3,
      "outputs": []
    },
    {
      "cell_type": "markdown",
      "metadata": {
        "id": "6INBNwny1CNx"
      },
      "source": [
        "# Leitura dos dados"
      ]
    },
    {
      "cell_type": "code",
      "metadata": {
        "id": "k8WnfOGr1EIS"
      },
      "source": [
        "df_clientes = pd.read_csv('/content/drive/My Drive/Colab Notebooks/Pós/Intro à CD/Datasets/olist_customers_dataset.csv')\n",
        "df_geo = pd.read_csv('/content/drive/My Drive/Colab Notebooks/Pós/Intro à CD/Datasets/olist_geolocation_dataset.csv', encoding='utf8')\n",
        "df_compra_itens = pd.read_csv('/content/drive/My Drive/Colab Notebooks/Pós/Intro à CD/Datasets/olist_order_items_dataset.csv')\n",
        "df_compra_pagamentos = pd.read_csv('/content/drive/My Drive/Colab Notebooks/Pós/Intro à CD/Datasets/olist_order_payments_dataset.csv')\n",
        "df_reviews = pd.read_csv('/content/drive/My Drive/Colab Notebooks/Pós/Intro à CD/Datasets/olist_order_reviews_dataset.csv')\n",
        "df_compras = pd.read_csv('/content/drive/My Drive/Colab Notebooks/Pós/Intro à CD/Datasets/olist_orders_dataset.csv')\n",
        "df_produtos = pd.read_csv('/content/drive/My Drive/Colab Notebooks/Pós/Intro à CD/Datasets/olist_products_dataset.csv')\n",
        "df_vendedores = pd.read_csv('/content/drive/My Drive/Colab Notebooks/Pós/Intro à CD/Datasets/olist_sellers_dataset.csv')"
      ],
      "execution_count": 4,
      "outputs": []
    },
    {
      "cell_type": "code",
      "metadata": {
        "id": "7f2cMeyf2rZa",
        "colab": {
          "base_uri": "https://localhost:8080/",
          "height": 111
        },
        "outputId": "1b10d7ab-5a46-42ab-a0ba-41139627273e"
      },
      "source": [
        "df_clientes.head(2)"
      ],
      "execution_count": 5,
      "outputs": [
        {
          "output_type": "execute_result",
          "data": {
            "text/html": [
              "<div>\n",
              "<style scoped>\n",
              "    .dataframe tbody tr th:only-of-type {\n",
              "        vertical-align: middle;\n",
              "    }\n",
              "\n",
              "    .dataframe tbody tr th {\n",
              "        vertical-align: top;\n",
              "    }\n",
              "\n",
              "    .dataframe thead th {\n",
              "        text-align: right;\n",
              "    }\n",
              "</style>\n",
              "<table border=\"1\" class=\"dataframe\">\n",
              "  <thead>\n",
              "    <tr style=\"text-align: right;\">\n",
              "      <th></th>\n",
              "      <th>customer_id</th>\n",
              "      <th>customer_unique_id</th>\n",
              "      <th>customer_zip_code_prefix</th>\n",
              "      <th>customer_city</th>\n",
              "      <th>customer_state</th>\n",
              "    </tr>\n",
              "  </thead>\n",
              "  <tbody>\n",
              "    <tr>\n",
              "      <th>0</th>\n",
              "      <td>06b8999e2fba1a1fbc88172c00ba8bc7</td>\n",
              "      <td>861eff4711a542e4b93843c6dd7febb0</td>\n",
              "      <td>14409</td>\n",
              "      <td>franca</td>\n",
              "      <td>SP</td>\n",
              "    </tr>\n",
              "    <tr>\n",
              "      <th>1</th>\n",
              "      <td>18955e83d337fd6b2def6b18a428ac77</td>\n",
              "      <td>290c77bc529b7ac935b93aa66c333dc3</td>\n",
              "      <td>9790</td>\n",
              "      <td>sao bernardo do campo</td>\n",
              "      <td>SP</td>\n",
              "    </tr>\n",
              "  </tbody>\n",
              "</table>\n",
              "</div>"
            ],
            "text/plain": [
              "                        customer_id  ... customer_state\n",
              "0  06b8999e2fba1a1fbc88172c00ba8bc7  ...             SP\n",
              "1  18955e83d337fd6b2def6b18a428ac77  ...             SP\n",
              "\n",
              "[2 rows x 5 columns]"
            ]
          },
          "metadata": {
            "tags": []
          },
          "execution_count": 5
        }
      ]
    },
    {
      "cell_type": "code",
      "metadata": {
        "id": "-8k69CWn27yD",
        "colab": {
          "base_uri": "https://localhost:8080/",
          "height": 111
        },
        "outputId": "73f28552-75d0-4116-d1c6-14306fd10cda"
      },
      "source": [
        "df_geo.head(2)"
      ],
      "execution_count": 6,
      "outputs": [
        {
          "output_type": "execute_result",
          "data": {
            "text/html": [
              "<div>\n",
              "<style scoped>\n",
              "    .dataframe tbody tr th:only-of-type {\n",
              "        vertical-align: middle;\n",
              "    }\n",
              "\n",
              "    .dataframe tbody tr th {\n",
              "        vertical-align: top;\n",
              "    }\n",
              "\n",
              "    .dataframe thead th {\n",
              "        text-align: right;\n",
              "    }\n",
              "</style>\n",
              "<table border=\"1\" class=\"dataframe\">\n",
              "  <thead>\n",
              "    <tr style=\"text-align: right;\">\n",
              "      <th></th>\n",
              "      <th>geolocation_zip_code_prefix</th>\n",
              "      <th>geolocation_lat</th>\n",
              "      <th>geolocation_lng</th>\n",
              "      <th>geolocation_city</th>\n",
              "      <th>geolocation_state</th>\n",
              "    </tr>\n",
              "  </thead>\n",
              "  <tbody>\n",
              "    <tr>\n",
              "      <th>0</th>\n",
              "      <td>1037</td>\n",
              "      <td>-23.545621</td>\n",
              "      <td>-46.639292</td>\n",
              "      <td>sao paulo</td>\n",
              "      <td>SP</td>\n",
              "    </tr>\n",
              "    <tr>\n",
              "      <th>1</th>\n",
              "      <td>1046</td>\n",
              "      <td>-23.546081</td>\n",
              "      <td>-46.644820</td>\n",
              "      <td>sao paulo</td>\n",
              "      <td>SP</td>\n",
              "    </tr>\n",
              "  </tbody>\n",
              "</table>\n",
              "</div>"
            ],
            "text/plain": [
              "   geolocation_zip_code_prefix  ...  geolocation_state\n",
              "0                         1037  ...                 SP\n",
              "1                         1046  ...                 SP\n",
              "\n",
              "[2 rows x 5 columns]"
            ]
          },
          "metadata": {
            "tags": []
          },
          "execution_count": 6
        }
      ]
    },
    {
      "cell_type": "code",
      "metadata": {
        "id": "chsYqsKV2-L2",
        "colab": {
          "base_uri": "https://localhost:8080/",
          "height": 131
        },
        "outputId": "52afd198-eeee-48c3-ea49-dce3bcf0e5c7"
      },
      "source": [
        "df_compra_itens.head(2)"
      ],
      "execution_count": 7,
      "outputs": [
        {
          "output_type": "execute_result",
          "data": {
            "text/html": [
              "<div>\n",
              "<style scoped>\n",
              "    .dataframe tbody tr th:only-of-type {\n",
              "        vertical-align: middle;\n",
              "    }\n",
              "\n",
              "    .dataframe tbody tr th {\n",
              "        vertical-align: top;\n",
              "    }\n",
              "\n",
              "    .dataframe thead th {\n",
              "        text-align: right;\n",
              "    }\n",
              "</style>\n",
              "<table border=\"1\" class=\"dataframe\">\n",
              "  <thead>\n",
              "    <tr style=\"text-align: right;\">\n",
              "      <th></th>\n",
              "      <th>order_id</th>\n",
              "      <th>order_item_id</th>\n",
              "      <th>product_id</th>\n",
              "      <th>seller_id</th>\n",
              "      <th>shipping_limit_date</th>\n",
              "      <th>price</th>\n",
              "      <th>freight_value</th>\n",
              "    </tr>\n",
              "  </thead>\n",
              "  <tbody>\n",
              "    <tr>\n",
              "      <th>0</th>\n",
              "      <td>00010242fe8c5a6d1ba2dd792cb16214</td>\n",
              "      <td>1</td>\n",
              "      <td>4244733e06e7ecb4970a6e2683c13e61</td>\n",
              "      <td>48436dade18ac8b2bce089ec2a041202</td>\n",
              "      <td>2017-09-19 09:45:35</td>\n",
              "      <td>58.9</td>\n",
              "      <td>13.29</td>\n",
              "    </tr>\n",
              "    <tr>\n",
              "      <th>1</th>\n",
              "      <td>00018f77f2f0320c557190d7a144bdd3</td>\n",
              "      <td>1</td>\n",
              "      <td>e5f2d52b802189ee658865ca93d83a8f</td>\n",
              "      <td>dd7ddc04e1b6c2c614352b383efe2d36</td>\n",
              "      <td>2017-05-03 11:05:13</td>\n",
              "      <td>239.9</td>\n",
              "      <td>19.93</td>\n",
              "    </tr>\n",
              "  </tbody>\n",
              "</table>\n",
              "</div>"
            ],
            "text/plain": [
              "                           order_id  order_item_id  ...  price freight_value\n",
              "0  00010242fe8c5a6d1ba2dd792cb16214              1  ...   58.9         13.29\n",
              "1  00018f77f2f0320c557190d7a144bdd3              1  ...  239.9         19.93\n",
              "\n",
              "[2 rows x 7 columns]"
            ]
          },
          "metadata": {
            "tags": []
          },
          "execution_count": 7
        }
      ]
    },
    {
      "cell_type": "code",
      "metadata": {
        "id": "2xmx47b13CGR",
        "colab": {
          "base_uri": "https://localhost:8080/",
          "height": 111
        },
        "outputId": "c623d224-65d1-4d68-febe-38e187c72b49"
      },
      "source": [
        "df_compra_pagamentos.head(2)"
      ],
      "execution_count": 8,
      "outputs": [
        {
          "output_type": "execute_result",
          "data": {
            "text/html": [
              "<div>\n",
              "<style scoped>\n",
              "    .dataframe tbody tr th:only-of-type {\n",
              "        vertical-align: middle;\n",
              "    }\n",
              "\n",
              "    .dataframe tbody tr th {\n",
              "        vertical-align: top;\n",
              "    }\n",
              "\n",
              "    .dataframe thead th {\n",
              "        text-align: right;\n",
              "    }\n",
              "</style>\n",
              "<table border=\"1\" class=\"dataframe\">\n",
              "  <thead>\n",
              "    <tr style=\"text-align: right;\">\n",
              "      <th></th>\n",
              "      <th>order_id</th>\n",
              "      <th>payment_sequential</th>\n",
              "      <th>payment_type</th>\n",
              "      <th>payment_installments</th>\n",
              "      <th>payment_value</th>\n",
              "    </tr>\n",
              "  </thead>\n",
              "  <tbody>\n",
              "    <tr>\n",
              "      <th>0</th>\n",
              "      <td>b81ef226f3fe1789b1e8b2acac839d17</td>\n",
              "      <td>1</td>\n",
              "      <td>credit_card</td>\n",
              "      <td>8</td>\n",
              "      <td>99.33</td>\n",
              "    </tr>\n",
              "    <tr>\n",
              "      <th>1</th>\n",
              "      <td>a9810da82917af2d9aefd1278f1dcfa0</td>\n",
              "      <td>1</td>\n",
              "      <td>credit_card</td>\n",
              "      <td>1</td>\n",
              "      <td>24.39</td>\n",
              "    </tr>\n",
              "  </tbody>\n",
              "</table>\n",
              "</div>"
            ],
            "text/plain": [
              "                           order_id  ...  payment_value\n",
              "0  b81ef226f3fe1789b1e8b2acac839d17  ...          99.33\n",
              "1  a9810da82917af2d9aefd1278f1dcfa0  ...          24.39\n",
              "\n",
              "[2 rows x 5 columns]"
            ]
          },
          "metadata": {
            "tags": []
          },
          "execution_count": 8
        }
      ]
    },
    {
      "cell_type": "code",
      "metadata": {
        "id": "K_66Tysj3FKZ",
        "colab": {
          "base_uri": "https://localhost:8080/",
          "height": 131
        },
        "outputId": "a647e958-3603-4f54-b959-42bfaa15fc50"
      },
      "source": [
        "df_reviews.head(2)"
      ],
      "execution_count": 9,
      "outputs": [
        {
          "output_type": "execute_result",
          "data": {
            "text/html": [
              "<div>\n",
              "<style scoped>\n",
              "    .dataframe tbody tr th:only-of-type {\n",
              "        vertical-align: middle;\n",
              "    }\n",
              "\n",
              "    .dataframe tbody tr th {\n",
              "        vertical-align: top;\n",
              "    }\n",
              "\n",
              "    .dataframe thead th {\n",
              "        text-align: right;\n",
              "    }\n",
              "</style>\n",
              "<table border=\"1\" class=\"dataframe\">\n",
              "  <thead>\n",
              "    <tr style=\"text-align: right;\">\n",
              "      <th></th>\n",
              "      <th>review_id</th>\n",
              "      <th>order_id</th>\n",
              "      <th>review_score</th>\n",
              "      <th>review_comment_title</th>\n",
              "      <th>review_comment_message</th>\n",
              "      <th>review_creation_date</th>\n",
              "      <th>review_answer_timestamp</th>\n",
              "    </tr>\n",
              "  </thead>\n",
              "  <tbody>\n",
              "    <tr>\n",
              "      <th>0</th>\n",
              "      <td>7bc2406110b926393aa56f80a40eba40</td>\n",
              "      <td>73fc7af87114b39712e6da79b0a377eb</td>\n",
              "      <td>4</td>\n",
              "      <td>NaN</td>\n",
              "      <td>NaN</td>\n",
              "      <td>2018-01-18 00:00:00</td>\n",
              "      <td>2018-01-18 21:46:59</td>\n",
              "    </tr>\n",
              "    <tr>\n",
              "      <th>1</th>\n",
              "      <td>80e641a11e56f04c1ad469d5645fdfde</td>\n",
              "      <td>a548910a1c6147796b98fdf73dbeba33</td>\n",
              "      <td>5</td>\n",
              "      <td>NaN</td>\n",
              "      <td>NaN</td>\n",
              "      <td>2018-03-10 00:00:00</td>\n",
              "      <td>2018-03-11 03:05:13</td>\n",
              "    </tr>\n",
              "  </tbody>\n",
              "</table>\n",
              "</div>"
            ],
            "text/plain": [
              "                          review_id  ... review_answer_timestamp\n",
              "0  7bc2406110b926393aa56f80a40eba40  ...     2018-01-18 21:46:59\n",
              "1  80e641a11e56f04c1ad469d5645fdfde  ...     2018-03-11 03:05:13\n",
              "\n",
              "[2 rows x 7 columns]"
            ]
          },
          "metadata": {
            "tags": []
          },
          "execution_count": 9
        }
      ]
    },
    {
      "cell_type": "code",
      "metadata": {
        "id": "DA_Y-qt93IUh",
        "colab": {
          "base_uri": "https://localhost:8080/",
          "height": 131
        },
        "outputId": "78c65af7-a1b7-4dc8-de6e-3a7c876b249d"
      },
      "source": [
        "df_compras.head(2)"
      ],
      "execution_count": 10,
      "outputs": [
        {
          "output_type": "execute_result",
          "data": {
            "text/html": [
              "<div>\n",
              "<style scoped>\n",
              "    .dataframe tbody tr th:only-of-type {\n",
              "        vertical-align: middle;\n",
              "    }\n",
              "\n",
              "    .dataframe tbody tr th {\n",
              "        vertical-align: top;\n",
              "    }\n",
              "\n",
              "    .dataframe thead th {\n",
              "        text-align: right;\n",
              "    }\n",
              "</style>\n",
              "<table border=\"1\" class=\"dataframe\">\n",
              "  <thead>\n",
              "    <tr style=\"text-align: right;\">\n",
              "      <th></th>\n",
              "      <th>order_id</th>\n",
              "      <th>customer_id</th>\n",
              "      <th>order_status</th>\n",
              "      <th>order_purchase_timestamp</th>\n",
              "      <th>order_approved_at</th>\n",
              "      <th>order_delivered_carrier_date</th>\n",
              "      <th>order_delivered_customer_date</th>\n",
              "      <th>order_estimated_delivery_date</th>\n",
              "    </tr>\n",
              "  </thead>\n",
              "  <tbody>\n",
              "    <tr>\n",
              "      <th>0</th>\n",
              "      <td>e481f51cbdc54678b7cc49136f2d6af7</td>\n",
              "      <td>9ef432eb6251297304e76186b10a928d</td>\n",
              "      <td>delivered</td>\n",
              "      <td>2017-10-02 10:56:33</td>\n",
              "      <td>2017-10-02 11:07:15</td>\n",
              "      <td>2017-10-04 19:55:00</td>\n",
              "      <td>2017-10-10 21:25:13</td>\n",
              "      <td>2017-10-18 00:00:00</td>\n",
              "    </tr>\n",
              "    <tr>\n",
              "      <th>1</th>\n",
              "      <td>53cdb2fc8bc7dce0b6741e2150273451</td>\n",
              "      <td>b0830fb4747a6c6d20dea0b8c802d7ef</td>\n",
              "      <td>delivered</td>\n",
              "      <td>2018-07-24 20:41:37</td>\n",
              "      <td>2018-07-26 03:24:27</td>\n",
              "      <td>2018-07-26 14:31:00</td>\n",
              "      <td>2018-08-07 15:27:45</td>\n",
              "      <td>2018-08-13 00:00:00</td>\n",
              "    </tr>\n",
              "  </tbody>\n",
              "</table>\n",
              "</div>"
            ],
            "text/plain": [
              "                           order_id  ... order_estimated_delivery_date\n",
              "0  e481f51cbdc54678b7cc49136f2d6af7  ...           2017-10-18 00:00:00\n",
              "1  53cdb2fc8bc7dce0b6741e2150273451  ...           2018-08-13 00:00:00\n",
              "\n",
              "[2 rows x 8 columns]"
            ]
          },
          "metadata": {
            "tags": []
          },
          "execution_count": 10
        }
      ]
    },
    {
      "cell_type": "code",
      "metadata": {
        "id": "dZ4AqvRb3LKO",
        "colab": {
          "base_uri": "https://localhost:8080/",
          "height": 131
        },
        "outputId": "a6e4464c-2e9d-4027-92dc-edf33cefc2dd"
      },
      "source": [
        "df_produtos.head(2)"
      ],
      "execution_count": 11,
      "outputs": [
        {
          "output_type": "execute_result",
          "data": {
            "text/html": [
              "<div>\n",
              "<style scoped>\n",
              "    .dataframe tbody tr th:only-of-type {\n",
              "        vertical-align: middle;\n",
              "    }\n",
              "\n",
              "    .dataframe tbody tr th {\n",
              "        vertical-align: top;\n",
              "    }\n",
              "\n",
              "    .dataframe thead th {\n",
              "        text-align: right;\n",
              "    }\n",
              "</style>\n",
              "<table border=\"1\" class=\"dataframe\">\n",
              "  <thead>\n",
              "    <tr style=\"text-align: right;\">\n",
              "      <th></th>\n",
              "      <th>product_id</th>\n",
              "      <th>product_category_name</th>\n",
              "      <th>product_name_lenght</th>\n",
              "      <th>product_description_lenght</th>\n",
              "      <th>product_photos_qty</th>\n",
              "      <th>product_weight_g</th>\n",
              "      <th>product_length_cm</th>\n",
              "      <th>product_height_cm</th>\n",
              "      <th>product_width_cm</th>\n",
              "    </tr>\n",
              "  </thead>\n",
              "  <tbody>\n",
              "    <tr>\n",
              "      <th>0</th>\n",
              "      <td>1e9e8ef04dbcff4541ed26657ea517e5</td>\n",
              "      <td>perfumaria</td>\n",
              "      <td>40.0</td>\n",
              "      <td>287.0</td>\n",
              "      <td>1.0</td>\n",
              "      <td>225.0</td>\n",
              "      <td>16.0</td>\n",
              "      <td>10.0</td>\n",
              "      <td>14.0</td>\n",
              "    </tr>\n",
              "    <tr>\n",
              "      <th>1</th>\n",
              "      <td>3aa071139cb16b67ca9e5dea641aaa2f</td>\n",
              "      <td>artes</td>\n",
              "      <td>44.0</td>\n",
              "      <td>276.0</td>\n",
              "      <td>1.0</td>\n",
              "      <td>1000.0</td>\n",
              "      <td>30.0</td>\n",
              "      <td>18.0</td>\n",
              "      <td>20.0</td>\n",
              "    </tr>\n",
              "  </tbody>\n",
              "</table>\n",
              "</div>"
            ],
            "text/plain": [
              "                         product_id  ... product_width_cm\n",
              "0  1e9e8ef04dbcff4541ed26657ea517e5  ...             14.0\n",
              "1  3aa071139cb16b67ca9e5dea641aaa2f  ...             20.0\n",
              "\n",
              "[2 rows x 9 columns]"
            ]
          },
          "metadata": {
            "tags": []
          },
          "execution_count": 11
        }
      ]
    },
    {
      "cell_type": "code",
      "metadata": {
        "id": "Exwrq2V23Okt",
        "colab": {
          "base_uri": "https://localhost:8080/",
          "height": 111
        },
        "outputId": "bae508d5-37e0-416c-bb9d-9ad8cdfadfea"
      },
      "source": [
        "df_vendedores.head(2)"
      ],
      "execution_count": 12,
      "outputs": [
        {
          "output_type": "execute_result",
          "data": {
            "text/html": [
              "<div>\n",
              "<style scoped>\n",
              "    .dataframe tbody tr th:only-of-type {\n",
              "        vertical-align: middle;\n",
              "    }\n",
              "\n",
              "    .dataframe tbody tr th {\n",
              "        vertical-align: top;\n",
              "    }\n",
              "\n",
              "    .dataframe thead th {\n",
              "        text-align: right;\n",
              "    }\n",
              "</style>\n",
              "<table border=\"1\" class=\"dataframe\">\n",
              "  <thead>\n",
              "    <tr style=\"text-align: right;\">\n",
              "      <th></th>\n",
              "      <th>seller_id</th>\n",
              "      <th>seller_zip_code_prefix</th>\n",
              "      <th>seller_city</th>\n",
              "      <th>seller_state</th>\n",
              "    </tr>\n",
              "  </thead>\n",
              "  <tbody>\n",
              "    <tr>\n",
              "      <th>0</th>\n",
              "      <td>3442f8959a84dea7ee197c632cb2df15</td>\n",
              "      <td>13023</td>\n",
              "      <td>campinas</td>\n",
              "      <td>SP</td>\n",
              "    </tr>\n",
              "    <tr>\n",
              "      <th>1</th>\n",
              "      <td>d1b65fc7debc3361ea86b5f14c68d2e2</td>\n",
              "      <td>13844</td>\n",
              "      <td>mogi guacu</td>\n",
              "      <td>SP</td>\n",
              "    </tr>\n",
              "  </tbody>\n",
              "</table>\n",
              "</div>"
            ],
            "text/plain": [
              "                          seller_id  ...  seller_state\n",
              "0  3442f8959a84dea7ee197c632cb2df15  ...            SP\n",
              "1  d1b65fc7debc3361ea86b5f14c68d2e2  ...            SP\n",
              "\n",
              "[2 rows x 4 columns]"
            ]
          },
          "metadata": {
            "tags": []
          },
          "execution_count": 12
        }
      ]
    },
    {
      "cell_type": "markdown",
      "metadata": {
        "id": "MK0lzVt1PlK8"
      },
      "source": [
        "# Análises a serem realizadas"
      ]
    },
    {
      "cell_type": "markdown",
      "metadata": {
        "id": "ZAkG60pAKGW1"
      },
      "source": [
        "1.   Maiores compradores em $ (5 que mais gastam)\n",
        "2.   Tempo médio de entrega por região\n",
        "3.   Formas de pagamento mais comuns por região\n",
        "4.   Categorias mais bem avaliadas (5+)\n",
        "\n"
      ]
    },
    {
      "cell_type": "markdown",
      "metadata": {
        "id": "8uZjBeXA1gr8"
      },
      "source": [
        "Serão realizadas as 4 análises propostas no T1 tanto no PowerBI quanto em python."
      ]
    },
    {
      "cell_type": "markdown",
      "metadata": {
        "id": "bCbMDbWFQcUK"
      },
      "source": [
        "# Análise 1 - 5 consumidores que mais gastaram em compras, com as respectivas cidades e dados de cada pedido.\n"
      ]
    },
    {
      "cell_type": "markdown",
      "metadata": {
        "id": "sgCDOu4c1EnW"
      },
      "source": [
        "## Tratamento dos dados"
      ]
    },
    {
      "cell_type": "markdown",
      "metadata": {
        "id": "v8n6hVc4u_yB"
      },
      "source": [
        "### Criação da coluna com o valor total da compra"
      ]
    },
    {
      "cell_type": "code",
      "metadata": {
        "id": "IeJXB-Vj1YaZ",
        "colab": {
          "base_uri": "https://localhost:8080/",
          "height": 131
        },
        "outputId": "49802200-0bcf-474e-9af2-ee2f38185efe"
      },
      "source": [
        "df_compra_itens['valor_final'] = df_compra_itens.order_item_id * df_compra_itens.price\n",
        "df_compra_itens.head(2)"
      ],
      "execution_count": 13,
      "outputs": [
        {
          "output_type": "execute_result",
          "data": {
            "text/html": [
              "<div>\n",
              "<style scoped>\n",
              "    .dataframe tbody tr th:only-of-type {\n",
              "        vertical-align: middle;\n",
              "    }\n",
              "\n",
              "    .dataframe tbody tr th {\n",
              "        vertical-align: top;\n",
              "    }\n",
              "\n",
              "    .dataframe thead th {\n",
              "        text-align: right;\n",
              "    }\n",
              "</style>\n",
              "<table border=\"1\" class=\"dataframe\">\n",
              "  <thead>\n",
              "    <tr style=\"text-align: right;\">\n",
              "      <th></th>\n",
              "      <th>order_id</th>\n",
              "      <th>order_item_id</th>\n",
              "      <th>product_id</th>\n",
              "      <th>seller_id</th>\n",
              "      <th>shipping_limit_date</th>\n",
              "      <th>price</th>\n",
              "      <th>freight_value</th>\n",
              "      <th>valor_final</th>\n",
              "    </tr>\n",
              "  </thead>\n",
              "  <tbody>\n",
              "    <tr>\n",
              "      <th>0</th>\n",
              "      <td>00010242fe8c5a6d1ba2dd792cb16214</td>\n",
              "      <td>1</td>\n",
              "      <td>4244733e06e7ecb4970a6e2683c13e61</td>\n",
              "      <td>48436dade18ac8b2bce089ec2a041202</td>\n",
              "      <td>2017-09-19 09:45:35</td>\n",
              "      <td>58.9</td>\n",
              "      <td>13.29</td>\n",
              "      <td>58.9</td>\n",
              "    </tr>\n",
              "    <tr>\n",
              "      <th>1</th>\n",
              "      <td>00018f77f2f0320c557190d7a144bdd3</td>\n",
              "      <td>1</td>\n",
              "      <td>e5f2d52b802189ee658865ca93d83a8f</td>\n",
              "      <td>dd7ddc04e1b6c2c614352b383efe2d36</td>\n",
              "      <td>2017-05-03 11:05:13</td>\n",
              "      <td>239.9</td>\n",
              "      <td>19.93</td>\n",
              "      <td>239.9</td>\n",
              "    </tr>\n",
              "  </tbody>\n",
              "</table>\n",
              "</div>"
            ],
            "text/plain": [
              "                           order_id  order_item_id  ... freight_value valor_final\n",
              "0  00010242fe8c5a6d1ba2dd792cb16214              1  ...         13.29        58.9\n",
              "1  00018f77f2f0320c557190d7a144bdd3              1  ...         19.93       239.9\n",
              "\n",
              "[2 rows x 8 columns]"
            ]
          },
          "metadata": {
            "tags": []
          },
          "execution_count": 13
        }
      ]
    },
    {
      "cell_type": "markdown",
      "metadata": {
        "id": "L-QtJGEFvFva"
      },
      "source": [
        "### Join das tabelas"
      ]
    },
    {
      "cell_type": "code",
      "metadata": {
        "id": "kLQTGdEDRewg",
        "colab": {
          "base_uri": "https://localhost:8080/",
          "height": 142
        },
        "outputId": "1608f6b5-db91-48b3-d3d1-39962679a882"
      },
      "source": [
        "df_left = df_compras[['order_id', 'customer_id', 'order_purchase_timestamp']]\n",
        "df_left.head(3)"
      ],
      "execution_count": 14,
      "outputs": [
        {
          "output_type": "execute_result",
          "data": {
            "text/html": [
              "<div>\n",
              "<style scoped>\n",
              "    .dataframe tbody tr th:only-of-type {\n",
              "        vertical-align: middle;\n",
              "    }\n",
              "\n",
              "    .dataframe tbody tr th {\n",
              "        vertical-align: top;\n",
              "    }\n",
              "\n",
              "    .dataframe thead th {\n",
              "        text-align: right;\n",
              "    }\n",
              "</style>\n",
              "<table border=\"1\" class=\"dataframe\">\n",
              "  <thead>\n",
              "    <tr style=\"text-align: right;\">\n",
              "      <th></th>\n",
              "      <th>order_id</th>\n",
              "      <th>customer_id</th>\n",
              "      <th>order_purchase_timestamp</th>\n",
              "    </tr>\n",
              "  </thead>\n",
              "  <tbody>\n",
              "    <tr>\n",
              "      <th>0</th>\n",
              "      <td>e481f51cbdc54678b7cc49136f2d6af7</td>\n",
              "      <td>9ef432eb6251297304e76186b10a928d</td>\n",
              "      <td>2017-10-02 10:56:33</td>\n",
              "    </tr>\n",
              "    <tr>\n",
              "      <th>1</th>\n",
              "      <td>53cdb2fc8bc7dce0b6741e2150273451</td>\n",
              "      <td>b0830fb4747a6c6d20dea0b8c802d7ef</td>\n",
              "      <td>2018-07-24 20:41:37</td>\n",
              "    </tr>\n",
              "    <tr>\n",
              "      <th>2</th>\n",
              "      <td>47770eb9100c2d0c44946d9cf07ec65d</td>\n",
              "      <td>41ce2a54c0b03bf3443c3d931a367089</td>\n",
              "      <td>2018-08-08 08:38:49</td>\n",
              "    </tr>\n",
              "  </tbody>\n",
              "</table>\n",
              "</div>"
            ],
            "text/plain": [
              "                           order_id  ... order_purchase_timestamp\n",
              "0  e481f51cbdc54678b7cc49136f2d6af7  ...      2017-10-02 10:56:33\n",
              "1  53cdb2fc8bc7dce0b6741e2150273451  ...      2018-07-24 20:41:37\n",
              "2  47770eb9100c2d0c44946d9cf07ec65d  ...      2018-08-08 08:38:49\n",
              "\n",
              "[3 rows x 3 columns]"
            ]
          },
          "metadata": {
            "tags": []
          },
          "execution_count": 14
        }
      ]
    },
    {
      "cell_type": "code",
      "metadata": {
        "id": "EzHpZK2qSUYk",
        "colab": {
          "base_uri": "https://localhost:8080/",
          "height": 142
        },
        "outputId": "d2049d35-9eba-42da-a798-7e845bff390a"
      },
      "source": [
        "df_right = df_compra_itens[['order_id','product_id', 'valor_final', 'seller_id', 'freight_value']]\n",
        "df_right.head(3)"
      ],
      "execution_count": 15,
      "outputs": [
        {
          "output_type": "execute_result",
          "data": {
            "text/html": [
              "<div>\n",
              "<style scoped>\n",
              "    .dataframe tbody tr th:only-of-type {\n",
              "        vertical-align: middle;\n",
              "    }\n",
              "\n",
              "    .dataframe tbody tr th {\n",
              "        vertical-align: top;\n",
              "    }\n",
              "\n",
              "    .dataframe thead th {\n",
              "        text-align: right;\n",
              "    }\n",
              "</style>\n",
              "<table border=\"1\" class=\"dataframe\">\n",
              "  <thead>\n",
              "    <tr style=\"text-align: right;\">\n",
              "      <th></th>\n",
              "      <th>order_id</th>\n",
              "      <th>product_id</th>\n",
              "      <th>valor_final</th>\n",
              "      <th>seller_id</th>\n",
              "      <th>freight_value</th>\n",
              "    </tr>\n",
              "  </thead>\n",
              "  <tbody>\n",
              "    <tr>\n",
              "      <th>0</th>\n",
              "      <td>00010242fe8c5a6d1ba2dd792cb16214</td>\n",
              "      <td>4244733e06e7ecb4970a6e2683c13e61</td>\n",
              "      <td>58.9</td>\n",
              "      <td>48436dade18ac8b2bce089ec2a041202</td>\n",
              "      <td>13.29</td>\n",
              "    </tr>\n",
              "    <tr>\n",
              "      <th>1</th>\n",
              "      <td>00018f77f2f0320c557190d7a144bdd3</td>\n",
              "      <td>e5f2d52b802189ee658865ca93d83a8f</td>\n",
              "      <td>239.9</td>\n",
              "      <td>dd7ddc04e1b6c2c614352b383efe2d36</td>\n",
              "      <td>19.93</td>\n",
              "    </tr>\n",
              "    <tr>\n",
              "      <th>2</th>\n",
              "      <td>000229ec398224ef6ca0657da4fc703e</td>\n",
              "      <td>c777355d18b72b67abbeef9df44fd0fd</td>\n",
              "      <td>199.0</td>\n",
              "      <td>5b51032eddd242adc84c38acab88f23d</td>\n",
              "      <td>17.87</td>\n",
              "    </tr>\n",
              "  </tbody>\n",
              "</table>\n",
              "</div>"
            ],
            "text/plain": [
              "                           order_id  ... freight_value\n",
              "0  00010242fe8c5a6d1ba2dd792cb16214  ...         13.29\n",
              "1  00018f77f2f0320c557190d7a144bdd3  ...         19.93\n",
              "2  000229ec398224ef6ca0657da4fc703e  ...         17.87\n",
              "\n",
              "[3 rows x 5 columns]"
            ]
          },
          "metadata": {
            "tags": []
          },
          "execution_count": 15
        }
      ]
    },
    {
      "cell_type": "code",
      "metadata": {
        "id": "gazaft09Sxbs",
        "colab": {
          "base_uri": "https://localhost:8080/",
          "height": 162
        },
        "outputId": "f0e0492b-6072-416c-92d3-9982c1beaa00"
      },
      "source": [
        "df_res = df_left.merge(df_right, how='right', on='order_id')\n",
        "df_res.head(3)"
      ],
      "execution_count": 16,
      "outputs": [
        {
          "output_type": "execute_result",
          "data": {
            "text/html": [
              "<div>\n",
              "<style scoped>\n",
              "    .dataframe tbody tr th:only-of-type {\n",
              "        vertical-align: middle;\n",
              "    }\n",
              "\n",
              "    .dataframe tbody tr th {\n",
              "        vertical-align: top;\n",
              "    }\n",
              "\n",
              "    .dataframe thead th {\n",
              "        text-align: right;\n",
              "    }\n",
              "</style>\n",
              "<table border=\"1\" class=\"dataframe\">\n",
              "  <thead>\n",
              "    <tr style=\"text-align: right;\">\n",
              "      <th></th>\n",
              "      <th>order_id</th>\n",
              "      <th>customer_id</th>\n",
              "      <th>order_purchase_timestamp</th>\n",
              "      <th>product_id</th>\n",
              "      <th>valor_final</th>\n",
              "      <th>seller_id</th>\n",
              "      <th>freight_value</th>\n",
              "    </tr>\n",
              "  </thead>\n",
              "  <tbody>\n",
              "    <tr>\n",
              "      <th>0</th>\n",
              "      <td>00010242fe8c5a6d1ba2dd792cb16214</td>\n",
              "      <td>3ce436f183e68e07877b285a838db11a</td>\n",
              "      <td>2017-09-13 08:59:02</td>\n",
              "      <td>4244733e06e7ecb4970a6e2683c13e61</td>\n",
              "      <td>58.9</td>\n",
              "      <td>48436dade18ac8b2bce089ec2a041202</td>\n",
              "      <td>13.29</td>\n",
              "    </tr>\n",
              "    <tr>\n",
              "      <th>1</th>\n",
              "      <td>00018f77f2f0320c557190d7a144bdd3</td>\n",
              "      <td>f6dd3ec061db4e3987629fe6b26e5cce</td>\n",
              "      <td>2017-04-26 10:53:06</td>\n",
              "      <td>e5f2d52b802189ee658865ca93d83a8f</td>\n",
              "      <td>239.9</td>\n",
              "      <td>dd7ddc04e1b6c2c614352b383efe2d36</td>\n",
              "      <td>19.93</td>\n",
              "    </tr>\n",
              "    <tr>\n",
              "      <th>2</th>\n",
              "      <td>000229ec398224ef6ca0657da4fc703e</td>\n",
              "      <td>6489ae5e4333f3693df5ad4372dab6d3</td>\n",
              "      <td>2018-01-14 14:33:31</td>\n",
              "      <td>c777355d18b72b67abbeef9df44fd0fd</td>\n",
              "      <td>199.0</td>\n",
              "      <td>5b51032eddd242adc84c38acab88f23d</td>\n",
              "      <td>17.87</td>\n",
              "    </tr>\n",
              "  </tbody>\n",
              "</table>\n",
              "</div>"
            ],
            "text/plain": [
              "                           order_id  ... freight_value\n",
              "0  00010242fe8c5a6d1ba2dd792cb16214  ...         13.29\n",
              "1  00018f77f2f0320c557190d7a144bdd3  ...         19.93\n",
              "2  000229ec398224ef6ca0657da4fc703e  ...         17.87\n",
              "\n",
              "[3 rows x 7 columns]"
            ]
          },
          "metadata": {
            "tags": []
          },
          "execution_count": 16
        }
      ]
    },
    {
      "cell_type": "code",
      "metadata": {
        "colab": {
          "base_uri": "https://localhost:8080/"
        },
        "id": "HXqO27yZegg0",
        "outputId": "66522206-9d28-4b72-c0b9-6ac9f60f93b7"
      },
      "source": [
        "df_res.shape"
      ],
      "execution_count": 17,
      "outputs": [
        {
          "output_type": "execute_result",
          "data": {
            "text/plain": [
              "(112650, 7)"
            ]
          },
          "metadata": {
            "tags": []
          },
          "execution_count": 17
        }
      ]
    },
    {
      "cell_type": "code",
      "metadata": {
        "id": "GJ5EC5oef1nS",
        "colab": {
          "base_uri": "https://localhost:8080/",
          "height": 142
        },
        "outputId": "203280d3-7e99-41e2-9195-e8e9f54a392a"
      },
      "source": [
        "df_right = df_clientes[['customer_id', 'customer_state', 'customer_city']]\n",
        "df_right.head(3)"
      ],
      "execution_count": 18,
      "outputs": [
        {
          "output_type": "execute_result",
          "data": {
            "text/html": [
              "<div>\n",
              "<style scoped>\n",
              "    .dataframe tbody tr th:only-of-type {\n",
              "        vertical-align: middle;\n",
              "    }\n",
              "\n",
              "    .dataframe tbody tr th {\n",
              "        vertical-align: top;\n",
              "    }\n",
              "\n",
              "    .dataframe thead th {\n",
              "        text-align: right;\n",
              "    }\n",
              "</style>\n",
              "<table border=\"1\" class=\"dataframe\">\n",
              "  <thead>\n",
              "    <tr style=\"text-align: right;\">\n",
              "      <th></th>\n",
              "      <th>customer_id</th>\n",
              "      <th>customer_state</th>\n",
              "      <th>customer_city</th>\n",
              "    </tr>\n",
              "  </thead>\n",
              "  <tbody>\n",
              "    <tr>\n",
              "      <th>0</th>\n",
              "      <td>06b8999e2fba1a1fbc88172c00ba8bc7</td>\n",
              "      <td>SP</td>\n",
              "      <td>franca</td>\n",
              "    </tr>\n",
              "    <tr>\n",
              "      <th>1</th>\n",
              "      <td>18955e83d337fd6b2def6b18a428ac77</td>\n",
              "      <td>SP</td>\n",
              "      <td>sao bernardo do campo</td>\n",
              "    </tr>\n",
              "    <tr>\n",
              "      <th>2</th>\n",
              "      <td>4e7b3e00288586ebd08712fdd0374a03</td>\n",
              "      <td>SP</td>\n",
              "      <td>sao paulo</td>\n",
              "    </tr>\n",
              "  </tbody>\n",
              "</table>\n",
              "</div>"
            ],
            "text/plain": [
              "                        customer_id customer_state          customer_city\n",
              "0  06b8999e2fba1a1fbc88172c00ba8bc7             SP                 franca\n",
              "1  18955e83d337fd6b2def6b18a428ac77             SP  sao bernardo do campo\n",
              "2  4e7b3e00288586ebd08712fdd0374a03             SP              sao paulo"
            ]
          },
          "metadata": {
            "tags": []
          },
          "execution_count": 18
        }
      ]
    },
    {
      "cell_type": "code",
      "metadata": {
        "id": "_6G4jeOagK0_",
        "colab": {
          "base_uri": "https://localhost:8080/",
          "height": 179
        },
        "outputId": "ac1605a1-3823-4454-8d1e-4c378acfc273"
      },
      "source": [
        "df_info = df_res.merge(df_right, how='left', on='customer_id')\n",
        "df_info.head(3)"
      ],
      "execution_count": 19,
      "outputs": [
        {
          "output_type": "execute_result",
          "data": {
            "text/html": [
              "<div>\n",
              "<style scoped>\n",
              "    .dataframe tbody tr th:only-of-type {\n",
              "        vertical-align: middle;\n",
              "    }\n",
              "\n",
              "    .dataframe tbody tr th {\n",
              "        vertical-align: top;\n",
              "    }\n",
              "\n",
              "    .dataframe thead th {\n",
              "        text-align: right;\n",
              "    }\n",
              "</style>\n",
              "<table border=\"1\" class=\"dataframe\">\n",
              "  <thead>\n",
              "    <tr style=\"text-align: right;\">\n",
              "      <th></th>\n",
              "      <th>order_id</th>\n",
              "      <th>customer_id</th>\n",
              "      <th>order_purchase_timestamp</th>\n",
              "      <th>product_id</th>\n",
              "      <th>valor_final</th>\n",
              "      <th>seller_id</th>\n",
              "      <th>freight_value</th>\n",
              "      <th>customer_state</th>\n",
              "      <th>customer_city</th>\n",
              "    </tr>\n",
              "  </thead>\n",
              "  <tbody>\n",
              "    <tr>\n",
              "      <th>0</th>\n",
              "      <td>00010242fe8c5a6d1ba2dd792cb16214</td>\n",
              "      <td>3ce436f183e68e07877b285a838db11a</td>\n",
              "      <td>2017-09-13 08:59:02</td>\n",
              "      <td>4244733e06e7ecb4970a6e2683c13e61</td>\n",
              "      <td>58.9</td>\n",
              "      <td>48436dade18ac8b2bce089ec2a041202</td>\n",
              "      <td>13.29</td>\n",
              "      <td>RJ</td>\n",
              "      <td>campos dos goytacazes</td>\n",
              "    </tr>\n",
              "    <tr>\n",
              "      <th>1</th>\n",
              "      <td>00018f77f2f0320c557190d7a144bdd3</td>\n",
              "      <td>f6dd3ec061db4e3987629fe6b26e5cce</td>\n",
              "      <td>2017-04-26 10:53:06</td>\n",
              "      <td>e5f2d52b802189ee658865ca93d83a8f</td>\n",
              "      <td>239.9</td>\n",
              "      <td>dd7ddc04e1b6c2c614352b383efe2d36</td>\n",
              "      <td>19.93</td>\n",
              "      <td>SP</td>\n",
              "      <td>santa fe do sul</td>\n",
              "    </tr>\n",
              "    <tr>\n",
              "      <th>2</th>\n",
              "      <td>000229ec398224ef6ca0657da4fc703e</td>\n",
              "      <td>6489ae5e4333f3693df5ad4372dab6d3</td>\n",
              "      <td>2018-01-14 14:33:31</td>\n",
              "      <td>c777355d18b72b67abbeef9df44fd0fd</td>\n",
              "      <td>199.0</td>\n",
              "      <td>5b51032eddd242adc84c38acab88f23d</td>\n",
              "      <td>17.87</td>\n",
              "      <td>MG</td>\n",
              "      <td>para de minas</td>\n",
              "    </tr>\n",
              "  </tbody>\n",
              "</table>\n",
              "</div>"
            ],
            "text/plain": [
              "                           order_id  ...          customer_city\n",
              "0  00010242fe8c5a6d1ba2dd792cb16214  ...  campos dos goytacazes\n",
              "1  00018f77f2f0320c557190d7a144bdd3  ...        santa fe do sul\n",
              "2  000229ec398224ef6ca0657da4fc703e  ...          para de minas\n",
              "\n",
              "[3 rows x 9 columns]"
            ]
          },
          "metadata": {
            "tags": []
          },
          "execution_count": 19
        }
      ]
    },
    {
      "cell_type": "code",
      "metadata": {
        "colab": {
          "base_uri": "https://localhost:8080/"
        },
        "id": "wcZ3dzQMfEmS",
        "outputId": "184b4224-82a4-4783-d94c-13fd0634b50e"
      },
      "source": [
        "df_info.shape"
      ],
      "execution_count": 20,
      "outputs": [
        {
          "output_type": "execute_result",
          "data": {
            "text/plain": [
              "(112650, 9)"
            ]
          },
          "metadata": {
            "tags": []
          },
          "execution_count": 20
        }
      ]
    },
    {
      "cell_type": "code",
      "metadata": {
        "id": "7kGNitOclTSm",
        "colab": {
          "base_uri": "https://localhost:8080/",
          "height": 142
        },
        "outputId": "51e1919f-8454-4cdf-9b23-ce467d512b29"
      },
      "source": [
        "df_right = df_produtos[['product_id', 'product_category_name']]\n",
        "df_right.head(3)"
      ],
      "execution_count": 21,
      "outputs": [
        {
          "output_type": "execute_result",
          "data": {
            "text/html": [
              "<div>\n",
              "<style scoped>\n",
              "    .dataframe tbody tr th:only-of-type {\n",
              "        vertical-align: middle;\n",
              "    }\n",
              "\n",
              "    .dataframe tbody tr th {\n",
              "        vertical-align: top;\n",
              "    }\n",
              "\n",
              "    .dataframe thead th {\n",
              "        text-align: right;\n",
              "    }\n",
              "</style>\n",
              "<table border=\"1\" class=\"dataframe\">\n",
              "  <thead>\n",
              "    <tr style=\"text-align: right;\">\n",
              "      <th></th>\n",
              "      <th>product_id</th>\n",
              "      <th>product_category_name</th>\n",
              "    </tr>\n",
              "  </thead>\n",
              "  <tbody>\n",
              "    <tr>\n",
              "      <th>0</th>\n",
              "      <td>1e9e8ef04dbcff4541ed26657ea517e5</td>\n",
              "      <td>perfumaria</td>\n",
              "    </tr>\n",
              "    <tr>\n",
              "      <th>1</th>\n",
              "      <td>3aa071139cb16b67ca9e5dea641aaa2f</td>\n",
              "      <td>artes</td>\n",
              "    </tr>\n",
              "    <tr>\n",
              "      <th>2</th>\n",
              "      <td>96bd76ec8810374ed1b65e291975717f</td>\n",
              "      <td>esporte_lazer</td>\n",
              "    </tr>\n",
              "  </tbody>\n",
              "</table>\n",
              "</div>"
            ],
            "text/plain": [
              "                         product_id product_category_name\n",
              "0  1e9e8ef04dbcff4541ed26657ea517e5            perfumaria\n",
              "1  3aa071139cb16b67ca9e5dea641aaa2f                 artes\n",
              "2  96bd76ec8810374ed1b65e291975717f         esporte_lazer"
            ]
          },
          "metadata": {
            "tags": []
          },
          "execution_count": 21
        }
      ]
    },
    {
      "cell_type": "code",
      "metadata": {
        "id": "pzw0UBgrlj1q",
        "colab": {
          "base_uri": "https://localhost:8080/",
          "height": 179
        },
        "outputId": "d16e09a2-75d3-4083-e007-97fcbfb22601"
      },
      "source": [
        "df_maiores_compradores_merge = df_info.merge(df_right, how='left', on='product_id')\n",
        "df_maiores_compradores_merge.head(3)"
      ],
      "execution_count": 22,
      "outputs": [
        {
          "output_type": "execute_result",
          "data": {
            "text/html": [
              "<div>\n",
              "<style scoped>\n",
              "    .dataframe tbody tr th:only-of-type {\n",
              "        vertical-align: middle;\n",
              "    }\n",
              "\n",
              "    .dataframe tbody tr th {\n",
              "        vertical-align: top;\n",
              "    }\n",
              "\n",
              "    .dataframe thead th {\n",
              "        text-align: right;\n",
              "    }\n",
              "</style>\n",
              "<table border=\"1\" class=\"dataframe\">\n",
              "  <thead>\n",
              "    <tr style=\"text-align: right;\">\n",
              "      <th></th>\n",
              "      <th>order_id</th>\n",
              "      <th>customer_id</th>\n",
              "      <th>order_purchase_timestamp</th>\n",
              "      <th>product_id</th>\n",
              "      <th>valor_final</th>\n",
              "      <th>seller_id</th>\n",
              "      <th>freight_value</th>\n",
              "      <th>customer_state</th>\n",
              "      <th>customer_city</th>\n",
              "      <th>product_category_name</th>\n",
              "    </tr>\n",
              "  </thead>\n",
              "  <tbody>\n",
              "    <tr>\n",
              "      <th>0</th>\n",
              "      <td>00010242fe8c5a6d1ba2dd792cb16214</td>\n",
              "      <td>3ce436f183e68e07877b285a838db11a</td>\n",
              "      <td>2017-09-13 08:59:02</td>\n",
              "      <td>4244733e06e7ecb4970a6e2683c13e61</td>\n",
              "      <td>58.9</td>\n",
              "      <td>48436dade18ac8b2bce089ec2a041202</td>\n",
              "      <td>13.29</td>\n",
              "      <td>RJ</td>\n",
              "      <td>campos dos goytacazes</td>\n",
              "      <td>cool_stuff</td>\n",
              "    </tr>\n",
              "    <tr>\n",
              "      <th>1</th>\n",
              "      <td>00018f77f2f0320c557190d7a144bdd3</td>\n",
              "      <td>f6dd3ec061db4e3987629fe6b26e5cce</td>\n",
              "      <td>2017-04-26 10:53:06</td>\n",
              "      <td>e5f2d52b802189ee658865ca93d83a8f</td>\n",
              "      <td>239.9</td>\n",
              "      <td>dd7ddc04e1b6c2c614352b383efe2d36</td>\n",
              "      <td>19.93</td>\n",
              "      <td>SP</td>\n",
              "      <td>santa fe do sul</td>\n",
              "      <td>pet_shop</td>\n",
              "    </tr>\n",
              "    <tr>\n",
              "      <th>2</th>\n",
              "      <td>000229ec398224ef6ca0657da4fc703e</td>\n",
              "      <td>6489ae5e4333f3693df5ad4372dab6d3</td>\n",
              "      <td>2018-01-14 14:33:31</td>\n",
              "      <td>c777355d18b72b67abbeef9df44fd0fd</td>\n",
              "      <td>199.0</td>\n",
              "      <td>5b51032eddd242adc84c38acab88f23d</td>\n",
              "      <td>17.87</td>\n",
              "      <td>MG</td>\n",
              "      <td>para de minas</td>\n",
              "      <td>moveis_decoracao</td>\n",
              "    </tr>\n",
              "  </tbody>\n",
              "</table>\n",
              "</div>"
            ],
            "text/plain": [
              "                           order_id  ... product_category_name\n",
              "0  00010242fe8c5a6d1ba2dd792cb16214  ...            cool_stuff\n",
              "1  00018f77f2f0320c557190d7a144bdd3  ...              pet_shop\n",
              "2  000229ec398224ef6ca0657da4fc703e  ...      moveis_decoracao\n",
              "\n",
              "[3 rows x 10 columns]"
            ]
          },
          "metadata": {
            "tags": []
          },
          "execution_count": 22
        }
      ]
    },
    {
      "cell_type": "code",
      "metadata": {
        "colab": {
          "base_uri": "https://localhost:8080/"
        },
        "id": "CcMP2zIIfN7l",
        "outputId": "6857f93b-688b-430c-ac9e-7047ce9e02d3"
      },
      "source": [
        "df_maiores_compradores_merge.shape"
      ],
      "execution_count": 23,
      "outputs": [
        {
          "output_type": "execute_result",
          "data": {
            "text/plain": [
              "(112650, 10)"
            ]
          },
          "metadata": {
            "tags": []
          },
          "execution_count": 23
        }
      ]
    },
    {
      "cell_type": "markdown",
      "metadata": {
        "id": "PE9hT6my1ZbD"
      },
      "source": [
        "## Análise descritiva"
      ]
    },
    {
      "cell_type": "code",
      "metadata": {
        "id": "yfkTHe_uTDWd",
        "colab": {
          "base_uri": "https://localhost:8080/",
          "height": 235
        },
        "outputId": "a60bb4e2-3323-4273-94b9-824785217b4f"
      },
      "source": [
        "df_maiores_compradores = df_maiores_compradores_merge[['customer_id', 'valor_final']].groupby(by='customer_id').sum()\n",
        "df_maiores_compradores = df_maiores_compradores.sort_values(by = 'valor_final', ascending=False)\n",
        "df_maiores_compradores.head(5)"
      ],
      "execution_count": 24,
      "outputs": [
        {
          "output_type": "execute_result",
          "data": {
            "text/html": [
              "<div>\n",
              "<style scoped>\n",
              "    .dataframe tbody tr th:only-of-type {\n",
              "        vertical-align: middle;\n",
              "    }\n",
              "\n",
              "    .dataframe tbody tr th {\n",
              "        vertical-align: top;\n",
              "    }\n",
              "\n",
              "    .dataframe thead th {\n",
              "        text-align: right;\n",
              "    }\n",
              "</style>\n",
              "<table border=\"1\" class=\"dataframe\">\n",
              "  <thead>\n",
              "    <tr style=\"text-align: right;\">\n",
              "      <th></th>\n",
              "      <th>valor_final</th>\n",
              "    </tr>\n",
              "    <tr>\n",
              "      <th>customer_id</th>\n",
              "      <th></th>\n",
              "    </tr>\n",
              "  </thead>\n",
              "  <tbody>\n",
              "    <tr>\n",
              "      <th>1617b1357756262bfa56ab541c47bc16</th>\n",
              "      <td>60480.0</td>\n",
              "    </tr>\n",
              "    <tr>\n",
              "      <th>be1b70680b9f9694d8c70f41fa3dc92b</th>\n",
              "      <td>21000.0</td>\n",
              "    </tr>\n",
              "    <tr>\n",
              "      <th>05455dfa7cd02f13d132aa7a6a9729c6</th>\n",
              "      <td>20771.1</td>\n",
              "    </tr>\n",
              "    <tr>\n",
              "      <th>bd5d39761aa56689a265d95d8d32b8be</th>\n",
              "      <td>20727.0</td>\n",
              "    </tr>\n",
              "    <tr>\n",
              "      <th>ec5b2ba62e574342386871631fafd3fc</th>\n",
              "      <td>17900.0</td>\n",
              "    </tr>\n",
              "  </tbody>\n",
              "</table>\n",
              "</div>"
            ],
            "text/plain": [
              "                                  valor_final\n",
              "customer_id                                  \n",
              "1617b1357756262bfa56ab541c47bc16      60480.0\n",
              "be1b70680b9f9694d8c70f41fa3dc92b      21000.0\n",
              "05455dfa7cd02f13d132aa7a6a9729c6      20771.1\n",
              "bd5d39761aa56689a265d95d8d32b8be      20727.0\n",
              "ec5b2ba62e574342386871631fafd3fc      17900.0"
            ]
          },
          "metadata": {
            "tags": []
          },
          "execution_count": 24
        }
      ]
    },
    {
      "cell_type": "code",
      "metadata": {
        "id": "xdahXsmxUe84",
        "colab": {
          "base_uri": "https://localhost:8080/",
          "height": 467
        },
        "outputId": "0f825a52-ebef-437b-ff2d-94238f743a91"
      },
      "source": [
        "fig = px.bar(df_maiores_compradores.head(5), y = 'valor_final', title='Maiores compradores', \n",
        "             color_discrete_sequence =['purple']*5,\n",
        "             labels={'valor_final':'Total gasto (R$)','customer_id':'Id do consumidor'})\n",
        "gitly.show(fig)"
      ],
      "execution_count": 25,
      "outputs": [
        {
          "output_type": "execute_result",
          "data": {
            "image/png": "[encoded data removed]",
            "text/plain": [
              "<IPython.core.display.Image object>"
            ]
          },
          "metadata": {
            "tags": []
          },
          "execution_count": 25
        }
      ]
    },
    {
      "cell_type": "markdown",
      "metadata": {
        "id": "DD22DPtDi2wr"
      },
      "source": [
        "## Informações sobre os compradores\n"
      ]
    },
    {
      "cell_type": "code",
      "metadata": {
        "id": "AF3Odn0u1dAw",
        "colab": {
          "base_uri": "https://localhost:8080/",
          "height": 334
        },
        "outputId": "f2330498-330f-479e-dbc7-6552f29b3389"
      },
      "source": [
        "# Somente digitar a posição para saber as informações\n",
        "pos = 1\n",
        "\n",
        "ordem = ['customer_id', 'customer_city', 'customer_state', 'order_id', 'order_purchase_timestamp', 'seller_id', 'product_id',  'product_category_name', 'valor_final', 'freight_value']\n",
        "df_info = df_maiores_compradores_merge[df_maiores_compradores_merge.customer_id == df_maiores_compradores.index[pos - 1]]\n",
        "print(f'Compras do cliente na {pos}ª posição de gastos')\n",
        "df_info[ordem]"
      ],
      "execution_count": 26,
      "outputs": [
        {
          "output_type": "stream",
          "text": [
            "Compras do cliente na 1ª posição de gastos\n"
          ],
          "name": "stdout"
        },
        {
          "output_type": "execute_result",
          "data": {
            "text/html": [
              "<div>\n",
              "<style scoped>\n",
              "    .dataframe tbody tr th:only-of-type {\n",
              "        vertical-align: middle;\n",
              "    }\n",
              "\n",
              "    .dataframe tbody tr th {\n",
              "        vertical-align: top;\n",
              "    }\n",
              "\n",
              "    .dataframe thead th {\n",
              "        text-align: right;\n",
              "    }\n",
              "</style>\n",
              "<table border=\"1\" class=\"dataframe\">\n",
              "  <thead>\n",
              "    <tr style=\"text-align: right;\">\n",
              "      <th></th>\n",
              "      <th>customer_id</th>\n",
              "      <th>customer_city</th>\n",
              "      <th>customer_state</th>\n",
              "      <th>order_id</th>\n",
              "      <th>order_purchase_timestamp</th>\n",
              "      <th>seller_id</th>\n",
              "      <th>product_id</th>\n",
              "      <th>product_category_name</th>\n",
              "      <th>valor_final</th>\n",
              "      <th>freight_value</th>\n",
              "    </tr>\n",
              "  </thead>\n",
              "  <tbody>\n",
              "    <tr>\n",
              "      <th>1647</th>\n",
              "      <td>1617b1357756262bfa56ab541c47bc16</td>\n",
              "      <td>rio de janeiro</td>\n",
              "      <td>RJ</td>\n",
              "      <td>03caa2c082116e1d31e67e9ae3700499</td>\n",
              "      <td>2017-09-29 15:24:52</td>\n",
              "      <td>b37c4c02bda3161a7546a4e6d222d5b2</td>\n",
              "      <td>5769ef0a239114ac3a854af00df129e4</td>\n",
              "      <td>telefonia_fixa</td>\n",
              "      <td>1680.0</td>\n",
              "      <td>28.01</td>\n",
              "    </tr>\n",
              "    <tr>\n",
              "      <th>1648</th>\n",
              "      <td>1617b1357756262bfa56ab541c47bc16</td>\n",
              "      <td>rio de janeiro</td>\n",
              "      <td>RJ</td>\n",
              "      <td>03caa2c082116e1d31e67e9ae3700499</td>\n",
              "      <td>2017-09-29 15:24:52</td>\n",
              "      <td>b37c4c02bda3161a7546a4e6d222d5b2</td>\n",
              "      <td>5769ef0a239114ac3a854af00df129e4</td>\n",
              "      <td>telefonia_fixa</td>\n",
              "      <td>3360.0</td>\n",
              "      <td>28.01</td>\n",
              "    </tr>\n",
              "    <tr>\n",
              "      <th>1649</th>\n",
              "      <td>1617b1357756262bfa56ab541c47bc16</td>\n",
              "      <td>rio de janeiro</td>\n",
              "      <td>RJ</td>\n",
              "      <td>03caa2c082116e1d31e67e9ae3700499</td>\n",
              "      <td>2017-09-29 15:24:52</td>\n",
              "      <td>b37c4c02bda3161a7546a4e6d222d5b2</td>\n",
              "      <td>5769ef0a239114ac3a854af00df129e4</td>\n",
              "      <td>telefonia_fixa</td>\n",
              "      <td>5040.0</td>\n",
              "      <td>28.01</td>\n",
              "    </tr>\n",
              "    <tr>\n",
              "      <th>1650</th>\n",
              "      <td>1617b1357756262bfa56ab541c47bc16</td>\n",
              "      <td>rio de janeiro</td>\n",
              "      <td>RJ</td>\n",
              "      <td>03caa2c082116e1d31e67e9ae3700499</td>\n",
              "      <td>2017-09-29 15:24:52</td>\n",
              "      <td>b37c4c02bda3161a7546a4e6d222d5b2</td>\n",
              "      <td>5769ef0a239114ac3a854af00df129e4</td>\n",
              "      <td>telefonia_fixa</td>\n",
              "      <td>6720.0</td>\n",
              "      <td>28.01</td>\n",
              "    </tr>\n",
              "    <tr>\n",
              "      <th>1651</th>\n",
              "      <td>1617b1357756262bfa56ab541c47bc16</td>\n",
              "      <td>rio de janeiro</td>\n",
              "      <td>RJ</td>\n",
              "      <td>03caa2c082116e1d31e67e9ae3700499</td>\n",
              "      <td>2017-09-29 15:24:52</td>\n",
              "      <td>b37c4c02bda3161a7546a4e6d222d5b2</td>\n",
              "      <td>5769ef0a239114ac3a854af00df129e4</td>\n",
              "      <td>telefonia_fixa</td>\n",
              "      <td>8400.0</td>\n",
              "      <td>28.01</td>\n",
              "    </tr>\n",
              "    <tr>\n",
              "      <th>1652</th>\n",
              "      <td>1617b1357756262bfa56ab541c47bc16</td>\n",
              "      <td>rio de janeiro</td>\n",
              "      <td>RJ</td>\n",
              "      <td>03caa2c082116e1d31e67e9ae3700499</td>\n",
              "      <td>2017-09-29 15:24:52</td>\n",
              "      <td>b37c4c02bda3161a7546a4e6d222d5b2</td>\n",
              "      <td>5769ef0a239114ac3a854af00df129e4</td>\n",
              "      <td>telefonia_fixa</td>\n",
              "      <td>10080.0</td>\n",
              "      <td>28.01</td>\n",
              "    </tr>\n",
              "    <tr>\n",
              "      <th>1653</th>\n",
              "      <td>1617b1357756262bfa56ab541c47bc16</td>\n",
              "      <td>rio de janeiro</td>\n",
              "      <td>RJ</td>\n",
              "      <td>03caa2c082116e1d31e67e9ae3700499</td>\n",
              "      <td>2017-09-29 15:24:52</td>\n",
              "      <td>b37c4c02bda3161a7546a4e6d222d5b2</td>\n",
              "      <td>5769ef0a239114ac3a854af00df129e4</td>\n",
              "      <td>telefonia_fixa</td>\n",
              "      <td>11760.0</td>\n",
              "      <td>28.01</td>\n",
              "    </tr>\n",
              "    <tr>\n",
              "      <th>1654</th>\n",
              "      <td>1617b1357756262bfa56ab541c47bc16</td>\n",
              "      <td>rio de janeiro</td>\n",
              "      <td>RJ</td>\n",
              "      <td>03caa2c082116e1d31e67e9ae3700499</td>\n",
              "      <td>2017-09-29 15:24:52</td>\n",
              "      <td>b37c4c02bda3161a7546a4e6d222d5b2</td>\n",
              "      <td>5769ef0a239114ac3a854af00df129e4</td>\n",
              "      <td>telefonia_fixa</td>\n",
              "      <td>13440.0</td>\n",
              "      <td>28.01</td>\n",
              "    </tr>\n",
              "  </tbody>\n",
              "</table>\n",
              "</div>"
            ],
            "text/plain": [
              "                           customer_id  ... freight_value\n",
              "1647  1617b1357756262bfa56ab541c47bc16  ...         28.01\n",
              "1648  1617b1357756262bfa56ab541c47bc16  ...         28.01\n",
              "1649  1617b1357756262bfa56ab541c47bc16  ...         28.01\n",
              "1650  1617b1357756262bfa56ab541c47bc16  ...         28.01\n",
              "1651  1617b1357756262bfa56ab541c47bc16  ...         28.01\n",
              "1652  1617b1357756262bfa56ab541c47bc16  ...         28.01\n",
              "1653  1617b1357756262bfa56ab541c47bc16  ...         28.01\n",
              "1654  1617b1357756262bfa56ab541c47bc16  ...         28.01\n",
              "\n",
              "[8 rows x 10 columns]"
            ]
          },
          "metadata": {
            "tags": []
          },
          "execution_count": 26
        }
      ]
    },
    {
      "cell_type": "markdown",
      "metadata": {
        "id": "g2IsdFogmoD0"
      },
      "source": [
        "Os maiores compradores tem a característica de terem feito as compras todas no mesmo dia e com os mesmos produtos, a diferença está no valor final da compra.\n"
      ]
    },
    {
      "cell_type": "markdown",
      "metadata": {
        "id": "Y6A-bKleQl8a"
      },
      "source": [
        "# Análise 2 - Tempo médio de entrega por estado do cliente\n"
      ]
    },
    {
      "cell_type": "markdown",
      "metadata": {
        "id": "PKB074B8Ql8b"
      },
      "source": [
        "## Tratamento dos dados"
      ]
    },
    {
      "cell_type": "markdown",
      "metadata": {
        "id": "o0I0fgGLo_b5"
      },
      "source": [
        "### Datas para formato datetime\n",
        "\n"
      ]
    },
    {
      "cell_type": "code",
      "metadata": {
        "id": "4sg53q0KQl8c",
        "colab": {
          "base_uri": "https://localhost:8080/",
          "height": 162
        },
        "outputId": "80b40920-6caf-413d-ad12-af3fb223db1c"
      },
      "source": [
        "df_compras.agg(['nunique', 'count', 'size'])"
      ],
      "execution_count": 27,
      "outputs": [
        {
          "output_type": "execute_result",
          "data": {
            "text/html": [
              "<div>\n",
              "<style scoped>\n",
              "    .dataframe tbody tr th:only-of-type {\n",
              "        vertical-align: middle;\n",
              "    }\n",
              "\n",
              "    .dataframe tbody tr th {\n",
              "        vertical-align: top;\n",
              "    }\n",
              "\n",
              "    .dataframe thead th {\n",
              "        text-align: right;\n",
              "    }\n",
              "</style>\n",
              "<table border=\"1\" class=\"dataframe\">\n",
              "  <thead>\n",
              "    <tr style=\"text-align: right;\">\n",
              "      <th></th>\n",
              "      <th>order_id</th>\n",
              "      <th>customer_id</th>\n",
              "      <th>order_status</th>\n",
              "      <th>order_purchase_timestamp</th>\n",
              "      <th>order_approved_at</th>\n",
              "      <th>order_delivered_carrier_date</th>\n",
              "      <th>order_delivered_customer_date</th>\n",
              "      <th>order_estimated_delivery_date</th>\n",
              "    </tr>\n",
              "  </thead>\n",
              "  <tbody>\n",
              "    <tr>\n",
              "      <th>nunique</th>\n",
              "      <td>99441</td>\n",
              "      <td>99441</td>\n",
              "      <td>8</td>\n",
              "      <td>98875</td>\n",
              "      <td>90733</td>\n",
              "      <td>81018</td>\n",
              "      <td>95664</td>\n",
              "      <td>459</td>\n",
              "    </tr>\n",
              "    <tr>\n",
              "      <th>count</th>\n",
              "      <td>99441</td>\n",
              "      <td>99441</td>\n",
              "      <td>99441</td>\n",
              "      <td>99441</td>\n",
              "      <td>99281</td>\n",
              "      <td>97658</td>\n",
              "      <td>96476</td>\n",
              "      <td>99441</td>\n",
              "    </tr>\n",
              "    <tr>\n",
              "      <th>size</th>\n",
              "      <td>99441</td>\n",
              "      <td>99441</td>\n",
              "      <td>99441</td>\n",
              "      <td>99441</td>\n",
              "      <td>99441</td>\n",
              "      <td>99441</td>\n",
              "      <td>99441</td>\n",
              "      <td>99441</td>\n",
              "    </tr>\n",
              "  </tbody>\n",
              "</table>\n",
              "</div>"
            ],
            "text/plain": [
              "         order_id  ...  order_estimated_delivery_date\n",
              "nunique     99441  ...                            459\n",
              "count       99441  ...                          99441\n",
              "size        99441  ...                          99441\n",
              "\n",
              "[3 rows x 8 columns]"
            ]
          },
          "metadata": {
            "tags": []
          },
          "execution_count": 27
        }
      ]
    },
    {
      "cell_type": "code",
      "metadata": {
        "id": "dXdk980uoz3q",
        "colab": {
          "base_uri": "https://localhost:8080/"
        },
        "outputId": "6a7632d5-ce65-4cd8-ccc3-87d34fda07bd"
      },
      "source": [
        "df_compras.dtypes"
      ],
      "execution_count": 28,
      "outputs": [
        {
          "output_type": "execute_result",
          "data": {
            "text/plain": [
              "order_id                         object\n",
              "customer_id                      object\n",
              "order_status                     object\n",
              "order_purchase_timestamp         object\n",
              "order_approved_at                object\n",
              "order_delivered_carrier_date     object\n",
              "order_delivered_customer_date    object\n",
              "order_estimated_delivery_date    object\n",
              "dtype: object"
            ]
          },
          "metadata": {
            "tags": []
          },
          "execution_count": 28
        }
      ]
    },
    {
      "cell_type": "code",
      "metadata": {
        "id": "Qt53fpcHo7EU",
        "colab": {
          "base_uri": "https://localhost:8080/",
          "height": 111
        },
        "outputId": "e769b31a-95bf-407b-a0af-e890df605bd1"
      },
      "source": [
        "df_compras_dt = df_compras[['order_id', 'customer_id', 'order_status']].copy()\n",
        "df_compras_dt.head(2)"
      ],
      "execution_count": 29,
      "outputs": [
        {
          "output_type": "execute_result",
          "data": {
            "text/html": [
              "<div>\n",
              "<style scoped>\n",
              "    .dataframe tbody tr th:only-of-type {\n",
              "        vertical-align: middle;\n",
              "    }\n",
              "\n",
              "    .dataframe tbody tr th {\n",
              "        vertical-align: top;\n",
              "    }\n",
              "\n",
              "    .dataframe thead th {\n",
              "        text-align: right;\n",
              "    }\n",
              "</style>\n",
              "<table border=\"1\" class=\"dataframe\">\n",
              "  <thead>\n",
              "    <tr style=\"text-align: right;\">\n",
              "      <th></th>\n",
              "      <th>order_id</th>\n",
              "      <th>customer_id</th>\n",
              "      <th>order_status</th>\n",
              "    </tr>\n",
              "  </thead>\n",
              "  <tbody>\n",
              "    <tr>\n",
              "      <th>0</th>\n",
              "      <td>e481f51cbdc54678b7cc49136f2d6af7</td>\n",
              "      <td>9ef432eb6251297304e76186b10a928d</td>\n",
              "      <td>delivered</td>\n",
              "    </tr>\n",
              "    <tr>\n",
              "      <th>1</th>\n",
              "      <td>53cdb2fc8bc7dce0b6741e2150273451</td>\n",
              "      <td>b0830fb4747a6c6d20dea0b8c802d7ef</td>\n",
              "      <td>delivered</td>\n",
              "    </tr>\n",
              "  </tbody>\n",
              "</table>\n",
              "</div>"
            ],
            "text/plain": [
              "                           order_id  ... order_status\n",
              "0  e481f51cbdc54678b7cc49136f2d6af7  ...    delivered\n",
              "1  53cdb2fc8bc7dce0b6741e2150273451  ...    delivered\n",
              "\n",
              "[2 rows x 3 columns]"
            ]
          },
          "metadata": {
            "tags": []
          },
          "execution_count": 29
        }
      ]
    },
    {
      "cell_type": "code",
      "metadata": {
        "id": "QR_cM3WUpFqy",
        "colab": {
          "base_uri": "https://localhost:8080/"
        },
        "outputId": "f0dce8c8-42f4-40da-e275-8aea8e387584"
      },
      "source": [
        "lista_colunas_datas = list(df_compras.iloc[:1, 3:].columns)\n",
        "lista_colunas_datas"
      ],
      "execution_count": 30,
      "outputs": [
        {
          "output_type": "execute_result",
          "data": {
            "text/plain": [
              "['order_purchase_timestamp',\n",
              " 'order_approved_at',\n",
              " 'order_delivered_carrier_date',\n",
              " 'order_delivered_customer_date',\n",
              " 'order_estimated_delivery_date']"
            ]
          },
          "metadata": {
            "tags": []
          },
          "execution_count": 30
        }
      ]
    },
    {
      "cell_type": "code",
      "metadata": {
        "id": "a4YBpA5_pH8Z",
        "colab": {
          "base_uri": "https://localhost:8080/",
          "height": 162
        },
        "outputId": "5a85dc75-dfd3-4418-9b74-4e2bf40a173c"
      },
      "source": [
        "for coluna in lista_colunas_datas:\n",
        "    df_compras_dt[coluna] = pd.to_datetime(df_compras[coluna], format='%Y-%m-%d')\n",
        "\n",
        "df_compras_dt.head(3)"
      ],
      "execution_count": 31,
      "outputs": [
        {
          "output_type": "execute_result",
          "data": {
            "text/html": [
              "<div>\n",
              "<style scoped>\n",
              "    .dataframe tbody tr th:only-of-type {\n",
              "        vertical-align: middle;\n",
              "    }\n",
              "\n",
              "    .dataframe tbody tr th {\n",
              "        vertical-align: top;\n",
              "    }\n",
              "\n",
              "    .dataframe thead th {\n",
              "        text-align: right;\n",
              "    }\n",
              "</style>\n",
              "<table border=\"1\" class=\"dataframe\">\n",
              "  <thead>\n",
              "    <tr style=\"text-align: right;\">\n",
              "      <th></th>\n",
              "      <th>order_id</th>\n",
              "      <th>customer_id</th>\n",
              "      <th>order_status</th>\n",
              "      <th>order_purchase_timestamp</th>\n",
              "      <th>order_approved_at</th>\n",
              "      <th>order_delivered_carrier_date</th>\n",
              "      <th>order_delivered_customer_date</th>\n",
              "      <th>order_estimated_delivery_date</th>\n",
              "    </tr>\n",
              "  </thead>\n",
              "  <tbody>\n",
              "    <tr>\n",
              "      <th>0</th>\n",
              "      <td>e481f51cbdc54678b7cc49136f2d6af7</td>\n",
              "      <td>9ef432eb6251297304e76186b10a928d</td>\n",
              "      <td>delivered</td>\n",
              "      <td>2017-10-02 10:56:33</td>\n",
              "      <td>2017-10-02 11:07:15</td>\n",
              "      <td>2017-10-04 19:55:00</td>\n",
              "      <td>2017-10-10 21:25:13</td>\n",
              "      <td>2017-10-18</td>\n",
              "    </tr>\n",
              "    <tr>\n",
              "      <th>1</th>\n",
              "      <td>53cdb2fc8bc7dce0b6741e2150273451</td>\n",
              "      <td>b0830fb4747a6c6d20dea0b8c802d7ef</td>\n",
              "      <td>delivered</td>\n",
              "      <td>2018-07-24 20:41:37</td>\n",
              "      <td>2018-07-26 03:24:27</td>\n",
              "      <td>2018-07-26 14:31:00</td>\n",
              "      <td>2018-08-07 15:27:45</td>\n",
              "      <td>2018-08-13</td>\n",
              "    </tr>\n",
              "    <tr>\n",
              "      <th>2</th>\n",
              "      <td>47770eb9100c2d0c44946d9cf07ec65d</td>\n",
              "      <td>41ce2a54c0b03bf3443c3d931a367089</td>\n",
              "      <td>delivered</td>\n",
              "      <td>2018-08-08 08:38:49</td>\n",
              "      <td>2018-08-08 08:55:23</td>\n",
              "      <td>2018-08-08 13:50:00</td>\n",
              "      <td>2018-08-17 18:06:29</td>\n",
              "      <td>2018-09-04</td>\n",
              "    </tr>\n",
              "  </tbody>\n",
              "</table>\n",
              "</div>"
            ],
            "text/plain": [
              "                           order_id  ... order_estimated_delivery_date\n",
              "0  e481f51cbdc54678b7cc49136f2d6af7  ...                    2017-10-18\n",
              "1  53cdb2fc8bc7dce0b6741e2150273451  ...                    2018-08-13\n",
              "2  47770eb9100c2d0c44946d9cf07ec65d  ...                    2018-09-04\n",
              "\n",
              "[3 rows x 8 columns]"
            ]
          },
          "metadata": {
            "tags": []
          },
          "execution_count": 31
        }
      ]
    },
    {
      "cell_type": "code",
      "metadata": {
        "id": "Lp0dzp-ppHu9",
        "colab": {
          "base_uri": "https://localhost:8080/"
        },
        "outputId": "0a038960-389f-48da-c63c-710d00444183"
      },
      "source": [
        "df_compras_dt.dtypes"
      ],
      "execution_count": 32,
      "outputs": [
        {
          "output_type": "execute_result",
          "data": {
            "text/plain": [
              "order_id                                 object\n",
              "customer_id                              object\n",
              "order_status                             object\n",
              "order_purchase_timestamp         datetime64[ns]\n",
              "order_approved_at                datetime64[ns]\n",
              "order_delivered_carrier_date     datetime64[ns]\n",
              "order_delivered_customer_date    datetime64[ns]\n",
              "order_estimated_delivery_date    datetime64[ns]\n",
              "dtype: object"
            ]
          },
          "metadata": {
            "tags": []
          },
          "execution_count": 32
        }
      ]
    },
    {
      "cell_type": "markdown",
      "metadata": {
        "id": "oLZiYxyipYje"
      },
      "source": [
        "### Complemento das colunas de datas que possuem informação NaN"
      ]
    },
    {
      "cell_type": "code",
      "metadata": {
        "id": "ZqvXiGM-pfWj",
        "colab": {
          "base_uri": "https://localhost:8080/",
          "height": 467
        },
        "outputId": "95390afe-f2ec-440a-b43d-a4cf68d41f2d"
      },
      "source": [
        "# Verificação da distribuição de valores, para decisão entre substituição por média ou mediana\n",
        "compra_confirm = (df_compras_dt.order_approved_at - df_compras_dt.order_purchase_timestamp).round('S')\n",
        "fig = px.box(compra_confirm.dt.days)\n",
        "gitly.show(fig)"
      ],
      "execution_count": 33,
      "outputs": [
        {
          "output_type": "execute_result",
          "data": {
            "image/png": "[encoded data removed]",
            "text/plain": [
              "<IPython.core.display.Image object>"
            ]
          },
          "metadata": {
            "tags": []
          },
          "execution_count": 33
        }
      ]
    },
    {
      "cell_type": "code",
      "metadata": {
        "id": "pOmReC1AbIDq",
        "colab": {
          "base_uri": "https://localhost:8080/"
        },
        "outputId": "6b938bf9-d3f0-4c8a-8f5f-0f667dbbd83b"
      },
      "source": [
        "mediana_compra_confirm = compra_confirm.median()\n",
        "mediana_compra_confirm"
      ],
      "execution_count": 34,
      "outputs": [
        {
          "output_type": "execute_result",
          "data": {
            "text/plain": [
              "Timedelta('0 days 00:20:36')"
            ]
          },
          "metadata": {
            "tags": []
          },
          "execution_count": 34
        }
      ]
    },
    {
      "cell_type": "code",
      "metadata": {
        "id": "BcS_F0FupfyF",
        "colab": {
          "base_uri": "https://localhost:8080/",
          "height": 162
        },
        "outputId": "15583c0b-1d39-4afa-fb3f-70e5969cb6ad"
      },
      "source": [
        "df_compras_dt.order_approved_at.fillna(value=df_compras_dt.order_purchase_timestamp + mediana_compra_confirm, inplace=True)\n",
        "df_compras_dt.agg(['nunique','count','size'])"
      ],
      "execution_count": 35,
      "outputs": [
        {
          "output_type": "execute_result",
          "data": {
            "text/html": [
              "<div>\n",
              "<style scoped>\n",
              "    .dataframe tbody tr th:only-of-type {\n",
              "        vertical-align: middle;\n",
              "    }\n",
              "\n",
              "    .dataframe tbody tr th {\n",
              "        vertical-align: top;\n",
              "    }\n",
              "\n",
              "    .dataframe thead th {\n",
              "        text-align: right;\n",
              "    }\n",
              "</style>\n",
              "<table border=\"1\" class=\"dataframe\">\n",
              "  <thead>\n",
              "    <tr style=\"text-align: right;\">\n",
              "      <th></th>\n",
              "      <th>order_id</th>\n",
              "      <th>customer_id</th>\n",
              "      <th>order_status</th>\n",
              "      <th>order_purchase_timestamp</th>\n",
              "      <th>order_approved_at</th>\n",
              "      <th>order_delivered_carrier_date</th>\n",
              "      <th>order_delivered_customer_date</th>\n",
              "      <th>order_estimated_delivery_date</th>\n",
              "    </tr>\n",
              "  </thead>\n",
              "  <tbody>\n",
              "    <tr>\n",
              "      <th>nunique</th>\n",
              "      <td>99441</td>\n",
              "      <td>99441</td>\n",
              "      <td>8</td>\n",
              "      <td>98875</td>\n",
              "      <td>90893</td>\n",
              "      <td>81018</td>\n",
              "      <td>95664</td>\n",
              "      <td>459</td>\n",
              "    </tr>\n",
              "    <tr>\n",
              "      <th>count</th>\n",
              "      <td>99441</td>\n",
              "      <td>99441</td>\n",
              "      <td>99441</td>\n",
              "      <td>99441</td>\n",
              "      <td>99441</td>\n",
              "      <td>97658</td>\n",
              "      <td>96476</td>\n",
              "      <td>99441</td>\n",
              "    </tr>\n",
              "    <tr>\n",
              "      <th>size</th>\n",
              "      <td>99441</td>\n",
              "      <td>99441</td>\n",
              "      <td>99441</td>\n",
              "      <td>99441</td>\n",
              "      <td>99441</td>\n",
              "      <td>99441</td>\n",
              "      <td>99441</td>\n",
              "      <td>99441</td>\n",
              "    </tr>\n",
              "  </tbody>\n",
              "</table>\n",
              "</div>"
            ],
            "text/plain": [
              "         order_id  ...  order_estimated_delivery_date\n",
              "nunique     99441  ...                            459\n",
              "count       99441  ...                          99441\n",
              "size        99441  ...                          99441\n",
              "\n",
              "[3 rows x 8 columns]"
            ]
          },
          "metadata": {
            "tags": []
          },
          "execution_count": 35
        }
      ]
    },
    {
      "cell_type": "code",
      "metadata": {
        "id": "X4e9MwAzcKGJ",
        "colab": {
          "base_uri": "https://localhost:8080/",
          "height": 467
        },
        "outputId": "973ab49b-5e28-4caf-adc6-58050103888a"
      },
      "source": [
        "# Verificação da distribuição de valores, para decisão entre substituição por média ou mediana\n",
        "aprov_transp = (df_compras_dt.order_delivered_carrier_date - df_compras_dt.order_approved_at).round('S')\n",
        "fig = px.box(aprov_transp.dt.days)\n",
        "gitly.show(fig)"
      ],
      "execution_count": 36,
      "outputs": [
        {
          "output_type": "execute_result",
          "data": {
            "image/png": "[encoded data removed]",
            "text/plain": [
              "<IPython.core.display.Image object>"
            ]
          },
          "metadata": {
            "tags": []
          },
          "execution_count": 36
        }
      ]
    },
    {
      "cell_type": "code",
      "metadata": {
        "id": "24NNfUfdpf4R",
        "colab": {
          "base_uri": "https://localhost:8080/"
        },
        "outputId": "42eb5b77-ff5e-40a1-f1c7-9dcf19f4fb94"
      },
      "source": [
        "mediana_aprov_transp = aprov_transp.median().round('S')\n",
        "mediana_aprov_transp"
      ],
      "execution_count": 37,
      "outputs": [
        {
          "output_type": "execute_result",
          "data": {
            "text/plain": [
              "Timedelta('1 days 19:39:24')"
            ]
          },
          "metadata": {
            "tags": []
          },
          "execution_count": 37
        }
      ]
    },
    {
      "cell_type": "code",
      "metadata": {
        "id": "rZmIS1S_pfp3",
        "colab": {
          "base_uri": "https://localhost:8080/",
          "height": 162
        },
        "outputId": "8704010d-7c40-4164-bbd4-fecd9c779994"
      },
      "source": [
        "df_compras_dt.order_delivered_carrier_date.fillna(value=df_compras_dt.order_approved_at + mediana_aprov_transp, inplace=True)\n",
        "df_compras_dt.agg(['nunique','count','size'])"
      ],
      "execution_count": 38,
      "outputs": [
        {
          "output_type": "execute_result",
          "data": {
            "text/html": [
              "<div>\n",
              "<style scoped>\n",
              "    .dataframe tbody tr th:only-of-type {\n",
              "        vertical-align: middle;\n",
              "    }\n",
              "\n",
              "    .dataframe tbody tr th {\n",
              "        vertical-align: top;\n",
              "    }\n",
              "\n",
              "    .dataframe thead th {\n",
              "        text-align: right;\n",
              "    }\n",
              "</style>\n",
              "<table border=\"1\" class=\"dataframe\">\n",
              "  <thead>\n",
              "    <tr style=\"text-align: right;\">\n",
              "      <th></th>\n",
              "      <th>order_id</th>\n",
              "      <th>customer_id</th>\n",
              "      <th>order_status</th>\n",
              "      <th>order_purchase_timestamp</th>\n",
              "      <th>order_approved_at</th>\n",
              "      <th>order_delivered_carrier_date</th>\n",
              "      <th>order_delivered_customer_date</th>\n",
              "      <th>order_estimated_delivery_date</th>\n",
              "    </tr>\n",
              "  </thead>\n",
              "  <tbody>\n",
              "    <tr>\n",
              "      <th>nunique</th>\n",
              "      <td>99441</td>\n",
              "      <td>99441</td>\n",
              "      <td>8</td>\n",
              "      <td>98875</td>\n",
              "      <td>90893</td>\n",
              "      <td>82793</td>\n",
              "      <td>95664</td>\n",
              "      <td>459</td>\n",
              "    </tr>\n",
              "    <tr>\n",
              "      <th>count</th>\n",
              "      <td>99441</td>\n",
              "      <td>99441</td>\n",
              "      <td>99441</td>\n",
              "      <td>99441</td>\n",
              "      <td>99441</td>\n",
              "      <td>99441</td>\n",
              "      <td>96476</td>\n",
              "      <td>99441</td>\n",
              "    </tr>\n",
              "    <tr>\n",
              "      <th>size</th>\n",
              "      <td>99441</td>\n",
              "      <td>99441</td>\n",
              "      <td>99441</td>\n",
              "      <td>99441</td>\n",
              "      <td>99441</td>\n",
              "      <td>99441</td>\n",
              "      <td>99441</td>\n",
              "      <td>99441</td>\n",
              "    </tr>\n",
              "  </tbody>\n",
              "</table>\n",
              "</div>"
            ],
            "text/plain": [
              "         order_id  ...  order_estimated_delivery_date\n",
              "nunique     99441  ...                            459\n",
              "count       99441  ...                          99441\n",
              "size        99441  ...                          99441\n",
              "\n",
              "[3 rows x 8 columns]"
            ]
          },
          "metadata": {
            "tags": []
          },
          "execution_count": 38
        }
      ]
    },
    {
      "cell_type": "code",
      "metadata": {
        "id": "2SBXDUD7pe-7",
        "colab": {
          "base_uri": "https://localhost:8080/",
          "height": 467
        },
        "outputId": "0e66f11f-b9bc-4bdd-8e4e-96761dd9a4ca"
      },
      "source": [
        "transp_deliv = (df_compras_dt.order_delivered_customer_date - df_compras_dt.order_delivered_carrier_date).round('S')\n",
        "fig = px.box(transp_deliv.dt.days)\n",
        "gitly.show(fig)"
      ],
      "execution_count": 39,
      "outputs": [
        {
          "output_type": "execute_result",
          "data": {
            "image/png": "[encoded data removed]",
            "text/plain": [
              "<IPython.core.display.Image object>"
            ]
          },
          "metadata": {
            "tags": []
          },
          "execution_count": 39
        }
      ]
    },
    {
      "cell_type": "code",
      "metadata": {
        "id": "VVvk2ZNUdcJ6",
        "colab": {
          "base_uri": "https://localhost:8080/"
        },
        "outputId": "ba3fa3cf-d117-4032-c83d-5cddc42e6830"
      },
      "source": [
        "mediana_transp_deliv = transp_deliv.median()#.round('S')\n",
        "mediana_transp_deliv"
      ],
      "execution_count": 40,
      "outputs": [
        {
          "output_type": "execute_result",
          "data": {
            "text/plain": [
              "Timedelta('7 days 02:23:40')"
            ]
          },
          "metadata": {
            "tags": []
          },
          "execution_count": 40
        }
      ]
    },
    {
      "cell_type": "code",
      "metadata": {
        "id": "d-jxuTrmpemz",
        "colab": {
          "base_uri": "https://localhost:8080/",
          "height": 162
        },
        "outputId": "8d179056-4a97-4e58-cfd6-6c44976bb732"
      },
      "source": [
        "df_compras_dt.order_delivered_customer_date.fillna(value=df_compras_dt.order_delivered_carrier_date + mediana_transp_deliv, inplace=True)\n",
        "df_compras_dt.agg(['nunique','count','size'])"
      ],
      "execution_count": 41,
      "outputs": [
        {
          "output_type": "execute_result",
          "data": {
            "text/html": [
              "<div>\n",
              "<style scoped>\n",
              "    .dataframe tbody tr th:only-of-type {\n",
              "        vertical-align: middle;\n",
              "    }\n",
              "\n",
              "    .dataframe tbody tr th {\n",
              "        vertical-align: top;\n",
              "    }\n",
              "\n",
              "    .dataframe thead th {\n",
              "        text-align: right;\n",
              "    }\n",
              "</style>\n",
              "<table border=\"1\" class=\"dataframe\">\n",
              "  <thead>\n",
              "    <tr style=\"text-align: right;\">\n",
              "      <th></th>\n",
              "      <th>order_id</th>\n",
              "      <th>customer_id</th>\n",
              "      <th>order_status</th>\n",
              "      <th>order_purchase_timestamp</th>\n",
              "      <th>order_approved_at</th>\n",
              "      <th>order_delivered_carrier_date</th>\n",
              "      <th>order_delivered_customer_date</th>\n",
              "      <th>order_estimated_delivery_date</th>\n",
              "    </tr>\n",
              "  </thead>\n",
              "  <tbody>\n",
              "    <tr>\n",
              "      <th>nunique</th>\n",
              "      <td>99441</td>\n",
              "      <td>99441</td>\n",
              "      <td>8</td>\n",
              "      <td>98875</td>\n",
              "      <td>90893</td>\n",
              "      <td>82793</td>\n",
              "      <td>98603</td>\n",
              "      <td>459</td>\n",
              "    </tr>\n",
              "    <tr>\n",
              "      <th>count</th>\n",
              "      <td>99441</td>\n",
              "      <td>99441</td>\n",
              "      <td>99441</td>\n",
              "      <td>99441</td>\n",
              "      <td>99441</td>\n",
              "      <td>99441</td>\n",
              "      <td>99441</td>\n",
              "      <td>99441</td>\n",
              "    </tr>\n",
              "    <tr>\n",
              "      <th>size</th>\n",
              "      <td>99441</td>\n",
              "      <td>99441</td>\n",
              "      <td>99441</td>\n",
              "      <td>99441</td>\n",
              "      <td>99441</td>\n",
              "      <td>99441</td>\n",
              "      <td>99441</td>\n",
              "      <td>99441</td>\n",
              "    </tr>\n",
              "  </tbody>\n",
              "</table>\n",
              "</div>"
            ],
            "text/plain": [
              "         order_id  ...  order_estimated_delivery_date\n",
              "nunique     99441  ...                            459\n",
              "count       99441  ...                          99441\n",
              "size        99441  ...                          99441\n",
              "\n",
              "[3 rows x 8 columns]"
            ]
          },
          "metadata": {
            "tags": []
          },
          "execution_count": 41
        }
      ]
    },
    {
      "cell_type": "markdown",
      "metadata": {
        "id": "yIc7iVcXp7PQ"
      },
      "source": [
        "Todas as colunas das datas foram preenchidas com as medianas de tempo entre as etapas, para não perder informações e diminuir a influência de outliers.\n",
        "\n",
        "\n"
      ]
    },
    {
      "cell_type": "markdown",
      "metadata": {
        "id": "zevJoyDVqmyo"
      },
      "source": [
        "### Criação da coluna com o intervalo de dias para entrega"
      ]
    },
    {
      "cell_type": "code",
      "metadata": {
        "id": "ajwA7e9Xpes_",
        "colab": {
          "base_uri": "https://localhost:8080/",
          "height": 162
        },
        "outputId": "b398ec87-ed83-4258-d92d-360be96ac431"
      },
      "source": [
        "df_compras_dt['delivery_interval'] = df_compras_dt.order_delivered_customer_date - df_compras_dt.order_purchase_timestamp\n",
        "df_compras_dt.head(3)"
      ],
      "execution_count": 42,
      "outputs": [
        {
          "output_type": "execute_result",
          "data": {
            "text/html": [
              "<div>\n",
              "<style scoped>\n",
              "    .dataframe tbody tr th:only-of-type {\n",
              "        vertical-align: middle;\n",
              "    }\n",
              "\n",
              "    .dataframe tbody tr th {\n",
              "        vertical-align: top;\n",
              "    }\n",
              "\n",
              "    .dataframe thead th {\n",
              "        text-align: right;\n",
              "    }\n",
              "</style>\n",
              "<table border=\"1\" class=\"dataframe\">\n",
              "  <thead>\n",
              "    <tr style=\"text-align: right;\">\n",
              "      <th></th>\n",
              "      <th>order_id</th>\n",
              "      <th>customer_id</th>\n",
              "      <th>order_status</th>\n",
              "      <th>order_purchase_timestamp</th>\n",
              "      <th>order_approved_at</th>\n",
              "      <th>order_delivered_carrier_date</th>\n",
              "      <th>order_delivered_customer_date</th>\n",
              "      <th>order_estimated_delivery_date</th>\n",
              "      <th>delivery_interval</th>\n",
              "    </tr>\n",
              "  </thead>\n",
              "  <tbody>\n",
              "    <tr>\n",
              "      <th>0</th>\n",
              "      <td>e481f51cbdc54678b7cc49136f2d6af7</td>\n",
              "      <td>9ef432eb6251297304e76186b10a928d</td>\n",
              "      <td>delivered</td>\n",
              "      <td>2017-10-02 10:56:33</td>\n",
              "      <td>2017-10-02 11:07:15</td>\n",
              "      <td>2017-10-04 19:55:00</td>\n",
              "      <td>2017-10-10 21:25:13</td>\n",
              "      <td>2017-10-18</td>\n",
              "      <td>8 days 10:28:40</td>\n",
              "    </tr>\n",
              "    <tr>\n",
              "      <th>1</th>\n",
              "      <td>53cdb2fc8bc7dce0b6741e2150273451</td>\n",
              "      <td>b0830fb4747a6c6d20dea0b8c802d7ef</td>\n",
              "      <td>delivered</td>\n",
              "      <td>2018-07-24 20:41:37</td>\n",
              "      <td>2018-07-26 03:24:27</td>\n",
              "      <td>2018-07-26 14:31:00</td>\n",
              "      <td>2018-08-07 15:27:45</td>\n",
              "      <td>2018-08-13</td>\n",
              "      <td>13 days 18:46:08</td>\n",
              "    </tr>\n",
              "    <tr>\n",
              "      <th>2</th>\n",
              "      <td>47770eb9100c2d0c44946d9cf07ec65d</td>\n",
              "      <td>41ce2a54c0b03bf3443c3d931a367089</td>\n",
              "      <td>delivered</td>\n",
              "      <td>2018-08-08 08:38:49</td>\n",
              "      <td>2018-08-08 08:55:23</td>\n",
              "      <td>2018-08-08 13:50:00</td>\n",
              "      <td>2018-08-17 18:06:29</td>\n",
              "      <td>2018-09-04</td>\n",
              "      <td>9 days 09:27:40</td>\n",
              "    </tr>\n",
              "  </tbody>\n",
              "</table>\n",
              "</div>"
            ],
            "text/plain": [
              "                           order_id  ... delivery_interval\n",
              "0  e481f51cbdc54678b7cc49136f2d6af7  ...   8 days 10:28:40\n",
              "1  53cdb2fc8bc7dce0b6741e2150273451  ...  13 days 18:46:08\n",
              "2  47770eb9100c2d0c44946d9cf07ec65d  ...   9 days 09:27:40\n",
              "\n",
              "[3 rows x 9 columns]"
            ]
          },
          "metadata": {
            "tags": []
          },
          "execution_count": 42
        }
      ]
    },
    {
      "cell_type": "code",
      "metadata": {
        "id": "kQUFI1J6pedw",
        "colab": {
          "base_uri": "https://localhost:8080/",
          "height": 162
        },
        "outputId": "19ba4ed7-8a09-4e83-dd29-d384f3a495e2"
      },
      "source": [
        "df_compras_dt['days_delivery_interval'] = df_compras_dt.delivery_interval.dt.days\n",
        "df_compras_dt.head(3)"
      ],
      "execution_count": 43,
      "outputs": [
        {
          "output_type": "execute_result",
          "data": {
            "text/html": [
              "<div>\n",
              "<style scoped>\n",
              "    .dataframe tbody tr th:only-of-type {\n",
              "        vertical-align: middle;\n",
              "    }\n",
              "\n",
              "    .dataframe tbody tr th {\n",
              "        vertical-align: top;\n",
              "    }\n",
              "\n",
              "    .dataframe thead th {\n",
              "        text-align: right;\n",
              "    }\n",
              "</style>\n",
              "<table border=\"1\" class=\"dataframe\">\n",
              "  <thead>\n",
              "    <tr style=\"text-align: right;\">\n",
              "      <th></th>\n",
              "      <th>order_id</th>\n",
              "      <th>customer_id</th>\n",
              "      <th>order_status</th>\n",
              "      <th>order_purchase_timestamp</th>\n",
              "      <th>order_approved_at</th>\n",
              "      <th>order_delivered_carrier_date</th>\n",
              "      <th>order_delivered_customer_date</th>\n",
              "      <th>order_estimated_delivery_date</th>\n",
              "      <th>delivery_interval</th>\n",
              "      <th>days_delivery_interval</th>\n",
              "    </tr>\n",
              "  </thead>\n",
              "  <tbody>\n",
              "    <tr>\n",
              "      <th>0</th>\n",
              "      <td>e481f51cbdc54678b7cc49136f2d6af7</td>\n",
              "      <td>9ef432eb6251297304e76186b10a928d</td>\n",
              "      <td>delivered</td>\n",
              "      <td>2017-10-02 10:56:33</td>\n",
              "      <td>2017-10-02 11:07:15</td>\n",
              "      <td>2017-10-04 19:55:00</td>\n",
              "      <td>2017-10-10 21:25:13</td>\n",
              "      <td>2017-10-18</td>\n",
              "      <td>8 days 10:28:40</td>\n",
              "      <td>8</td>\n",
              "    </tr>\n",
              "    <tr>\n",
              "      <th>1</th>\n",
              "      <td>53cdb2fc8bc7dce0b6741e2150273451</td>\n",
              "      <td>b0830fb4747a6c6d20dea0b8c802d7ef</td>\n",
              "      <td>delivered</td>\n",
              "      <td>2018-07-24 20:41:37</td>\n",
              "      <td>2018-07-26 03:24:27</td>\n",
              "      <td>2018-07-26 14:31:00</td>\n",
              "      <td>2018-08-07 15:27:45</td>\n",
              "      <td>2018-08-13</td>\n",
              "      <td>13 days 18:46:08</td>\n",
              "      <td>13</td>\n",
              "    </tr>\n",
              "    <tr>\n",
              "      <th>2</th>\n",
              "      <td>47770eb9100c2d0c44946d9cf07ec65d</td>\n",
              "      <td>41ce2a54c0b03bf3443c3d931a367089</td>\n",
              "      <td>delivered</td>\n",
              "      <td>2018-08-08 08:38:49</td>\n",
              "      <td>2018-08-08 08:55:23</td>\n",
              "      <td>2018-08-08 13:50:00</td>\n",
              "      <td>2018-08-17 18:06:29</td>\n",
              "      <td>2018-09-04</td>\n",
              "      <td>9 days 09:27:40</td>\n",
              "      <td>9</td>\n",
              "    </tr>\n",
              "  </tbody>\n",
              "</table>\n",
              "</div>"
            ],
            "text/plain": [
              "                           order_id  ... days_delivery_interval\n",
              "0  e481f51cbdc54678b7cc49136f2d6af7  ...                      8\n",
              "1  53cdb2fc8bc7dce0b6741e2150273451  ...                     13\n",
              "2  47770eb9100c2d0c44946d9cf07ec65d  ...                      9\n",
              "\n",
              "[3 rows x 10 columns]"
            ]
          },
          "metadata": {
            "tags": []
          },
          "execution_count": 43
        }
      ]
    },
    {
      "cell_type": "markdown",
      "metadata": {
        "id": "ikNvH40oqYD5"
      },
      "source": [
        "### Join das tabelas\n",
        "\n"
      ]
    },
    {
      "cell_type": "code",
      "metadata": {
        "id": "uxOrPqNBq1-k",
        "colab": {
          "base_uri": "https://localhost:8080/",
          "height": 162
        },
        "outputId": "37875f46-ce55-448e-95c8-6763509841df"
      },
      "source": [
        "df_compras_dt.head(3)"
      ],
      "execution_count": 44,
      "outputs": [
        {
          "output_type": "execute_result",
          "data": {
            "text/html": [
              "<div>\n",
              "<style scoped>\n",
              "    .dataframe tbody tr th:only-of-type {\n",
              "        vertical-align: middle;\n",
              "    }\n",
              "\n",
              "    .dataframe tbody tr th {\n",
              "        vertical-align: top;\n",
              "    }\n",
              "\n",
              "    .dataframe thead th {\n",
              "        text-align: right;\n",
              "    }\n",
              "</style>\n",
              "<table border=\"1\" class=\"dataframe\">\n",
              "  <thead>\n",
              "    <tr style=\"text-align: right;\">\n",
              "      <th></th>\n",
              "      <th>order_id</th>\n",
              "      <th>customer_id</th>\n",
              "      <th>order_status</th>\n",
              "      <th>order_purchase_timestamp</th>\n",
              "      <th>order_approved_at</th>\n",
              "      <th>order_delivered_carrier_date</th>\n",
              "      <th>order_delivered_customer_date</th>\n",
              "      <th>order_estimated_delivery_date</th>\n",
              "      <th>delivery_interval</th>\n",
              "      <th>days_delivery_interval</th>\n",
              "    </tr>\n",
              "  </thead>\n",
              "  <tbody>\n",
              "    <tr>\n",
              "      <th>0</th>\n",
              "      <td>e481f51cbdc54678b7cc49136f2d6af7</td>\n",
              "      <td>9ef432eb6251297304e76186b10a928d</td>\n",
              "      <td>delivered</td>\n",
              "      <td>2017-10-02 10:56:33</td>\n",
              "      <td>2017-10-02 11:07:15</td>\n",
              "      <td>2017-10-04 19:55:00</td>\n",
              "      <td>2017-10-10 21:25:13</td>\n",
              "      <td>2017-10-18</td>\n",
              "      <td>8 days 10:28:40</td>\n",
              "      <td>8</td>\n",
              "    </tr>\n",
              "    <tr>\n",
              "      <th>1</th>\n",
              "      <td>53cdb2fc8bc7dce0b6741e2150273451</td>\n",
              "      <td>b0830fb4747a6c6d20dea0b8c802d7ef</td>\n",
              "      <td>delivered</td>\n",
              "      <td>2018-07-24 20:41:37</td>\n",
              "      <td>2018-07-26 03:24:27</td>\n",
              "      <td>2018-07-26 14:31:00</td>\n",
              "      <td>2018-08-07 15:27:45</td>\n",
              "      <td>2018-08-13</td>\n",
              "      <td>13 days 18:46:08</td>\n",
              "      <td>13</td>\n",
              "    </tr>\n",
              "    <tr>\n",
              "      <th>2</th>\n",
              "      <td>47770eb9100c2d0c44946d9cf07ec65d</td>\n",
              "      <td>41ce2a54c0b03bf3443c3d931a367089</td>\n",
              "      <td>delivered</td>\n",
              "      <td>2018-08-08 08:38:49</td>\n",
              "      <td>2018-08-08 08:55:23</td>\n",
              "      <td>2018-08-08 13:50:00</td>\n",
              "      <td>2018-08-17 18:06:29</td>\n",
              "      <td>2018-09-04</td>\n",
              "      <td>9 days 09:27:40</td>\n",
              "      <td>9</td>\n",
              "    </tr>\n",
              "  </tbody>\n",
              "</table>\n",
              "</div>"
            ],
            "text/plain": [
              "                           order_id  ... days_delivery_interval\n",
              "0  e481f51cbdc54678b7cc49136f2d6af7  ...                      8\n",
              "1  53cdb2fc8bc7dce0b6741e2150273451  ...                     13\n",
              "2  47770eb9100c2d0c44946d9cf07ec65d  ...                      9\n",
              "\n",
              "[3 rows x 10 columns]"
            ]
          },
          "metadata": {
            "tags": []
          },
          "execution_count": 44
        }
      ]
    },
    {
      "cell_type": "code",
      "metadata": {
        "colab": {
          "base_uri": "https://localhost:8080/",
          "height": 162
        },
        "id": "913q5Zg-f4h0",
        "outputId": "36055a5d-f708-423e-b912-31173db6f9f7"
      },
      "source": [
        "df_compras_dt.agg(['nunique', 'count', 'size'])"
      ],
      "execution_count": 45,
      "outputs": [
        {
          "output_type": "execute_result",
          "data": {
            "text/html": [
              "<div>\n",
              "<style scoped>\n",
              "    .dataframe tbody tr th:only-of-type {\n",
              "        vertical-align: middle;\n",
              "    }\n",
              "\n",
              "    .dataframe tbody tr th {\n",
              "        vertical-align: top;\n",
              "    }\n",
              "\n",
              "    .dataframe thead th {\n",
              "        text-align: right;\n",
              "    }\n",
              "</style>\n",
              "<table border=\"1\" class=\"dataframe\">\n",
              "  <thead>\n",
              "    <tr style=\"text-align: right;\">\n",
              "      <th></th>\n",
              "      <th>order_id</th>\n",
              "      <th>customer_id</th>\n",
              "      <th>order_status</th>\n",
              "      <th>order_purchase_timestamp</th>\n",
              "      <th>order_approved_at</th>\n",
              "      <th>order_delivered_carrier_date</th>\n",
              "      <th>order_delivered_customer_date</th>\n",
              "      <th>order_estimated_delivery_date</th>\n",
              "      <th>delivery_interval</th>\n",
              "      <th>days_delivery_interval</th>\n",
              "    </tr>\n",
              "  </thead>\n",
              "  <tbody>\n",
              "    <tr>\n",
              "      <th>nunique</th>\n",
              "      <td>99441</td>\n",
              "      <td>99441</td>\n",
              "      <td>8</td>\n",
              "      <td>98875</td>\n",
              "      <td>90893</td>\n",
              "      <td>82793</td>\n",
              "      <td>98603</td>\n",
              "      <td>459</td>\n",
              "      <td>96085</td>\n",
              "      <td>147</td>\n",
              "    </tr>\n",
              "    <tr>\n",
              "      <th>count</th>\n",
              "      <td>99441</td>\n",
              "      <td>99441</td>\n",
              "      <td>99441</td>\n",
              "      <td>99441</td>\n",
              "      <td>99441</td>\n",
              "      <td>99441</td>\n",
              "      <td>99441</td>\n",
              "      <td>99441</td>\n",
              "      <td>99441</td>\n",
              "      <td>99441</td>\n",
              "    </tr>\n",
              "    <tr>\n",
              "      <th>size</th>\n",
              "      <td>99441</td>\n",
              "      <td>99441</td>\n",
              "      <td>99441</td>\n",
              "      <td>99441</td>\n",
              "      <td>99441</td>\n",
              "      <td>99441</td>\n",
              "      <td>99441</td>\n",
              "      <td>99441</td>\n",
              "      <td>99441</td>\n",
              "      <td>99441</td>\n",
              "    </tr>\n",
              "  </tbody>\n",
              "</table>\n",
              "</div>"
            ],
            "text/plain": [
              "         order_id  customer_id  ...  delivery_interval  days_delivery_interval\n",
              "nunique     99441        99441  ...              96085                     147\n",
              "count       99441        99441  ...              99441                   99441\n",
              "size        99441        99441  ...              99441                   99441\n",
              "\n",
              "[3 rows x 10 columns]"
            ]
          },
          "metadata": {
            "tags": []
          },
          "execution_count": 45
        }
      ]
    },
    {
      "cell_type": "code",
      "metadata": {
        "id": "vOkHd0wvq1nL",
        "colab": {
          "base_uri": "https://localhost:8080/",
          "height": 111
        },
        "outputId": "b9799956-709a-40c0-f45c-280ab079121d"
      },
      "source": [
        "df_left = df_compras_dt[['customer_id', 'days_delivery_interval']]\n",
        "df_left.head(2)"
      ],
      "execution_count": 46,
      "outputs": [
        {
          "output_type": "execute_result",
          "data": {
            "text/html": [
              "<div>\n",
              "<style scoped>\n",
              "    .dataframe tbody tr th:only-of-type {\n",
              "        vertical-align: middle;\n",
              "    }\n",
              "\n",
              "    .dataframe tbody tr th {\n",
              "        vertical-align: top;\n",
              "    }\n",
              "\n",
              "    .dataframe thead th {\n",
              "        text-align: right;\n",
              "    }\n",
              "</style>\n",
              "<table border=\"1\" class=\"dataframe\">\n",
              "  <thead>\n",
              "    <tr style=\"text-align: right;\">\n",
              "      <th></th>\n",
              "      <th>customer_id</th>\n",
              "      <th>days_delivery_interval</th>\n",
              "    </tr>\n",
              "  </thead>\n",
              "  <tbody>\n",
              "    <tr>\n",
              "      <th>0</th>\n",
              "      <td>9ef432eb6251297304e76186b10a928d</td>\n",
              "      <td>8</td>\n",
              "    </tr>\n",
              "    <tr>\n",
              "      <th>1</th>\n",
              "      <td>b0830fb4747a6c6d20dea0b8c802d7ef</td>\n",
              "      <td>13</td>\n",
              "    </tr>\n",
              "  </tbody>\n",
              "</table>\n",
              "</div>"
            ],
            "text/plain": [
              "                        customer_id  days_delivery_interval\n",
              "0  9ef432eb6251297304e76186b10a928d                       8\n",
              "1  b0830fb4747a6c6d20dea0b8c802d7ef                      13"
            ]
          },
          "metadata": {
            "tags": []
          },
          "execution_count": 46
        }
      ]
    },
    {
      "cell_type": "code",
      "metadata": {
        "id": "SMDFvDWiq2Fo",
        "colab": {
          "base_uri": "https://localhost:8080/",
          "height": 142
        },
        "outputId": "42a89da2-fae7-46ea-84fc-0c0df9e128ed"
      },
      "source": [
        "df_clientes.head(3)"
      ],
      "execution_count": 47,
      "outputs": [
        {
          "output_type": "execute_result",
          "data": {
            "text/html": [
              "<div>\n",
              "<style scoped>\n",
              "    .dataframe tbody tr th:only-of-type {\n",
              "        vertical-align: middle;\n",
              "    }\n",
              "\n",
              "    .dataframe tbody tr th {\n",
              "        vertical-align: top;\n",
              "    }\n",
              "\n",
              "    .dataframe thead th {\n",
              "        text-align: right;\n",
              "    }\n",
              "</style>\n",
              "<table border=\"1\" class=\"dataframe\">\n",
              "  <thead>\n",
              "    <tr style=\"text-align: right;\">\n",
              "      <th></th>\n",
              "      <th>customer_id</th>\n",
              "      <th>customer_unique_id</th>\n",
              "      <th>customer_zip_code_prefix</th>\n",
              "      <th>customer_city</th>\n",
              "      <th>customer_state</th>\n",
              "    </tr>\n",
              "  </thead>\n",
              "  <tbody>\n",
              "    <tr>\n",
              "      <th>0</th>\n",
              "      <td>06b8999e2fba1a1fbc88172c00ba8bc7</td>\n",
              "      <td>861eff4711a542e4b93843c6dd7febb0</td>\n",
              "      <td>14409</td>\n",
              "      <td>franca</td>\n",
              "      <td>SP</td>\n",
              "    </tr>\n",
              "    <tr>\n",
              "      <th>1</th>\n",
              "      <td>18955e83d337fd6b2def6b18a428ac77</td>\n",
              "      <td>290c77bc529b7ac935b93aa66c333dc3</td>\n",
              "      <td>9790</td>\n",
              "      <td>sao bernardo do campo</td>\n",
              "      <td>SP</td>\n",
              "    </tr>\n",
              "    <tr>\n",
              "      <th>2</th>\n",
              "      <td>4e7b3e00288586ebd08712fdd0374a03</td>\n",
              "      <td>060e732b5b29e8181a18229c7b0b2b5e</td>\n",
              "      <td>1151</td>\n",
              "      <td>sao paulo</td>\n",
              "      <td>SP</td>\n",
              "    </tr>\n",
              "  </tbody>\n",
              "</table>\n",
              "</div>"
            ],
            "text/plain": [
              "                        customer_id  ... customer_state\n",
              "0  06b8999e2fba1a1fbc88172c00ba8bc7  ...             SP\n",
              "1  18955e83d337fd6b2def6b18a428ac77  ...             SP\n",
              "2  4e7b3e00288586ebd08712fdd0374a03  ...             SP\n",
              "\n",
              "[3 rows x 5 columns]"
            ]
          },
          "metadata": {
            "tags": []
          },
          "execution_count": 47
        }
      ]
    },
    {
      "cell_type": "code",
      "metadata": {
        "colab": {
          "base_uri": "https://localhost:8080/",
          "height": 162
        },
        "id": "9ytTUS5ZgElc",
        "outputId": "d661ab61-18e8-41fb-c348-c6a6a2588835"
      },
      "source": [
        "df_compras_dt.agg(['nunique', 'count', 'size'])"
      ],
      "execution_count": 48,
      "outputs": [
        {
          "output_type": "execute_result",
          "data": {
            "text/html": [
              "<div>\n",
              "<style scoped>\n",
              "    .dataframe tbody tr th:only-of-type {\n",
              "        vertical-align: middle;\n",
              "    }\n",
              "\n",
              "    .dataframe tbody tr th {\n",
              "        vertical-align: top;\n",
              "    }\n",
              "\n",
              "    .dataframe thead th {\n",
              "        text-align: right;\n",
              "    }\n",
              "</style>\n",
              "<table border=\"1\" class=\"dataframe\">\n",
              "  <thead>\n",
              "    <tr style=\"text-align: right;\">\n",
              "      <th></th>\n",
              "      <th>order_id</th>\n",
              "      <th>customer_id</th>\n",
              "      <th>order_status</th>\n",
              "      <th>order_purchase_timestamp</th>\n",
              "      <th>order_approved_at</th>\n",
              "      <th>order_delivered_carrier_date</th>\n",
              "      <th>order_delivered_customer_date</th>\n",
              "      <th>order_estimated_delivery_date</th>\n",
              "      <th>delivery_interval</th>\n",
              "      <th>days_delivery_interval</th>\n",
              "    </tr>\n",
              "  </thead>\n",
              "  <tbody>\n",
              "    <tr>\n",
              "      <th>nunique</th>\n",
              "      <td>99441</td>\n",
              "      <td>99441</td>\n",
              "      <td>8</td>\n",
              "      <td>98875</td>\n",
              "      <td>90893</td>\n",
              "      <td>82793</td>\n",
              "      <td>98603</td>\n",
              "      <td>459</td>\n",
              "      <td>96085</td>\n",
              "      <td>147</td>\n",
              "    </tr>\n",
              "    <tr>\n",
              "      <th>count</th>\n",
              "      <td>99441</td>\n",
              "      <td>99441</td>\n",
              "      <td>99441</td>\n",
              "      <td>99441</td>\n",
              "      <td>99441</td>\n",
              "      <td>99441</td>\n",
              "      <td>99441</td>\n",
              "      <td>99441</td>\n",
              "      <td>99441</td>\n",
              "      <td>99441</td>\n",
              "    </tr>\n",
              "    <tr>\n",
              "      <th>size</th>\n",
              "      <td>99441</td>\n",
              "      <td>99441</td>\n",
              "      <td>99441</td>\n",
              "      <td>99441</td>\n",
              "      <td>99441</td>\n",
              "      <td>99441</td>\n",
              "      <td>99441</td>\n",
              "      <td>99441</td>\n",
              "      <td>99441</td>\n",
              "      <td>99441</td>\n",
              "    </tr>\n",
              "  </tbody>\n",
              "</table>\n",
              "</div>"
            ],
            "text/plain": [
              "         order_id  customer_id  ...  delivery_interval  days_delivery_interval\n",
              "nunique     99441        99441  ...              96085                     147\n",
              "count       99441        99441  ...              99441                   99441\n",
              "size        99441        99441  ...              99441                   99441\n",
              "\n",
              "[3 rows x 10 columns]"
            ]
          },
          "metadata": {
            "tags": []
          },
          "execution_count": 48
        }
      ]
    },
    {
      "cell_type": "code",
      "metadata": {
        "id": "zj0qTibyq1rk",
        "colab": {
          "base_uri": "https://localhost:8080/",
          "height": 111
        },
        "outputId": "bce8f9ea-62a9-4d93-b02a-5a8e463a3567"
      },
      "source": [
        "df_right = df_clientes[['customer_id', 'customer_state']]\n",
        "df_right.head(2)"
      ],
      "execution_count": 49,
      "outputs": [
        {
          "output_type": "execute_result",
          "data": {
            "text/html": [
              "<div>\n",
              "<style scoped>\n",
              "    .dataframe tbody tr th:only-of-type {\n",
              "        vertical-align: middle;\n",
              "    }\n",
              "\n",
              "    .dataframe tbody tr th {\n",
              "        vertical-align: top;\n",
              "    }\n",
              "\n",
              "    .dataframe thead th {\n",
              "        text-align: right;\n",
              "    }\n",
              "</style>\n",
              "<table border=\"1\" class=\"dataframe\">\n",
              "  <thead>\n",
              "    <tr style=\"text-align: right;\">\n",
              "      <th></th>\n",
              "      <th>customer_id</th>\n",
              "      <th>customer_state</th>\n",
              "    </tr>\n",
              "  </thead>\n",
              "  <tbody>\n",
              "    <tr>\n",
              "      <th>0</th>\n",
              "      <td>06b8999e2fba1a1fbc88172c00ba8bc7</td>\n",
              "      <td>SP</td>\n",
              "    </tr>\n",
              "    <tr>\n",
              "      <th>1</th>\n",
              "      <td>18955e83d337fd6b2def6b18a428ac77</td>\n",
              "      <td>SP</td>\n",
              "    </tr>\n",
              "  </tbody>\n",
              "</table>\n",
              "</div>"
            ],
            "text/plain": [
              "                        customer_id customer_state\n",
              "0  06b8999e2fba1a1fbc88172c00ba8bc7             SP\n",
              "1  18955e83d337fd6b2def6b18a428ac77             SP"
            ]
          },
          "metadata": {
            "tags": []
          },
          "execution_count": 49
        }
      ]
    },
    {
      "cell_type": "code",
      "metadata": {
        "id": "wLG4wkrfq1ep",
        "colab": {
          "base_uri": "https://localhost:8080/",
          "height": 142
        },
        "outputId": "b2c91edb-b4fa-4bb3-8760-27c26f5b07fc"
      },
      "source": [
        "df_res = df_left.merge(df_right, how='left', on='customer_id')\n",
        "df_res.head(3)"
      ],
      "execution_count": 50,
      "outputs": [
        {
          "output_type": "execute_result",
          "data": {
            "text/html": [
              "<div>\n",
              "<style scoped>\n",
              "    .dataframe tbody tr th:only-of-type {\n",
              "        vertical-align: middle;\n",
              "    }\n",
              "\n",
              "    .dataframe tbody tr th {\n",
              "        vertical-align: top;\n",
              "    }\n",
              "\n",
              "    .dataframe thead th {\n",
              "        text-align: right;\n",
              "    }\n",
              "</style>\n",
              "<table border=\"1\" class=\"dataframe\">\n",
              "  <thead>\n",
              "    <tr style=\"text-align: right;\">\n",
              "      <th></th>\n",
              "      <th>customer_id</th>\n",
              "      <th>days_delivery_interval</th>\n",
              "      <th>customer_state</th>\n",
              "    </tr>\n",
              "  </thead>\n",
              "  <tbody>\n",
              "    <tr>\n",
              "      <th>0</th>\n",
              "      <td>9ef432eb6251297304e76186b10a928d</td>\n",
              "      <td>8</td>\n",
              "      <td>SP</td>\n",
              "    </tr>\n",
              "    <tr>\n",
              "      <th>1</th>\n",
              "      <td>b0830fb4747a6c6d20dea0b8c802d7ef</td>\n",
              "      <td>13</td>\n",
              "      <td>BA</td>\n",
              "    </tr>\n",
              "    <tr>\n",
              "      <th>2</th>\n",
              "      <td>41ce2a54c0b03bf3443c3d931a367089</td>\n",
              "      <td>9</td>\n",
              "      <td>GO</td>\n",
              "    </tr>\n",
              "  </tbody>\n",
              "</table>\n",
              "</div>"
            ],
            "text/plain": [
              "                        customer_id  days_delivery_interval customer_state\n",
              "0  9ef432eb6251297304e76186b10a928d                       8             SP\n",
              "1  b0830fb4747a6c6d20dea0b8c802d7ef                      13             BA\n",
              "2  41ce2a54c0b03bf3443c3d931a367089                       9             GO"
            ]
          },
          "metadata": {
            "tags": []
          },
          "execution_count": 50
        }
      ]
    },
    {
      "cell_type": "code",
      "metadata": {
        "colab": {
          "base_uri": "https://localhost:8080/"
        },
        "id": "vYm4TuQmgTcq",
        "outputId": "36fa6ea2-e8a3-4cc3-91a6-a5ea93137423"
      },
      "source": [
        "df_res.shape"
      ],
      "execution_count": 51,
      "outputs": [
        {
          "output_type": "execute_result",
          "data": {
            "text/plain": [
              "(99441, 3)"
            ]
          },
          "metadata": {
            "tags": []
          },
          "execution_count": 51
        }
      ]
    },
    {
      "cell_type": "markdown",
      "metadata": {
        "id": "_HClTm8KQl8j"
      },
      "source": [
        "## Análise descritiva"
      ]
    },
    {
      "cell_type": "code",
      "metadata": {
        "id": "-APO1kpNQl8k",
        "colab": {
          "base_uri": "https://localhost:8080/",
          "height": 235
        },
        "outputId": "dae92419-fb93-4548-f42b-1e01af09247c"
      },
      "source": [
        "# Mediana\n",
        "df_mediana_entrega = df_res[['days_delivery_interval', 'customer_state']].groupby(by='customer_state').median()\n",
        "df_mediana_entrega = df_mediana_entrega.sort_values(by = 'days_delivery_interval', ascending=False)\n",
        "df_mediana_entrega.head(5)"
      ],
      "execution_count": 52,
      "outputs": [
        {
          "output_type": "execute_result",
          "data": {
            "text/html": [
              "<div>\n",
              "<style scoped>\n",
              "    .dataframe tbody tr th:only-of-type {\n",
              "        vertical-align: middle;\n",
              "    }\n",
              "\n",
              "    .dataframe tbody tr th {\n",
              "        vertical-align: top;\n",
              "    }\n",
              "\n",
              "    .dataframe thead th {\n",
              "        text-align: right;\n",
              "    }\n",
              "</style>\n",
              "<table border=\"1\" class=\"dataframe\">\n",
              "  <thead>\n",
              "    <tr style=\"text-align: right;\">\n",
              "      <th></th>\n",
              "      <th>days_delivery_interval</th>\n",
              "    </tr>\n",
              "    <tr>\n",
              "      <th>customer_state</th>\n",
              "      <th></th>\n",
              "    </tr>\n",
              "  </thead>\n",
              "  <tbody>\n",
              "    <tr>\n",
              "      <th>AM</th>\n",
              "      <td>25.0</td>\n",
              "    </tr>\n",
              "    <tr>\n",
              "      <th>AP</th>\n",
              "      <td>24.0</td>\n",
              "    </tr>\n",
              "    <tr>\n",
              "      <th>RR</th>\n",
              "      <td>23.5</td>\n",
              "    </tr>\n",
              "    <tr>\n",
              "      <th>AL</th>\n",
              "      <td>21.0</td>\n",
              "    </tr>\n",
              "    <tr>\n",
              "      <th>PA</th>\n",
              "      <td>20.0</td>\n",
              "    </tr>\n",
              "  </tbody>\n",
              "</table>\n",
              "</div>"
            ],
            "text/plain": [
              "                days_delivery_interval\n",
              "customer_state                        \n",
              "AM                                25.0\n",
              "AP                                24.0\n",
              "RR                                23.5\n",
              "AL                                21.0\n",
              "PA                                20.0"
            ]
          },
          "metadata": {
            "tags": []
          },
          "execution_count": 52
        }
      ]
    },
    {
      "cell_type": "code",
      "metadata": {
        "id": "bHiKIIS-eeFU",
        "colab": {
          "base_uri": "https://localhost:8080/",
          "height": 467
        },
        "outputId": "f8c2ab10-fa6e-4bc7-b042-e1632a470c0c"
      },
      "source": [
        "fig = px.bar(df_mediana_entrega, y = 'days_delivery_interval', title='Tempo médio para entrega por estado (dias, utilizando mediana)', \n",
        "             color = 'days_delivery_interval',\n",
        "             labels={'customer_state':'Estado do comprador','days_delivery_interval':'Dias para entrega'})\n",
        "gitly.show(fig)"
      ],
      "execution_count": 53,
      "outputs": [
        {
          "output_type": "execute_result",
          "data": {
            "image/png": "[encoded data removed]",
            "text/plain": [
              "<IPython.core.display.Image object>"
            ]
          },
          "metadata": {
            "tags": []
          },
          "execution_count": 53
        }
      ]
    },
    {
      "cell_type": "code",
      "metadata": {
        "id": "8PURl88ueyyb",
        "colab": {
          "base_uri": "https://localhost:8080/",
          "height": 235
        },
        "outputId": "1b07389d-8764-4e47-9fc4-b28e557e7054"
      },
      "source": [
        "# Média\n",
        "df_media_entrega = df_res[['days_delivery_interval', 'customer_state']].groupby(by='customer_state').mean()\n",
        "df_media_entrega = df_media_entrega.sort_values(by = 'days_delivery_interval', ascending=False)\n",
        "df_media_entrega.head(5)"
      ],
      "execution_count": 54,
      "outputs": [
        {
          "output_type": "execute_result",
          "data": {
            "text/html": [
              "<div>\n",
              "<style scoped>\n",
              "    .dataframe tbody tr th:only-of-type {\n",
              "        vertical-align: middle;\n",
              "    }\n",
              "\n",
              "    .dataframe tbody tr th {\n",
              "        vertical-align: top;\n",
              "    }\n",
              "\n",
              "    .dataframe thead th {\n",
              "        text-align: right;\n",
              "    }\n",
              "</style>\n",
              "<table border=\"1\" class=\"dataframe\">\n",
              "  <thead>\n",
              "    <tr style=\"text-align: right;\">\n",
              "      <th></th>\n",
              "      <th>days_delivery_interval</th>\n",
              "    </tr>\n",
              "    <tr>\n",
              "      <th>customer_state</th>\n",
              "      <th></th>\n",
              "    </tr>\n",
              "  </thead>\n",
              "  <tbody>\n",
              "    <tr>\n",
              "      <th>RR</th>\n",
              "      <td>27.695652</td>\n",
              "    </tr>\n",
              "    <tr>\n",
              "      <th>AP</th>\n",
              "      <td>26.470588</td>\n",
              "    </tr>\n",
              "    <tr>\n",
              "      <th>AM</th>\n",
              "      <td>25.635135</td>\n",
              "    </tr>\n",
              "    <tr>\n",
              "      <th>AL</th>\n",
              "      <td>23.462470</td>\n",
              "    </tr>\n",
              "    <tr>\n",
              "      <th>PA</th>\n",
              "      <td>22.916923</td>\n",
              "    </tr>\n",
              "  </tbody>\n",
              "</table>\n",
              "</div>"
            ],
            "text/plain": [
              "                days_delivery_interval\n",
              "customer_state                        \n",
              "RR                           27.695652\n",
              "AP                           26.470588\n",
              "AM                           25.635135\n",
              "AL                           23.462470\n",
              "PA                           22.916923"
            ]
          },
          "metadata": {
            "tags": []
          },
          "execution_count": 54
        }
      ]
    },
    {
      "cell_type": "code",
      "metadata": {
        "id": "f2Eq17VitDuo",
        "colab": {
          "base_uri": "https://localhost:8080/",
          "height": 467
        },
        "outputId": "a2c6c6b5-b45d-440f-a8b7-15d570976210"
      },
      "source": [
        "fig = px.bar(df_media_entrega, y = 'days_delivery_interval', title='Tempo médio para entrega por estado (dias)', \n",
        "             color = 'days_delivery_interval',\n",
        "             labels={'customer_state':'Estado do comprador','days_delivery_interval':'Dias para entrega'})\n",
        "gitly.show(fig)"
      ],
      "execution_count": 55,
      "outputs": [
        {
          "output_type": "execute_result",
          "data": {
            "image/png": "[encoded data removed]",
            "text/plain": [
              "<IPython.core.display.Image object>"
            ]
          },
          "metadata": {
            "tags": []
          },
          "execution_count": 55
        }
      ]
    },
    {
      "cell_type": "markdown",
      "metadata": {
        "id": "A0GwLFJFgwOW"
      },
      "source": [
        "Tendo em vista a análise utilizando a média e a mediana, não oberva-se muita alteração entre os valores, mas mesmo assim, provavelmente a melhor forma seja com a mediana, por sofrer menos a influência de possíveis outliers, retratando melhor quanto tempo demora para receber o pedido a partir do momento da compra, da mesma forma que foi utilizado na substituição dos valores faltantes.\n"
      ]
    },
    {
      "cell_type": "markdown",
      "metadata": {
        "id": "xV84SP3AhvRJ"
      },
      "source": [
        "# Análise 3 - Formas de pagamento mais recorrentes por região do vendedor.\n"
      ]
    },
    {
      "cell_type": "markdown",
      "metadata": {
        "id": "xIGa6weNhvRR"
      },
      "source": [
        "## Tratamento dos dados"
      ]
    },
    {
      "cell_type": "code",
      "metadata": {
        "id": "PAG0Ij4Lh9F5",
        "colab": {
          "base_uri": "https://localhost:8080/",
          "height": 0
        },
        "outputId": "45f801af-43b1-42d0-ae57-73c176e6e68e"
      },
      "source": [
        "df_compra_pagamentos.head(2)"
      ],
      "execution_count": 56,
      "outputs": [
        {
          "output_type": "execute_result",
          "data": {
            "text/html": [
              "<div>\n",
              "<style scoped>\n",
              "    .dataframe tbody tr th:only-of-type {\n",
              "        vertical-align: middle;\n",
              "    }\n",
              "\n",
              "    .dataframe tbody tr th {\n",
              "        vertical-align: top;\n",
              "    }\n",
              "\n",
              "    .dataframe thead th {\n",
              "        text-align: right;\n",
              "    }\n",
              "</style>\n",
              "<table border=\"1\" class=\"dataframe\">\n",
              "  <thead>\n",
              "    <tr style=\"text-align: right;\">\n",
              "      <th></th>\n",
              "      <th>order_id</th>\n",
              "      <th>payment_sequential</th>\n",
              "      <th>payment_type</th>\n",
              "      <th>payment_installments</th>\n",
              "      <th>payment_value</th>\n",
              "    </tr>\n",
              "  </thead>\n",
              "  <tbody>\n",
              "    <tr>\n",
              "      <th>0</th>\n",
              "      <td>b81ef226f3fe1789b1e8b2acac839d17</td>\n",
              "      <td>1</td>\n",
              "      <td>credit_card</td>\n",
              "      <td>8</td>\n",
              "      <td>99.33</td>\n",
              "    </tr>\n",
              "    <tr>\n",
              "      <th>1</th>\n",
              "      <td>a9810da82917af2d9aefd1278f1dcfa0</td>\n",
              "      <td>1</td>\n",
              "      <td>credit_card</td>\n",
              "      <td>1</td>\n",
              "      <td>24.39</td>\n",
              "    </tr>\n",
              "  </tbody>\n",
              "</table>\n",
              "</div>"
            ],
            "text/plain": [
              "                           order_id  ...  payment_value\n",
              "0  b81ef226f3fe1789b1e8b2acac839d17  ...          99.33\n",
              "1  a9810da82917af2d9aefd1278f1dcfa0  ...          24.39\n",
              "\n",
              "[2 rows x 5 columns]"
            ]
          },
          "metadata": {
            "tags": []
          },
          "execution_count": 56
        }
      ]
    },
    {
      "cell_type": "code",
      "metadata": {
        "colab": {
          "base_uri": "https://localhost:8080/",
          "height": 0
        },
        "id": "M7YSa-FZZ3o3",
        "outputId": "4be75e66-f076-46fc-c365-c5081f583912"
      },
      "source": [
        "df_compra_pagamentos.agg(['nunique', 'count', 'size'])"
      ],
      "execution_count": 57,
      "outputs": [
        {
          "output_type": "execute_result",
          "data": {
            "text/html": [
              "<div>\n",
              "<style scoped>\n",
              "    .dataframe tbody tr th:only-of-type {\n",
              "        vertical-align: middle;\n",
              "    }\n",
              "\n",
              "    .dataframe tbody tr th {\n",
              "        vertical-align: top;\n",
              "    }\n",
              "\n",
              "    .dataframe thead th {\n",
              "        text-align: right;\n",
              "    }\n",
              "</style>\n",
              "<table border=\"1\" class=\"dataframe\">\n",
              "  <thead>\n",
              "    <tr style=\"text-align: right;\">\n",
              "      <th></th>\n",
              "      <th>order_id</th>\n",
              "      <th>payment_sequential</th>\n",
              "      <th>payment_type</th>\n",
              "      <th>payment_installments</th>\n",
              "      <th>payment_value</th>\n",
              "    </tr>\n",
              "  </thead>\n",
              "  <tbody>\n",
              "    <tr>\n",
              "      <th>nunique</th>\n",
              "      <td>99440</td>\n",
              "      <td>29</td>\n",
              "      <td>5</td>\n",
              "      <td>24</td>\n",
              "      <td>29077</td>\n",
              "    </tr>\n",
              "    <tr>\n",
              "      <th>count</th>\n",
              "      <td>103886</td>\n",
              "      <td>103886</td>\n",
              "      <td>103886</td>\n",
              "      <td>103886</td>\n",
              "      <td>103886</td>\n",
              "    </tr>\n",
              "    <tr>\n",
              "      <th>size</th>\n",
              "      <td>103886</td>\n",
              "      <td>103886</td>\n",
              "      <td>103886</td>\n",
              "      <td>103886</td>\n",
              "      <td>103886</td>\n",
              "    </tr>\n",
              "  </tbody>\n",
              "</table>\n",
              "</div>"
            ],
            "text/plain": [
              "         order_id  payment_sequential  ...  payment_installments  payment_value\n",
              "nunique     99440                  29  ...                    24          29077\n",
              "count      103886              103886  ...                103886         103886\n",
              "size       103886              103886  ...                103886         103886\n",
              "\n",
              "[3 rows x 5 columns]"
            ]
          },
          "metadata": {
            "tags": []
          },
          "execution_count": 57
        }
      ]
    },
    {
      "cell_type": "markdown",
      "metadata": {
        "id": "hph-FQoCqSNG"
      },
      "source": [
        "### Deixando somente order_id únicos"
      ]
    },
    {
      "cell_type": "code",
      "metadata": {
        "colab": {
          "base_uri": "https://localhost:8080/"
        },
        "id": "UVd6ytkFbUti",
        "outputId": "099f594e-ef38-4fed-8ff2-3b90a9cfe074"
      },
      "source": [
        "df_compra_pagamentos.order_id.value_counts(ascending=False).head(5)"
      ],
      "execution_count": 58,
      "outputs": [
        {
          "output_type": "execute_result",
          "data": {
            "text/plain": [
              "fa65dad1b0e818e3ccc5cb0e39231352    29\n",
              "ccf804e764ed5650cd8759557269dc13    26\n",
              "285c2e15bebd4ac83635ccc563dc71f4    22\n",
              "895ab968e7bb0d5659d16cd74cd1650c    21\n",
              "ee9ca989fc93ba09a6eddc250ce01742    19\n",
              "Name: order_id, dtype: int64"
            ]
          },
          "metadata": {
            "tags": []
          },
          "execution_count": 58
        }
      ]
    },
    {
      "cell_type": "code",
      "metadata": {
        "colab": {
          "base_uri": "https://localhost:8080/",
          "height": 0
        },
        "id": "FevRHQm-bDBZ",
        "outputId": "760588e0-57dd-40e7-9266-baefa42eba27"
      },
      "source": [
        "df_compra_pagamentos[df_compra_pagamentos.order_id == 'fa65dad1b0e818e3ccc5cb0e39231352']"
      ],
      "execution_count": 59,
      "outputs": [
        {
          "output_type": "execute_result",
          "data": {
            "text/html": [
              "<div>\n",
              "<style scoped>\n",
              "    .dataframe tbody tr th:only-of-type {\n",
              "        vertical-align: middle;\n",
              "    }\n",
              "\n",
              "    .dataframe tbody tr th {\n",
              "        vertical-align: top;\n",
              "    }\n",
              "\n",
              "    .dataframe thead th {\n",
              "        text-align: right;\n",
              "    }\n",
              "</style>\n",
              "<table border=\"1\" class=\"dataframe\">\n",
              "  <thead>\n",
              "    <tr style=\"text-align: right;\">\n",
              "      <th></th>\n",
              "      <th>order_id</th>\n",
              "      <th>payment_sequential</th>\n",
              "      <th>payment_type</th>\n",
              "      <th>payment_installments</th>\n",
              "      <th>payment_value</th>\n",
              "    </tr>\n",
              "  </thead>\n",
              "  <tbody>\n",
              "    <tr>\n",
              "      <th>4885</th>\n",
              "      <td>fa65dad1b0e818e3ccc5cb0e39231352</td>\n",
              "      <td>27</td>\n",
              "      <td>voucher</td>\n",
              "      <td>1</td>\n",
              "      <td>66.02</td>\n",
              "    </tr>\n",
              "    <tr>\n",
              "      <th>9985</th>\n",
              "      <td>fa65dad1b0e818e3ccc5cb0e39231352</td>\n",
              "      <td>4</td>\n",
              "      <td>voucher</td>\n",
              "      <td>1</td>\n",
              "      <td>29.16</td>\n",
              "    </tr>\n",
              "    <tr>\n",
              "      <th>14321</th>\n",
              "      <td>fa65dad1b0e818e3ccc5cb0e39231352</td>\n",
              "      <td>1</td>\n",
              "      <td>voucher</td>\n",
              "      <td>1</td>\n",
              "      <td>3.71</td>\n",
              "    </tr>\n",
              "    <tr>\n",
              "      <th>17274</th>\n",
              "      <td>fa65dad1b0e818e3ccc5cb0e39231352</td>\n",
              "      <td>9</td>\n",
              "      <td>voucher</td>\n",
              "      <td>1</td>\n",
              "      <td>1.08</td>\n",
              "    </tr>\n",
              "    <tr>\n",
              "      <th>19565</th>\n",
              "      <td>fa65dad1b0e818e3ccc5cb0e39231352</td>\n",
              "      <td>10</td>\n",
              "      <td>voucher</td>\n",
              "      <td>1</td>\n",
              "      <td>12.86</td>\n",
              "    </tr>\n",
              "    <tr>\n",
              "      <th>23074</th>\n",
              "      <td>fa65dad1b0e818e3ccc5cb0e39231352</td>\n",
              "      <td>2</td>\n",
              "      <td>voucher</td>\n",
              "      <td>1</td>\n",
              "      <td>8.51</td>\n",
              "    </tr>\n",
              "    <tr>\n",
              "      <th>24879</th>\n",
              "      <td>fa65dad1b0e818e3ccc5cb0e39231352</td>\n",
              "      <td>25</td>\n",
              "      <td>voucher</td>\n",
              "      <td>1</td>\n",
              "      <td>3.68</td>\n",
              "    </tr>\n",
              "    <tr>\n",
              "      <th>28330</th>\n",
              "      <td>fa65dad1b0e818e3ccc5cb0e39231352</td>\n",
              "      <td>5</td>\n",
              "      <td>voucher</td>\n",
              "      <td>1</td>\n",
              "      <td>0.66</td>\n",
              "    </tr>\n",
              "    <tr>\n",
              "      <th>29648</th>\n",
              "      <td>fa65dad1b0e818e3ccc5cb0e39231352</td>\n",
              "      <td>6</td>\n",
              "      <td>voucher</td>\n",
              "      <td>1</td>\n",
              "      <td>5.02</td>\n",
              "    </tr>\n",
              "    <tr>\n",
              "      <th>32519</th>\n",
              "      <td>fa65dad1b0e818e3ccc5cb0e39231352</td>\n",
              "      <td>11</td>\n",
              "      <td>voucher</td>\n",
              "      <td>1</td>\n",
              "      <td>4.03</td>\n",
              "    </tr>\n",
              "    <tr>\n",
              "      <th>36822</th>\n",
              "      <td>fa65dad1b0e818e3ccc5cb0e39231352</td>\n",
              "      <td>14</td>\n",
              "      <td>voucher</td>\n",
              "      <td>1</td>\n",
              "      <td>0.00</td>\n",
              "    </tr>\n",
              "    <tr>\n",
              "      <th>39108</th>\n",
              "      <td>fa65dad1b0e818e3ccc5cb0e39231352</td>\n",
              "      <td>29</td>\n",
              "      <td>voucher</td>\n",
              "      <td>1</td>\n",
              "      <td>19.26</td>\n",
              "    </tr>\n",
              "    <tr>\n",
              "      <th>39111</th>\n",
              "      <td>fa65dad1b0e818e3ccc5cb0e39231352</td>\n",
              "      <td>28</td>\n",
              "      <td>voucher</td>\n",
              "      <td>1</td>\n",
              "      <td>29.05</td>\n",
              "    </tr>\n",
              "    <tr>\n",
              "      <th>63369</th>\n",
              "      <td>fa65dad1b0e818e3ccc5cb0e39231352</td>\n",
              "      <td>15</td>\n",
              "      <td>voucher</td>\n",
              "      <td>1</td>\n",
              "      <td>14.04</td>\n",
              "    </tr>\n",
              "    <tr>\n",
              "      <th>65641</th>\n",
              "      <td>fa65dad1b0e818e3ccc5cb0e39231352</td>\n",
              "      <td>3</td>\n",
              "      <td>voucher</td>\n",
              "      <td>1</td>\n",
              "      <td>2.95</td>\n",
              "    </tr>\n",
              "    <tr>\n",
              "      <th>68853</th>\n",
              "      <td>fa65dad1b0e818e3ccc5cb0e39231352</td>\n",
              "      <td>8</td>\n",
              "      <td>voucher</td>\n",
              "      <td>1</td>\n",
              "      <td>26.02</td>\n",
              "    </tr>\n",
              "    <tr>\n",
              "      <th>73537</th>\n",
              "      <td>fa65dad1b0e818e3ccc5cb0e39231352</td>\n",
              "      <td>12</td>\n",
              "      <td>voucher</td>\n",
              "      <td>1</td>\n",
              "      <td>3.60</td>\n",
              "    </tr>\n",
              "    <tr>\n",
              "      <th>74239</th>\n",
              "      <td>fa65dad1b0e818e3ccc5cb0e39231352</td>\n",
              "      <td>21</td>\n",
              "      <td>voucher</td>\n",
              "      <td>1</td>\n",
              "      <td>4.11</td>\n",
              "    </tr>\n",
              "    <tr>\n",
              "      <th>74721</th>\n",
              "      <td>fa65dad1b0e818e3ccc5cb0e39231352</td>\n",
              "      <td>19</td>\n",
              "      <td>voucher</td>\n",
              "      <td>1</td>\n",
              "      <td>5.02</td>\n",
              "    </tr>\n",
              "    <tr>\n",
              "      <th>77885</th>\n",
              "      <td>fa65dad1b0e818e3ccc5cb0e39231352</td>\n",
              "      <td>13</td>\n",
              "      <td>voucher</td>\n",
              "      <td>1</td>\n",
              "      <td>0.00</td>\n",
              "    </tr>\n",
              "    <tr>\n",
              "      <th>78050</th>\n",
              "      <td>fa65dad1b0e818e3ccc5cb0e39231352</td>\n",
              "      <td>16</td>\n",
              "      <td>voucher</td>\n",
              "      <td>1</td>\n",
              "      <td>12.86</td>\n",
              "    </tr>\n",
              "    <tr>\n",
              "      <th>79587</th>\n",
              "      <td>fa65dad1b0e818e3ccc5cb0e39231352</td>\n",
              "      <td>26</td>\n",
              "      <td>voucher</td>\n",
              "      <td>1</td>\n",
              "      <td>28.27</td>\n",
              "    </tr>\n",
              "    <tr>\n",
              "      <th>79670</th>\n",
              "      <td>fa65dad1b0e818e3ccc5cb0e39231352</td>\n",
              "      <td>17</td>\n",
              "      <td>voucher</td>\n",
              "      <td>1</td>\n",
              "      <td>3.72</td>\n",
              "    </tr>\n",
              "    <tr>\n",
              "      <th>80321</th>\n",
              "      <td>fa65dad1b0e818e3ccc5cb0e39231352</td>\n",
              "      <td>18</td>\n",
              "      <td>voucher</td>\n",
              "      <td>1</td>\n",
              "      <td>0.73</td>\n",
              "    </tr>\n",
              "    <tr>\n",
              "      <th>82593</th>\n",
              "      <td>fa65dad1b0e818e3ccc5cb0e39231352</td>\n",
              "      <td>7</td>\n",
              "      <td>voucher</td>\n",
              "      <td>1</td>\n",
              "      <td>0.32</td>\n",
              "    </tr>\n",
              "    <tr>\n",
              "      <th>85166</th>\n",
              "      <td>fa65dad1b0e818e3ccc5cb0e39231352</td>\n",
              "      <td>23</td>\n",
              "      <td>voucher</td>\n",
              "      <td>1</td>\n",
              "      <td>18.86</td>\n",
              "    </tr>\n",
              "    <tr>\n",
              "      <th>93337</th>\n",
              "      <td>fa65dad1b0e818e3ccc5cb0e39231352</td>\n",
              "      <td>20</td>\n",
              "      <td>voucher</td>\n",
              "      <td>1</td>\n",
              "      <td>150.00</td>\n",
              "    </tr>\n",
              "    <tr>\n",
              "      <th>99213</th>\n",
              "      <td>fa65dad1b0e818e3ccc5cb0e39231352</td>\n",
              "      <td>24</td>\n",
              "      <td>voucher</td>\n",
              "      <td>1</td>\n",
              "      <td>0.42</td>\n",
              "    </tr>\n",
              "    <tr>\n",
              "      <th>100606</th>\n",
              "      <td>fa65dad1b0e818e3ccc5cb0e39231352</td>\n",
              "      <td>22</td>\n",
              "      <td>voucher</td>\n",
              "      <td>1</td>\n",
              "      <td>4.03</td>\n",
              "    </tr>\n",
              "  </tbody>\n",
              "</table>\n",
              "</div>"
            ],
            "text/plain": [
              "                                order_id  ...  payment_value\n",
              "4885    fa65dad1b0e818e3ccc5cb0e39231352  ...          66.02\n",
              "9985    fa65dad1b0e818e3ccc5cb0e39231352  ...          29.16\n",
              "14321   fa65dad1b0e818e3ccc5cb0e39231352  ...           3.71\n",
              "17274   fa65dad1b0e818e3ccc5cb0e39231352  ...           1.08\n",
              "19565   fa65dad1b0e818e3ccc5cb0e39231352  ...          12.86\n",
              "23074   fa65dad1b0e818e3ccc5cb0e39231352  ...           8.51\n",
              "24879   fa65dad1b0e818e3ccc5cb0e39231352  ...           3.68\n",
              "28330   fa65dad1b0e818e3ccc5cb0e39231352  ...           0.66\n",
              "29648   fa65dad1b0e818e3ccc5cb0e39231352  ...           5.02\n",
              "32519   fa65dad1b0e818e3ccc5cb0e39231352  ...           4.03\n",
              "36822   fa65dad1b0e818e3ccc5cb0e39231352  ...           0.00\n",
              "39108   fa65dad1b0e818e3ccc5cb0e39231352  ...          19.26\n",
              "39111   fa65dad1b0e818e3ccc5cb0e39231352  ...          29.05\n",
              "63369   fa65dad1b0e818e3ccc5cb0e39231352  ...          14.04\n",
              "65641   fa65dad1b0e818e3ccc5cb0e39231352  ...           2.95\n",
              "68853   fa65dad1b0e818e3ccc5cb0e39231352  ...          26.02\n",
              "73537   fa65dad1b0e818e3ccc5cb0e39231352  ...           3.60\n",
              "74239   fa65dad1b0e818e3ccc5cb0e39231352  ...           4.11\n",
              "74721   fa65dad1b0e818e3ccc5cb0e39231352  ...           5.02\n",
              "77885   fa65dad1b0e818e3ccc5cb0e39231352  ...           0.00\n",
              "78050   fa65dad1b0e818e3ccc5cb0e39231352  ...          12.86\n",
              "79587   fa65dad1b0e818e3ccc5cb0e39231352  ...          28.27\n",
              "79670   fa65dad1b0e818e3ccc5cb0e39231352  ...           3.72\n",
              "80321   fa65dad1b0e818e3ccc5cb0e39231352  ...           0.73\n",
              "82593   fa65dad1b0e818e3ccc5cb0e39231352  ...           0.32\n",
              "85166   fa65dad1b0e818e3ccc5cb0e39231352  ...          18.86\n",
              "93337   fa65dad1b0e818e3ccc5cb0e39231352  ...         150.00\n",
              "99213   fa65dad1b0e818e3ccc5cb0e39231352  ...           0.42\n",
              "100606  fa65dad1b0e818e3ccc5cb0e39231352  ...           4.03\n",
              "\n",
              "[29 rows x 5 columns]"
            ]
          },
          "metadata": {
            "tags": []
          },
          "execution_count": 59
        }
      ]
    },
    {
      "cell_type": "code",
      "metadata": {
        "colab": {
          "base_uri": "https://localhost:8080/",
          "height": 0
        },
        "id": "jzRYdE74dzUs",
        "outputId": "228e3781-fb8e-4994-a931-eccc68998e50"
      },
      "source": [
        "df_res = df_compra_pagamentos.drop_duplicates(subset=['order_id'])\n",
        "df_res.head(2)"
      ],
      "execution_count": 60,
      "outputs": [
        {
          "output_type": "execute_result",
          "data": {
            "text/html": [
              "<div>\n",
              "<style scoped>\n",
              "    .dataframe tbody tr th:only-of-type {\n",
              "        vertical-align: middle;\n",
              "    }\n",
              "\n",
              "    .dataframe tbody tr th {\n",
              "        vertical-align: top;\n",
              "    }\n",
              "\n",
              "    .dataframe thead th {\n",
              "        text-align: right;\n",
              "    }\n",
              "</style>\n",
              "<table border=\"1\" class=\"dataframe\">\n",
              "  <thead>\n",
              "    <tr style=\"text-align: right;\">\n",
              "      <th></th>\n",
              "      <th>order_id</th>\n",
              "      <th>payment_sequential</th>\n",
              "      <th>payment_type</th>\n",
              "      <th>payment_installments</th>\n",
              "      <th>payment_value</th>\n",
              "    </tr>\n",
              "  </thead>\n",
              "  <tbody>\n",
              "    <tr>\n",
              "      <th>0</th>\n",
              "      <td>b81ef226f3fe1789b1e8b2acac839d17</td>\n",
              "      <td>1</td>\n",
              "      <td>credit_card</td>\n",
              "      <td>8</td>\n",
              "      <td>99.33</td>\n",
              "    </tr>\n",
              "    <tr>\n",
              "      <th>1</th>\n",
              "      <td>a9810da82917af2d9aefd1278f1dcfa0</td>\n",
              "      <td>1</td>\n",
              "      <td>credit_card</td>\n",
              "      <td>1</td>\n",
              "      <td>24.39</td>\n",
              "    </tr>\n",
              "  </tbody>\n",
              "</table>\n",
              "</div>"
            ],
            "text/plain": [
              "                           order_id  ...  payment_value\n",
              "0  b81ef226f3fe1789b1e8b2acac839d17  ...          99.33\n",
              "1  a9810da82917af2d9aefd1278f1dcfa0  ...          24.39\n",
              "\n",
              "[2 rows x 5 columns]"
            ]
          },
          "metadata": {
            "tags": []
          },
          "execution_count": 60
        }
      ]
    },
    {
      "cell_type": "code",
      "metadata": {
        "colab": {
          "base_uri": "https://localhost:8080/"
        },
        "id": "6FRs_wXjdzSO",
        "outputId": "82ab14bc-f9fb-4c02-ced1-8c43c01c868f"
      },
      "source": [
        "df_res.shape"
      ],
      "execution_count": 61,
      "outputs": [
        {
          "output_type": "execute_result",
          "data": {
            "text/plain": [
              "(99440, 5)"
            ]
          },
          "metadata": {
            "tags": []
          },
          "execution_count": 61
        }
      ]
    },
    {
      "cell_type": "markdown",
      "metadata": {
        "id": "9mRDNHchqdh0"
      },
      "source": [
        "### Join das tabelas"
      ]
    },
    {
      "cell_type": "code",
      "metadata": {
        "colab": {
          "base_uri": "https://localhost:8080/",
          "height": 0
        },
        "id": "aDNIKwt_gq6R",
        "outputId": "40fe1440-5398-4ec0-92cc-43f80199532e"
      },
      "source": [
        "df_left = df_res[['order_id', 'payment_type']]\n",
        "df_left.head(3)"
      ],
      "execution_count": 62,
      "outputs": [
        {
          "output_type": "execute_result",
          "data": {
            "text/html": [
              "<div>\n",
              "<style scoped>\n",
              "    .dataframe tbody tr th:only-of-type {\n",
              "        vertical-align: middle;\n",
              "    }\n",
              "\n",
              "    .dataframe tbody tr th {\n",
              "        vertical-align: top;\n",
              "    }\n",
              "\n",
              "    .dataframe thead th {\n",
              "        text-align: right;\n",
              "    }\n",
              "</style>\n",
              "<table border=\"1\" class=\"dataframe\">\n",
              "  <thead>\n",
              "    <tr style=\"text-align: right;\">\n",
              "      <th></th>\n",
              "      <th>order_id</th>\n",
              "      <th>payment_type</th>\n",
              "    </tr>\n",
              "  </thead>\n",
              "  <tbody>\n",
              "    <tr>\n",
              "      <th>0</th>\n",
              "      <td>b81ef226f3fe1789b1e8b2acac839d17</td>\n",
              "      <td>credit_card</td>\n",
              "    </tr>\n",
              "    <tr>\n",
              "      <th>1</th>\n",
              "      <td>a9810da82917af2d9aefd1278f1dcfa0</td>\n",
              "      <td>credit_card</td>\n",
              "    </tr>\n",
              "    <tr>\n",
              "      <th>2</th>\n",
              "      <td>25e8ea4e93396b6fa0d3dd708e76c1bd</td>\n",
              "      <td>credit_card</td>\n",
              "    </tr>\n",
              "  </tbody>\n",
              "</table>\n",
              "</div>"
            ],
            "text/plain": [
              "                           order_id payment_type\n",
              "0  b81ef226f3fe1789b1e8b2acac839d17  credit_card\n",
              "1  a9810da82917af2d9aefd1278f1dcfa0  credit_card\n",
              "2  25e8ea4e93396b6fa0d3dd708e76c1bd  credit_card"
            ]
          },
          "metadata": {
            "tags": []
          },
          "execution_count": 62
        }
      ]
    },
    {
      "cell_type": "code",
      "metadata": {
        "colab": {
          "base_uri": "https://localhost:8080/",
          "height": 0
        },
        "id": "PeWwTrvKZ3e-",
        "outputId": "258204e2-eb48-4d5e-d7e4-fbab649dff2b"
      },
      "source": [
        "df_compra_itens.head(2)"
      ],
      "execution_count": 63,
      "outputs": [
        {
          "output_type": "execute_result",
          "data": {
            "text/html": [
              "<div>\n",
              "<style scoped>\n",
              "    .dataframe tbody tr th:only-of-type {\n",
              "        vertical-align: middle;\n",
              "    }\n",
              "\n",
              "    .dataframe tbody tr th {\n",
              "        vertical-align: top;\n",
              "    }\n",
              "\n",
              "    .dataframe thead th {\n",
              "        text-align: right;\n",
              "    }\n",
              "</style>\n",
              "<table border=\"1\" class=\"dataframe\">\n",
              "  <thead>\n",
              "    <tr style=\"text-align: right;\">\n",
              "      <th></th>\n",
              "      <th>order_id</th>\n",
              "      <th>order_item_id</th>\n",
              "      <th>product_id</th>\n",
              "      <th>seller_id</th>\n",
              "      <th>shipping_limit_date</th>\n",
              "      <th>price</th>\n",
              "      <th>freight_value</th>\n",
              "      <th>valor_final</th>\n",
              "    </tr>\n",
              "  </thead>\n",
              "  <tbody>\n",
              "    <tr>\n",
              "      <th>0</th>\n",
              "      <td>00010242fe8c5a6d1ba2dd792cb16214</td>\n",
              "      <td>1</td>\n",
              "      <td>4244733e06e7ecb4970a6e2683c13e61</td>\n",
              "      <td>48436dade18ac8b2bce089ec2a041202</td>\n",
              "      <td>2017-09-19 09:45:35</td>\n",
              "      <td>58.9</td>\n",
              "      <td>13.29</td>\n",
              "      <td>58.9</td>\n",
              "    </tr>\n",
              "    <tr>\n",
              "      <th>1</th>\n",
              "      <td>00018f77f2f0320c557190d7a144bdd3</td>\n",
              "      <td>1</td>\n",
              "      <td>e5f2d52b802189ee658865ca93d83a8f</td>\n",
              "      <td>dd7ddc04e1b6c2c614352b383efe2d36</td>\n",
              "      <td>2017-05-03 11:05:13</td>\n",
              "      <td>239.9</td>\n",
              "      <td>19.93</td>\n",
              "      <td>239.9</td>\n",
              "    </tr>\n",
              "  </tbody>\n",
              "</table>\n",
              "</div>"
            ],
            "text/plain": [
              "                           order_id  order_item_id  ... freight_value valor_final\n",
              "0  00010242fe8c5a6d1ba2dd792cb16214              1  ...         13.29        58.9\n",
              "1  00018f77f2f0320c557190d7a144bdd3              1  ...         19.93       239.9\n",
              "\n",
              "[2 rows x 8 columns]"
            ]
          },
          "metadata": {
            "tags": []
          },
          "execution_count": 63
        }
      ]
    },
    {
      "cell_type": "code",
      "metadata": {
        "colab": {
          "base_uri": "https://localhost:8080/",
          "height": 0
        },
        "id": "GdILqNGJg7io",
        "outputId": "b5e17a5d-3b86-4b1c-bd69-214da91785e1"
      },
      "source": [
        "df_compra_itens.agg(['nunique', 'count', 'size'])"
      ],
      "execution_count": 64,
      "outputs": [
        {
          "output_type": "execute_result",
          "data": {
            "text/html": [
              "<div>\n",
              "<style scoped>\n",
              "    .dataframe tbody tr th:only-of-type {\n",
              "        vertical-align: middle;\n",
              "    }\n",
              "\n",
              "    .dataframe tbody tr th {\n",
              "        vertical-align: top;\n",
              "    }\n",
              "\n",
              "    .dataframe thead th {\n",
              "        text-align: right;\n",
              "    }\n",
              "</style>\n",
              "<table border=\"1\" class=\"dataframe\">\n",
              "  <thead>\n",
              "    <tr style=\"text-align: right;\">\n",
              "      <th></th>\n",
              "      <th>order_id</th>\n",
              "      <th>order_item_id</th>\n",
              "      <th>product_id</th>\n",
              "      <th>seller_id</th>\n",
              "      <th>shipping_limit_date</th>\n",
              "      <th>price</th>\n",
              "      <th>freight_value</th>\n",
              "      <th>valor_final</th>\n",
              "    </tr>\n",
              "  </thead>\n",
              "  <tbody>\n",
              "    <tr>\n",
              "      <th>nunique</th>\n",
              "      <td>98666</td>\n",
              "      <td>21</td>\n",
              "      <td>32951</td>\n",
              "      <td>3095</td>\n",
              "      <td>93318</td>\n",
              "      <td>5968</td>\n",
              "      <td>6999</td>\n",
              "      <td>8050</td>\n",
              "    </tr>\n",
              "    <tr>\n",
              "      <th>count</th>\n",
              "      <td>112650</td>\n",
              "      <td>112650</td>\n",
              "      <td>112650</td>\n",
              "      <td>112650</td>\n",
              "      <td>112650</td>\n",
              "      <td>112650</td>\n",
              "      <td>112650</td>\n",
              "      <td>112650</td>\n",
              "    </tr>\n",
              "    <tr>\n",
              "      <th>size</th>\n",
              "      <td>112650</td>\n",
              "      <td>112650</td>\n",
              "      <td>112650</td>\n",
              "      <td>112650</td>\n",
              "      <td>112650</td>\n",
              "      <td>112650</td>\n",
              "      <td>112650</td>\n",
              "      <td>112650</td>\n",
              "    </tr>\n",
              "  </tbody>\n",
              "</table>\n",
              "</div>"
            ],
            "text/plain": [
              "         order_id  order_item_id  ...  freight_value  valor_final\n",
              "nunique     98666             21  ...           6999         8050\n",
              "count      112650         112650  ...         112650       112650\n",
              "size       112650         112650  ...         112650       112650\n",
              "\n",
              "[3 rows x 8 columns]"
            ]
          },
          "metadata": {
            "tags": []
          },
          "execution_count": 64
        }
      ]
    },
    {
      "cell_type": "code",
      "metadata": {
        "colab": {
          "base_uri": "https://localhost:8080/",
          "height": 0
        },
        "id": "qz4eN5f8g4Xu",
        "outputId": "7c884188-506a-4e69-a134-89e2b028b452"
      },
      "source": [
        "df_right = df_compra_itens[['order_id', 'seller_id']]\n",
        "df_right.head(3)"
      ],
      "execution_count": 65,
      "outputs": [
        {
          "output_type": "execute_result",
          "data": {
            "text/html": [
              "<div>\n",
              "<style scoped>\n",
              "    .dataframe tbody tr th:only-of-type {\n",
              "        vertical-align: middle;\n",
              "    }\n",
              "\n",
              "    .dataframe tbody tr th {\n",
              "        vertical-align: top;\n",
              "    }\n",
              "\n",
              "    .dataframe thead th {\n",
              "        text-align: right;\n",
              "    }\n",
              "</style>\n",
              "<table border=\"1\" class=\"dataframe\">\n",
              "  <thead>\n",
              "    <tr style=\"text-align: right;\">\n",
              "      <th></th>\n",
              "      <th>order_id</th>\n",
              "      <th>seller_id</th>\n",
              "    </tr>\n",
              "  </thead>\n",
              "  <tbody>\n",
              "    <tr>\n",
              "      <th>0</th>\n",
              "      <td>00010242fe8c5a6d1ba2dd792cb16214</td>\n",
              "      <td>48436dade18ac8b2bce089ec2a041202</td>\n",
              "    </tr>\n",
              "    <tr>\n",
              "      <th>1</th>\n",
              "      <td>00018f77f2f0320c557190d7a144bdd3</td>\n",
              "      <td>dd7ddc04e1b6c2c614352b383efe2d36</td>\n",
              "    </tr>\n",
              "    <tr>\n",
              "      <th>2</th>\n",
              "      <td>000229ec398224ef6ca0657da4fc703e</td>\n",
              "      <td>5b51032eddd242adc84c38acab88f23d</td>\n",
              "    </tr>\n",
              "  </tbody>\n",
              "</table>\n",
              "</div>"
            ],
            "text/plain": [
              "                           order_id                         seller_id\n",
              "0  00010242fe8c5a6d1ba2dd792cb16214  48436dade18ac8b2bce089ec2a041202\n",
              "1  00018f77f2f0320c557190d7a144bdd3  dd7ddc04e1b6c2c614352b383efe2d36\n",
              "2  000229ec398224ef6ca0657da4fc703e  5b51032eddd242adc84c38acab88f23d"
            ]
          },
          "metadata": {
            "tags": []
          },
          "execution_count": 65
        }
      ]
    },
    {
      "cell_type": "code",
      "metadata": {
        "colab": {
          "base_uri": "https://localhost:8080/",
          "height": 0
        },
        "id": "oQUlumwBhKRm",
        "outputId": "6a9a061c-daee-435a-8358-63d4ed6fe63b"
      },
      "source": [
        "df_res = df_left.merge(df_right, how='left', on='order_id')\n",
        "df_res.head(3)"
      ],
      "execution_count": 66,
      "outputs": [
        {
          "output_type": "execute_result",
          "data": {
            "text/html": [
              "<div>\n",
              "<style scoped>\n",
              "    .dataframe tbody tr th:only-of-type {\n",
              "        vertical-align: middle;\n",
              "    }\n",
              "\n",
              "    .dataframe tbody tr th {\n",
              "        vertical-align: top;\n",
              "    }\n",
              "\n",
              "    .dataframe thead th {\n",
              "        text-align: right;\n",
              "    }\n",
              "</style>\n",
              "<table border=\"1\" class=\"dataframe\">\n",
              "  <thead>\n",
              "    <tr style=\"text-align: right;\">\n",
              "      <th></th>\n",
              "      <th>order_id</th>\n",
              "      <th>payment_type</th>\n",
              "      <th>seller_id</th>\n",
              "    </tr>\n",
              "  </thead>\n",
              "  <tbody>\n",
              "    <tr>\n",
              "      <th>0</th>\n",
              "      <td>b81ef226f3fe1789b1e8b2acac839d17</td>\n",
              "      <td>credit_card</td>\n",
              "      <td>213b25e6f54661939f11710a6fddb871</td>\n",
              "    </tr>\n",
              "    <tr>\n",
              "      <th>1</th>\n",
              "      <td>a9810da82917af2d9aefd1278f1dcfa0</td>\n",
              "      <td>credit_card</td>\n",
              "      <td>eaf6d55068dea77334e8477d3878d89e</td>\n",
              "    </tr>\n",
              "    <tr>\n",
              "      <th>2</th>\n",
              "      <td>25e8ea4e93396b6fa0d3dd708e76c1bd</td>\n",
              "      <td>credit_card</td>\n",
              "      <td>cc419e0650a3c5ba77189a1882b7556a</td>\n",
              "    </tr>\n",
              "  </tbody>\n",
              "</table>\n",
              "</div>"
            ],
            "text/plain": [
              "                           order_id  ...                         seller_id\n",
              "0  b81ef226f3fe1789b1e8b2acac839d17  ...  213b25e6f54661939f11710a6fddb871\n",
              "1  a9810da82917af2d9aefd1278f1dcfa0  ...  eaf6d55068dea77334e8477d3878d89e\n",
              "2  25e8ea4e93396b6fa0d3dd708e76c1bd  ...  cc419e0650a3c5ba77189a1882b7556a\n",
              "\n",
              "[3 rows x 3 columns]"
            ]
          },
          "metadata": {
            "tags": []
          },
          "execution_count": 66
        }
      ]
    },
    {
      "cell_type": "markdown",
      "metadata": {
        "id": "oKsgnpH7qvEZ"
      },
      "source": [
        "### Retirando order_id duplicados"
      ]
    },
    {
      "cell_type": "code",
      "metadata": {
        "colab": {
          "base_uri": "https://localhost:8080/"
        },
        "id": "3c2LUysHhKN7",
        "outputId": "43218750-0eef-4cd8-bc50-b65f222f96b9"
      },
      "source": [
        "df_res.order_id.value_counts(ascending=False).head(4)"
      ],
      "execution_count": 67,
      "outputs": [
        {
          "output_type": "execute_result",
          "data": {
            "text/plain": [
              "8272b63d03f5f79c56e9e4120aec44ef    21\n",
              "ab14fdcfbe524636d65ee38360e22ce8    20\n",
              "1b15974a0141d54e36626dca3fdc731a    20\n",
              "428a2f660dc84138d969ccd69a0ab6d5    15\n",
              "Name: order_id, dtype: int64"
            ]
          },
          "metadata": {
            "tags": []
          },
          "execution_count": 67
        }
      ]
    },
    {
      "cell_type": "code",
      "metadata": {
        "colab": {
          "base_uri": "https://localhost:8080/",
          "height": 0
        },
        "id": "Nkg3djMRiQ7N",
        "outputId": "6d74e03d-e630-4749-c6a9-28e49485ed9d"
      },
      "source": [
        "df_res[df_res.order_id == '1b15974a0141d54e36626dca3fdc731a']"
      ],
      "execution_count": 68,
      "outputs": [
        {
          "output_type": "execute_result",
          "data": {
            "text/html": [
              "<div>\n",
              "<style scoped>\n",
              "    .dataframe tbody tr th:only-of-type {\n",
              "        vertical-align: middle;\n",
              "    }\n",
              "\n",
              "    .dataframe tbody tr th {\n",
              "        vertical-align: top;\n",
              "    }\n",
              "\n",
              "    .dataframe thead th {\n",
              "        text-align: right;\n",
              "    }\n",
              "</style>\n",
              "<table border=\"1\" class=\"dataframe\">\n",
              "  <thead>\n",
              "    <tr style=\"text-align: right;\">\n",
              "      <th></th>\n",
              "      <th>order_id</th>\n",
              "      <th>payment_type</th>\n",
              "      <th>seller_id</th>\n",
              "    </tr>\n",
              "  </thead>\n",
              "  <tbody>\n",
              "    <tr>\n",
              "      <th>33897</th>\n",
              "      <td>1b15974a0141d54e36626dca3fdc731a</td>\n",
              "      <td>boleto</td>\n",
              "      <td>8e6d7754bc7e0f22c96d255ebda59eba</td>\n",
              "    </tr>\n",
              "    <tr>\n",
              "      <th>33898</th>\n",
              "      <td>1b15974a0141d54e36626dca3fdc731a</td>\n",
              "      <td>boleto</td>\n",
              "      <td>8e6d7754bc7e0f22c96d255ebda59eba</td>\n",
              "    </tr>\n",
              "    <tr>\n",
              "      <th>33899</th>\n",
              "      <td>1b15974a0141d54e36626dca3fdc731a</td>\n",
              "      <td>boleto</td>\n",
              "      <td>8e6d7754bc7e0f22c96d255ebda59eba</td>\n",
              "    </tr>\n",
              "    <tr>\n",
              "      <th>33900</th>\n",
              "      <td>1b15974a0141d54e36626dca3fdc731a</td>\n",
              "      <td>boleto</td>\n",
              "      <td>8e6d7754bc7e0f22c96d255ebda59eba</td>\n",
              "    </tr>\n",
              "    <tr>\n",
              "      <th>33901</th>\n",
              "      <td>1b15974a0141d54e36626dca3fdc731a</td>\n",
              "      <td>boleto</td>\n",
              "      <td>8e6d7754bc7e0f22c96d255ebda59eba</td>\n",
              "    </tr>\n",
              "    <tr>\n",
              "      <th>33902</th>\n",
              "      <td>1b15974a0141d54e36626dca3fdc731a</td>\n",
              "      <td>boleto</td>\n",
              "      <td>8e6d7754bc7e0f22c96d255ebda59eba</td>\n",
              "    </tr>\n",
              "    <tr>\n",
              "      <th>33903</th>\n",
              "      <td>1b15974a0141d54e36626dca3fdc731a</td>\n",
              "      <td>boleto</td>\n",
              "      <td>8e6d7754bc7e0f22c96d255ebda59eba</td>\n",
              "    </tr>\n",
              "    <tr>\n",
              "      <th>33904</th>\n",
              "      <td>1b15974a0141d54e36626dca3fdc731a</td>\n",
              "      <td>boleto</td>\n",
              "      <td>8e6d7754bc7e0f22c96d255ebda59eba</td>\n",
              "    </tr>\n",
              "    <tr>\n",
              "      <th>33905</th>\n",
              "      <td>1b15974a0141d54e36626dca3fdc731a</td>\n",
              "      <td>boleto</td>\n",
              "      <td>8e6d7754bc7e0f22c96d255ebda59eba</td>\n",
              "    </tr>\n",
              "    <tr>\n",
              "      <th>33906</th>\n",
              "      <td>1b15974a0141d54e36626dca3fdc731a</td>\n",
              "      <td>boleto</td>\n",
              "      <td>8e6d7754bc7e0f22c96d255ebda59eba</td>\n",
              "    </tr>\n",
              "    <tr>\n",
              "      <th>33907</th>\n",
              "      <td>1b15974a0141d54e36626dca3fdc731a</td>\n",
              "      <td>boleto</td>\n",
              "      <td>8e6d7754bc7e0f22c96d255ebda59eba</td>\n",
              "    </tr>\n",
              "    <tr>\n",
              "      <th>33908</th>\n",
              "      <td>1b15974a0141d54e36626dca3fdc731a</td>\n",
              "      <td>boleto</td>\n",
              "      <td>8e6d7754bc7e0f22c96d255ebda59eba</td>\n",
              "    </tr>\n",
              "    <tr>\n",
              "      <th>33909</th>\n",
              "      <td>1b15974a0141d54e36626dca3fdc731a</td>\n",
              "      <td>boleto</td>\n",
              "      <td>8e6d7754bc7e0f22c96d255ebda59eba</td>\n",
              "    </tr>\n",
              "    <tr>\n",
              "      <th>33910</th>\n",
              "      <td>1b15974a0141d54e36626dca3fdc731a</td>\n",
              "      <td>boleto</td>\n",
              "      <td>8e6d7754bc7e0f22c96d255ebda59eba</td>\n",
              "    </tr>\n",
              "    <tr>\n",
              "      <th>33911</th>\n",
              "      <td>1b15974a0141d54e36626dca3fdc731a</td>\n",
              "      <td>boleto</td>\n",
              "      <td>8e6d7754bc7e0f22c96d255ebda59eba</td>\n",
              "    </tr>\n",
              "    <tr>\n",
              "      <th>33912</th>\n",
              "      <td>1b15974a0141d54e36626dca3fdc731a</td>\n",
              "      <td>boleto</td>\n",
              "      <td>8e6d7754bc7e0f22c96d255ebda59eba</td>\n",
              "    </tr>\n",
              "    <tr>\n",
              "      <th>33913</th>\n",
              "      <td>1b15974a0141d54e36626dca3fdc731a</td>\n",
              "      <td>boleto</td>\n",
              "      <td>8e6d7754bc7e0f22c96d255ebda59eba</td>\n",
              "    </tr>\n",
              "    <tr>\n",
              "      <th>33914</th>\n",
              "      <td>1b15974a0141d54e36626dca3fdc731a</td>\n",
              "      <td>boleto</td>\n",
              "      <td>8e6d7754bc7e0f22c96d255ebda59eba</td>\n",
              "    </tr>\n",
              "    <tr>\n",
              "      <th>33915</th>\n",
              "      <td>1b15974a0141d54e36626dca3fdc731a</td>\n",
              "      <td>boleto</td>\n",
              "      <td>8e6d7754bc7e0f22c96d255ebda59eba</td>\n",
              "    </tr>\n",
              "    <tr>\n",
              "      <th>33916</th>\n",
              "      <td>1b15974a0141d54e36626dca3fdc731a</td>\n",
              "      <td>boleto</td>\n",
              "      <td>8e6d7754bc7e0f22c96d255ebda59eba</td>\n",
              "    </tr>\n",
              "  </tbody>\n",
              "</table>\n",
              "</div>"
            ],
            "text/plain": [
              "                               order_id  ...                         seller_id\n",
              "33897  1b15974a0141d54e36626dca3fdc731a  ...  8e6d7754bc7e0f22c96d255ebda59eba\n",
              "33898  1b15974a0141d54e36626dca3fdc731a  ...  8e6d7754bc7e0f22c96d255ebda59eba\n",
              "33899  1b15974a0141d54e36626dca3fdc731a  ...  8e6d7754bc7e0f22c96d255ebda59eba\n",
              "33900  1b15974a0141d54e36626dca3fdc731a  ...  8e6d7754bc7e0f22c96d255ebda59eba\n",
              "33901  1b15974a0141d54e36626dca3fdc731a  ...  8e6d7754bc7e0f22c96d255ebda59eba\n",
              "33902  1b15974a0141d54e36626dca3fdc731a  ...  8e6d7754bc7e0f22c96d255ebda59eba\n",
              "33903  1b15974a0141d54e36626dca3fdc731a  ...  8e6d7754bc7e0f22c96d255ebda59eba\n",
              "33904  1b15974a0141d54e36626dca3fdc731a  ...  8e6d7754bc7e0f22c96d255ebda59eba\n",
              "33905  1b15974a0141d54e36626dca3fdc731a  ...  8e6d7754bc7e0f22c96d255ebda59eba\n",
              "33906  1b15974a0141d54e36626dca3fdc731a  ...  8e6d7754bc7e0f22c96d255ebda59eba\n",
              "33907  1b15974a0141d54e36626dca3fdc731a  ...  8e6d7754bc7e0f22c96d255ebda59eba\n",
              "33908  1b15974a0141d54e36626dca3fdc731a  ...  8e6d7754bc7e0f22c96d255ebda59eba\n",
              "33909  1b15974a0141d54e36626dca3fdc731a  ...  8e6d7754bc7e0f22c96d255ebda59eba\n",
              "33910  1b15974a0141d54e36626dca3fdc731a  ...  8e6d7754bc7e0f22c96d255ebda59eba\n",
              "33911  1b15974a0141d54e36626dca3fdc731a  ...  8e6d7754bc7e0f22c96d255ebda59eba\n",
              "33912  1b15974a0141d54e36626dca3fdc731a  ...  8e6d7754bc7e0f22c96d255ebda59eba\n",
              "33913  1b15974a0141d54e36626dca3fdc731a  ...  8e6d7754bc7e0f22c96d255ebda59eba\n",
              "33914  1b15974a0141d54e36626dca3fdc731a  ...  8e6d7754bc7e0f22c96d255ebda59eba\n",
              "33915  1b15974a0141d54e36626dca3fdc731a  ...  8e6d7754bc7e0f22c96d255ebda59eba\n",
              "33916  1b15974a0141d54e36626dca3fdc731a  ...  8e6d7754bc7e0f22c96d255ebda59eba\n",
              "\n",
              "[20 rows x 3 columns]"
            ]
          },
          "metadata": {
            "tags": []
          },
          "execution_count": 68
        }
      ]
    },
    {
      "cell_type": "code",
      "metadata": {
        "colab": {
          "base_uri": "https://localhost:8080/",
          "height": 0
        },
        "id": "8ylk8om_iQ44",
        "outputId": "a512b34f-6b63-46fa-fcc0-739ecaebb5fe"
      },
      "source": [
        "df_res.drop_duplicates(subset=['order_id'], inplace=True)\n",
        "df_res.head(2)"
      ],
      "execution_count": 69,
      "outputs": [
        {
          "output_type": "execute_result",
          "data": {
            "text/html": [
              "<div>\n",
              "<style scoped>\n",
              "    .dataframe tbody tr th:only-of-type {\n",
              "        vertical-align: middle;\n",
              "    }\n",
              "\n",
              "    .dataframe tbody tr th {\n",
              "        vertical-align: top;\n",
              "    }\n",
              "\n",
              "    .dataframe thead th {\n",
              "        text-align: right;\n",
              "    }\n",
              "</style>\n",
              "<table border=\"1\" class=\"dataframe\">\n",
              "  <thead>\n",
              "    <tr style=\"text-align: right;\">\n",
              "      <th></th>\n",
              "      <th>order_id</th>\n",
              "      <th>payment_type</th>\n",
              "      <th>seller_id</th>\n",
              "    </tr>\n",
              "  </thead>\n",
              "  <tbody>\n",
              "    <tr>\n",
              "      <th>0</th>\n",
              "      <td>b81ef226f3fe1789b1e8b2acac839d17</td>\n",
              "      <td>credit_card</td>\n",
              "      <td>213b25e6f54661939f11710a6fddb871</td>\n",
              "    </tr>\n",
              "    <tr>\n",
              "      <th>1</th>\n",
              "      <td>a9810da82917af2d9aefd1278f1dcfa0</td>\n",
              "      <td>credit_card</td>\n",
              "      <td>eaf6d55068dea77334e8477d3878d89e</td>\n",
              "    </tr>\n",
              "  </tbody>\n",
              "</table>\n",
              "</div>"
            ],
            "text/plain": [
              "                           order_id  ...                         seller_id\n",
              "0  b81ef226f3fe1789b1e8b2acac839d17  ...  213b25e6f54661939f11710a6fddb871\n",
              "1  a9810da82917af2d9aefd1278f1dcfa0  ...  eaf6d55068dea77334e8477d3878d89e\n",
              "\n",
              "[2 rows x 3 columns]"
            ]
          },
          "metadata": {
            "tags": []
          },
          "execution_count": 69
        }
      ]
    },
    {
      "cell_type": "code",
      "metadata": {
        "colab": {
          "base_uri": "https://localhost:8080/"
        },
        "id": "YBV7KAclg4UZ",
        "outputId": "cf9bba32-8897-48fd-9471-c5efbde8b1d2"
      },
      "source": [
        "df_res.shape"
      ],
      "execution_count": 70,
      "outputs": [
        {
          "output_type": "execute_result",
          "data": {
            "text/plain": [
              "(99440, 3)"
            ]
          },
          "metadata": {
            "tags": []
          },
          "execution_count": 70
        }
      ]
    },
    {
      "cell_type": "markdown",
      "metadata": {
        "id": "WPHbPxwRq-DI"
      },
      "source": [
        "### Join com a tabela vendedores"
      ]
    },
    {
      "cell_type": "code",
      "metadata": {
        "id": "jSEslfd4imPS",
        "colab": {
          "base_uri": "https://localhost:8080/",
          "height": 0
        },
        "outputId": "4137b34c-c9d4-437d-a4b9-c0fadb6b8f64"
      },
      "source": [
        "df_vendedores.head(2)"
      ],
      "execution_count": 71,
      "outputs": [
        {
          "output_type": "execute_result",
          "data": {
            "text/html": [
              "<div>\n",
              "<style scoped>\n",
              "    .dataframe tbody tr th:only-of-type {\n",
              "        vertical-align: middle;\n",
              "    }\n",
              "\n",
              "    .dataframe tbody tr th {\n",
              "        vertical-align: top;\n",
              "    }\n",
              "\n",
              "    .dataframe thead th {\n",
              "        text-align: right;\n",
              "    }\n",
              "</style>\n",
              "<table border=\"1\" class=\"dataframe\">\n",
              "  <thead>\n",
              "    <tr style=\"text-align: right;\">\n",
              "      <th></th>\n",
              "      <th>seller_id</th>\n",
              "      <th>seller_zip_code_prefix</th>\n",
              "      <th>seller_city</th>\n",
              "      <th>seller_state</th>\n",
              "    </tr>\n",
              "  </thead>\n",
              "  <tbody>\n",
              "    <tr>\n",
              "      <th>0</th>\n",
              "      <td>3442f8959a84dea7ee197c632cb2df15</td>\n",
              "      <td>13023</td>\n",
              "      <td>campinas</td>\n",
              "      <td>SP</td>\n",
              "    </tr>\n",
              "    <tr>\n",
              "      <th>1</th>\n",
              "      <td>d1b65fc7debc3361ea86b5f14c68d2e2</td>\n",
              "      <td>13844</td>\n",
              "      <td>mogi guacu</td>\n",
              "      <td>SP</td>\n",
              "    </tr>\n",
              "  </tbody>\n",
              "</table>\n",
              "</div>"
            ],
            "text/plain": [
              "                          seller_id  ...  seller_state\n",
              "0  3442f8959a84dea7ee197c632cb2df15  ...            SP\n",
              "1  d1b65fc7debc3361ea86b5f14c68d2e2  ...            SP\n",
              "\n",
              "[2 rows x 4 columns]"
            ]
          },
          "metadata": {
            "tags": []
          },
          "execution_count": 71
        }
      ]
    },
    {
      "cell_type": "code",
      "metadata": {
        "id": "U9PkEZEyi-xZ",
        "colab": {
          "base_uri": "https://localhost:8080/",
          "height": 0
        },
        "outputId": "7fabaead-4c2b-4fdd-9afe-42f99c7d3f3f"
      },
      "source": [
        "df_right = df_vendedores[['seller_id', 'seller_state']]\n",
        "df_right.head(3)"
      ],
      "execution_count": 72,
      "outputs": [
        {
          "output_type": "execute_result",
          "data": {
            "text/html": [
              "<div>\n",
              "<style scoped>\n",
              "    .dataframe tbody tr th:only-of-type {\n",
              "        vertical-align: middle;\n",
              "    }\n",
              "\n",
              "    .dataframe tbody tr th {\n",
              "        vertical-align: top;\n",
              "    }\n",
              "\n",
              "    .dataframe thead th {\n",
              "        text-align: right;\n",
              "    }\n",
              "</style>\n",
              "<table border=\"1\" class=\"dataframe\">\n",
              "  <thead>\n",
              "    <tr style=\"text-align: right;\">\n",
              "      <th></th>\n",
              "      <th>seller_id</th>\n",
              "      <th>seller_state</th>\n",
              "    </tr>\n",
              "  </thead>\n",
              "  <tbody>\n",
              "    <tr>\n",
              "      <th>0</th>\n",
              "      <td>3442f8959a84dea7ee197c632cb2df15</td>\n",
              "      <td>SP</td>\n",
              "    </tr>\n",
              "    <tr>\n",
              "      <th>1</th>\n",
              "      <td>d1b65fc7debc3361ea86b5f14c68d2e2</td>\n",
              "      <td>SP</td>\n",
              "    </tr>\n",
              "    <tr>\n",
              "      <th>2</th>\n",
              "      <td>ce3ad9de960102d0677a81f5d0bb7b2d</td>\n",
              "      <td>RJ</td>\n",
              "    </tr>\n",
              "  </tbody>\n",
              "</table>\n",
              "</div>"
            ],
            "text/plain": [
              "                          seller_id seller_state\n",
              "0  3442f8959a84dea7ee197c632cb2df15           SP\n",
              "1  d1b65fc7debc3361ea86b5f14c68d2e2           SP\n",
              "2  ce3ad9de960102d0677a81f5d0bb7b2d           RJ"
            ]
          },
          "metadata": {
            "tags": []
          },
          "execution_count": 72
        }
      ]
    },
    {
      "cell_type": "code",
      "metadata": {
        "id": "cEUIkBVpjZzo",
        "colab": {
          "base_uri": "https://localhost:8080/",
          "height": 0
        },
        "outputId": "fdb45aaa-b921-4242-eb13-505a60c2d8e4"
      },
      "source": [
        "df_vendedores_compra_itens = df_res.merge(df_right, how='left', on='seller_id')\n",
        "df_vendedores_compra_itens.head(3)"
      ],
      "execution_count": 73,
      "outputs": [
        {
          "output_type": "execute_result",
          "data": {
            "text/html": [
              "<div>\n",
              "<style scoped>\n",
              "    .dataframe tbody tr th:only-of-type {\n",
              "        vertical-align: middle;\n",
              "    }\n",
              "\n",
              "    .dataframe tbody tr th {\n",
              "        vertical-align: top;\n",
              "    }\n",
              "\n",
              "    .dataframe thead th {\n",
              "        text-align: right;\n",
              "    }\n",
              "</style>\n",
              "<table border=\"1\" class=\"dataframe\">\n",
              "  <thead>\n",
              "    <tr style=\"text-align: right;\">\n",
              "      <th></th>\n",
              "      <th>order_id</th>\n",
              "      <th>payment_type</th>\n",
              "      <th>seller_id</th>\n",
              "      <th>seller_state</th>\n",
              "    </tr>\n",
              "  </thead>\n",
              "  <tbody>\n",
              "    <tr>\n",
              "      <th>0</th>\n",
              "      <td>b81ef226f3fe1789b1e8b2acac839d17</td>\n",
              "      <td>credit_card</td>\n",
              "      <td>213b25e6f54661939f11710a6fddb871</td>\n",
              "      <td>SP</td>\n",
              "    </tr>\n",
              "    <tr>\n",
              "      <th>1</th>\n",
              "      <td>a9810da82917af2d9aefd1278f1dcfa0</td>\n",
              "      <td>credit_card</td>\n",
              "      <td>eaf6d55068dea77334e8477d3878d89e</td>\n",
              "      <td>SP</td>\n",
              "    </tr>\n",
              "    <tr>\n",
              "      <th>2</th>\n",
              "      <td>25e8ea4e93396b6fa0d3dd708e76c1bd</td>\n",
              "      <td>credit_card</td>\n",
              "      <td>cc419e0650a3c5ba77189a1882b7556a</td>\n",
              "      <td>SP</td>\n",
              "    </tr>\n",
              "  </tbody>\n",
              "</table>\n",
              "</div>"
            ],
            "text/plain": [
              "                           order_id  ... seller_state\n",
              "0  b81ef226f3fe1789b1e8b2acac839d17  ...           SP\n",
              "1  a9810da82917af2d9aefd1278f1dcfa0  ...           SP\n",
              "2  25e8ea4e93396b6fa0d3dd708e76c1bd  ...           SP\n",
              "\n",
              "[3 rows x 4 columns]"
            ]
          },
          "metadata": {
            "tags": []
          },
          "execution_count": 73
        }
      ]
    },
    {
      "cell_type": "code",
      "metadata": {
        "colab": {
          "base_uri": "https://localhost:8080/"
        },
        "id": "y6MBZ2d7i4nS",
        "outputId": "f6ed5ab0-01da-46be-ecc7-84fcc9de03cc"
      },
      "source": [
        "df_vendedores_compra_itens.shape"
      ],
      "execution_count": 74,
      "outputs": [
        {
          "output_type": "execute_result",
          "data": {
            "text/plain": [
              "(99440, 4)"
            ]
          },
          "metadata": {
            "tags": []
          },
          "execution_count": 74
        }
      ]
    },
    {
      "cell_type": "markdown",
      "metadata": {
        "id": "wV-Hc_blkUb1"
      },
      "source": [
        "## Análise descritiva"
      ]
    },
    {
      "cell_type": "code",
      "metadata": {
        "id": "Nxde6v6TislI",
        "colab": {
          "base_uri": "https://localhost:8080/",
          "height": 359
        },
        "outputId": "0cdf5869-1e6d-4d92-c17e-bae5c1106502"
      },
      "source": [
        "df_res = df_vendedores_compra_itens[['seller_state', 'payment_type']].groupby(['seller_state', 'payment_type']).size()\n",
        "df_res = df_res.reset_index()\n",
        "df_res = df_res.rename(columns={0: 'quantidade'})\n",
        "df_res.head(10)"
      ],
      "execution_count": 75,
      "outputs": [
        {
          "output_type": "execute_result",
          "data": {
            "text/html": [
              "<div>\n",
              "<style scoped>\n",
              "    .dataframe tbody tr th:only-of-type {\n",
              "        vertical-align: middle;\n",
              "    }\n",
              "\n",
              "    .dataframe tbody tr th {\n",
              "        vertical-align: top;\n",
              "    }\n",
              "\n",
              "    .dataframe thead th {\n",
              "        text-align: right;\n",
              "    }\n",
              "</style>\n",
              "<table border=\"1\" class=\"dataframe\">\n",
              "  <thead>\n",
              "    <tr style=\"text-align: right;\">\n",
              "      <th></th>\n",
              "      <th>seller_state</th>\n",
              "      <th>payment_type</th>\n",
              "      <th>quantidade</th>\n",
              "    </tr>\n",
              "  </thead>\n",
              "  <tbody>\n",
              "    <tr>\n",
              "      <th>0</th>\n",
              "      <td>AC</td>\n",
              "      <td>credit_card</td>\n",
              "      <td>1</td>\n",
              "    </tr>\n",
              "    <tr>\n",
              "      <th>1</th>\n",
              "      <td>AM</td>\n",
              "      <td>credit_card</td>\n",
              "      <td>3</td>\n",
              "    </tr>\n",
              "    <tr>\n",
              "      <th>2</th>\n",
              "      <td>BA</td>\n",
              "      <td>boleto</td>\n",
              "      <td>98</td>\n",
              "    </tr>\n",
              "    <tr>\n",
              "      <th>3</th>\n",
              "      <td>BA</td>\n",
              "      <td>credit_card</td>\n",
              "      <td>442</td>\n",
              "    </tr>\n",
              "    <tr>\n",
              "      <th>4</th>\n",
              "      <td>BA</td>\n",
              "      <td>debit_card</td>\n",
              "      <td>11</td>\n",
              "    </tr>\n",
              "    <tr>\n",
              "      <th>5</th>\n",
              "      <td>BA</td>\n",
              "      <td>voucher</td>\n",
              "      <td>17</td>\n",
              "    </tr>\n",
              "    <tr>\n",
              "      <th>6</th>\n",
              "      <td>CE</td>\n",
              "      <td>boleto</td>\n",
              "      <td>22</td>\n",
              "    </tr>\n",
              "    <tr>\n",
              "      <th>7</th>\n",
              "      <td>CE</td>\n",
              "      <td>credit_card</td>\n",
              "      <td>60</td>\n",
              "    </tr>\n",
              "    <tr>\n",
              "      <th>8</th>\n",
              "      <td>CE</td>\n",
              "      <td>debit_card</td>\n",
              "      <td>2</td>\n",
              "    </tr>\n",
              "    <tr>\n",
              "      <th>9</th>\n",
              "      <td>CE</td>\n",
              "      <td>voucher</td>\n",
              "      <td>5</td>\n",
              "    </tr>\n",
              "  </tbody>\n",
              "</table>\n",
              "</div>"
            ],
            "text/plain": [
              "  seller_state payment_type  quantidade\n",
              "0           AC  credit_card           1\n",
              "1           AM  credit_card           3\n",
              "2           BA       boleto          98\n",
              "3           BA  credit_card         442\n",
              "4           BA   debit_card          11\n",
              "5           BA      voucher          17\n",
              "6           CE       boleto          22\n",
              "7           CE  credit_card          60\n",
              "8           CE   debit_card           2\n",
              "9           CE      voucher           5"
            ]
          },
          "metadata": {
            "tags": []
          },
          "execution_count": 75
        }
      ]
    },
    {
      "cell_type": "code",
      "metadata": {
        "colab": {
          "base_uri": "https://localhost:8080/"
        },
        "id": "tQxGi-lLtVpw",
        "outputId": "4d8ec78b-8b3f-4e1c-a91f-08cd10c9f15d"
      },
      "source": [
        "print(f'Total de pedidos no Brasil: {df_res.quantidade.sum()}')"
      ],
      "execution_count": 76,
      "outputs": [
        {
          "output_type": "stream",
          "text": [
            "Total de pedidos no Brasil: 98665\n"
          ],
          "name": "stdout"
        }
      ]
    },
    {
      "cell_type": "code",
      "metadata": {
        "colab": {
          "base_uri": "https://localhost:8080/",
          "height": 467
        },
        "id": "qyM5c9h7UHTL",
        "outputId": "8333f163-5f61-4fb1-8081-ddd4d00028dd"
      },
      "source": [
        "fig = px.bar(df_res.sort_values(by=['quantidade', 'seller_state'], ascending=False), x = 'seller_state', y = 'quantidade', \n",
        "             title = 'Tipos de pagamentos mais recorrentes nos estados', \n",
        "             color = 'payment_type',\n",
        "             labels={'seller_state':'Estado'})\n",
        "gitly.show(fig)"
      ],
      "execution_count": 77,
      "outputs": [
        {
          "output_type": "execute_result",
          "data": {
            "image/png": "[encoded data removed]",
            "text/plain": [
              "<IPython.core.display.Image object>"
            ]
          },
          "metadata": {
            "tags": []
          },
          "execution_count": 77
        }
      ]
    },
    {
      "cell_type": "code",
      "metadata": {
        "id": "CRT0NX7aoJL5",
        "colab": {
          "base_uri": "https://localhost:8080/",
          "height": 190
        },
        "outputId": "7e533e59-0019-4c27-8060-563148a3083e"
      },
      "source": [
        "estado = 'SP'\n",
        "df1 = df_res[df_res.seller_state == estado].sort_values(by='quantidade', ascending = False)\n",
        "print(f'Total de compras de vendedores de {estado}: {df1.quantidade.sum()}')\n",
        "df1"
      ],
      "execution_count": 78,
      "outputs": [
        {
          "output_type": "stream",
          "text": [
            "Total de compras de vendedores de SP: 69968\n"
          ],
          "name": "stdout"
        },
        {
          "output_type": "execute_result",
          "data": {
            "text/html": [
              "<div>\n",
              "<style scoped>\n",
              "    .dataframe tbody tr th:only-of-type {\n",
              "        vertical-align: middle;\n",
              "    }\n",
              "\n",
              "    .dataframe tbody tr th {\n",
              "        vertical-align: top;\n",
              "    }\n",
              "\n",
              "    .dataframe thead th {\n",
              "        text-align: right;\n",
              "    }\n",
              "</style>\n",
              "<table border=\"1\" class=\"dataframe\">\n",
              "  <thead>\n",
              "    <tr style=\"text-align: right;\">\n",
              "      <th></th>\n",
              "      <th>seller_state</th>\n",
              "      <th>payment_type</th>\n",
              "      <th>quantidade</th>\n",
              "    </tr>\n",
              "  </thead>\n",
              "  <tbody>\n",
              "    <tr>\n",
              "      <th>72</th>\n",
              "      <td>SP</td>\n",
              "      <td>credit_card</td>\n",
              "      <td>52852</td>\n",
              "    </tr>\n",
              "    <tr>\n",
              "      <th>71</th>\n",
              "      <td>SP</td>\n",
              "      <td>boleto</td>\n",
              "      <td>14037</td>\n",
              "    </tr>\n",
              "    <tr>\n",
              "      <th>74</th>\n",
              "      <td>SP</td>\n",
              "      <td>voucher</td>\n",
              "      <td>1957</td>\n",
              "    </tr>\n",
              "    <tr>\n",
              "      <th>73</th>\n",
              "      <td>SP</td>\n",
              "      <td>debit_card</td>\n",
              "      <td>1122</td>\n",
              "    </tr>\n",
              "  </tbody>\n",
              "</table>\n",
              "</div>"
            ],
            "text/plain": [
              "   seller_state payment_type  quantidade\n",
              "72           SP  credit_card       52852\n",
              "71           SP       boleto       14037\n",
              "74           SP      voucher        1957\n",
              "73           SP   debit_card        1122"
            ]
          },
          "metadata": {
            "tags": []
          },
          "execution_count": 78
        }
      ]
    },
    {
      "cell_type": "code",
      "metadata": {
        "id": "ZC6dBoC6tJGL",
        "colab": {
          "base_uri": "https://localhost:8080/",
          "height": 467
        },
        "outputId": "b26569df-f6e0-4f78-a846-1040bde6af10"
      },
      "source": [
        "fig = px.bar(df1, x = 'payment_type', y = 'quantidade', title = 'Tipos de pagamentos mais recorrentes no estado '+ estado, \n",
        "             color_discrete_sequence =['darkseagreen']*len(df1),\n",
        "             labels={'payment_type':'Método de pagamento'})\n",
        "gitly.show(fig)"
      ],
      "execution_count": 79,
      "outputs": [
        {
          "output_type": "execute_result",
          "data": {
            "image/png": "[encoded data removed]",
            "text/plain": [
              "<IPython.core.display.Image object>"
            ]
          },
          "metadata": {
            "tags": []
          },
          "execution_count": 79
        }
      ]
    },
    {
      "cell_type": "markdown",
      "metadata": {
        "id": "wO0yrpp-rPNU"
      },
      "source": [
        "Com os gráficos é possível verificar quais as formas de pagamento mais recorrentes em cada estado do vendedor, em todos os casos o cartão de crédito é o mais utilizado. Vale notar também a enorme diferença na quantidade de compras realizadas em vendedores de São Paulo e no resto do país."
      ]
    },
    {
      "cell_type": "markdown",
      "metadata": {
        "id": "dqoOxPluh2Uw"
      },
      "source": [
        "# Análise 4 - 5 categorias mais bem avaliadas pelos consumidores.\n"
      ]
    },
    {
      "cell_type": "markdown",
      "metadata": {
        "id": "sVl3kFZWh2U0"
      },
      "source": [
        "## Tratamento dos dados"
      ]
    },
    {
      "cell_type": "markdown",
      "metadata": {
        "id": "gm0DTNiK5uLA"
      },
      "source": [
        "### Join das tabelas"
      ]
    },
    {
      "cell_type": "code",
      "metadata": {
        "id": "4WGZjsLvi3MU",
        "colab": {
          "base_uri": "https://localhost:8080/",
          "height": 131
        },
        "outputId": "bee78b63-4fb0-44bf-cc0c-695fb24b9f62"
      },
      "source": [
        "df_compra_itens.head(2)"
      ],
      "execution_count": 80,
      "outputs": [
        {
          "output_type": "execute_result",
          "data": {
            "text/html": [
              "<div>\n",
              "<style scoped>\n",
              "    .dataframe tbody tr th:only-of-type {\n",
              "        vertical-align: middle;\n",
              "    }\n",
              "\n",
              "    .dataframe tbody tr th {\n",
              "        vertical-align: top;\n",
              "    }\n",
              "\n",
              "    .dataframe thead th {\n",
              "        text-align: right;\n",
              "    }\n",
              "</style>\n",
              "<table border=\"1\" class=\"dataframe\">\n",
              "  <thead>\n",
              "    <tr style=\"text-align: right;\">\n",
              "      <th></th>\n",
              "      <th>order_id</th>\n",
              "      <th>order_item_id</th>\n",
              "      <th>product_id</th>\n",
              "      <th>seller_id</th>\n",
              "      <th>shipping_limit_date</th>\n",
              "      <th>price</th>\n",
              "      <th>freight_value</th>\n",
              "      <th>valor_final</th>\n",
              "    </tr>\n",
              "  </thead>\n",
              "  <tbody>\n",
              "    <tr>\n",
              "      <th>0</th>\n",
              "      <td>00010242fe8c5a6d1ba2dd792cb16214</td>\n",
              "      <td>1</td>\n",
              "      <td>4244733e06e7ecb4970a6e2683c13e61</td>\n",
              "      <td>48436dade18ac8b2bce089ec2a041202</td>\n",
              "      <td>2017-09-19 09:45:35</td>\n",
              "      <td>58.9</td>\n",
              "      <td>13.29</td>\n",
              "      <td>58.9</td>\n",
              "    </tr>\n",
              "    <tr>\n",
              "      <th>1</th>\n",
              "      <td>00018f77f2f0320c557190d7a144bdd3</td>\n",
              "      <td>1</td>\n",
              "      <td>e5f2d52b802189ee658865ca93d83a8f</td>\n",
              "      <td>dd7ddc04e1b6c2c614352b383efe2d36</td>\n",
              "      <td>2017-05-03 11:05:13</td>\n",
              "      <td>239.9</td>\n",
              "      <td>19.93</td>\n",
              "      <td>239.9</td>\n",
              "    </tr>\n",
              "  </tbody>\n",
              "</table>\n",
              "</div>"
            ],
            "text/plain": [
              "                           order_id  order_item_id  ... freight_value valor_final\n",
              "0  00010242fe8c5a6d1ba2dd792cb16214              1  ...         13.29        58.9\n",
              "1  00018f77f2f0320c557190d7a144bdd3              1  ...         19.93       239.9\n",
              "\n",
              "[2 rows x 8 columns]"
            ]
          },
          "metadata": {
            "tags": []
          },
          "execution_count": 80
        }
      ]
    },
    {
      "cell_type": "code",
      "metadata": {
        "colab": {
          "base_uri": "https://localhost:8080/",
          "height": 142
        },
        "id": "YOeUiOpQkQg4",
        "outputId": "a112059d-9507-41de-c291-786e9274d992"
      },
      "source": [
        "df_compra_itens.agg(['nunique', 'size', 'count'])"
      ],
      "execution_count": 81,
      "outputs": [
        {
          "output_type": "execute_result",
          "data": {
            "text/html": [
              "<div>\n",
              "<style scoped>\n",
              "    .dataframe tbody tr th:only-of-type {\n",
              "        vertical-align: middle;\n",
              "    }\n",
              "\n",
              "    .dataframe tbody tr th {\n",
              "        vertical-align: top;\n",
              "    }\n",
              "\n",
              "    .dataframe thead th {\n",
              "        text-align: right;\n",
              "    }\n",
              "</style>\n",
              "<table border=\"1\" class=\"dataframe\">\n",
              "  <thead>\n",
              "    <tr style=\"text-align: right;\">\n",
              "      <th></th>\n",
              "      <th>order_id</th>\n",
              "      <th>order_item_id</th>\n",
              "      <th>product_id</th>\n",
              "      <th>seller_id</th>\n",
              "      <th>shipping_limit_date</th>\n",
              "      <th>price</th>\n",
              "      <th>freight_value</th>\n",
              "      <th>valor_final</th>\n",
              "    </tr>\n",
              "  </thead>\n",
              "  <tbody>\n",
              "    <tr>\n",
              "      <th>nunique</th>\n",
              "      <td>98666</td>\n",
              "      <td>21</td>\n",
              "      <td>32951</td>\n",
              "      <td>3095</td>\n",
              "      <td>93318</td>\n",
              "      <td>5968</td>\n",
              "      <td>6999</td>\n",
              "      <td>8050</td>\n",
              "    </tr>\n",
              "    <tr>\n",
              "      <th>size</th>\n",
              "      <td>112650</td>\n",
              "      <td>112650</td>\n",
              "      <td>112650</td>\n",
              "      <td>112650</td>\n",
              "      <td>112650</td>\n",
              "      <td>112650</td>\n",
              "      <td>112650</td>\n",
              "      <td>112650</td>\n",
              "    </tr>\n",
              "    <tr>\n",
              "      <th>count</th>\n",
              "      <td>112650</td>\n",
              "      <td>112650</td>\n",
              "      <td>112650</td>\n",
              "      <td>112650</td>\n",
              "      <td>112650</td>\n",
              "      <td>112650</td>\n",
              "      <td>112650</td>\n",
              "      <td>112650</td>\n",
              "    </tr>\n",
              "  </tbody>\n",
              "</table>\n",
              "</div>"
            ],
            "text/plain": [
              "         order_id  order_item_id  ...  freight_value  valor_final\n",
              "nunique     98666             21  ...           6999         8050\n",
              "size       112650         112650  ...         112650       112650\n",
              "count      112650         112650  ...         112650       112650\n",
              "\n",
              "[3 rows x 8 columns]"
            ]
          },
          "metadata": {
            "tags": []
          },
          "execution_count": 81
        }
      ]
    },
    {
      "cell_type": "code",
      "metadata": {
        "id": "RtPjSlGIh8o6",
        "colab": {
          "base_uri": "https://localhost:8080/",
          "height": 111
        },
        "outputId": "40120b3b-d30f-4327-e96f-3aa466afdfad"
      },
      "source": [
        "df_left = df_compra_itens[['product_id', 'order_id']]\n",
        "df_left.head(2)"
      ],
      "execution_count": 82,
      "outputs": [
        {
          "output_type": "execute_result",
          "data": {
            "text/html": [
              "<div>\n",
              "<style scoped>\n",
              "    .dataframe tbody tr th:only-of-type {\n",
              "        vertical-align: middle;\n",
              "    }\n",
              "\n",
              "    .dataframe tbody tr th {\n",
              "        vertical-align: top;\n",
              "    }\n",
              "\n",
              "    .dataframe thead th {\n",
              "        text-align: right;\n",
              "    }\n",
              "</style>\n",
              "<table border=\"1\" class=\"dataframe\">\n",
              "  <thead>\n",
              "    <tr style=\"text-align: right;\">\n",
              "      <th></th>\n",
              "      <th>product_id</th>\n",
              "      <th>order_id</th>\n",
              "    </tr>\n",
              "  </thead>\n",
              "  <tbody>\n",
              "    <tr>\n",
              "      <th>0</th>\n",
              "      <td>4244733e06e7ecb4970a6e2683c13e61</td>\n",
              "      <td>00010242fe8c5a6d1ba2dd792cb16214</td>\n",
              "    </tr>\n",
              "    <tr>\n",
              "      <th>1</th>\n",
              "      <td>e5f2d52b802189ee658865ca93d83a8f</td>\n",
              "      <td>00018f77f2f0320c557190d7a144bdd3</td>\n",
              "    </tr>\n",
              "  </tbody>\n",
              "</table>\n",
              "</div>"
            ],
            "text/plain": [
              "                         product_id                          order_id\n",
              "0  4244733e06e7ecb4970a6e2683c13e61  00010242fe8c5a6d1ba2dd792cb16214\n",
              "1  e5f2d52b802189ee658865ca93d83a8f  00018f77f2f0320c557190d7a144bdd3"
            ]
          },
          "metadata": {
            "tags": []
          },
          "execution_count": 82
        }
      ]
    },
    {
      "cell_type": "code",
      "metadata": {
        "id": "JnEjWNX3jDi_",
        "colab": {
          "base_uri": "https://localhost:8080/",
          "height": 131
        },
        "outputId": "066a66d7-66fb-4c79-bbf6-a4f3656ab0f1"
      },
      "source": [
        "df_produtos.head(2)"
      ],
      "execution_count": 83,
      "outputs": [
        {
          "output_type": "execute_result",
          "data": {
            "text/html": [
              "<div>\n",
              "<style scoped>\n",
              "    .dataframe tbody tr th:only-of-type {\n",
              "        vertical-align: middle;\n",
              "    }\n",
              "\n",
              "    .dataframe tbody tr th {\n",
              "        vertical-align: top;\n",
              "    }\n",
              "\n",
              "    .dataframe thead th {\n",
              "        text-align: right;\n",
              "    }\n",
              "</style>\n",
              "<table border=\"1\" class=\"dataframe\">\n",
              "  <thead>\n",
              "    <tr style=\"text-align: right;\">\n",
              "      <th></th>\n",
              "      <th>product_id</th>\n",
              "      <th>product_category_name</th>\n",
              "      <th>product_name_lenght</th>\n",
              "      <th>product_description_lenght</th>\n",
              "      <th>product_photos_qty</th>\n",
              "      <th>product_weight_g</th>\n",
              "      <th>product_length_cm</th>\n",
              "      <th>product_height_cm</th>\n",
              "      <th>product_width_cm</th>\n",
              "    </tr>\n",
              "  </thead>\n",
              "  <tbody>\n",
              "    <tr>\n",
              "      <th>0</th>\n",
              "      <td>1e9e8ef04dbcff4541ed26657ea517e5</td>\n",
              "      <td>perfumaria</td>\n",
              "      <td>40.0</td>\n",
              "      <td>287.0</td>\n",
              "      <td>1.0</td>\n",
              "      <td>225.0</td>\n",
              "      <td>16.0</td>\n",
              "      <td>10.0</td>\n",
              "      <td>14.0</td>\n",
              "    </tr>\n",
              "    <tr>\n",
              "      <th>1</th>\n",
              "      <td>3aa071139cb16b67ca9e5dea641aaa2f</td>\n",
              "      <td>artes</td>\n",
              "      <td>44.0</td>\n",
              "      <td>276.0</td>\n",
              "      <td>1.0</td>\n",
              "      <td>1000.0</td>\n",
              "      <td>30.0</td>\n",
              "      <td>18.0</td>\n",
              "      <td>20.0</td>\n",
              "    </tr>\n",
              "  </tbody>\n",
              "</table>\n",
              "</div>"
            ],
            "text/plain": [
              "                         product_id  ... product_width_cm\n",
              "0  1e9e8ef04dbcff4541ed26657ea517e5  ...             14.0\n",
              "1  3aa071139cb16b67ca9e5dea641aaa2f  ...             20.0\n",
              "\n",
              "[2 rows x 9 columns]"
            ]
          },
          "metadata": {
            "tags": []
          },
          "execution_count": 83
        }
      ]
    },
    {
      "cell_type": "code",
      "metadata": {
        "colab": {
          "base_uri": "https://localhost:8080/",
          "height": 162
        },
        "id": "hHO7BLY0uQUf",
        "outputId": "85613899-468e-4b5b-97b8-15001227a968"
      },
      "source": [
        "df_produtos.agg(['nunique', 'size', 'count'])"
      ],
      "execution_count": 84,
      "outputs": [
        {
          "output_type": "execute_result",
          "data": {
            "text/html": [
              "<div>\n",
              "<style scoped>\n",
              "    .dataframe tbody tr th:only-of-type {\n",
              "        vertical-align: middle;\n",
              "    }\n",
              "\n",
              "    .dataframe tbody tr th {\n",
              "        vertical-align: top;\n",
              "    }\n",
              "\n",
              "    .dataframe thead th {\n",
              "        text-align: right;\n",
              "    }\n",
              "</style>\n",
              "<table border=\"1\" class=\"dataframe\">\n",
              "  <thead>\n",
              "    <tr style=\"text-align: right;\">\n",
              "      <th></th>\n",
              "      <th>product_id</th>\n",
              "      <th>product_category_name</th>\n",
              "      <th>product_name_lenght</th>\n",
              "      <th>product_description_lenght</th>\n",
              "      <th>product_photos_qty</th>\n",
              "      <th>product_weight_g</th>\n",
              "      <th>product_length_cm</th>\n",
              "      <th>product_height_cm</th>\n",
              "      <th>product_width_cm</th>\n",
              "    </tr>\n",
              "  </thead>\n",
              "  <tbody>\n",
              "    <tr>\n",
              "      <th>nunique</th>\n",
              "      <td>32951</td>\n",
              "      <td>73</td>\n",
              "      <td>66</td>\n",
              "      <td>2960</td>\n",
              "      <td>19</td>\n",
              "      <td>2204</td>\n",
              "      <td>99</td>\n",
              "      <td>102</td>\n",
              "      <td>95</td>\n",
              "    </tr>\n",
              "    <tr>\n",
              "      <th>size</th>\n",
              "      <td>32951</td>\n",
              "      <td>32951</td>\n",
              "      <td>32951</td>\n",
              "      <td>32951</td>\n",
              "      <td>32951</td>\n",
              "      <td>32951</td>\n",
              "      <td>32951</td>\n",
              "      <td>32951</td>\n",
              "      <td>32951</td>\n",
              "    </tr>\n",
              "    <tr>\n",
              "      <th>count</th>\n",
              "      <td>32951</td>\n",
              "      <td>32341</td>\n",
              "      <td>32341</td>\n",
              "      <td>32341</td>\n",
              "      <td>32341</td>\n",
              "      <td>32949</td>\n",
              "      <td>32949</td>\n",
              "      <td>32949</td>\n",
              "      <td>32949</td>\n",
              "    </tr>\n",
              "  </tbody>\n",
              "</table>\n",
              "</div>"
            ],
            "text/plain": [
              "         product_id  product_category_name  ...  product_height_cm  product_width_cm\n",
              "nunique       32951                     73  ...                102                95\n",
              "size          32951                  32951  ...              32951             32951\n",
              "count         32951                  32341  ...              32949             32949\n",
              "\n",
              "[3 rows x 9 columns]"
            ]
          },
          "metadata": {
            "tags": []
          },
          "execution_count": 84
        }
      ]
    },
    {
      "cell_type": "code",
      "metadata": {
        "id": "o_dYE2D1jD0R",
        "colab": {
          "base_uri": "https://localhost:8080/",
          "height": 111
        },
        "outputId": "b67f7b1d-14d3-423b-fedd-881063932173"
      },
      "source": [
        "df_right = df_produtos[['product_id', 'product_category_name']]\n",
        "df_right.head(2)"
      ],
      "execution_count": 85,
      "outputs": [
        {
          "output_type": "execute_result",
          "data": {
            "text/html": [
              "<div>\n",
              "<style scoped>\n",
              "    .dataframe tbody tr th:only-of-type {\n",
              "        vertical-align: middle;\n",
              "    }\n",
              "\n",
              "    .dataframe tbody tr th {\n",
              "        vertical-align: top;\n",
              "    }\n",
              "\n",
              "    .dataframe thead th {\n",
              "        text-align: right;\n",
              "    }\n",
              "</style>\n",
              "<table border=\"1\" class=\"dataframe\">\n",
              "  <thead>\n",
              "    <tr style=\"text-align: right;\">\n",
              "      <th></th>\n",
              "      <th>product_id</th>\n",
              "      <th>product_category_name</th>\n",
              "    </tr>\n",
              "  </thead>\n",
              "  <tbody>\n",
              "    <tr>\n",
              "      <th>0</th>\n",
              "      <td>1e9e8ef04dbcff4541ed26657ea517e5</td>\n",
              "      <td>perfumaria</td>\n",
              "    </tr>\n",
              "    <tr>\n",
              "      <th>1</th>\n",
              "      <td>3aa071139cb16b67ca9e5dea641aaa2f</td>\n",
              "      <td>artes</td>\n",
              "    </tr>\n",
              "  </tbody>\n",
              "</table>\n",
              "</div>"
            ],
            "text/plain": [
              "                         product_id product_category_name\n",
              "0  1e9e8ef04dbcff4541ed26657ea517e5            perfumaria\n",
              "1  3aa071139cb16b67ca9e5dea641aaa2f                 artes"
            ]
          },
          "metadata": {
            "tags": []
          },
          "execution_count": 85
        }
      ]
    },
    {
      "cell_type": "code",
      "metadata": {
        "id": "mbxmFj0djDqA",
        "colab": {
          "base_uri": "https://localhost:8080/",
          "height": 111
        },
        "outputId": "b9aeb12b-e3df-4e1e-87cc-727ac982a946"
      },
      "source": [
        "df_produtos_compra_itens = df_left.merge(df_right, how='left', on='product_id')\n",
        "df_produtos_compra_itens.head(2)"
      ],
      "execution_count": 86,
      "outputs": [
        {
          "output_type": "execute_result",
          "data": {
            "text/html": [
              "<div>\n",
              "<style scoped>\n",
              "    .dataframe tbody tr th:only-of-type {\n",
              "        vertical-align: middle;\n",
              "    }\n",
              "\n",
              "    .dataframe tbody tr th {\n",
              "        vertical-align: top;\n",
              "    }\n",
              "\n",
              "    .dataframe thead th {\n",
              "        text-align: right;\n",
              "    }\n",
              "</style>\n",
              "<table border=\"1\" class=\"dataframe\">\n",
              "  <thead>\n",
              "    <tr style=\"text-align: right;\">\n",
              "      <th></th>\n",
              "      <th>product_id</th>\n",
              "      <th>order_id</th>\n",
              "      <th>product_category_name</th>\n",
              "    </tr>\n",
              "  </thead>\n",
              "  <tbody>\n",
              "    <tr>\n",
              "      <th>0</th>\n",
              "      <td>4244733e06e7ecb4970a6e2683c13e61</td>\n",
              "      <td>00010242fe8c5a6d1ba2dd792cb16214</td>\n",
              "      <td>cool_stuff</td>\n",
              "    </tr>\n",
              "    <tr>\n",
              "      <th>1</th>\n",
              "      <td>e5f2d52b802189ee658865ca93d83a8f</td>\n",
              "      <td>00018f77f2f0320c557190d7a144bdd3</td>\n",
              "      <td>pet_shop</td>\n",
              "    </tr>\n",
              "  </tbody>\n",
              "</table>\n",
              "</div>"
            ],
            "text/plain": [
              "                         product_id  ... product_category_name\n",
              "0  4244733e06e7ecb4970a6e2683c13e61  ...            cool_stuff\n",
              "1  e5f2d52b802189ee658865ca93d83a8f  ...              pet_shop\n",
              "\n",
              "[2 rows x 3 columns]"
            ]
          },
          "metadata": {
            "tags": []
          },
          "execution_count": 86
        }
      ]
    },
    {
      "cell_type": "code",
      "metadata": {
        "colab": {
          "base_uri": "https://localhost:8080/"
        },
        "id": "svj8hQKAlBI_",
        "outputId": "cd479196-1004-4198-ba5c-d025c588f22e"
      },
      "source": [
        "df_produtos_compra_itens.shape"
      ],
      "execution_count": 87,
      "outputs": [
        {
          "output_type": "execute_result",
          "data": {
            "text/plain": [
              "(112650, 3)"
            ]
          },
          "metadata": {
            "tags": []
          },
          "execution_count": 87
        }
      ]
    },
    {
      "cell_type": "code",
      "metadata": {
        "id": "PUsDZA26kYE-",
        "colab": {
          "base_uri": "https://localhost:8080/",
          "height": 131
        },
        "outputId": "c049c9dc-af90-49da-83d9-9aa383f1ee42"
      },
      "source": [
        "df_reviews.head(2)"
      ],
      "execution_count": 88,
      "outputs": [
        {
          "output_type": "execute_result",
          "data": {
            "text/html": [
              "<div>\n",
              "<style scoped>\n",
              "    .dataframe tbody tr th:only-of-type {\n",
              "        vertical-align: middle;\n",
              "    }\n",
              "\n",
              "    .dataframe tbody tr th {\n",
              "        vertical-align: top;\n",
              "    }\n",
              "\n",
              "    .dataframe thead th {\n",
              "        text-align: right;\n",
              "    }\n",
              "</style>\n",
              "<table border=\"1\" class=\"dataframe\">\n",
              "  <thead>\n",
              "    <tr style=\"text-align: right;\">\n",
              "      <th></th>\n",
              "      <th>review_id</th>\n",
              "      <th>order_id</th>\n",
              "      <th>review_score</th>\n",
              "      <th>review_comment_title</th>\n",
              "      <th>review_comment_message</th>\n",
              "      <th>review_creation_date</th>\n",
              "      <th>review_answer_timestamp</th>\n",
              "    </tr>\n",
              "  </thead>\n",
              "  <tbody>\n",
              "    <tr>\n",
              "      <th>0</th>\n",
              "      <td>7bc2406110b926393aa56f80a40eba40</td>\n",
              "      <td>73fc7af87114b39712e6da79b0a377eb</td>\n",
              "      <td>4</td>\n",
              "      <td>NaN</td>\n",
              "      <td>NaN</td>\n",
              "      <td>2018-01-18 00:00:00</td>\n",
              "      <td>2018-01-18 21:46:59</td>\n",
              "    </tr>\n",
              "    <tr>\n",
              "      <th>1</th>\n",
              "      <td>80e641a11e56f04c1ad469d5645fdfde</td>\n",
              "      <td>a548910a1c6147796b98fdf73dbeba33</td>\n",
              "      <td>5</td>\n",
              "      <td>NaN</td>\n",
              "      <td>NaN</td>\n",
              "      <td>2018-03-10 00:00:00</td>\n",
              "      <td>2018-03-11 03:05:13</td>\n",
              "    </tr>\n",
              "  </tbody>\n",
              "</table>\n",
              "</div>"
            ],
            "text/plain": [
              "                          review_id  ... review_answer_timestamp\n",
              "0  7bc2406110b926393aa56f80a40eba40  ...     2018-01-18 21:46:59\n",
              "1  80e641a11e56f04c1ad469d5645fdfde  ...     2018-03-11 03:05:13\n",
              "\n",
              "[2 rows x 7 columns]"
            ]
          },
          "metadata": {
            "tags": []
          },
          "execution_count": 88
        }
      ]
    },
    {
      "cell_type": "code",
      "metadata": {
        "id": "e42Jc0C4kp_7",
        "colab": {
          "base_uri": "https://localhost:8080/",
          "height": 111
        },
        "outputId": "1e84a577-b2d5-41db-909b-34e4c0137a3a"
      },
      "source": [
        "df_right = df_reviews[['order_id', 'review_score']]\n",
        "df_right.head(2)"
      ],
      "execution_count": 89,
      "outputs": [
        {
          "output_type": "execute_result",
          "data": {
            "text/html": [
              "<div>\n",
              "<style scoped>\n",
              "    .dataframe tbody tr th:only-of-type {\n",
              "        vertical-align: middle;\n",
              "    }\n",
              "\n",
              "    .dataframe tbody tr th {\n",
              "        vertical-align: top;\n",
              "    }\n",
              "\n",
              "    .dataframe thead th {\n",
              "        text-align: right;\n",
              "    }\n",
              "</style>\n",
              "<table border=\"1\" class=\"dataframe\">\n",
              "  <thead>\n",
              "    <tr style=\"text-align: right;\">\n",
              "      <th></th>\n",
              "      <th>order_id</th>\n",
              "      <th>review_score</th>\n",
              "    </tr>\n",
              "  </thead>\n",
              "  <tbody>\n",
              "    <tr>\n",
              "      <th>0</th>\n",
              "      <td>73fc7af87114b39712e6da79b0a377eb</td>\n",
              "      <td>4</td>\n",
              "    </tr>\n",
              "    <tr>\n",
              "      <th>1</th>\n",
              "      <td>a548910a1c6147796b98fdf73dbeba33</td>\n",
              "      <td>5</td>\n",
              "    </tr>\n",
              "  </tbody>\n",
              "</table>\n",
              "</div>"
            ],
            "text/plain": [
              "                           order_id  review_score\n",
              "0  73fc7af87114b39712e6da79b0a377eb             4\n",
              "1  a548910a1c6147796b98fdf73dbeba33             5"
            ]
          },
          "metadata": {
            "tags": []
          },
          "execution_count": 89
        }
      ]
    },
    {
      "cell_type": "code",
      "metadata": {
        "id": "wKlMK8ZXk9-a",
        "colab": {
          "base_uri": "https://localhost:8080/",
          "height": 111
        },
        "outputId": "d564f1f4-aad2-406b-bbf8-5e34e0d2125f"
      },
      "source": [
        "df_produtos_compra_itens_reviews = df_produtos_compra_itens.merge(df_right, how='left', on='order_id')\n",
        "df_produtos_compra_itens_reviews.head(2)"
      ],
      "execution_count": 90,
      "outputs": [
        {
          "output_type": "execute_result",
          "data": {
            "text/html": [
              "<div>\n",
              "<style scoped>\n",
              "    .dataframe tbody tr th:only-of-type {\n",
              "        vertical-align: middle;\n",
              "    }\n",
              "\n",
              "    .dataframe tbody tr th {\n",
              "        vertical-align: top;\n",
              "    }\n",
              "\n",
              "    .dataframe thead th {\n",
              "        text-align: right;\n",
              "    }\n",
              "</style>\n",
              "<table border=\"1\" class=\"dataframe\">\n",
              "  <thead>\n",
              "    <tr style=\"text-align: right;\">\n",
              "      <th></th>\n",
              "      <th>product_id</th>\n",
              "      <th>order_id</th>\n",
              "      <th>product_category_name</th>\n",
              "      <th>review_score</th>\n",
              "    </tr>\n",
              "  </thead>\n",
              "  <tbody>\n",
              "    <tr>\n",
              "      <th>0</th>\n",
              "      <td>4244733e06e7ecb4970a6e2683c13e61</td>\n",
              "      <td>00010242fe8c5a6d1ba2dd792cb16214</td>\n",
              "      <td>cool_stuff</td>\n",
              "      <td>5</td>\n",
              "    </tr>\n",
              "    <tr>\n",
              "      <th>1</th>\n",
              "      <td>e5f2d52b802189ee658865ca93d83a8f</td>\n",
              "      <td>00018f77f2f0320c557190d7a144bdd3</td>\n",
              "      <td>pet_shop</td>\n",
              "      <td>4</td>\n",
              "    </tr>\n",
              "  </tbody>\n",
              "</table>\n",
              "</div>"
            ],
            "text/plain": [
              "                         product_id  ... review_score\n",
              "0  4244733e06e7ecb4970a6e2683c13e61  ...            5\n",
              "1  e5f2d52b802189ee658865ca93d83a8f  ...            4\n",
              "\n",
              "[2 rows x 4 columns]"
            ]
          },
          "metadata": {
            "tags": []
          },
          "execution_count": 90
        }
      ]
    },
    {
      "cell_type": "code",
      "metadata": {
        "colab": {
          "base_uri": "https://localhost:8080/"
        },
        "id": "aLgrN9c6ltES",
        "outputId": "dd072771-4ac0-4869-9460-14b0451d6390"
      },
      "source": [
        "df_produtos_compra_itens_reviews.shape"
      ],
      "execution_count": 91,
      "outputs": [
        {
          "output_type": "execute_result",
          "data": {
            "text/plain": [
              "(113322, 4)"
            ]
          },
          "metadata": {
            "tags": []
          },
          "execution_count": 91
        }
      ]
    },
    {
      "cell_type": "code",
      "metadata": {
        "colab": {
          "base_uri": "https://localhost:8080/",
          "height": 142
        },
        "id": "UCqmKbL3mFeT",
        "outputId": "a1611d46-d7cb-4184-fa71-7c9d625d8400"
      },
      "source": [
        "df_produtos_compra_itens_reviews.agg(['nunique', 'size', 'count'])"
      ],
      "execution_count": 92,
      "outputs": [
        {
          "output_type": "execute_result",
          "data": {
            "text/html": [
              "<div>\n",
              "<style scoped>\n",
              "    .dataframe tbody tr th:only-of-type {\n",
              "        vertical-align: middle;\n",
              "    }\n",
              "\n",
              "    .dataframe tbody tr th {\n",
              "        vertical-align: top;\n",
              "    }\n",
              "\n",
              "    .dataframe thead th {\n",
              "        text-align: right;\n",
              "    }\n",
              "</style>\n",
              "<table border=\"1\" class=\"dataframe\">\n",
              "  <thead>\n",
              "    <tr style=\"text-align: right;\">\n",
              "      <th></th>\n",
              "      <th>product_id</th>\n",
              "      <th>order_id</th>\n",
              "      <th>product_category_name</th>\n",
              "      <th>review_score</th>\n",
              "    </tr>\n",
              "  </thead>\n",
              "  <tbody>\n",
              "    <tr>\n",
              "      <th>nunique</th>\n",
              "      <td>32951</td>\n",
              "      <td>98666</td>\n",
              "      <td>73</td>\n",
              "      <td>5</td>\n",
              "    </tr>\n",
              "    <tr>\n",
              "      <th>size</th>\n",
              "      <td>113322</td>\n",
              "      <td>113322</td>\n",
              "      <td>113322</td>\n",
              "      <td>113322</td>\n",
              "    </tr>\n",
              "    <tr>\n",
              "      <th>count</th>\n",
              "      <td>113322</td>\n",
              "      <td>113322</td>\n",
              "      <td>111710</td>\n",
              "      <td>113322</td>\n",
              "    </tr>\n",
              "  </tbody>\n",
              "</table>\n",
              "</div>"
            ],
            "text/plain": [
              "         product_id  order_id  product_category_name  review_score\n",
              "nunique       32951     98666                     73             5\n",
              "size         113322    113322                 113322        113322\n",
              "count        113322    113322                 111710        113322"
            ]
          },
          "metadata": {
            "tags": []
          },
          "execution_count": 92
        }
      ]
    },
    {
      "cell_type": "markdown",
      "metadata": {
        "id": "ibeC4UHcvY8D"
      },
      "source": [
        "### Removendo order_id repetidos"
      ]
    },
    {
      "cell_type": "code",
      "metadata": {
        "colab": {
          "base_uri": "https://localhost:8080/"
        },
        "id": "zmF-gTYqmULD",
        "outputId": "97a7a864-42a4-4531-ca06-1c9a29af6c3b"
      },
      "source": [
        "df_produtos_compra_itens_reviews.drop_duplicates(subset=['order_id'], inplace = True)\n",
        "df_produtos_compra_itens_reviews.shape"
      ],
      "execution_count": 93,
      "outputs": [
        {
          "output_type": "execute_result",
          "data": {
            "text/plain": [
              "(98666, 4)"
            ]
          },
          "metadata": {
            "tags": []
          },
          "execution_count": 93
        }
      ]
    },
    {
      "cell_type": "markdown",
      "metadata": {
        "id": "KbDAFQpNlpuN"
      },
      "source": [
        "## Análise descritiva "
      ]
    },
    {
      "cell_type": "code",
      "metadata": {
        "id": "f5Po27-5lZuv",
        "colab": {
          "base_uri": "https://localhost:8080/",
          "height": 235
        },
        "outputId": "a41308c9-ac3e-42d8-9159-302a229d4a97"
      },
      "source": [
        "df_res = df_produtos_compra_itens_reviews[['product_category_name', 'review_score']].groupby(by='product_category_name').mean()\n",
        "df_res = df_res.sort_values(by = 'review_score',ascending = False)\n",
        "df_res.head(5)"
      ],
      "execution_count": 94,
      "outputs": [
        {
          "output_type": "execute_result",
          "data": {
            "text/html": [
              "<div>\n",
              "<style scoped>\n",
              "    .dataframe tbody tr th:only-of-type {\n",
              "        vertical-align: middle;\n",
              "    }\n",
              "\n",
              "    .dataframe tbody tr th {\n",
              "        vertical-align: top;\n",
              "    }\n",
              "\n",
              "    .dataframe thead th {\n",
              "        text-align: right;\n",
              "    }\n",
              "</style>\n",
              "<table border=\"1\" class=\"dataframe\">\n",
              "  <thead>\n",
              "    <tr style=\"text-align: right;\">\n",
              "      <th></th>\n",
              "      <th>review_score</th>\n",
              "    </tr>\n",
              "    <tr>\n",
              "      <th>product_category_name</th>\n",
              "      <th></th>\n",
              "    </tr>\n",
              "  </thead>\n",
              "  <tbody>\n",
              "    <tr>\n",
              "      <th>cds_dvds_musicais</th>\n",
              "      <td>4.666667</td>\n",
              "    </tr>\n",
              "    <tr>\n",
              "      <th>fashion_roupa_infanto_juvenil</th>\n",
              "      <td>4.500000</td>\n",
              "    </tr>\n",
              "    <tr>\n",
              "      <th>livros_interesse_geral</th>\n",
              "      <td>4.459725</td>\n",
              "    </tr>\n",
              "    <tr>\n",
              "      <th>fashion_esporte</th>\n",
              "      <td>4.400000</td>\n",
              "    </tr>\n",
              "    <tr>\n",
              "      <th>livros_importados</th>\n",
              "      <td>4.384615</td>\n",
              "    </tr>\n",
              "  </tbody>\n",
              "</table>\n",
              "</div>"
            ],
            "text/plain": [
              "                               review_score\n",
              "product_category_name                      \n",
              "cds_dvds_musicais                  4.666667\n",
              "fashion_roupa_infanto_juvenil      4.500000\n",
              "livros_interesse_geral             4.459725\n",
              "fashion_esporte                    4.400000\n",
              "livros_importados                  4.384615"
            ]
          },
          "metadata": {
            "tags": []
          },
          "execution_count": 94
        }
      ]
    },
    {
      "cell_type": "code",
      "metadata": {
        "colab": {
          "base_uri": "https://localhost:8080/",
          "height": 111
        },
        "id": "mg75qBQazhwm",
        "outputId": "ae87c57e-ccf9-41fe-d367-b06ac8c68116"
      },
      "source": [
        "cat = 'fashion_roupa_infanto_juvenil'\n",
        "df = df_produtos_compra_itens_reviews[['product_category_name', 'review_score']].value_counts().reset_index().rename(columns={0:'quantidade'})\n",
        "df[df.product_category_name == cat]"
      ],
      "execution_count": 95,
      "outputs": [
        {
          "output_type": "execute_result",
          "data": {
            "text/html": [
              "<div>\n",
              "<style scoped>\n",
              "    .dataframe tbody tr th:only-of-type {\n",
              "        vertical-align: middle;\n",
              "    }\n",
              "\n",
              "    .dataframe tbody tr th {\n",
              "        vertical-align: top;\n",
              "    }\n",
              "\n",
              "    .dataframe thead th {\n",
              "        text-align: right;\n",
              "    }\n",
              "</style>\n",
              "<table border=\"1\" class=\"dataframe\">\n",
              "  <thead>\n",
              "    <tr style=\"text-align: right;\">\n",
              "      <th></th>\n",
              "      <th>product_category_name</th>\n",
              "      <th>review_score</th>\n",
              "      <th>quantidade</th>\n",
              "    </tr>\n",
              "  </thead>\n",
              "  <tbody>\n",
              "    <tr>\n",
              "      <th>272</th>\n",
              "      <td>fashion_roupa_infanto_juvenil</td>\n",
              "      <td>5</td>\n",
              "      <td>7</td>\n",
              "    </tr>\n",
              "    <tr>\n",
              "      <th>344</th>\n",
              "      <td>fashion_roupa_infanto_juvenil</td>\n",
              "      <td>1</td>\n",
              "      <td>1</td>\n",
              "    </tr>\n",
              "  </tbody>\n",
              "</table>\n",
              "</div>"
            ],
            "text/plain": [
              "             product_category_name  review_score  quantidade\n",
              "272  fashion_roupa_infanto_juvenil             5           7\n",
              "344  fashion_roupa_infanto_juvenil             1           1"
            ]
          },
          "metadata": {
            "tags": []
          },
          "execution_count": 95
        }
      ]
    },
    {
      "cell_type": "code",
      "metadata": {
        "colab": {
          "base_uri": "https://localhost:8080/",
          "height": 204
        },
        "id": "xXjqhLZx1Ktu",
        "outputId": "e23f43b6-9964-479d-916d-abce63acf1c3"
      },
      "source": [
        "cat = 'livros_interesse_geral'\n",
        "df = df_produtos_compra_itens_reviews[['product_category_name', 'review_score']].value_counts().reset_index().rename(columns={0:'quantidade'})\n",
        "df[df.product_category_name == cat]"
      ],
      "execution_count": 96,
      "outputs": [
        {
          "output_type": "execute_result",
          "data": {
            "text/html": [
              "<div>\n",
              "<style scoped>\n",
              "    .dataframe tbody tr th:only-of-type {\n",
              "        vertical-align: middle;\n",
              "    }\n",
              "\n",
              "    .dataframe tbody tr th {\n",
              "        vertical-align: top;\n",
              "    }\n",
              "\n",
              "    .dataframe thead th {\n",
              "        text-align: right;\n",
              "    }\n",
              "</style>\n",
              "<table border=\"1\" class=\"dataframe\">\n",
              "  <thead>\n",
              "    <tr style=\"text-align: right;\">\n",
              "      <th></th>\n",
              "      <th>product_category_name</th>\n",
              "      <th>review_score</th>\n",
              "      <th>quantidade</th>\n",
              "    </tr>\n",
              "  </thead>\n",
              "  <tbody>\n",
              "    <tr>\n",
              "      <th>61</th>\n",
              "      <td>livros_interesse_geral</td>\n",
              "      <td>5</td>\n",
              "      <td>371</td>\n",
              "    </tr>\n",
              "    <tr>\n",
              "      <th>132</th>\n",
              "      <td>livros_interesse_geral</td>\n",
              "      <td>4</td>\n",
              "      <td>79</td>\n",
              "    </tr>\n",
              "    <tr>\n",
              "      <th>179</th>\n",
              "      <td>livros_interesse_geral</td>\n",
              "      <td>1</td>\n",
              "      <td>36</td>\n",
              "    </tr>\n",
              "    <tr>\n",
              "      <th>229</th>\n",
              "      <td>livros_interesse_geral</td>\n",
              "      <td>3</td>\n",
              "      <td>17</td>\n",
              "    </tr>\n",
              "    <tr>\n",
              "      <th>282</th>\n",
              "      <td>livros_interesse_geral</td>\n",
              "      <td>2</td>\n",
              "      <td>6</td>\n",
              "    </tr>\n",
              "  </tbody>\n",
              "</table>\n",
              "</div>"
            ],
            "text/plain": [
              "      product_category_name  review_score  quantidade\n",
              "61   livros_interesse_geral             5         371\n",
              "132  livros_interesse_geral             4          79\n",
              "179  livros_interesse_geral             1          36\n",
              "229  livros_interesse_geral             3          17\n",
              "282  livros_interesse_geral             2           6"
            ]
          },
          "metadata": {
            "tags": []
          },
          "execution_count": 96
        }
      ]
    },
    {
      "cell_type": "code",
      "metadata": {
        "id": "jWtjsKjJmBcD",
        "colab": {
          "base_uri": "https://localhost:8080/",
          "height": 467
        },
        "outputId": "78b637a5-ef28-41eb-ebb3-261e102d2226"
      },
      "source": [
        "fig = px.bar(df_res.head(5), y = 'review_score', title='Categorias mais bem avaliadas', \n",
        "             labels={'review_score':'Avaliação','product_category_name':'Categoria'},\n",
        "             color_discrete_sequence =['lightseagreen']*5)\n",
        "gitly.show(fig)"
      ],
      "execution_count": 97,
      "outputs": [
        {
          "output_type": "execute_result",
          "data": {
            "image/png": "[encoded data removed]",
            "text/plain": [
              "<IPython.core.display.Image object>"
            ]
          },
          "metadata": {
            "tags": []
          },
          "execution_count": 97
        }
      ]
    },
    {
      "cell_type": "code",
      "metadata": {
        "id": "YWciMFp8mIt8",
        "colab": {
          "base_uri": "https://localhost:8080/",
          "height": 467
        },
        "outputId": "fb399613-c780-4171-ba12-7163df3e3f92"
      },
      "source": [
        "fig = px.bar(df_res.tail(5), y = 'review_score', title='Categorias piores avaliadas', \n",
        "             labels={'review_score':'Avaliação','product_category_name':'Categoria'},\n",
        "             color_discrete_sequence =['crimson']*5)\n",
        "gitly.show(fig)"
      ],
      "execution_count": 98,
      "outputs": [
        {
          "output_type": "execute_result",
          "data": {
            "image/png": "[encoded data removed]",
            "text/plain": [
              "<IPython.core.display.Image object>"
            ]
          },
          "metadata": {
            "tags": []
          },
          "execution_count": 98
        }
      ]
    },
    {
      "cell_type": "markdown",
      "metadata": {
        "id": "Qz4e8Bpr0l-V"
      },
      "source": [
        "Entre as categorias com maior avaliação somente a fashion_roupa_infanto_juvenil tem menos de 10 avaliações de clientes, mas mesmo assim, possui 7 com nota 5, destaca-se também a categoria de livros, tendo interesse geral muito bem avaliada e por um número bem expressivo de pessos e os importados que fecha o Top 5."
      ]
    },
    {
      "cell_type": "markdown",
      "metadata": {
        "id": "W4TOLDMz1mZG"
      },
      "source": [
        "# Conclusão"
      ]
    },
    {
      "cell_type": "markdown",
      "metadata": {
        "id": "Xlqusn9w1qiP"
      },
      "source": [
        "A parte de visualização do Power BI acho que é melhor e mais simples que a do python, basta arrastar e escolher o que quer mostrar. Já na parte de manipulação dos dados acho mais fácil com o pandas, pode ser também por estar conhecendo o BI agora e não ter tanta familiaridade ainda com a ferramenta.\n",
        "\n",
        "Algumas análises até deram um pouco diferente comparando ambos, como a de categoria melhor avaliada, lá no BI ele utilizou as 100 mil notas dos usuários e em python com mais ou menos 99 mil, porque foi baseado no número de pedidos."
      ]
    }
  ]
}
