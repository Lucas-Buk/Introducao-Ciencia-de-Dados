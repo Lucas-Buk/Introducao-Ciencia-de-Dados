{
  "nbformat": 4,
  "nbformat_minor": 0,
  "metadata": {
    "colab": {
      "name": "Sist de recomendação.ipynb",
      "provenance": [],
      "collapsed_sections": [],
      "mount_file_id": "13VYeDzLyeh2jONIvf4Lvmm7ak6APHVlc",
      "authorship_tag": "ABX9TyOcvAnAx/6M7RLmUAZaK9zX",
      "include_colab_link": true
    },
    "kernelspec": {
      "name": "python3",
      "display_name": "Python 3"
    }
  },
  "cells": [
    {
      "cell_type": "markdown",
      "metadata": {
        "id": "view-in-github",
        "colab_type": "text"
      },
      "source": [
        "<a href=\"https://colab.research.google.com/github/Lucas-Buk/Introducao-Ciencia-de-Dados/blob/master/Sist_de_recomenda%C3%A7%C3%A3o.ipynb\" target=\"_parent\"><img src=\"https://colab.research.google.com/assets/colab-badge.svg\" alt=\"Open In Colab\"/></a>"
      ]
    },
    {
      "cell_type": "markdown",
      "metadata": {
        "id": "SEUqWpR2cLjc"
      },
      "source": [
        "https://grouplens.org/datasets/movielens/\n",
        "\n",
        "Este Exemplo: https://grouplens.org/datasets/movielens/10m/"
      ]
    },
    {
      "cell_type": "code",
      "metadata": {
        "id": "DwpIGr-RgWQL"
      },
      "source": [
        "!pip install gitly==1.1.4\n",
        "\n",
        "# Importação, instanciação e instalação\n",
        "from gitly.colab.plot import GitlyPlotter\n",
        "gitly = GitlyPlotter('git')"
      ],
      "execution_count": null,
      "outputs": []
    },
    {
      "cell_type": "code",
      "metadata": {
        "id": "QttttnKlbyKL"
      },
      "source": [
        "import pandas as pd"
      ],
      "execution_count": 2,
      "outputs": []
    },
    {
      "cell_type": "code",
      "metadata": {
        "colab": {
          "base_uri": "https://localhost:8080/",
          "height": 230
        },
        "id": "Yb_IuZqHdmAS",
        "outputId": "82c33d27-c192-439e-ad0d-04a383f584dd"
      },
      "source": [
        "df_filmes = pd.read_csv('/content/drive/MyDrive/Colab Notebooks/Pós/Intro à CD/Datasets/10M(250MB)/movies.dat', sep='::',\n",
        "                        names=['id_filmes','nomes','categorias'])\n",
        "df_filmes.head(3)"
      ],
      "execution_count": 3,
      "outputs": [
        {
          "output_type": "stream",
          "text": [
            "/usr/local/lib/python3.6/dist-packages/ipykernel_launcher.py:2: ParserWarning:\n",
            "\n",
            "Falling back to the 'python' engine because the 'c' engine does not support regex separators (separators > 1 char and different from '\\s+' are interpreted as regex); you can avoid this warning by specifying engine='python'.\n",
            "\n"
          ],
          "name": "stderr"
        },
        {
          "output_type": "execute_result",
          "data": {
            "text/html": [
              "<div>\n",
              "<style scoped>\n",
              "    .dataframe tbody tr th:only-of-type {\n",
              "        vertical-align: middle;\n",
              "    }\n",
              "\n",
              "    .dataframe tbody tr th {\n",
              "        vertical-align: top;\n",
              "    }\n",
              "\n",
              "    .dataframe thead th {\n",
              "        text-align: right;\n",
              "    }\n",
              "</style>\n",
              "<table border=\"1\" class=\"dataframe\">\n",
              "  <thead>\n",
              "    <tr style=\"text-align: right;\">\n",
              "      <th></th>\n",
              "      <th>id_filmes</th>\n",
              "      <th>nomes</th>\n",
              "      <th>categorias</th>\n",
              "    </tr>\n",
              "  </thead>\n",
              "  <tbody>\n",
              "    <tr>\n",
              "      <th>0</th>\n",
              "      <td>1</td>\n",
              "      <td>Toy Story (1995)</td>\n",
              "      <td>Adventure|Animation|Children|Comedy|Fantasy</td>\n",
              "    </tr>\n",
              "    <tr>\n",
              "      <th>1</th>\n",
              "      <td>2</td>\n",
              "      <td>Jumanji (1995)</td>\n",
              "      <td>Adventure|Children|Fantasy</td>\n",
              "    </tr>\n",
              "    <tr>\n",
              "      <th>2</th>\n",
              "      <td>3</td>\n",
              "      <td>Grumpier Old Men (1995)</td>\n",
              "      <td>Comedy|Romance</td>\n",
              "    </tr>\n",
              "  </tbody>\n",
              "</table>\n",
              "</div>"
            ],
            "text/plain": [
              "   id_filmes  ...                                   categorias\n",
              "0          1  ...  Adventure|Animation|Children|Comedy|Fantasy\n",
              "1          2  ...                   Adventure|Children|Fantasy\n",
              "2          3  ...                               Comedy|Romance\n",
              "\n",
              "[3 rows x 3 columns]"
            ]
          },
          "metadata": {
            "tags": []
          },
          "execution_count": 3
        }
      ]
    },
    {
      "cell_type": "code",
      "metadata": {
        "colab": {
          "base_uri": "https://localhost:8080/",
          "height": 230
        },
        "id": "5YpaJWSVdnDC",
        "outputId": "16ca1310-5ac6-4bde-c058-0b83549b8ccc"
      },
      "source": [
        "df_rate = pd.read_csv('/content/drive/MyDrive/Colab Notebooks/Pós/Intro à CD/Datasets/10M(250MB)/ratings.dat', sep='::',\n",
        "                        names=['id_usuario','id_filmes','nota','timestamp'])\n",
        "df_rate.head(3)"
      ],
      "execution_count": 4,
      "outputs": [
        {
          "output_type": "stream",
          "text": [
            "/usr/local/lib/python3.6/dist-packages/ipykernel_launcher.py:2: ParserWarning:\n",
            "\n",
            "Falling back to the 'python' engine because the 'c' engine does not support regex separators (separators > 1 char and different from '\\s+' are interpreted as regex); you can avoid this warning by specifying engine='python'.\n",
            "\n"
          ],
          "name": "stderr"
        },
        {
          "output_type": "execute_result",
          "data": {
            "text/html": [
              "<div>\n",
              "<style scoped>\n",
              "    .dataframe tbody tr th:only-of-type {\n",
              "        vertical-align: middle;\n",
              "    }\n",
              "\n",
              "    .dataframe tbody tr th {\n",
              "        vertical-align: top;\n",
              "    }\n",
              "\n",
              "    .dataframe thead th {\n",
              "        text-align: right;\n",
              "    }\n",
              "</style>\n",
              "<table border=\"1\" class=\"dataframe\">\n",
              "  <thead>\n",
              "    <tr style=\"text-align: right;\">\n",
              "      <th></th>\n",
              "      <th>id_usuario</th>\n",
              "      <th>id_filmes</th>\n",
              "      <th>nota</th>\n",
              "      <th>timestamp</th>\n",
              "    </tr>\n",
              "  </thead>\n",
              "  <tbody>\n",
              "    <tr>\n",
              "      <th>0</th>\n",
              "      <td>1</td>\n",
              "      <td>122</td>\n",
              "      <td>5.0</td>\n",
              "      <td>838985046</td>\n",
              "    </tr>\n",
              "    <tr>\n",
              "      <th>1</th>\n",
              "      <td>1</td>\n",
              "      <td>185</td>\n",
              "      <td>5.0</td>\n",
              "      <td>838983525</td>\n",
              "    </tr>\n",
              "    <tr>\n",
              "      <th>2</th>\n",
              "      <td>1</td>\n",
              "      <td>231</td>\n",
              "      <td>5.0</td>\n",
              "      <td>838983392</td>\n",
              "    </tr>\n",
              "  </tbody>\n",
              "</table>\n",
              "</div>"
            ],
            "text/plain": [
              "   id_usuario  id_filmes  nota  timestamp\n",
              "0           1        122   5.0  838985046\n",
              "1           1        185   5.0  838983525\n",
              "2           1        231   5.0  838983392"
            ]
          },
          "metadata": {
            "tags": []
          },
          "execution_count": 4
        }
      ]
    },
    {
      "cell_type": "markdown",
      "metadata": {
        "id": "ge1IwAqKf-0N"
      },
      "source": [
        "# Estruturas"
      ]
    },
    {
      "cell_type": "code",
      "metadata": {
        "colab": {
          "base_uri": "https://localhost:8080/"
        },
        "id": "jpwwh39Zdm5O",
        "outputId": "c0066e39-9b60-4584-8b65-293c18bb1536"
      },
      "source": [
        "df_filmes.shape"
      ],
      "execution_count": 5,
      "outputs": [
        {
          "output_type": "execute_result",
          "data": {
            "text/plain": [
              "(10681, 3)"
            ]
          },
          "metadata": {
            "tags": []
          },
          "execution_count": 5
        }
      ]
    },
    {
      "cell_type": "code",
      "metadata": {
        "colab": {
          "base_uri": "https://localhost:8080/"
        },
        "id": "-DjZITUFdm2L",
        "outputId": "00ca0829-adcd-4612-bc50-ffba5eebd3a4"
      },
      "source": [
        "df_rate.shape"
      ],
      "execution_count": 6,
      "outputs": [
        {
          "output_type": "execute_result",
          "data": {
            "text/plain": [
              "(9999762, 4)"
            ]
          },
          "metadata": {
            "tags": []
          },
          "execution_count": 6
        }
      ]
    },
    {
      "cell_type": "code",
      "metadata": {
        "colab": {
          "base_uri": "https://localhost:8080/"
        },
        "id": "lK946QfygFaf",
        "outputId": "1c54d7a4-eaa4-44b4-a4fc-1c71c45bae5d"
      },
      "source": [
        "df_rate.id_filmes.value_counts().head(5)"
      ],
      "execution_count": 7,
      "outputs": [
        {
          "output_type": "execute_result",
          "data": {
            "text/plain": [
              "296    34863\n",
              "356    34457\n",
              "593    33667\n",
              "480    32629\n",
              "318    31124\n",
              "Name: id_filmes, dtype: int64"
            ]
          },
          "metadata": {
            "tags": []
          },
          "execution_count": 7
        }
      ]
    },
    {
      "cell_type": "code",
      "metadata": {
        "colab": {
          "base_uri": "https://localhost:8080/"
        },
        "id": "qwDW2RoXgc1g",
        "outputId": "698a46d3-77e5-4f94-c075-b0dfdd1ecb0b"
      },
      "source": [
        "df_rate.id_usuario.value_counts().rename('qtd_avaliadas').head(3)"
      ],
      "execution_count": 8,
      "outputs": [
        {
          "output_type": "execute_result",
          "data": {
            "text/plain": [
              "59269    7359\n",
              "67385    7047\n",
              "14463    5169\n",
              "Name: qtd_avaliadas, dtype: int64"
            ]
          },
          "metadata": {
            "tags": []
          },
          "execution_count": 8
        }
      ]
    },
    {
      "cell_type": "markdown",
      "metadata": {
        "id": "3uJSsmu8g0Cs"
      },
      "source": [
        "# Sumarização"
      ]
    },
    {
      "cell_type": "code",
      "metadata": {
        "colab": {
          "base_uri": "https://localhost:8080/"
        },
        "id": "PfHDXl5MkSoY",
        "outputId": "89ece71c-5ebf-4703-f43e-ab4d19f14afe"
      },
      "source": [
        "df_rate.id_usuario.nunique()"
      ],
      "execution_count": 9,
      "outputs": [
        {
          "output_type": "execute_result",
          "data": {
            "text/plain": [
              "69875"
            ]
          },
          "metadata": {
            "tags": []
          },
          "execution_count": 9
        }
      ]
    },
    {
      "cell_type": "code",
      "metadata": {
        "colab": {
          "base_uri": "https://localhost:8080/",
          "height": 692
        },
        "id": "-faQH2aggpzC",
        "outputId": "1609fcc8-39fa-444a-b3eb-b519fefe69dd"
      },
      "source": [
        "import plotly.express as px\n",
        "\n",
        "df = df_rate.id_usuario.value_counts().rename('qtd_avaliadas')\n",
        "fig = px.histogram(df, x='qtd_avaliadas', marginal=\"box\")\n",
        "gitly.show(fig, scale=1.5)"
      ],
      "execution_count": 10,
      "outputs": [
        {
          "output_type": "execute_result",
          "data": {
            "image/png": "[encoded data removed]",
            "text/plain": [
              "<IPython.core.display.Image object>"
            ]
          },
          "metadata": {
            "tags": []
          },
          "execution_count": 10
        }
      ]
    },
    {
      "cell_type": "markdown",
      "metadata": {
        "id": "u00pQ7RSoiTv"
      },
      "source": [
        "# S R - Início"
      ]
    },
    {
      "cell_type": "code",
      "metadata": {
        "id": "8Wygn7toh9Ls",
        "colab": {
          "base_uri": "https://localhost:8080/",
          "height": 204
        },
        "outputId": "92d9c32a-3b10-4dcb-bb3a-7c1825d1f7db"
      },
      "source": [
        "df_rate.head()"
      ],
      "execution_count": 11,
      "outputs": [
        {
          "output_type": "execute_result",
          "data": {
            "text/html": [
              "<div>\n",
              "<style scoped>\n",
              "    .dataframe tbody tr th:only-of-type {\n",
              "        vertical-align: middle;\n",
              "    }\n",
              "\n",
              "    .dataframe tbody tr th {\n",
              "        vertical-align: top;\n",
              "    }\n",
              "\n",
              "    .dataframe thead th {\n",
              "        text-align: right;\n",
              "    }\n",
              "</style>\n",
              "<table border=\"1\" class=\"dataframe\">\n",
              "  <thead>\n",
              "    <tr style=\"text-align: right;\">\n",
              "      <th></th>\n",
              "      <th>id_usuario</th>\n",
              "      <th>id_filmes</th>\n",
              "      <th>nota</th>\n",
              "      <th>timestamp</th>\n",
              "    </tr>\n",
              "  </thead>\n",
              "  <tbody>\n",
              "    <tr>\n",
              "      <th>0</th>\n",
              "      <td>1</td>\n",
              "      <td>122</td>\n",
              "      <td>5.0</td>\n",
              "      <td>838985046</td>\n",
              "    </tr>\n",
              "    <tr>\n",
              "      <th>1</th>\n",
              "      <td>1</td>\n",
              "      <td>185</td>\n",
              "      <td>5.0</td>\n",
              "      <td>838983525</td>\n",
              "    </tr>\n",
              "    <tr>\n",
              "      <th>2</th>\n",
              "      <td>1</td>\n",
              "      <td>231</td>\n",
              "      <td>5.0</td>\n",
              "      <td>838983392</td>\n",
              "    </tr>\n",
              "    <tr>\n",
              "      <th>3</th>\n",
              "      <td>1</td>\n",
              "      <td>292</td>\n",
              "      <td>5.0</td>\n",
              "      <td>838983421</td>\n",
              "    </tr>\n",
              "    <tr>\n",
              "      <th>4</th>\n",
              "      <td>1</td>\n",
              "      <td>316</td>\n",
              "      <td>5.0</td>\n",
              "      <td>838983392</td>\n",
              "    </tr>\n",
              "  </tbody>\n",
              "</table>\n",
              "</div>"
            ],
            "text/plain": [
              "   id_usuario  id_filmes  nota  timestamp\n",
              "0           1        122   5.0  838985046\n",
              "1           1        185   5.0  838983525\n",
              "2           1        231   5.0  838983392\n",
              "3           1        292   5.0  838983421\n",
              "4           1        316   5.0  838983392"
            ]
          },
          "metadata": {
            "tags": []
          },
          "execution_count": 11
        }
      ]
    },
    {
      "cell_type": "code",
      "metadata": {
        "id": "6qs0oZDEopgV",
        "colab": {
          "base_uri": "https://localhost:8080/"
        },
        "outputId": "d0f7d7d2-dea7-4ba9-dc9c-8d997a09687a"
      },
      "source": [
        "# info 1 - somatoria da nota: Boa? (Não)\n",
        "df_rate.groupby('id_usuario').sum()['nota'].head(8)"
      ],
      "execution_count": 12,
      "outputs": [
        {
          "output_type": "execute_result",
          "data": {
            "text/plain": [
              "id_usuario\n",
              "1     110.0\n",
              "2      64.0\n",
              "3     130.0\n",
              "4     153.0\n",
              "5     335.0\n",
              "6     165.0\n",
              "7     428.0\n",
              "8    2718.5\n",
              "Name: nota, dtype: float64"
            ]
          },
          "metadata": {
            "tags": []
          },
          "execution_count": 12
        }
      ]
    },
    {
      "cell_type": "code",
      "metadata": {
        "id": "NseMJZIioxRq",
        "colab": {
          "base_uri": "https://localhost:8080/"
        },
        "outputId": "da460172-0978-4b0e-867e-669a106ce0ef"
      },
      "source": [
        "# info 2 - média da nota: Boa? (Sim)\n",
        "df_rate.groupby('id_usuario').mean()['nota'].head(8)"
      ],
      "execution_count": 13,
      "outputs": [
        {
          "output_type": "execute_result",
          "data": {
            "text/plain": [
              "id_usuario\n",
              "1    5.000000\n",
              "2    3.200000\n",
              "3    3.939394\n",
              "4    4.026316\n",
              "5    3.850575\n",
              "6    3.928571\n",
              "7    3.926606\n",
              "8    3.398125\n",
              "Name: nota, dtype: float64"
            ]
          },
          "metadata": {
            "tags": []
          },
          "execution_count": 13
        }
      ]
    },
    {
      "cell_type": "code",
      "metadata": {
        "id": "Mjh4VepMI_ZY",
        "colab": {
          "base_uri": "https://localhost:8080/",
          "height": 204
        },
        "outputId": "932fc1eb-1190-40ac-9aec-30a9f5a6babf"
      },
      "source": [
        "df_filmes.head()"
      ],
      "execution_count": 14,
      "outputs": [
        {
          "output_type": "execute_result",
          "data": {
            "text/html": [
              "<div>\n",
              "<style scoped>\n",
              "    .dataframe tbody tr th:only-of-type {\n",
              "        vertical-align: middle;\n",
              "    }\n",
              "\n",
              "    .dataframe tbody tr th {\n",
              "        vertical-align: top;\n",
              "    }\n",
              "\n",
              "    .dataframe thead th {\n",
              "        text-align: right;\n",
              "    }\n",
              "</style>\n",
              "<table border=\"1\" class=\"dataframe\">\n",
              "  <thead>\n",
              "    <tr style=\"text-align: right;\">\n",
              "      <th></th>\n",
              "      <th>id_filmes</th>\n",
              "      <th>nomes</th>\n",
              "      <th>categorias</th>\n",
              "    </tr>\n",
              "  </thead>\n",
              "  <tbody>\n",
              "    <tr>\n",
              "      <th>0</th>\n",
              "      <td>1</td>\n",
              "      <td>Toy Story (1995)</td>\n",
              "      <td>Adventure|Animation|Children|Comedy|Fantasy</td>\n",
              "    </tr>\n",
              "    <tr>\n",
              "      <th>1</th>\n",
              "      <td>2</td>\n",
              "      <td>Jumanji (1995)</td>\n",
              "      <td>Adventure|Children|Fantasy</td>\n",
              "    </tr>\n",
              "    <tr>\n",
              "      <th>2</th>\n",
              "      <td>3</td>\n",
              "      <td>Grumpier Old Men (1995)</td>\n",
              "      <td>Comedy|Romance</td>\n",
              "    </tr>\n",
              "    <tr>\n",
              "      <th>3</th>\n",
              "      <td>4</td>\n",
              "      <td>Waiting to Exhale (1995)</td>\n",
              "      <td>Comedy|Drama|Romance</td>\n",
              "    </tr>\n",
              "    <tr>\n",
              "      <th>4</th>\n",
              "      <td>5</td>\n",
              "      <td>Father of the Bride Part II (1995)</td>\n",
              "      <td>Comedy</td>\n",
              "    </tr>\n",
              "  </tbody>\n",
              "</table>\n",
              "</div>"
            ],
            "text/plain": [
              "   id_filmes  ...                                   categorias\n",
              "0          1  ...  Adventure|Animation|Children|Comedy|Fantasy\n",
              "1          2  ...                   Adventure|Children|Fantasy\n",
              "2          3  ...                               Comedy|Romance\n",
              "3          4  ...                         Comedy|Drama|Romance\n",
              "4          5  ...                                       Comedy\n",
              "\n",
              "[5 rows x 3 columns]"
            ]
          },
          "metadata": {
            "tags": []
          },
          "execution_count": 14
        }
      ]
    },
    {
      "cell_type": "code",
      "metadata": {
        "id": "TjdI7ZOKJHHr",
        "colab": {
          "base_uri": "https://localhost:8080/",
          "height": 142
        },
        "outputId": "809dd228-5613-44c1-9b76-dcef42230719"
      },
      "source": [
        "df_cat_exp = df_filmes.categorias.str.split('|', expand=True)\n",
        "df_cat_exp.head(3)"
      ],
      "execution_count": 15,
      "outputs": [
        {
          "output_type": "execute_result",
          "data": {
            "text/html": [
              "<div>\n",
              "<style scoped>\n",
              "    .dataframe tbody tr th:only-of-type {\n",
              "        vertical-align: middle;\n",
              "    }\n",
              "\n",
              "    .dataframe tbody tr th {\n",
              "        vertical-align: top;\n",
              "    }\n",
              "\n",
              "    .dataframe thead th {\n",
              "        text-align: right;\n",
              "    }\n",
              "</style>\n",
              "<table border=\"1\" class=\"dataframe\">\n",
              "  <thead>\n",
              "    <tr style=\"text-align: right;\">\n",
              "      <th></th>\n",
              "      <th>0</th>\n",
              "      <th>1</th>\n",
              "      <th>2</th>\n",
              "      <th>3</th>\n",
              "      <th>4</th>\n",
              "      <th>5</th>\n",
              "      <th>6</th>\n",
              "      <th>7</th>\n",
              "    </tr>\n",
              "  </thead>\n",
              "  <tbody>\n",
              "    <tr>\n",
              "      <th>0</th>\n",
              "      <td>Adventure</td>\n",
              "      <td>Animation</td>\n",
              "      <td>Children</td>\n",
              "      <td>Comedy</td>\n",
              "      <td>Fantasy</td>\n",
              "      <td>None</td>\n",
              "      <td>None</td>\n",
              "      <td>None</td>\n",
              "    </tr>\n",
              "    <tr>\n",
              "      <th>1</th>\n",
              "      <td>Adventure</td>\n",
              "      <td>Children</td>\n",
              "      <td>Fantasy</td>\n",
              "      <td>None</td>\n",
              "      <td>None</td>\n",
              "      <td>None</td>\n",
              "      <td>None</td>\n",
              "      <td>None</td>\n",
              "    </tr>\n",
              "    <tr>\n",
              "      <th>2</th>\n",
              "      <td>Comedy</td>\n",
              "      <td>Romance</td>\n",
              "      <td>None</td>\n",
              "      <td>None</td>\n",
              "      <td>None</td>\n",
              "      <td>None</td>\n",
              "      <td>None</td>\n",
              "      <td>None</td>\n",
              "    </tr>\n",
              "  </tbody>\n",
              "</table>\n",
              "</div>"
            ],
            "text/plain": [
              "           0          1         2       3        4     5     6     7\n",
              "0  Adventure  Animation  Children  Comedy  Fantasy  None  None  None\n",
              "1  Adventure   Children   Fantasy    None     None  None  None  None\n",
              "2     Comedy    Romance      None    None     None  None  None  None"
            ]
          },
          "metadata": {
            "tags": []
          },
          "execution_count": 15
        }
      ]
    },
    {
      "cell_type": "code",
      "metadata": {
        "id": "YkfAtlT0JHFo",
        "colab": {
          "base_uri": "https://localhost:8080/"
        },
        "outputId": "53d054fc-276a-492d-f03a-c4afbdeffc37"
      },
      "source": [
        "lista_genero = list(df_cat_exp[0].unique())\n",
        "lista_genero.remove('IMAX')\n",
        "lista_genero.remove('(no genres listed)')\n",
        "print(lista_genero)"
      ],
      "execution_count": 16,
      "outputs": [
        {
          "output_type": "stream",
          "text": [
            "['Adventure', 'Comedy', 'Action', 'Animation', 'Drama', 'Crime', 'Sci-Fi', 'Children', 'Documentary', 'Mystery', 'Thriller', 'Horror', 'Fantasy', 'Western', 'Film-Noir', 'Romance', 'War', 'Musical']\n"
          ],
          "name": "stdout"
        }
      ]
    },
    {
      "cell_type": "code",
      "metadata": {
        "id": "Plcu_KPRJHCg",
        "colab": {
          "base_uri": "https://localhost:8080/"
        },
        "outputId": "e24b9db7-25fd-4962-c90d-9d8507a0f16d"
      },
      "source": [
        "voc_dict = {}\n",
        "\n",
        "i=0\n",
        "for gen in lista_genero:\n",
        "    voc_dict[ gen.lower() ] = i\n",
        "    i = i + 1\n",
        "    \n",
        "voc_dict"
      ],
      "execution_count": 17,
      "outputs": [
        {
          "output_type": "execute_result",
          "data": {
            "text/plain": [
              "{'action': 2,\n",
              " 'adventure': 0,\n",
              " 'animation': 3,\n",
              " 'children': 7,\n",
              " 'comedy': 1,\n",
              " 'crime': 5,\n",
              " 'documentary': 8,\n",
              " 'drama': 4,\n",
              " 'fantasy': 12,\n",
              " 'film-noir': 14,\n",
              " 'horror': 11,\n",
              " 'musical': 17,\n",
              " 'mystery': 9,\n",
              " 'romance': 15,\n",
              " 'sci-fi': 6,\n",
              " 'thriller': 10,\n",
              " 'war': 16,\n",
              " 'western': 13}"
            ]
          },
          "metadata": {
            "tags": []
          },
          "execution_count": 17
        }
      ]
    },
    {
      "cell_type": "markdown",
      "metadata": {
        "id": "-d2ISqC65u7F"
      },
      "source": [
        "Usar o CountVectorizer para vetorizar o campo categoria do dataframe de filmes\n",
        "\n",
        "Documentação: https://scikit-learn.org/stable/modules/generated/sklearn.feature_extraction.text.CountVectorizer.html\n",
        "\n",
        "Tutorial: https://kavita-ganesan.com/how-to-use-countvectorizer/#Example-of-How-CountVectorizer-Works"
      ]
    },
    {
      "cell_type": "code",
      "metadata": {
        "id": "AYXd-LldJg5d",
        "colab": {
          "base_uri": "https://localhost:8080/"
        },
        "outputId": "ef35aa96-bc96-446a-c620-abb903a9bbc7"
      },
      "source": [
        "from sklearn.feature_extraction.text import CountVectorizer\n",
        "\n",
        "vetorizador = CountVectorizer(analyzer='word', vocabulary= voc_dict, ngram_range=(1,2), token_pattern = '[a-zA-Z0-9$&+,:;=?@#<>.^*()%!-]+')\n",
        "# Treinando o vetorizador\n",
        "vetorizador.fit(lista_genero)"
      ],
      "execution_count": 18,
      "outputs": [
        {
          "output_type": "execute_result",
          "data": {
            "text/plain": [
              "CountVectorizer(analyzer='word', binary=False, decode_error='strict',\n",
              "                dtype=<class 'numpy.int64'>, encoding='utf-8', input='content',\n",
              "                lowercase=True, max_df=1.0, max_features=None, min_df=1,\n",
              "                ngram_range=(1, 2), preprocessor=None, stop_words=None,\n",
              "                strip_accents=None,\n",
              "                token_pattern='[a-zA-Z0-9$&+,:;=?@#<>.^*()%!-]+',\n",
              "                tokenizer=None,\n",
              "                vocabulary={'action': 2, 'adventure': 0, 'animation': 3,\n",
              "                            'children': 7, 'comedy': 1, 'crime': 5,\n",
              "                            'documentary': 8, 'drama': 4, 'fantasy': 12,\n",
              "                            'film-noir': 14, 'horror': 11, 'musical': 17,\n",
              "                            'mystery': 9, 'romance': 15, 'sci-fi': 6,\n",
              "                            'thriller': 10, 'war': 16, 'western': 13})"
            ]
          },
          "metadata": {
            "tags": []
          },
          "execution_count": 18
        }
      ]
    },
    {
      "cell_type": "code",
      "metadata": {
        "id": "0GGVd6QhJYuC",
        "colab": {
          "base_uri": "https://localhost:8080/"
        },
        "outputId": "96575465-a86c-4cd0-d153-3b8c4c5040c2"
      },
      "source": [
        "# Testando o vetorizador\n",
        "matriz_cat_exemplo = vetorizador.transform(['Action|Crime|Thriller'])\n",
        "matriz_cat_exemplo.todense()"
      ],
      "execution_count": 19,
      "outputs": [
        {
          "output_type": "execute_result",
          "data": {
            "text/plain": [
              "matrix([[0, 0, 1, 0, 0, 1, 0, 0, 0, 0, 1, 0, 0, 0, 0, 0, 0, 0]])"
            ]
          },
          "metadata": {
            "tags": []
          },
          "execution_count": 19
        }
      ]
    },
    {
      "cell_type": "code",
      "metadata": {
        "id": "-rJ5N0xnJYuD",
        "colab": {
          "base_uri": "https://localhost:8080/"
        },
        "outputId": "5e98284c-0afa-4364-a8d2-27642ea19f46"
      },
      "source": [
        "matriz_cat = vetorizador.transform(df_filmes.categorias)\n",
        "matriz_cat.todense()[:5,:]"
      ],
      "execution_count": 20,
      "outputs": [
        {
          "output_type": "execute_result",
          "data": {
            "text/plain": [
              "matrix([[1, 1, 0, 1, 0, 0, 0, 1, 0, 0, 0, 0, 1, 0, 0, 0, 0, 0],\n",
              "        [1, 0, 0, 0, 0, 0, 0, 1, 0, 0, 0, 0, 1, 0, 0, 0, 0, 0],\n",
              "        [0, 1, 0, 0, 0, 0, 0, 0, 0, 0, 0, 0, 0, 0, 0, 1, 0, 0],\n",
              "        [0, 1, 0, 0, 1, 0, 0, 0, 0, 0, 0, 0, 0, 0, 0, 1, 0, 0],\n",
              "        [0, 1, 0, 0, 0, 0, 0, 0, 0, 0, 0, 0, 0, 0, 0, 0, 0, 0]])"
            ]
          },
          "metadata": {
            "tags": []
          },
          "execution_count": 20
        }
      ]
    },
    {
      "cell_type": "code",
      "metadata": {
        "id": "bn5gpP22KB6S",
        "colab": {
          "base_uri": "https://localhost:8080/",
          "height": 221
        },
        "outputId": "3a488351-98da-4e73-b3c2-d8ec14bae3d5"
      },
      "source": [
        "df_filmes_cat_exp = pd.DataFrame(data=matriz_cat.todense(), columns=vetorizador.get_feature_names())\n",
        "df_filmes_cat_exp.head()"
      ],
      "execution_count": 21,
      "outputs": [
        {
          "output_type": "execute_result",
          "data": {
            "text/html": [
              "<div>\n",
              "<style scoped>\n",
              "    .dataframe tbody tr th:only-of-type {\n",
              "        vertical-align: middle;\n",
              "    }\n",
              "\n",
              "    .dataframe tbody tr th {\n",
              "        vertical-align: top;\n",
              "    }\n",
              "\n",
              "    .dataframe thead th {\n",
              "        text-align: right;\n",
              "    }\n",
              "</style>\n",
              "<table border=\"1\" class=\"dataframe\">\n",
              "  <thead>\n",
              "    <tr style=\"text-align: right;\">\n",
              "      <th></th>\n",
              "      <th>adventure</th>\n",
              "      <th>comedy</th>\n",
              "      <th>action</th>\n",
              "      <th>animation</th>\n",
              "      <th>drama</th>\n",
              "      <th>crime</th>\n",
              "      <th>sci-fi</th>\n",
              "      <th>children</th>\n",
              "      <th>documentary</th>\n",
              "      <th>mystery</th>\n",
              "      <th>thriller</th>\n",
              "      <th>horror</th>\n",
              "      <th>fantasy</th>\n",
              "      <th>western</th>\n",
              "      <th>film-noir</th>\n",
              "      <th>romance</th>\n",
              "      <th>war</th>\n",
              "      <th>musical</th>\n",
              "    </tr>\n",
              "  </thead>\n",
              "  <tbody>\n",
              "    <tr>\n",
              "      <th>0</th>\n",
              "      <td>1</td>\n",
              "      <td>1</td>\n",
              "      <td>0</td>\n",
              "      <td>1</td>\n",
              "      <td>0</td>\n",
              "      <td>0</td>\n",
              "      <td>0</td>\n",
              "      <td>1</td>\n",
              "      <td>0</td>\n",
              "      <td>0</td>\n",
              "      <td>0</td>\n",
              "      <td>0</td>\n",
              "      <td>1</td>\n",
              "      <td>0</td>\n",
              "      <td>0</td>\n",
              "      <td>0</td>\n",
              "      <td>0</td>\n",
              "      <td>0</td>\n",
              "    </tr>\n",
              "    <tr>\n",
              "      <th>1</th>\n",
              "      <td>1</td>\n",
              "      <td>0</td>\n",
              "      <td>0</td>\n",
              "      <td>0</td>\n",
              "      <td>0</td>\n",
              "      <td>0</td>\n",
              "      <td>0</td>\n",
              "      <td>1</td>\n",
              "      <td>0</td>\n",
              "      <td>0</td>\n",
              "      <td>0</td>\n",
              "      <td>0</td>\n",
              "      <td>1</td>\n",
              "      <td>0</td>\n",
              "      <td>0</td>\n",
              "      <td>0</td>\n",
              "      <td>0</td>\n",
              "      <td>0</td>\n",
              "    </tr>\n",
              "    <tr>\n",
              "      <th>2</th>\n",
              "      <td>0</td>\n",
              "      <td>1</td>\n",
              "      <td>0</td>\n",
              "      <td>0</td>\n",
              "      <td>0</td>\n",
              "      <td>0</td>\n",
              "      <td>0</td>\n",
              "      <td>0</td>\n",
              "      <td>0</td>\n",
              "      <td>0</td>\n",
              "      <td>0</td>\n",
              "      <td>0</td>\n",
              "      <td>0</td>\n",
              "      <td>0</td>\n",
              "      <td>0</td>\n",
              "      <td>1</td>\n",
              "      <td>0</td>\n",
              "      <td>0</td>\n",
              "    </tr>\n",
              "    <tr>\n",
              "      <th>3</th>\n",
              "      <td>0</td>\n",
              "      <td>1</td>\n",
              "      <td>0</td>\n",
              "      <td>0</td>\n",
              "      <td>1</td>\n",
              "      <td>0</td>\n",
              "      <td>0</td>\n",
              "      <td>0</td>\n",
              "      <td>0</td>\n",
              "      <td>0</td>\n",
              "      <td>0</td>\n",
              "      <td>0</td>\n",
              "      <td>0</td>\n",
              "      <td>0</td>\n",
              "      <td>0</td>\n",
              "      <td>1</td>\n",
              "      <td>0</td>\n",
              "      <td>0</td>\n",
              "    </tr>\n",
              "    <tr>\n",
              "      <th>4</th>\n",
              "      <td>0</td>\n",
              "      <td>1</td>\n",
              "      <td>0</td>\n",
              "      <td>0</td>\n",
              "      <td>0</td>\n",
              "      <td>0</td>\n",
              "      <td>0</td>\n",
              "      <td>0</td>\n",
              "      <td>0</td>\n",
              "      <td>0</td>\n",
              "      <td>0</td>\n",
              "      <td>0</td>\n",
              "      <td>0</td>\n",
              "      <td>0</td>\n",
              "      <td>0</td>\n",
              "      <td>0</td>\n",
              "      <td>0</td>\n",
              "      <td>0</td>\n",
              "    </tr>\n",
              "  </tbody>\n",
              "</table>\n",
              "</div>"
            ],
            "text/plain": [
              "   adventure  comedy  action  animation  ...  film-noir  romance  war  musical\n",
              "0          1       1       0          1  ...          0        0    0        0\n",
              "1          1       0       0          0  ...          0        0    0        0\n",
              "2          0       1       0          0  ...          0        1    0        0\n",
              "3          0       1       0          0  ...          0        1    0        0\n",
              "4          0       1       0          0  ...          0        0    0        0\n",
              "\n",
              "[5 rows x 18 columns]"
            ]
          },
          "metadata": {
            "tags": []
          },
          "execution_count": 21
        }
      ]
    },
    {
      "cell_type": "code",
      "metadata": {
        "id": "L9GUSN2jJ-9L",
        "colab": {
          "base_uri": "https://localhost:8080/",
          "height": 394
        },
        "outputId": "73d8570f-588a-425b-8560-a9cf1df5ba81"
      },
      "source": [
        "df_filmes_cat = pd.merge(df_filmes, df_filmes_cat_exp, how='left', left_index=True, right_index=True)\n",
        "df_filmes_cat.head()"
      ],
      "execution_count": 22,
      "outputs": [
        {
          "output_type": "execute_result",
          "data": {
            "text/html": [
              "<div>\n",
              "<style scoped>\n",
              "    .dataframe tbody tr th:only-of-type {\n",
              "        vertical-align: middle;\n",
              "    }\n",
              "\n",
              "    .dataframe tbody tr th {\n",
              "        vertical-align: top;\n",
              "    }\n",
              "\n",
              "    .dataframe thead th {\n",
              "        text-align: right;\n",
              "    }\n",
              "</style>\n",
              "<table border=\"1\" class=\"dataframe\">\n",
              "  <thead>\n",
              "    <tr style=\"text-align: right;\">\n",
              "      <th></th>\n",
              "      <th>id_filmes</th>\n",
              "      <th>nomes</th>\n",
              "      <th>categorias</th>\n",
              "      <th>adventure</th>\n",
              "      <th>comedy</th>\n",
              "      <th>action</th>\n",
              "      <th>animation</th>\n",
              "      <th>drama</th>\n",
              "      <th>crime</th>\n",
              "      <th>sci-fi</th>\n",
              "      <th>children</th>\n",
              "      <th>documentary</th>\n",
              "      <th>mystery</th>\n",
              "      <th>thriller</th>\n",
              "      <th>horror</th>\n",
              "      <th>fantasy</th>\n",
              "      <th>western</th>\n",
              "      <th>film-noir</th>\n",
              "      <th>romance</th>\n",
              "      <th>war</th>\n",
              "      <th>musical</th>\n",
              "    </tr>\n",
              "  </thead>\n",
              "  <tbody>\n",
              "    <tr>\n",
              "      <th>0</th>\n",
              "      <td>1</td>\n",
              "      <td>Toy Story (1995)</td>\n",
              "      <td>Adventure|Animation|Children|Comedy|Fantasy</td>\n",
              "      <td>1</td>\n",
              "      <td>1</td>\n",
              "      <td>0</td>\n",
              "      <td>1</td>\n",
              "      <td>0</td>\n",
              "      <td>0</td>\n",
              "      <td>0</td>\n",
              "      <td>1</td>\n",
              "      <td>0</td>\n",
              "      <td>0</td>\n",
              "      <td>0</td>\n",
              "      <td>0</td>\n",
              "      <td>1</td>\n",
              "      <td>0</td>\n",
              "      <td>0</td>\n",
              "      <td>0</td>\n",
              "      <td>0</td>\n",
              "      <td>0</td>\n",
              "    </tr>\n",
              "    <tr>\n",
              "      <th>1</th>\n",
              "      <td>2</td>\n",
              "      <td>Jumanji (1995)</td>\n",
              "      <td>Adventure|Children|Fantasy</td>\n",
              "      <td>1</td>\n",
              "      <td>0</td>\n",
              "      <td>0</td>\n",
              "      <td>0</td>\n",
              "      <td>0</td>\n",
              "      <td>0</td>\n",
              "      <td>0</td>\n",
              "      <td>1</td>\n",
              "      <td>0</td>\n",
              "      <td>0</td>\n",
              "      <td>0</td>\n",
              "      <td>0</td>\n",
              "      <td>1</td>\n",
              "      <td>0</td>\n",
              "      <td>0</td>\n",
              "      <td>0</td>\n",
              "      <td>0</td>\n",
              "      <td>0</td>\n",
              "    </tr>\n",
              "    <tr>\n",
              "      <th>2</th>\n",
              "      <td>3</td>\n",
              "      <td>Grumpier Old Men (1995)</td>\n",
              "      <td>Comedy|Romance</td>\n",
              "      <td>0</td>\n",
              "      <td>1</td>\n",
              "      <td>0</td>\n",
              "      <td>0</td>\n",
              "      <td>0</td>\n",
              "      <td>0</td>\n",
              "      <td>0</td>\n",
              "      <td>0</td>\n",
              "      <td>0</td>\n",
              "      <td>0</td>\n",
              "      <td>0</td>\n",
              "      <td>0</td>\n",
              "      <td>0</td>\n",
              "      <td>0</td>\n",
              "      <td>0</td>\n",
              "      <td>1</td>\n",
              "      <td>0</td>\n",
              "      <td>0</td>\n",
              "    </tr>\n",
              "    <tr>\n",
              "      <th>3</th>\n",
              "      <td>4</td>\n",
              "      <td>Waiting to Exhale (1995)</td>\n",
              "      <td>Comedy|Drama|Romance</td>\n",
              "      <td>0</td>\n",
              "      <td>1</td>\n",
              "      <td>0</td>\n",
              "      <td>0</td>\n",
              "      <td>1</td>\n",
              "      <td>0</td>\n",
              "      <td>0</td>\n",
              "      <td>0</td>\n",
              "      <td>0</td>\n",
              "      <td>0</td>\n",
              "      <td>0</td>\n",
              "      <td>0</td>\n",
              "      <td>0</td>\n",
              "      <td>0</td>\n",
              "      <td>0</td>\n",
              "      <td>1</td>\n",
              "      <td>0</td>\n",
              "      <td>0</td>\n",
              "    </tr>\n",
              "    <tr>\n",
              "      <th>4</th>\n",
              "      <td>5</td>\n",
              "      <td>Father of the Bride Part II (1995)</td>\n",
              "      <td>Comedy</td>\n",
              "      <td>0</td>\n",
              "      <td>1</td>\n",
              "      <td>0</td>\n",
              "      <td>0</td>\n",
              "      <td>0</td>\n",
              "      <td>0</td>\n",
              "      <td>0</td>\n",
              "      <td>0</td>\n",
              "      <td>0</td>\n",
              "      <td>0</td>\n",
              "      <td>0</td>\n",
              "      <td>0</td>\n",
              "      <td>0</td>\n",
              "      <td>0</td>\n",
              "      <td>0</td>\n",
              "      <td>0</td>\n",
              "      <td>0</td>\n",
              "      <td>0</td>\n",
              "    </tr>\n",
              "  </tbody>\n",
              "</table>\n",
              "</div>"
            ],
            "text/plain": [
              "   id_filmes                               nomes  ... war  musical\n",
              "0          1                    Toy Story (1995)  ...   0        0\n",
              "1          2                      Jumanji (1995)  ...   0        0\n",
              "2          3             Grumpier Old Men (1995)  ...   0        0\n",
              "3          4            Waiting to Exhale (1995)  ...   0        0\n",
              "4          5  Father of the Bride Part II (1995)  ...   0        0\n",
              "\n",
              "[5 rows x 21 columns]"
            ]
          },
          "metadata": {
            "tags": []
          },
          "execution_count": 22
        }
      ]
    },
    {
      "cell_type": "code",
      "metadata": {
        "id": "tKqzcWeTKhtc",
        "colab": {
          "base_uri": "https://localhost:8080/",
          "height": 343
        },
        "outputId": "4980c4ff-c312-419c-efbb-dfafddf7638f"
      },
      "source": [
        "df_cat_exp = pd.merge(df_rate, df_filmes_cat, how='left', on='id_filmes')\n",
        "df_cat_exp.head(5)"
      ],
      "execution_count": 23,
      "outputs": [
        {
          "output_type": "execute_result",
          "data": {
            "text/html": [
              "<div>\n",
              "<style scoped>\n",
              "    .dataframe tbody tr th:only-of-type {\n",
              "        vertical-align: middle;\n",
              "    }\n",
              "\n",
              "    .dataframe tbody tr th {\n",
              "        vertical-align: top;\n",
              "    }\n",
              "\n",
              "    .dataframe thead th {\n",
              "        text-align: right;\n",
              "    }\n",
              "</style>\n",
              "<table border=\"1\" class=\"dataframe\">\n",
              "  <thead>\n",
              "    <tr style=\"text-align: right;\">\n",
              "      <th></th>\n",
              "      <th>id_usuario</th>\n",
              "      <th>id_filmes</th>\n",
              "      <th>nota</th>\n",
              "      <th>timestamp</th>\n",
              "      <th>nomes</th>\n",
              "      <th>categorias</th>\n",
              "      <th>adventure</th>\n",
              "      <th>comedy</th>\n",
              "      <th>action</th>\n",
              "      <th>animation</th>\n",
              "      <th>drama</th>\n",
              "      <th>crime</th>\n",
              "      <th>sci-fi</th>\n",
              "      <th>children</th>\n",
              "      <th>documentary</th>\n",
              "      <th>mystery</th>\n",
              "      <th>thriller</th>\n",
              "      <th>horror</th>\n",
              "      <th>fantasy</th>\n",
              "      <th>western</th>\n",
              "      <th>film-noir</th>\n",
              "      <th>romance</th>\n",
              "      <th>war</th>\n",
              "      <th>musical</th>\n",
              "    </tr>\n",
              "  </thead>\n",
              "  <tbody>\n",
              "    <tr>\n",
              "      <th>0</th>\n",
              "      <td>1</td>\n",
              "      <td>122</td>\n",
              "      <td>5.0</td>\n",
              "      <td>838985046</td>\n",
              "      <td>Boomerang (1992)</td>\n",
              "      <td>Comedy|Romance</td>\n",
              "      <td>0</td>\n",
              "      <td>1</td>\n",
              "      <td>0</td>\n",
              "      <td>0</td>\n",
              "      <td>0</td>\n",
              "      <td>0</td>\n",
              "      <td>0</td>\n",
              "      <td>0</td>\n",
              "      <td>0</td>\n",
              "      <td>0</td>\n",
              "      <td>0</td>\n",
              "      <td>0</td>\n",
              "      <td>0</td>\n",
              "      <td>0</td>\n",
              "      <td>0</td>\n",
              "      <td>1</td>\n",
              "      <td>0</td>\n",
              "      <td>0</td>\n",
              "    </tr>\n",
              "    <tr>\n",
              "      <th>1</th>\n",
              "      <td>1</td>\n",
              "      <td>185</td>\n",
              "      <td>5.0</td>\n",
              "      <td>838983525</td>\n",
              "      <td>Net, The (1995)</td>\n",
              "      <td>Action|Crime|Thriller</td>\n",
              "      <td>0</td>\n",
              "      <td>0</td>\n",
              "      <td>1</td>\n",
              "      <td>0</td>\n",
              "      <td>0</td>\n",
              "      <td>1</td>\n",
              "      <td>0</td>\n",
              "      <td>0</td>\n",
              "      <td>0</td>\n",
              "      <td>0</td>\n",
              "      <td>1</td>\n",
              "      <td>0</td>\n",
              "      <td>0</td>\n",
              "      <td>0</td>\n",
              "      <td>0</td>\n",
              "      <td>0</td>\n",
              "      <td>0</td>\n",
              "      <td>0</td>\n",
              "    </tr>\n",
              "    <tr>\n",
              "      <th>2</th>\n",
              "      <td>1</td>\n",
              "      <td>231</td>\n",
              "      <td>5.0</td>\n",
              "      <td>838983392</td>\n",
              "      <td>Dumb &amp; Dumber (1994)</td>\n",
              "      <td>Comedy</td>\n",
              "      <td>0</td>\n",
              "      <td>1</td>\n",
              "      <td>0</td>\n",
              "      <td>0</td>\n",
              "      <td>0</td>\n",
              "      <td>0</td>\n",
              "      <td>0</td>\n",
              "      <td>0</td>\n",
              "      <td>0</td>\n",
              "      <td>0</td>\n",
              "      <td>0</td>\n",
              "      <td>0</td>\n",
              "      <td>0</td>\n",
              "      <td>0</td>\n",
              "      <td>0</td>\n",
              "      <td>0</td>\n",
              "      <td>0</td>\n",
              "      <td>0</td>\n",
              "    </tr>\n",
              "    <tr>\n",
              "      <th>3</th>\n",
              "      <td>1</td>\n",
              "      <td>292</td>\n",
              "      <td>5.0</td>\n",
              "      <td>838983421</td>\n",
              "      <td>Outbreak (1995)</td>\n",
              "      <td>Action|Drama|Sci-Fi|Thriller</td>\n",
              "      <td>0</td>\n",
              "      <td>0</td>\n",
              "      <td>1</td>\n",
              "      <td>0</td>\n",
              "      <td>1</td>\n",
              "      <td>0</td>\n",
              "      <td>1</td>\n",
              "      <td>0</td>\n",
              "      <td>0</td>\n",
              "      <td>0</td>\n",
              "      <td>1</td>\n",
              "      <td>0</td>\n",
              "      <td>0</td>\n",
              "      <td>0</td>\n",
              "      <td>0</td>\n",
              "      <td>0</td>\n",
              "      <td>0</td>\n",
              "      <td>0</td>\n",
              "    </tr>\n",
              "    <tr>\n",
              "      <th>4</th>\n",
              "      <td>1</td>\n",
              "      <td>316</td>\n",
              "      <td>5.0</td>\n",
              "      <td>838983392</td>\n",
              "      <td>Stargate (1994)</td>\n",
              "      <td>Action|Adventure|Sci-Fi</td>\n",
              "      <td>1</td>\n",
              "      <td>0</td>\n",
              "      <td>1</td>\n",
              "      <td>0</td>\n",
              "      <td>0</td>\n",
              "      <td>0</td>\n",
              "      <td>1</td>\n",
              "      <td>0</td>\n",
              "      <td>0</td>\n",
              "      <td>0</td>\n",
              "      <td>0</td>\n",
              "      <td>0</td>\n",
              "      <td>0</td>\n",
              "      <td>0</td>\n",
              "      <td>0</td>\n",
              "      <td>0</td>\n",
              "      <td>0</td>\n",
              "      <td>0</td>\n",
              "    </tr>\n",
              "  </tbody>\n",
              "</table>\n",
              "</div>"
            ],
            "text/plain": [
              "   id_usuario  id_filmes  nota  timestamp  ... film-noir romance  war  musical\n",
              "0           1        122   5.0  838985046  ...         0       1    0        0\n",
              "1           1        185   5.0  838983525  ...         0       0    0        0\n",
              "2           1        231   5.0  838983392  ...         0       0    0        0\n",
              "3           1        292   5.0  838983421  ...         0       0    0        0\n",
              "4           1        316   5.0  838983392  ...         0       0    0        0\n",
              "\n",
              "[5 rows x 24 columns]"
            ]
          },
          "metadata": {
            "tags": []
          },
          "execution_count": 23
        }
      ]
    },
    {
      "cell_type": "markdown",
      "metadata": {
        "id": "ay7A_zlmfi6i"
      },
      "source": [
        "## Modelagem"
      ]
    },
    {
      "cell_type": "markdown",
      "metadata": {
        "id": "JGqSXhT4hwd_"
      },
      "source": [
        "### Alternativa 1: Somatório (NÃO usaremos)"
      ]
    },
    {
      "cell_type": "code",
      "metadata": {
        "colab": {
          "base_uri": "https://localhost:8080/",
          "height": 272
        },
        "id": "__VsyB4gfY8m",
        "outputId": "9239a593-7c86-473c-aa55-339b6d81db96"
      },
      "source": [
        "df_cat_exp.groupby(by='id_usuario').sum().head()"
      ],
      "execution_count": 24,
      "outputs": [
        {
          "output_type": "execute_result",
          "data": {
            "text/html": [
              "<div>\n",
              "<style scoped>\n",
              "    .dataframe tbody tr th:only-of-type {\n",
              "        vertical-align: middle;\n",
              "    }\n",
              "\n",
              "    .dataframe tbody tr th {\n",
              "        vertical-align: top;\n",
              "    }\n",
              "\n",
              "    .dataframe thead th {\n",
              "        text-align: right;\n",
              "    }\n",
              "</style>\n",
              "<table border=\"1\" class=\"dataframe\">\n",
              "  <thead>\n",
              "    <tr style=\"text-align: right;\">\n",
              "      <th></th>\n",
              "      <th>id_filmes</th>\n",
              "      <th>nota</th>\n",
              "      <th>timestamp</th>\n",
              "      <th>adventure</th>\n",
              "      <th>comedy</th>\n",
              "      <th>action</th>\n",
              "      <th>animation</th>\n",
              "      <th>drama</th>\n",
              "      <th>crime</th>\n",
              "      <th>sci-fi</th>\n",
              "      <th>children</th>\n",
              "      <th>documentary</th>\n",
              "      <th>mystery</th>\n",
              "      <th>thriller</th>\n",
              "      <th>horror</th>\n",
              "      <th>fantasy</th>\n",
              "      <th>western</th>\n",
              "      <th>film-noir</th>\n",
              "      <th>romance</th>\n",
              "      <th>war</th>\n",
              "      <th>musical</th>\n",
              "    </tr>\n",
              "    <tr>\n",
              "      <th>id_usuario</th>\n",
              "      <th></th>\n",
              "      <th></th>\n",
              "      <th></th>\n",
              "      <th></th>\n",
              "      <th></th>\n",
              "      <th></th>\n",
              "      <th></th>\n",
              "      <th></th>\n",
              "      <th></th>\n",
              "      <th></th>\n",
              "      <th></th>\n",
              "      <th></th>\n",
              "      <th></th>\n",
              "      <th></th>\n",
              "      <th></th>\n",
              "      <th></th>\n",
              "      <th></th>\n",
              "      <th></th>\n",
              "      <th></th>\n",
              "      <th></th>\n",
              "      <th></th>\n",
              "    </tr>\n",
              "  </thead>\n",
              "  <tbody>\n",
              "    <tr>\n",
              "      <th>1</th>\n",
              "      <td>9057</td>\n",
              "      <td>110.0</td>\n",
              "      <td>18457649035</td>\n",
              "      <td>6</td>\n",
              "      <td>11</td>\n",
              "      <td>10</td>\n",
              "      <td>4</td>\n",
              "      <td>6</td>\n",
              "      <td>2</td>\n",
              "      <td>5</td>\n",
              "      <td>7</td>\n",
              "      <td>0</td>\n",
              "      <td>0</td>\n",
              "      <td>5</td>\n",
              "      <td>0</td>\n",
              "      <td>2</td>\n",
              "      <td>0</td>\n",
              "      <td>0</td>\n",
              "      <td>5</td>\n",
              "      <td>2</td>\n",
              "      <td>3</td>\n",
              "    </tr>\n",
              "    <tr>\n",
              "      <th>2</th>\n",
              "      <td>15711</td>\n",
              "      <td>64.0</td>\n",
              "      <td>17364906892</td>\n",
              "      <td>10</td>\n",
              "      <td>4</td>\n",
              "      <td>14</td>\n",
              "      <td>0</td>\n",
              "      <td>7</td>\n",
              "      <td>1</td>\n",
              "      <td>6</td>\n",
              "      <td>1</td>\n",
              "      <td>0</td>\n",
              "      <td>1</td>\n",
              "      <td>7</td>\n",
              "      <td>1</td>\n",
              "      <td>1</td>\n",
              "      <td>1</td>\n",
              "      <td>0</td>\n",
              "      <td>4</td>\n",
              "      <td>3</td>\n",
              "      <td>1</td>\n",
              "    </tr>\n",
              "    <tr>\n",
              "      <th>3</th>\n",
              "      <td>179578</td>\n",
              "      <td>130.0</td>\n",
              "      <td>37626818010</td>\n",
              "      <td>6</td>\n",
              "      <td>11</td>\n",
              "      <td>7</td>\n",
              "      <td>2</td>\n",
              "      <td>20</td>\n",
              "      <td>3</td>\n",
              "      <td>0</td>\n",
              "      <td>2</td>\n",
              "      <td>0</td>\n",
              "      <td>4</td>\n",
              "      <td>6</td>\n",
              "      <td>0</td>\n",
              "      <td>3</td>\n",
              "      <td>3</td>\n",
              "      <td>1</td>\n",
              "      <td>12</td>\n",
              "      <td>6</td>\n",
              "      <td>1</td>\n",
              "    </tr>\n",
              "    <tr>\n",
              "      <th>4</th>\n",
              "      <td>13501</td>\n",
              "      <td>153.0</td>\n",
              "      <td>32087840561</td>\n",
              "      <td>13</td>\n",
              "      <td>19</td>\n",
              "      <td>17</td>\n",
              "      <td>3</td>\n",
              "      <td>14</td>\n",
              "      <td>5</td>\n",
              "      <td>8</td>\n",
              "      <td>5</td>\n",
              "      <td>0</td>\n",
              "      <td>0</td>\n",
              "      <td>11</td>\n",
              "      <td>1</td>\n",
              "      <td>5</td>\n",
              "      <td>3</td>\n",
              "      <td>0</td>\n",
              "      <td>8</td>\n",
              "      <td>3</td>\n",
              "      <td>3</td>\n",
              "    </tr>\n",
              "    <tr>\n",
              "      <th>5</th>\n",
              "      <td>56883</td>\n",
              "      <td>335.0</td>\n",
              "      <td>74638384961</td>\n",
              "      <td>8</td>\n",
              "      <td>29</td>\n",
              "      <td>5</td>\n",
              "      <td>1</td>\n",
              "      <td>64</td>\n",
              "      <td>11</td>\n",
              "      <td>8</td>\n",
              "      <td>4</td>\n",
              "      <td>0</td>\n",
              "      <td>4</td>\n",
              "      <td>14</td>\n",
              "      <td>6</td>\n",
              "      <td>4</td>\n",
              "      <td>0</td>\n",
              "      <td>1</td>\n",
              "      <td>26</td>\n",
              "      <td>6</td>\n",
              "      <td>4</td>\n",
              "    </tr>\n",
              "  </tbody>\n",
              "</table>\n",
              "</div>"
            ],
            "text/plain": [
              "            id_filmes   nota    timestamp  ...  romance  war  musical\n",
              "id_usuario                                 ...                       \n",
              "1                9057  110.0  18457649035  ...        5    2        3\n",
              "2               15711   64.0  17364906892  ...        4    3        1\n",
              "3              179578  130.0  37626818010  ...       12    6        1\n",
              "4               13501  153.0  32087840561  ...        8    3        3\n",
              "5               56883  335.0  74638384961  ...       26    6        4\n",
              "\n",
              "[5 rows x 21 columns]"
            ]
          },
          "metadata": {
            "tags": []
          },
          "execution_count": 24
        }
      ]
    },
    {
      "cell_type": "markdown",
      "metadata": {
        "id": "pMEyIuRHipx6"
      },
      "source": [
        "### Alternativa 2: Média (NÃO usaremos)"
      ]
    },
    {
      "cell_type": "code",
      "metadata": {
        "colab": {
          "base_uri": "https://localhost:8080/",
          "height": 272
        },
        "id": "Oryx-Jq7h_8o",
        "outputId": "0567dd52-137a-454f-fdff-1801dce0b8b5"
      },
      "source": [
        "df_mean = df_cat_exp.groupby(by='id_usuario').mean()\n",
        "df_mean.head(5)"
      ],
      "execution_count": 25,
      "outputs": [
        {
          "output_type": "execute_result",
          "data": {
            "text/html": [
              "<div>\n",
              "<style scoped>\n",
              "    .dataframe tbody tr th:only-of-type {\n",
              "        vertical-align: middle;\n",
              "    }\n",
              "\n",
              "    .dataframe tbody tr th {\n",
              "        vertical-align: top;\n",
              "    }\n",
              "\n",
              "    .dataframe thead th {\n",
              "        text-align: right;\n",
              "    }\n",
              "</style>\n",
              "<table border=\"1\" class=\"dataframe\">\n",
              "  <thead>\n",
              "    <tr style=\"text-align: right;\">\n",
              "      <th></th>\n",
              "      <th>id_filmes</th>\n",
              "      <th>nota</th>\n",
              "      <th>timestamp</th>\n",
              "      <th>adventure</th>\n",
              "      <th>comedy</th>\n",
              "      <th>action</th>\n",
              "      <th>animation</th>\n",
              "      <th>drama</th>\n",
              "      <th>crime</th>\n",
              "      <th>sci-fi</th>\n",
              "      <th>children</th>\n",
              "      <th>documentary</th>\n",
              "      <th>mystery</th>\n",
              "      <th>thriller</th>\n",
              "      <th>horror</th>\n",
              "      <th>fantasy</th>\n",
              "      <th>western</th>\n",
              "      <th>film-noir</th>\n",
              "      <th>romance</th>\n",
              "      <th>war</th>\n",
              "      <th>musical</th>\n",
              "    </tr>\n",
              "    <tr>\n",
              "      <th>id_usuario</th>\n",
              "      <th></th>\n",
              "      <th></th>\n",
              "      <th></th>\n",
              "      <th></th>\n",
              "      <th></th>\n",
              "      <th></th>\n",
              "      <th></th>\n",
              "      <th></th>\n",
              "      <th></th>\n",
              "      <th></th>\n",
              "      <th></th>\n",
              "      <th></th>\n",
              "      <th></th>\n",
              "      <th></th>\n",
              "      <th></th>\n",
              "      <th></th>\n",
              "      <th></th>\n",
              "      <th></th>\n",
              "      <th></th>\n",
              "      <th></th>\n",
              "      <th></th>\n",
              "    </tr>\n",
              "  </thead>\n",
              "  <tbody>\n",
              "    <tr>\n",
              "      <th>1</th>\n",
              "      <td>411.681818</td>\n",
              "      <td>5.000000</td>\n",
              "      <td>8.389840e+08</td>\n",
              "      <td>0.272727</td>\n",
              "      <td>0.500000</td>\n",
              "      <td>0.454545</td>\n",
              "      <td>0.181818</td>\n",
              "      <td>0.272727</td>\n",
              "      <td>0.090909</td>\n",
              "      <td>0.227273</td>\n",
              "      <td>0.318182</td>\n",
              "      <td>0.0</td>\n",
              "      <td>0.000000</td>\n",
              "      <td>0.227273</td>\n",
              "      <td>0.000000</td>\n",
              "      <td>0.090909</td>\n",
              "      <td>0.000000</td>\n",
              "      <td>0.000000</td>\n",
              "      <td>0.227273</td>\n",
              "      <td>0.090909</td>\n",
              "      <td>0.136364</td>\n",
              "    </tr>\n",
              "    <tr>\n",
              "      <th>2</th>\n",
              "      <td>785.550000</td>\n",
              "      <td>3.200000</td>\n",
              "      <td>8.682453e+08</td>\n",
              "      <td>0.500000</td>\n",
              "      <td>0.200000</td>\n",
              "      <td>0.700000</td>\n",
              "      <td>0.000000</td>\n",
              "      <td>0.350000</td>\n",
              "      <td>0.050000</td>\n",
              "      <td>0.300000</td>\n",
              "      <td>0.050000</td>\n",
              "      <td>0.0</td>\n",
              "      <td>0.050000</td>\n",
              "      <td>0.350000</td>\n",
              "      <td>0.050000</td>\n",
              "      <td>0.050000</td>\n",
              "      <td>0.050000</td>\n",
              "      <td>0.000000</td>\n",
              "      <td>0.200000</td>\n",
              "      <td>0.150000</td>\n",
              "      <td>0.050000</td>\n",
              "    </tr>\n",
              "    <tr>\n",
              "      <th>3</th>\n",
              "      <td>5441.757576</td>\n",
              "      <td>3.939394</td>\n",
              "      <td>1.140207e+09</td>\n",
              "      <td>0.181818</td>\n",
              "      <td>0.333333</td>\n",
              "      <td>0.212121</td>\n",
              "      <td>0.060606</td>\n",
              "      <td>0.606061</td>\n",
              "      <td>0.090909</td>\n",
              "      <td>0.000000</td>\n",
              "      <td>0.060606</td>\n",
              "      <td>0.0</td>\n",
              "      <td>0.121212</td>\n",
              "      <td>0.181818</td>\n",
              "      <td>0.000000</td>\n",
              "      <td>0.090909</td>\n",
              "      <td>0.090909</td>\n",
              "      <td>0.030303</td>\n",
              "      <td>0.363636</td>\n",
              "      <td>0.181818</td>\n",
              "      <td>0.030303</td>\n",
              "    </tr>\n",
              "    <tr>\n",
              "      <th>4</th>\n",
              "      <td>355.289474</td>\n",
              "      <td>4.026316</td>\n",
              "      <td>8.444169e+08</td>\n",
              "      <td>0.342105</td>\n",
              "      <td>0.500000</td>\n",
              "      <td>0.447368</td>\n",
              "      <td>0.078947</td>\n",
              "      <td>0.368421</td>\n",
              "      <td>0.131579</td>\n",
              "      <td>0.210526</td>\n",
              "      <td>0.131579</td>\n",
              "      <td>0.0</td>\n",
              "      <td>0.000000</td>\n",
              "      <td>0.289474</td>\n",
              "      <td>0.026316</td>\n",
              "      <td>0.131579</td>\n",
              "      <td>0.078947</td>\n",
              "      <td>0.000000</td>\n",
              "      <td>0.210526</td>\n",
              "      <td>0.078947</td>\n",
              "      <td>0.078947</td>\n",
              "    </tr>\n",
              "    <tr>\n",
              "      <th>5</th>\n",
              "      <td>653.827586</td>\n",
              "      <td>3.850575</td>\n",
              "      <td>8.579125e+08</td>\n",
              "      <td>0.091954</td>\n",
              "      <td>0.333333</td>\n",
              "      <td>0.057471</td>\n",
              "      <td>0.011494</td>\n",
              "      <td>0.735632</td>\n",
              "      <td>0.126437</td>\n",
              "      <td>0.091954</td>\n",
              "      <td>0.045977</td>\n",
              "      <td>0.0</td>\n",
              "      <td>0.045977</td>\n",
              "      <td>0.160920</td>\n",
              "      <td>0.068966</td>\n",
              "      <td>0.045977</td>\n",
              "      <td>0.000000</td>\n",
              "      <td>0.011494</td>\n",
              "      <td>0.298851</td>\n",
              "      <td>0.068966</td>\n",
              "      <td>0.045977</td>\n",
              "    </tr>\n",
              "  </tbody>\n",
              "</table>\n",
              "</div>"
            ],
            "text/plain": [
              "              id_filmes      nota     timestamp  ...   romance       war   musical\n",
              "id_usuario                                       ...                              \n",
              "1            411.681818  5.000000  8.389840e+08  ...  0.227273  0.090909  0.136364\n",
              "2            785.550000  3.200000  8.682453e+08  ...  0.200000  0.150000  0.050000\n",
              "3           5441.757576  3.939394  1.140207e+09  ...  0.363636  0.181818  0.030303\n",
              "4            355.289474  4.026316  8.444169e+08  ...  0.210526  0.078947  0.078947\n",
              "5            653.827586  3.850575  8.579125e+08  ...  0.298851  0.068966  0.045977\n",
              "\n",
              "[5 rows x 21 columns]"
            ]
          },
          "metadata": {
            "tags": []
          },
          "execution_count": 25
        }
      ]
    },
    {
      "cell_type": "markdown",
      "metadata": {
        "id": "Yp6zD3OEmLvL"
      },
      "source": [
        "### Alternativa 3: (Avaliação * Categorias).mean "
      ]
    },
    {
      "cell_type": "code",
      "metadata": {
        "colab": {
          "base_uri": "https://localhost:8080/",
          "height": 182
        },
        "id": "gxEwfkUvmLvM",
        "outputId": "2fa966a0-3320-4345-fcfb-466fa5160f00"
      },
      "source": [
        "df_cat_exp.head(2)"
      ],
      "execution_count": 26,
      "outputs": [
        {
          "output_type": "execute_result",
          "data": {
            "text/html": [
              "<div>\n",
              "<style scoped>\n",
              "    .dataframe tbody tr th:only-of-type {\n",
              "        vertical-align: middle;\n",
              "    }\n",
              "\n",
              "    .dataframe tbody tr th {\n",
              "        vertical-align: top;\n",
              "    }\n",
              "\n",
              "    .dataframe thead th {\n",
              "        text-align: right;\n",
              "    }\n",
              "</style>\n",
              "<table border=\"1\" class=\"dataframe\">\n",
              "  <thead>\n",
              "    <tr style=\"text-align: right;\">\n",
              "      <th></th>\n",
              "      <th>id_usuario</th>\n",
              "      <th>id_filmes</th>\n",
              "      <th>nota</th>\n",
              "      <th>timestamp</th>\n",
              "      <th>nomes</th>\n",
              "      <th>categorias</th>\n",
              "      <th>adventure</th>\n",
              "      <th>comedy</th>\n",
              "      <th>action</th>\n",
              "      <th>animation</th>\n",
              "      <th>drama</th>\n",
              "      <th>crime</th>\n",
              "      <th>sci-fi</th>\n",
              "      <th>children</th>\n",
              "      <th>documentary</th>\n",
              "      <th>mystery</th>\n",
              "      <th>thriller</th>\n",
              "      <th>horror</th>\n",
              "      <th>fantasy</th>\n",
              "      <th>western</th>\n",
              "      <th>film-noir</th>\n",
              "      <th>romance</th>\n",
              "      <th>war</th>\n",
              "      <th>musical</th>\n",
              "    </tr>\n",
              "  </thead>\n",
              "  <tbody>\n",
              "    <tr>\n",
              "      <th>0</th>\n",
              "      <td>1</td>\n",
              "      <td>122</td>\n",
              "      <td>5.0</td>\n",
              "      <td>838985046</td>\n",
              "      <td>Boomerang (1992)</td>\n",
              "      <td>Comedy|Romance</td>\n",
              "      <td>0</td>\n",
              "      <td>1</td>\n",
              "      <td>0</td>\n",
              "      <td>0</td>\n",
              "      <td>0</td>\n",
              "      <td>0</td>\n",
              "      <td>0</td>\n",
              "      <td>0</td>\n",
              "      <td>0</td>\n",
              "      <td>0</td>\n",
              "      <td>0</td>\n",
              "      <td>0</td>\n",
              "      <td>0</td>\n",
              "      <td>0</td>\n",
              "      <td>0</td>\n",
              "      <td>1</td>\n",
              "      <td>0</td>\n",
              "      <td>0</td>\n",
              "    </tr>\n",
              "    <tr>\n",
              "      <th>1</th>\n",
              "      <td>1</td>\n",
              "      <td>185</td>\n",
              "      <td>5.0</td>\n",
              "      <td>838983525</td>\n",
              "      <td>Net, The (1995)</td>\n",
              "      <td>Action|Crime|Thriller</td>\n",
              "      <td>0</td>\n",
              "      <td>0</td>\n",
              "      <td>1</td>\n",
              "      <td>0</td>\n",
              "      <td>0</td>\n",
              "      <td>1</td>\n",
              "      <td>0</td>\n",
              "      <td>0</td>\n",
              "      <td>0</td>\n",
              "      <td>0</td>\n",
              "      <td>1</td>\n",
              "      <td>0</td>\n",
              "      <td>0</td>\n",
              "      <td>0</td>\n",
              "      <td>0</td>\n",
              "      <td>0</td>\n",
              "      <td>0</td>\n",
              "      <td>0</td>\n",
              "    </tr>\n",
              "  </tbody>\n",
              "</table>\n",
              "</div>"
            ],
            "text/plain": [
              "   id_usuario  id_filmes  nota  timestamp  ... film-noir romance  war  musical\n",
              "0           1        122   5.0  838985046  ...         0       1    0        0\n",
              "1           1        185   5.0  838983525  ...         0       0    0        0\n",
              "\n",
              "[2 rows x 24 columns]"
            ]
          },
          "metadata": {
            "tags": []
          },
          "execution_count": 26
        }
      ]
    },
    {
      "cell_type": "code",
      "metadata": {
        "colab": {
          "base_uri": "https://localhost:8080/",
          "height": 343
        },
        "id": "4wX49nCBmLvP",
        "outputId": "70934984-b84c-4a10-fcda-9d6ce373d84c"
      },
      "source": [
        "# Multiplicação das categorias pela nota\n",
        "df_cat_exp.iloc[:,6:] = df_cat_exp.iloc[:,6:].multiply(df_cat_exp.nota, axis = 'index')\n",
        "df_cat_exp.head()"
      ],
      "execution_count": 27,
      "outputs": [
        {
          "output_type": "execute_result",
          "data": {
            "text/html": [
              "<div>\n",
              "<style scoped>\n",
              "    .dataframe tbody tr th:only-of-type {\n",
              "        vertical-align: middle;\n",
              "    }\n",
              "\n",
              "    .dataframe tbody tr th {\n",
              "        vertical-align: top;\n",
              "    }\n",
              "\n",
              "    .dataframe thead th {\n",
              "        text-align: right;\n",
              "    }\n",
              "</style>\n",
              "<table border=\"1\" class=\"dataframe\">\n",
              "  <thead>\n",
              "    <tr style=\"text-align: right;\">\n",
              "      <th></th>\n",
              "      <th>id_usuario</th>\n",
              "      <th>id_filmes</th>\n",
              "      <th>nota</th>\n",
              "      <th>timestamp</th>\n",
              "      <th>nomes</th>\n",
              "      <th>categorias</th>\n",
              "      <th>adventure</th>\n",
              "      <th>comedy</th>\n",
              "      <th>action</th>\n",
              "      <th>animation</th>\n",
              "      <th>drama</th>\n",
              "      <th>crime</th>\n",
              "      <th>sci-fi</th>\n",
              "      <th>children</th>\n",
              "      <th>documentary</th>\n",
              "      <th>mystery</th>\n",
              "      <th>thriller</th>\n",
              "      <th>horror</th>\n",
              "      <th>fantasy</th>\n",
              "      <th>western</th>\n",
              "      <th>film-noir</th>\n",
              "      <th>romance</th>\n",
              "      <th>war</th>\n",
              "      <th>musical</th>\n",
              "    </tr>\n",
              "  </thead>\n",
              "  <tbody>\n",
              "    <tr>\n",
              "      <th>0</th>\n",
              "      <td>1</td>\n",
              "      <td>122</td>\n",
              "      <td>5.0</td>\n",
              "      <td>838985046</td>\n",
              "      <td>Boomerang (1992)</td>\n",
              "      <td>Comedy|Romance</td>\n",
              "      <td>0.0</td>\n",
              "      <td>5.0</td>\n",
              "      <td>0.0</td>\n",
              "      <td>0.0</td>\n",
              "      <td>0.0</td>\n",
              "      <td>0.0</td>\n",
              "      <td>0.0</td>\n",
              "      <td>0.0</td>\n",
              "      <td>0.0</td>\n",
              "      <td>0.0</td>\n",
              "      <td>0.0</td>\n",
              "      <td>0.0</td>\n",
              "      <td>0.0</td>\n",
              "      <td>0.0</td>\n",
              "      <td>0.0</td>\n",
              "      <td>5.0</td>\n",
              "      <td>0.0</td>\n",
              "      <td>0.0</td>\n",
              "    </tr>\n",
              "    <tr>\n",
              "      <th>1</th>\n",
              "      <td>1</td>\n",
              "      <td>185</td>\n",
              "      <td>5.0</td>\n",
              "      <td>838983525</td>\n",
              "      <td>Net, The (1995)</td>\n",
              "      <td>Action|Crime|Thriller</td>\n",
              "      <td>0.0</td>\n",
              "      <td>0.0</td>\n",
              "      <td>5.0</td>\n",
              "      <td>0.0</td>\n",
              "      <td>0.0</td>\n",
              "      <td>5.0</td>\n",
              "      <td>0.0</td>\n",
              "      <td>0.0</td>\n",
              "      <td>0.0</td>\n",
              "      <td>0.0</td>\n",
              "      <td>5.0</td>\n",
              "      <td>0.0</td>\n",
              "      <td>0.0</td>\n",
              "      <td>0.0</td>\n",
              "      <td>0.0</td>\n",
              "      <td>0.0</td>\n",
              "      <td>0.0</td>\n",
              "      <td>0.0</td>\n",
              "    </tr>\n",
              "    <tr>\n",
              "      <th>2</th>\n",
              "      <td>1</td>\n",
              "      <td>231</td>\n",
              "      <td>5.0</td>\n",
              "      <td>838983392</td>\n",
              "      <td>Dumb &amp; Dumber (1994)</td>\n",
              "      <td>Comedy</td>\n",
              "      <td>0.0</td>\n",
              "      <td>5.0</td>\n",
              "      <td>0.0</td>\n",
              "      <td>0.0</td>\n",
              "      <td>0.0</td>\n",
              "      <td>0.0</td>\n",
              "      <td>0.0</td>\n",
              "      <td>0.0</td>\n",
              "      <td>0.0</td>\n",
              "      <td>0.0</td>\n",
              "      <td>0.0</td>\n",
              "      <td>0.0</td>\n",
              "      <td>0.0</td>\n",
              "      <td>0.0</td>\n",
              "      <td>0.0</td>\n",
              "      <td>0.0</td>\n",
              "      <td>0.0</td>\n",
              "      <td>0.0</td>\n",
              "    </tr>\n",
              "    <tr>\n",
              "      <th>3</th>\n",
              "      <td>1</td>\n",
              "      <td>292</td>\n",
              "      <td>5.0</td>\n",
              "      <td>838983421</td>\n",
              "      <td>Outbreak (1995)</td>\n",
              "      <td>Action|Drama|Sci-Fi|Thriller</td>\n",
              "      <td>0.0</td>\n",
              "      <td>0.0</td>\n",
              "      <td>5.0</td>\n",
              "      <td>0.0</td>\n",
              "      <td>5.0</td>\n",
              "      <td>0.0</td>\n",
              "      <td>5.0</td>\n",
              "      <td>0.0</td>\n",
              "      <td>0.0</td>\n",
              "      <td>0.0</td>\n",
              "      <td>5.0</td>\n",
              "      <td>0.0</td>\n",
              "      <td>0.0</td>\n",
              "      <td>0.0</td>\n",
              "      <td>0.0</td>\n",
              "      <td>0.0</td>\n",
              "      <td>0.0</td>\n",
              "      <td>0.0</td>\n",
              "    </tr>\n",
              "    <tr>\n",
              "      <th>4</th>\n",
              "      <td>1</td>\n",
              "      <td>316</td>\n",
              "      <td>5.0</td>\n",
              "      <td>838983392</td>\n",
              "      <td>Stargate (1994)</td>\n",
              "      <td>Action|Adventure|Sci-Fi</td>\n",
              "      <td>5.0</td>\n",
              "      <td>0.0</td>\n",
              "      <td>5.0</td>\n",
              "      <td>0.0</td>\n",
              "      <td>0.0</td>\n",
              "      <td>0.0</td>\n",
              "      <td>5.0</td>\n",
              "      <td>0.0</td>\n",
              "      <td>0.0</td>\n",
              "      <td>0.0</td>\n",
              "      <td>0.0</td>\n",
              "      <td>0.0</td>\n",
              "      <td>0.0</td>\n",
              "      <td>0.0</td>\n",
              "      <td>0.0</td>\n",
              "      <td>0.0</td>\n",
              "      <td>0.0</td>\n",
              "      <td>0.0</td>\n",
              "    </tr>\n",
              "  </tbody>\n",
              "</table>\n",
              "</div>"
            ],
            "text/plain": [
              "   id_usuario  id_filmes  nota  timestamp  ... film-noir romance  war  musical\n",
              "0           1        122   5.0  838985046  ...       0.0     5.0  0.0      0.0\n",
              "1           1        185   5.0  838983525  ...       0.0     0.0  0.0      0.0\n",
              "2           1        231   5.0  838983392  ...       0.0     0.0  0.0      0.0\n",
              "3           1        292   5.0  838983421  ...       0.0     0.0  0.0      0.0\n",
              "4           1        316   5.0  838983392  ...       0.0     0.0  0.0      0.0\n",
              "\n",
              "[5 rows x 24 columns]"
            ]
          },
          "metadata": {
            "tags": []
          },
          "execution_count": 27
        }
      ]
    },
    {
      "cell_type": "code",
      "metadata": {
        "colab": {
          "base_uri": "https://localhost:8080/",
          "height": 272
        },
        "id": "KTHSuqRGh_lz",
        "outputId": "3387541d-2079-4e08-df8e-5f3788a7d925"
      },
      "source": [
        "# Agrupando pela média\n",
        "df_mean = df_cat_exp.groupby(by='id_usuario').mean()\n",
        "df_mean.head()"
      ],
      "execution_count": 28,
      "outputs": [
        {
          "output_type": "execute_result",
          "data": {
            "text/html": [
              "<div>\n",
              "<style scoped>\n",
              "    .dataframe tbody tr th:only-of-type {\n",
              "        vertical-align: middle;\n",
              "    }\n",
              "\n",
              "    .dataframe tbody tr th {\n",
              "        vertical-align: top;\n",
              "    }\n",
              "\n",
              "    .dataframe thead th {\n",
              "        text-align: right;\n",
              "    }\n",
              "</style>\n",
              "<table border=\"1\" class=\"dataframe\">\n",
              "  <thead>\n",
              "    <tr style=\"text-align: right;\">\n",
              "      <th></th>\n",
              "      <th>id_filmes</th>\n",
              "      <th>nota</th>\n",
              "      <th>timestamp</th>\n",
              "      <th>adventure</th>\n",
              "      <th>comedy</th>\n",
              "      <th>action</th>\n",
              "      <th>animation</th>\n",
              "      <th>drama</th>\n",
              "      <th>crime</th>\n",
              "      <th>sci-fi</th>\n",
              "      <th>children</th>\n",
              "      <th>documentary</th>\n",
              "      <th>mystery</th>\n",
              "      <th>thriller</th>\n",
              "      <th>horror</th>\n",
              "      <th>fantasy</th>\n",
              "      <th>western</th>\n",
              "      <th>film-noir</th>\n",
              "      <th>romance</th>\n",
              "      <th>war</th>\n",
              "      <th>musical</th>\n",
              "    </tr>\n",
              "    <tr>\n",
              "      <th>id_usuario</th>\n",
              "      <th></th>\n",
              "      <th></th>\n",
              "      <th></th>\n",
              "      <th></th>\n",
              "      <th></th>\n",
              "      <th></th>\n",
              "      <th></th>\n",
              "      <th></th>\n",
              "      <th></th>\n",
              "      <th></th>\n",
              "      <th></th>\n",
              "      <th></th>\n",
              "      <th></th>\n",
              "      <th></th>\n",
              "      <th></th>\n",
              "      <th></th>\n",
              "      <th></th>\n",
              "      <th></th>\n",
              "      <th></th>\n",
              "      <th></th>\n",
              "      <th></th>\n",
              "    </tr>\n",
              "  </thead>\n",
              "  <tbody>\n",
              "    <tr>\n",
              "      <th>1</th>\n",
              "      <td>411.681818</td>\n",
              "      <td>5.000000</td>\n",
              "      <td>8.389840e+08</td>\n",
              "      <td>1.363636</td>\n",
              "      <td>2.500000</td>\n",
              "      <td>2.272727</td>\n",
              "      <td>0.909091</td>\n",
              "      <td>1.363636</td>\n",
              "      <td>0.454545</td>\n",
              "      <td>1.136364</td>\n",
              "      <td>1.590909</td>\n",
              "      <td>0.0</td>\n",
              "      <td>0.000000</td>\n",
              "      <td>1.136364</td>\n",
              "      <td>0.000000</td>\n",
              "      <td>0.454545</td>\n",
              "      <td>0.000000</td>\n",
              "      <td>0.000000</td>\n",
              "      <td>1.136364</td>\n",
              "      <td>0.454545</td>\n",
              "      <td>0.681818</td>\n",
              "    </tr>\n",
              "    <tr>\n",
              "      <th>2</th>\n",
              "      <td>785.550000</td>\n",
              "      <td>3.200000</td>\n",
              "      <td>8.682453e+08</td>\n",
              "      <td>1.700000</td>\n",
              "      <td>0.600000</td>\n",
              "      <td>2.300000</td>\n",
              "      <td>0.000000</td>\n",
              "      <td>1.150000</td>\n",
              "      <td>0.100000</td>\n",
              "      <td>1.050000</td>\n",
              "      <td>0.150000</td>\n",
              "      <td>0.0</td>\n",
              "      <td>0.100000</td>\n",
              "      <td>1.000000</td>\n",
              "      <td>0.150000</td>\n",
              "      <td>0.150000</td>\n",
              "      <td>0.250000</td>\n",
              "      <td>0.000000</td>\n",
              "      <td>0.550000</td>\n",
              "      <td>0.550000</td>\n",
              "      <td>0.150000</td>\n",
              "    </tr>\n",
              "    <tr>\n",
              "      <th>3</th>\n",
              "      <td>5441.757576</td>\n",
              "      <td>3.939394</td>\n",
              "      <td>1.140207e+09</td>\n",
              "      <td>0.666667</td>\n",
              "      <td>1.212121</td>\n",
              "      <td>0.818182</td>\n",
              "      <td>0.242424</td>\n",
              "      <td>2.530303</td>\n",
              "      <td>0.363636</td>\n",
              "      <td>0.000000</td>\n",
              "      <td>0.242424</td>\n",
              "      <td>0.0</td>\n",
              "      <td>0.545455</td>\n",
              "      <td>0.742424</td>\n",
              "      <td>0.000000</td>\n",
              "      <td>0.378788</td>\n",
              "      <td>0.333333</td>\n",
              "      <td>0.121212</td>\n",
              "      <td>1.530303</td>\n",
              "      <td>0.742424</td>\n",
              "      <td>0.090909</td>\n",
              "    </tr>\n",
              "    <tr>\n",
              "      <th>4</th>\n",
              "      <td>355.289474</td>\n",
              "      <td>4.026316</td>\n",
              "      <td>8.444169e+08</td>\n",
              "      <td>1.447368</td>\n",
              "      <td>1.842105</td>\n",
              "      <td>1.763158</td>\n",
              "      <td>0.394737</td>\n",
              "      <td>1.684211</td>\n",
              "      <td>0.552632</td>\n",
              "      <td>0.894737</td>\n",
              "      <td>0.657895</td>\n",
              "      <td>0.0</td>\n",
              "      <td>0.000000</td>\n",
              "      <td>1.131579</td>\n",
              "      <td>0.078947</td>\n",
              "      <td>0.605263</td>\n",
              "      <td>0.342105</td>\n",
              "      <td>0.000000</td>\n",
              "      <td>0.789474</td>\n",
              "      <td>0.394737</td>\n",
              "      <td>0.394737</td>\n",
              "    </tr>\n",
              "    <tr>\n",
              "      <th>5</th>\n",
              "      <td>653.827586</td>\n",
              "      <td>3.850575</td>\n",
              "      <td>8.579125e+08</td>\n",
              "      <td>0.275862</td>\n",
              "      <td>1.195402</td>\n",
              "      <td>0.103448</td>\n",
              "      <td>0.011494</td>\n",
              "      <td>2.942529</td>\n",
              "      <td>0.540230</td>\n",
              "      <td>0.310345</td>\n",
              "      <td>0.149425</td>\n",
              "      <td>0.0</td>\n",
              "      <td>0.195402</td>\n",
              "      <td>0.643678</td>\n",
              "      <td>0.298851</td>\n",
              "      <td>0.172414</td>\n",
              "      <td>0.000000</td>\n",
              "      <td>0.057471</td>\n",
              "      <td>1.126437</td>\n",
              "      <td>0.275862</td>\n",
              "      <td>0.172414</td>\n",
              "    </tr>\n",
              "  </tbody>\n",
              "</table>\n",
              "</div>"
            ],
            "text/plain": [
              "              id_filmes      nota     timestamp  ...   romance       war   musical\n",
              "id_usuario                                       ...                              \n",
              "1            411.681818  5.000000  8.389840e+08  ...  1.136364  0.454545  0.681818\n",
              "2            785.550000  3.200000  8.682453e+08  ...  0.550000  0.550000  0.150000\n",
              "3           5441.757576  3.939394  1.140207e+09  ...  1.530303  0.742424  0.090909\n",
              "4            355.289474  4.026316  8.444169e+08  ...  0.789474  0.394737  0.394737\n",
              "5            653.827586  3.850575  8.579125e+08  ...  1.126437  0.275862  0.172414\n",
              "\n",
              "[5 rows x 21 columns]"
            ]
          },
          "metadata": {
            "tags": []
          },
          "execution_count": 28
        }
      ]
    },
    {
      "cell_type": "code",
      "metadata": {
        "colab": {
          "base_uri": "https://localhost:8080/",
          "height": 210
        },
        "id": "u1U2-vcwn6LC",
        "outputId": "97f6da54-c709-45cb-f1c2-7717785f1cda"
      },
      "source": [
        "df_features = df_mean.drop(labels=['id_filmes', 'timestamp'], axis='columns')\n",
        "df_features.head(3)"
      ],
      "execution_count": 29,
      "outputs": [
        {
          "output_type": "execute_result",
          "data": {
            "text/html": [
              "<div>\n",
              "<style scoped>\n",
              "    .dataframe tbody tr th:only-of-type {\n",
              "        vertical-align: middle;\n",
              "    }\n",
              "\n",
              "    .dataframe tbody tr th {\n",
              "        vertical-align: top;\n",
              "    }\n",
              "\n",
              "    .dataframe thead th {\n",
              "        text-align: right;\n",
              "    }\n",
              "</style>\n",
              "<table border=\"1\" class=\"dataframe\">\n",
              "  <thead>\n",
              "    <tr style=\"text-align: right;\">\n",
              "      <th></th>\n",
              "      <th>nota</th>\n",
              "      <th>adventure</th>\n",
              "      <th>comedy</th>\n",
              "      <th>action</th>\n",
              "      <th>animation</th>\n",
              "      <th>drama</th>\n",
              "      <th>crime</th>\n",
              "      <th>sci-fi</th>\n",
              "      <th>children</th>\n",
              "      <th>documentary</th>\n",
              "      <th>mystery</th>\n",
              "      <th>thriller</th>\n",
              "      <th>horror</th>\n",
              "      <th>fantasy</th>\n",
              "      <th>western</th>\n",
              "      <th>film-noir</th>\n",
              "      <th>romance</th>\n",
              "      <th>war</th>\n",
              "      <th>musical</th>\n",
              "    </tr>\n",
              "    <tr>\n",
              "      <th>id_usuario</th>\n",
              "      <th></th>\n",
              "      <th></th>\n",
              "      <th></th>\n",
              "      <th></th>\n",
              "      <th></th>\n",
              "      <th></th>\n",
              "      <th></th>\n",
              "      <th></th>\n",
              "      <th></th>\n",
              "      <th></th>\n",
              "      <th></th>\n",
              "      <th></th>\n",
              "      <th></th>\n",
              "      <th></th>\n",
              "      <th></th>\n",
              "      <th></th>\n",
              "      <th></th>\n",
              "      <th></th>\n",
              "      <th></th>\n",
              "    </tr>\n",
              "  </thead>\n",
              "  <tbody>\n",
              "    <tr>\n",
              "      <th>1</th>\n",
              "      <td>5.000000</td>\n",
              "      <td>1.363636</td>\n",
              "      <td>2.500000</td>\n",
              "      <td>2.272727</td>\n",
              "      <td>0.909091</td>\n",
              "      <td>1.363636</td>\n",
              "      <td>0.454545</td>\n",
              "      <td>1.136364</td>\n",
              "      <td>1.590909</td>\n",
              "      <td>0.0</td>\n",
              "      <td>0.000000</td>\n",
              "      <td>1.136364</td>\n",
              "      <td>0.00</td>\n",
              "      <td>0.454545</td>\n",
              "      <td>0.000000</td>\n",
              "      <td>0.000000</td>\n",
              "      <td>1.136364</td>\n",
              "      <td>0.454545</td>\n",
              "      <td>0.681818</td>\n",
              "    </tr>\n",
              "    <tr>\n",
              "      <th>2</th>\n",
              "      <td>3.200000</td>\n",
              "      <td>1.700000</td>\n",
              "      <td>0.600000</td>\n",
              "      <td>2.300000</td>\n",
              "      <td>0.000000</td>\n",
              "      <td>1.150000</td>\n",
              "      <td>0.100000</td>\n",
              "      <td>1.050000</td>\n",
              "      <td>0.150000</td>\n",
              "      <td>0.0</td>\n",
              "      <td>0.100000</td>\n",
              "      <td>1.000000</td>\n",
              "      <td>0.15</td>\n",
              "      <td>0.150000</td>\n",
              "      <td>0.250000</td>\n",
              "      <td>0.000000</td>\n",
              "      <td>0.550000</td>\n",
              "      <td>0.550000</td>\n",
              "      <td>0.150000</td>\n",
              "    </tr>\n",
              "    <tr>\n",
              "      <th>3</th>\n",
              "      <td>3.939394</td>\n",
              "      <td>0.666667</td>\n",
              "      <td>1.212121</td>\n",
              "      <td>0.818182</td>\n",
              "      <td>0.242424</td>\n",
              "      <td>2.530303</td>\n",
              "      <td>0.363636</td>\n",
              "      <td>0.000000</td>\n",
              "      <td>0.242424</td>\n",
              "      <td>0.0</td>\n",
              "      <td>0.545455</td>\n",
              "      <td>0.742424</td>\n",
              "      <td>0.00</td>\n",
              "      <td>0.378788</td>\n",
              "      <td>0.333333</td>\n",
              "      <td>0.121212</td>\n",
              "      <td>1.530303</td>\n",
              "      <td>0.742424</td>\n",
              "      <td>0.090909</td>\n",
              "    </tr>\n",
              "  </tbody>\n",
              "</table>\n",
              "</div>"
            ],
            "text/plain": [
              "                nota  adventure    comedy  ...   romance       war   musical\n",
              "id_usuario                                 ...                              \n",
              "1           5.000000   1.363636  2.500000  ...  1.136364  0.454545  0.681818\n",
              "2           3.200000   1.700000  0.600000  ...  0.550000  0.550000  0.150000\n",
              "3           3.939394   0.666667  1.212121  ...  1.530303  0.742424  0.090909\n",
              "\n",
              "[3 rows x 19 columns]"
            ]
          },
          "metadata": {
            "tags": []
          },
          "execution_count": 29
        }
      ]
    },
    {
      "cell_type": "code",
      "metadata": {
        "colab": {
          "base_uri": "https://localhost:8080/",
          "height": 692
        },
        "id": "AFVxK4nLqE5t",
        "outputId": "c1cd4338-6728-44f2-adcb-b798e600f579"
      },
      "source": [
        "fig = px.box(df_features)\n",
        "gitly.show(fig, scale = 1.5)"
      ],
      "execution_count": 30,
      "outputs": [
        {
          "output_type": "execute_result",
          "data": {
            "image/png": "[encoded data removed]",
            "text/plain": [
              "<IPython.core.display.Image object>"
            ]
          },
          "metadata": {
            "tags": []
          },
          "execution_count": 30
        }
      ]
    },
    {
      "cell_type": "markdown",
      "metadata": {
        "id": "N1t9H10wrFPK"
      },
      "source": [
        "# Clusterização (Kmeans)"
      ]
    },
    {
      "cell_type": "code",
      "metadata": {
        "id": "aFmnN3n3qqpv"
      },
      "source": [
        "from sklearn.cluster import KMeans\n",
        "\n",
        "n_kmax = 10\n",
        "lista_inercia = []\n",
        "\n",
        "for i in range(1,n_kmax):\n",
        "  km = KMeans(n_clusters = i, init = 'random', n_init = 3, max_iter = 150, random_state = 0)\n",
        "  km.fit(df_features)\n",
        "  lista_inercia.append(km.inertia_)"
      ],
      "execution_count": 31,
      "outputs": []
    },
    {
      "cell_type": "code",
      "metadata": {
        "colab": {
          "base_uri": "https://localhost:8080/",
          "height": 388
        },
        "id": "Fo_0oO9FqqYK",
        "outputId": "34104e6d-acb1-4f57-8c90-0469fecdd14a"
      },
      "source": [
        "import matplotlib.pyplot as plt\n",
        "\n",
        "# plot\n",
        "plt.figure( figsize=(8,6) )\n",
        "plt.plot(range(1, n_kmax), lista_inercia, marker='o')\n",
        "plt.xlabel('Number of clusters')\n",
        "plt.ylabel('Distortion')\n",
        "plt.show()"
      ],
      "execution_count": 32,
      "outputs": [
        {
          "output_type": "display_data",
          "data": {
            "image/png": "[encoded data removed]",
            "text/plain": [
              "<Figure size 576x432 with 1 Axes>"
            ]
          },
          "metadata": {
            "tags": [],
            "needs_background": "light"
          }
        }
      ]
    },
    {
      "cell_type": "markdown",
      "metadata": {
        "id": "qE-FidmTtVJv"
      },
      "source": [
        "## Kmeans k = 4"
      ]
    },
    {
      "cell_type": "code",
      "metadata": {
        "colab": {
          "base_uri": "https://localhost:8080/"
        },
        "id": "GIbPSt7mtUmz",
        "outputId": "0dd8a895-2486-4444-ae8d-459ca4e60464"
      },
      "source": [
        "k = 4\n",
        "km = KMeans(n_clusters = k, init = 'random', n_init = 10, max_iter = 150, random_state = 0)\n",
        "km.fit(df_features)"
      ],
      "execution_count": 33,
      "outputs": [
        {
          "output_type": "execute_result",
          "data": {
            "text/plain": [
              "KMeans(algorithm='auto', copy_x=True, init='random', max_iter=150, n_clusters=4,\n",
              "       n_init=10, n_jobs=None, precompute_distances='auto', random_state=0,\n",
              "       tol=0.0001, verbose=0)"
            ]
          },
          "metadata": {
            "tags": []
          },
          "execution_count": 33
        }
      ]
    },
    {
      "cell_type": "markdown",
      "metadata": {
        "id": "FaepgckjvLL6"
      },
      "source": [
        "### Clusterizando cada usuário"
      ]
    },
    {
      "cell_type": "code",
      "metadata": {
        "colab": {
          "base_uri": "https://localhost:8080/"
        },
        "id": "lUatiPUIt3yQ",
        "outputId": "41290935-3836-4d7d-d87d-49d8f76e64a4"
      },
      "source": [
        "y_cluster = km.predict(df_features)\n",
        "y_cluster"
      ],
      "execution_count": 34,
      "outputs": [
        {
          "output_type": "execute_result",
          "data": {
            "text/plain": [
              "array([1, 2, 0, ..., 0, 2, 3], dtype=int32)"
            ]
          },
          "metadata": {
            "tags": []
          },
          "execution_count": 34
        }
      ]
    },
    {
      "cell_type": "code",
      "metadata": {
        "colab": {
          "base_uri": "https://localhost:8080/"
        },
        "id": "FWCIX8-bvjQo",
        "outputId": "199376b2-7513-41de-e536-1f601803a729"
      },
      "source": [
        "df_cluster = pd.Series(data=y_cluster, name='grupo', index=df_features.index)\n",
        "df_cluster.head()"
      ],
      "execution_count": 35,
      "outputs": [
        {
          "output_type": "execute_result",
          "data": {
            "text/plain": [
              "id_usuario\n",
              "1    1\n",
              "2    2\n",
              "3    0\n",
              "4    2\n",
              "5    0\n",
              "Name: grupo, dtype: int32"
            ]
          },
          "metadata": {
            "tags": []
          },
          "execution_count": 35
        }
      ]
    },
    {
      "cell_type": "code",
      "metadata": {
        "colab": {
          "base_uri": "https://localhost:8080/",
          "height": 272
        },
        "id": "ZBCo0SLEwKy6",
        "outputId": "cf0f6cf8-1fd1-4904-c572-b95c71de5222"
      },
      "source": [
        "df_grupos = pd.merge(df_cluster, df_features, how='left', left_index=True, right_index=True)\n",
        "df_grupos.head()"
      ],
      "execution_count": 36,
      "outputs": [
        {
          "output_type": "execute_result",
          "data": {
            "text/html": [
              "<div>\n",
              "<style scoped>\n",
              "    .dataframe tbody tr th:only-of-type {\n",
              "        vertical-align: middle;\n",
              "    }\n",
              "\n",
              "    .dataframe tbody tr th {\n",
              "        vertical-align: top;\n",
              "    }\n",
              "\n",
              "    .dataframe thead th {\n",
              "        text-align: right;\n",
              "    }\n",
              "</style>\n",
              "<table border=\"1\" class=\"dataframe\">\n",
              "  <thead>\n",
              "    <tr style=\"text-align: right;\">\n",
              "      <th></th>\n",
              "      <th>grupo</th>\n",
              "      <th>nota</th>\n",
              "      <th>adventure</th>\n",
              "      <th>comedy</th>\n",
              "      <th>action</th>\n",
              "      <th>animation</th>\n",
              "      <th>drama</th>\n",
              "      <th>crime</th>\n",
              "      <th>sci-fi</th>\n",
              "      <th>children</th>\n",
              "      <th>documentary</th>\n",
              "      <th>mystery</th>\n",
              "      <th>thriller</th>\n",
              "      <th>horror</th>\n",
              "      <th>fantasy</th>\n",
              "      <th>western</th>\n",
              "      <th>film-noir</th>\n",
              "      <th>romance</th>\n",
              "      <th>war</th>\n",
              "      <th>musical</th>\n",
              "    </tr>\n",
              "    <tr>\n",
              "      <th>id_usuario</th>\n",
              "      <th></th>\n",
              "      <th></th>\n",
              "      <th></th>\n",
              "      <th></th>\n",
              "      <th></th>\n",
              "      <th></th>\n",
              "      <th></th>\n",
              "      <th></th>\n",
              "      <th></th>\n",
              "      <th></th>\n",
              "      <th></th>\n",
              "      <th></th>\n",
              "      <th></th>\n",
              "      <th></th>\n",
              "      <th></th>\n",
              "      <th></th>\n",
              "      <th></th>\n",
              "      <th></th>\n",
              "      <th></th>\n",
              "      <th></th>\n",
              "    </tr>\n",
              "  </thead>\n",
              "  <tbody>\n",
              "    <tr>\n",
              "      <th>1</th>\n",
              "      <td>1</td>\n",
              "      <td>5.000000</td>\n",
              "      <td>1.363636</td>\n",
              "      <td>2.500000</td>\n",
              "      <td>2.272727</td>\n",
              "      <td>0.909091</td>\n",
              "      <td>1.363636</td>\n",
              "      <td>0.454545</td>\n",
              "      <td>1.136364</td>\n",
              "      <td>1.590909</td>\n",
              "      <td>0.0</td>\n",
              "      <td>0.000000</td>\n",
              "      <td>1.136364</td>\n",
              "      <td>0.000000</td>\n",
              "      <td>0.454545</td>\n",
              "      <td>0.000000</td>\n",
              "      <td>0.000000</td>\n",
              "      <td>1.136364</td>\n",
              "      <td>0.454545</td>\n",
              "      <td>0.681818</td>\n",
              "    </tr>\n",
              "    <tr>\n",
              "      <th>2</th>\n",
              "      <td>2</td>\n",
              "      <td>3.200000</td>\n",
              "      <td>1.700000</td>\n",
              "      <td>0.600000</td>\n",
              "      <td>2.300000</td>\n",
              "      <td>0.000000</td>\n",
              "      <td>1.150000</td>\n",
              "      <td>0.100000</td>\n",
              "      <td>1.050000</td>\n",
              "      <td>0.150000</td>\n",
              "      <td>0.0</td>\n",
              "      <td>0.100000</td>\n",
              "      <td>1.000000</td>\n",
              "      <td>0.150000</td>\n",
              "      <td>0.150000</td>\n",
              "      <td>0.250000</td>\n",
              "      <td>0.000000</td>\n",
              "      <td>0.550000</td>\n",
              "      <td>0.550000</td>\n",
              "      <td>0.150000</td>\n",
              "    </tr>\n",
              "    <tr>\n",
              "      <th>3</th>\n",
              "      <td>0</td>\n",
              "      <td>3.939394</td>\n",
              "      <td>0.666667</td>\n",
              "      <td>1.212121</td>\n",
              "      <td>0.818182</td>\n",
              "      <td>0.242424</td>\n",
              "      <td>2.530303</td>\n",
              "      <td>0.363636</td>\n",
              "      <td>0.000000</td>\n",
              "      <td>0.242424</td>\n",
              "      <td>0.0</td>\n",
              "      <td>0.545455</td>\n",
              "      <td>0.742424</td>\n",
              "      <td>0.000000</td>\n",
              "      <td>0.378788</td>\n",
              "      <td>0.333333</td>\n",
              "      <td>0.121212</td>\n",
              "      <td>1.530303</td>\n",
              "      <td>0.742424</td>\n",
              "      <td>0.090909</td>\n",
              "    </tr>\n",
              "    <tr>\n",
              "      <th>4</th>\n",
              "      <td>2</td>\n",
              "      <td>4.026316</td>\n",
              "      <td>1.447368</td>\n",
              "      <td>1.842105</td>\n",
              "      <td>1.763158</td>\n",
              "      <td>0.394737</td>\n",
              "      <td>1.684211</td>\n",
              "      <td>0.552632</td>\n",
              "      <td>0.894737</td>\n",
              "      <td>0.657895</td>\n",
              "      <td>0.0</td>\n",
              "      <td>0.000000</td>\n",
              "      <td>1.131579</td>\n",
              "      <td>0.078947</td>\n",
              "      <td>0.605263</td>\n",
              "      <td>0.342105</td>\n",
              "      <td>0.000000</td>\n",
              "      <td>0.789474</td>\n",
              "      <td>0.394737</td>\n",
              "      <td>0.394737</td>\n",
              "    </tr>\n",
              "    <tr>\n",
              "      <th>5</th>\n",
              "      <td>0</td>\n",
              "      <td>3.850575</td>\n",
              "      <td>0.275862</td>\n",
              "      <td>1.195402</td>\n",
              "      <td>0.103448</td>\n",
              "      <td>0.011494</td>\n",
              "      <td>2.942529</td>\n",
              "      <td>0.540230</td>\n",
              "      <td>0.310345</td>\n",
              "      <td>0.149425</td>\n",
              "      <td>0.0</td>\n",
              "      <td>0.195402</td>\n",
              "      <td>0.643678</td>\n",
              "      <td>0.298851</td>\n",
              "      <td>0.172414</td>\n",
              "      <td>0.000000</td>\n",
              "      <td>0.057471</td>\n",
              "      <td>1.126437</td>\n",
              "      <td>0.275862</td>\n",
              "      <td>0.172414</td>\n",
              "    </tr>\n",
              "  </tbody>\n",
              "</table>\n",
              "</div>"
            ],
            "text/plain": [
              "            grupo      nota  adventure  ...   romance       war   musical\n",
              "id_usuario                              ...                              \n",
              "1               1  5.000000   1.363636  ...  1.136364  0.454545  0.681818\n",
              "2               2  3.200000   1.700000  ...  0.550000  0.550000  0.150000\n",
              "3               0  3.939394   0.666667  ...  1.530303  0.742424  0.090909\n",
              "4               2  4.026316   1.447368  ...  0.789474  0.394737  0.394737\n",
              "5               0  3.850575   0.275862  ...  1.126437  0.275862  0.172414\n",
              "\n",
              "[5 rows x 20 columns]"
            ]
          },
          "metadata": {
            "tags": []
          },
          "execution_count": 36
        }
      ]
    },
    {
      "cell_type": "code",
      "metadata": {
        "colab": {
          "base_uri": "https://localhost:8080/",
          "height": 717
        },
        "id": "-hNwUg0Pwz2S",
        "outputId": "fa84751e-97d8-438b-c74a-e5d5adc80529"
      },
      "source": [
        "fig = px.box(df_grupos, color='grupo')\n",
        "gitly.show(fig, scale = 2)"
      ],
      "execution_count": 37,
      "outputs": [
        {
          "output_type": "execute_result",
          "data": {
            "image/png": "[encoded data removed]",
            "text/plain": [
              "<IPython.core.display.Image object>"
            ]
          },
          "metadata": {
            "tags": []
          },
          "execution_count": 37
        }
      ]
    },
    {
      "cell_type": "code",
      "metadata": {
        "colab": {
          "base_uri": "https://localhost:8080/",
          "height": 204
        },
        "id": "w15LDR5w7qia",
        "outputId": "2812cb22-9a2d-4f1c-fea5-af6d9ec3e3d6"
      },
      "source": [
        "df_rate_grupo = pd.merge(df_rate, df_cluster, how='left', left_on='id_usuario', right_index=True)\n",
        "df_rate_grupo.head()"
      ],
      "execution_count": 38,
      "outputs": [
        {
          "output_type": "execute_result",
          "data": {
            "text/html": [
              "<div>\n",
              "<style scoped>\n",
              "    .dataframe tbody tr th:only-of-type {\n",
              "        vertical-align: middle;\n",
              "    }\n",
              "\n",
              "    .dataframe tbody tr th {\n",
              "        vertical-align: top;\n",
              "    }\n",
              "\n",
              "    .dataframe thead th {\n",
              "        text-align: right;\n",
              "    }\n",
              "</style>\n",
              "<table border=\"1\" class=\"dataframe\">\n",
              "  <thead>\n",
              "    <tr style=\"text-align: right;\">\n",
              "      <th></th>\n",
              "      <th>id_usuario</th>\n",
              "      <th>id_filmes</th>\n",
              "      <th>nota</th>\n",
              "      <th>timestamp</th>\n",
              "      <th>grupo</th>\n",
              "    </tr>\n",
              "  </thead>\n",
              "  <tbody>\n",
              "    <tr>\n",
              "      <th>0</th>\n",
              "      <td>1</td>\n",
              "      <td>122</td>\n",
              "      <td>5.0</td>\n",
              "      <td>838985046</td>\n",
              "      <td>1</td>\n",
              "    </tr>\n",
              "    <tr>\n",
              "      <th>1</th>\n",
              "      <td>1</td>\n",
              "      <td>185</td>\n",
              "      <td>5.0</td>\n",
              "      <td>838983525</td>\n",
              "      <td>1</td>\n",
              "    </tr>\n",
              "    <tr>\n",
              "      <th>2</th>\n",
              "      <td>1</td>\n",
              "      <td>231</td>\n",
              "      <td>5.0</td>\n",
              "      <td>838983392</td>\n",
              "      <td>1</td>\n",
              "    </tr>\n",
              "    <tr>\n",
              "      <th>3</th>\n",
              "      <td>1</td>\n",
              "      <td>292</td>\n",
              "      <td>5.0</td>\n",
              "      <td>838983421</td>\n",
              "      <td>1</td>\n",
              "    </tr>\n",
              "    <tr>\n",
              "      <th>4</th>\n",
              "      <td>1</td>\n",
              "      <td>316</td>\n",
              "      <td>5.0</td>\n",
              "      <td>838983392</td>\n",
              "      <td>1</td>\n",
              "    </tr>\n",
              "  </tbody>\n",
              "</table>\n",
              "</div>"
            ],
            "text/plain": [
              "   id_usuario  id_filmes  nota  timestamp  grupo\n",
              "0           1        122   5.0  838985046      1\n",
              "1           1        185   5.0  838983525      1\n",
              "2           1        231   5.0  838983392      1\n",
              "3           1        292   5.0  838983421      1\n",
              "4           1        316   5.0  838983392      1"
            ]
          },
          "metadata": {
            "tags": []
          },
          "execution_count": 38
        }
      ]
    },
    {
      "cell_type": "code",
      "metadata": {
        "colab": {
          "base_uri": "https://localhost:8080/",
          "height": 204
        },
        "id": "gh8aInjW8Xuj",
        "outputId": "42a308c5-8cc4-4e23-84f2-3867ad7f97cf"
      },
      "source": [
        "df_rate_grupo.tail()"
      ],
      "execution_count": 39,
      "outputs": [
        {
          "output_type": "execute_result",
          "data": {
            "text/html": [
              "<div>\n",
              "<style scoped>\n",
              "    .dataframe tbody tr th:only-of-type {\n",
              "        vertical-align: middle;\n",
              "    }\n",
              "\n",
              "    .dataframe tbody tr th {\n",
              "        vertical-align: top;\n",
              "    }\n",
              "\n",
              "    .dataframe thead th {\n",
              "        text-align: right;\n",
              "    }\n",
              "</style>\n",
              "<table border=\"1\" class=\"dataframe\">\n",
              "  <thead>\n",
              "    <tr style=\"text-align: right;\">\n",
              "      <th></th>\n",
              "      <th>id_usuario</th>\n",
              "      <th>id_filmes</th>\n",
              "      <th>nota</th>\n",
              "      <th>timestamp</th>\n",
              "      <th>grupo</th>\n",
              "    </tr>\n",
              "  </thead>\n",
              "  <tbody>\n",
              "    <tr>\n",
              "      <th>9999757</th>\n",
              "      <td>71564</td>\n",
              "      <td>2355</td>\n",
              "      <td>4.0</td>\n",
              "      <td>1111545793</td>\n",
              "      <td>3</td>\n",
              "    </tr>\n",
              "    <tr>\n",
              "      <th>9999758</th>\n",
              "      <td>71564</td>\n",
              "      <td>2420</td>\n",
              "      <td>2.0</td>\n",
              "      <td>1111545307</td>\n",
              "      <td>3</td>\n",
              "    </tr>\n",
              "    <tr>\n",
              "      <th>9999759</th>\n",
              "      <td>71564</td>\n",
              "      <td>2433</td>\n",
              "      <td>3.0</td>\n",
              "      <td>1111545286</td>\n",
              "      <td>3</td>\n",
              "    </tr>\n",
              "    <tr>\n",
              "      <th>9999760</th>\n",
              "      <td>71564</td>\n",
              "      <td>2717</td>\n",
              "      <td>2.0</td>\n",
              "      <td>1111545239</td>\n",
              "      <td>3</td>\n",
              "    </tr>\n",
              "    <tr>\n",
              "      <th>9999761</th>\n",
              "      <td>71564</td>\n",
              "      <td>2779</td>\n",
              "      <td>3.0</td>\n",
              "      <td>1111545214</td>\n",
              "      <td>3</td>\n",
              "    </tr>\n",
              "  </tbody>\n",
              "</table>\n",
              "</div>"
            ],
            "text/plain": [
              "         id_usuario  id_filmes  nota   timestamp  grupo\n",
              "9999757       71564       2355   4.0  1111545793      3\n",
              "9999758       71564       2420   2.0  1111545307      3\n",
              "9999759       71564       2433   3.0  1111545286      3\n",
              "9999760       71564       2717   2.0  1111545239      3\n",
              "9999761       71564       2779   3.0  1111545214      3"
            ]
          },
          "metadata": {
            "tags": []
          },
          "execution_count": 39
        }
      ]
    },
    {
      "cell_type": "code",
      "metadata": {
        "colab": {
          "base_uri": "https://localhost:8080/"
        },
        "id": "CzKk3yIc8bSd",
        "outputId": "8356dc48-db4d-43d1-8688-3a6e2d515ba0"
      },
      "source": [
        "dict_agrupamento = {}\n",
        "for i in range(0,k):\n",
        "  dict_agrupamento[i] = df_rate_grupo[df_rate_grupo.grupo == i]\n",
        "  print(dict_agrupamento[i].head())"
      ],
      "execution_count": 40,
      "outputs": [
        {
          "output_type": "stream",
          "text": [
            "    id_usuario  id_filmes  nota   timestamp  grupo\n",
            "42           3        110   4.5  1136075500      0\n",
            "43           3        151   4.5  1133571026      0\n",
            "44           3        213   5.0  1136075789      0\n",
            "45           3        590   3.5  1136075494      0\n",
            "46           3       1148   4.0  1133571121      0\n",
            "   id_usuario  id_filmes  nota  timestamp  grupo\n",
            "0           1        122   5.0  838985046      1\n",
            "1           1        185   5.0  838983525      1\n",
            "2           1        231   5.0  838983392      1\n",
            "3           1        292   5.0  838983421      1\n",
            "4           1        316   5.0  838983392      1\n",
            "    id_usuario  id_filmes  nota  timestamp  grupo\n",
            "22           2        110   5.0  868245777      2\n",
            "23           2        151   3.0  868246450      2\n",
            "24           2        260   5.0  868244562      2\n",
            "25           2        376   3.0  868245920      2\n",
            "26           2        539   3.0  868246262      2\n",
            "     id_usuario  id_filmes  nota   timestamp  grupo\n",
            "242           7         32   4.0  1049820474      3\n",
            "243           7         50   4.0  1050329529      3\n",
            "244           7        101   4.5  1054292314      3\n",
            "245           7        260   3.0  1049820445      3\n",
            "246           7        541   2.0  1049820445      3\n"
          ],
          "name": "stdout"
        }
      ]
    },
    {
      "cell_type": "code",
      "metadata": {
        "id": "tN6YZjxg_slg"
      },
      "source": [
        "n_minimo = 500"
      ],
      "execution_count": 41,
      "outputs": []
    },
    {
      "cell_type": "code",
      "metadata": {
        "colab": {
          "base_uri": "https://localhost:8080/"
        },
        "id": "wnm6Owgo_TqX",
        "outputId": "df402cbc-e106-4d59-ba27-46e8ea5da1b3"
      },
      "source": [
        "# Lista de filmes assistidos mais de n_minimo vezes\n",
        "df_temp = dict_agrupamento[0].id_filmes.value_counts()\n",
        "lista_filmes_minimo = list( df_temp[ df_temp.gt(n_minimo)].index )\n",
        "print(lista_filmes_minimo)"
      ],
      "execution_count": 42,
      "outputs": [
        {
          "output_type": "stream",
          "text": [
            "[296, 593, 318, 527, 608, 356, 2858, 50, 858, 110, 150, 590, 457, 260, 1193, 1617, 480, 2028, 36, 1213, 111, 912, 1198, 32, 17, 2762, 47, 25, 1704, 357, 1, 2396, 1221, 34, 1196, 2571, 1721, 1210, 589, 509, 1225, 2997, 1270, 1265, 300, 1247, 592, 1097, 597, 377, 1183, 1089, 923, 1208, 541, 539, 778, 1961, 2959, 750, 1230, 1136, 780, 1307, 265, 1393, 1197, 508, 1252, 1784, 4226, 919, 380, 924, 904, 337, 21, 1358, 58, 587, 2324, 500, 1219, 908, 1206, 588, 1259, 1094, 454, 39, 515, 1214, 1207, 648, 1923, 223, 1246, 364, 595, 903, 62, 11, 1682, 1079, 1240, 3996, 235, 141, 3578, 2291, 1234, 293, 920, 4034, 2692, 1258, 3897, 4973, 2716, 246, 6, 1641, 1304, 339, 1036, 2599, 1233, 1394, 349, 497, 4993, 1222, 736, 1968, 1580, 2329, 16, 1387, 266, 161, 1204, 913, 1090, 1250, 1673, 1288, 253, 953, 344, 2268, 733, 1084, 1291, 1639, 440, 2918, 1073, 1732, 1266, 1674, 1172, 3481, 5060, 367, 800, 4995, 1228, 529, 1200, 3408, 1080, 2712, 474, 1610, 1276, 342, 2395, 4027, 1584, 3176, 4306, 1357, 708, 2628, 475, 2797, 7361, 288, 2289, 3147, 350, 292, 1267, 1293, 910, 5952, 586, 306, 272, 1263, 345, 1244, 2791, 969, 52, 2710, 3160, 165, 2683, 1041, 2987, 1500, 2336, 1203, 231, 105, 2194, 1199, 3418, 555, 1299, 1220, 1278, 348, 1242, 153, 151, 6711, 1466, 1302, 3006, 2706, 2302, 1729, 232, 247, 4022, 2020, 1035, 307, 902, 261, 1179, 994, 2076, 1296, 1954, 1653, 282, 1101, 1952, 7153, 1953, 2019, 185, 1517, 1060, 899, 4963, 3114, 5445, 1231, 471, 2174, 2890, 2502, 1120, 7, 3471, 10, 194, 1148, 1271, 551, 316, 2908, 2321, 208, 3949, 1747, 1186, 2804, 594, 838, 2671, 45, 1527, 3101, 162, 628, 1962, 2542, 1625, 1188, 1104, 1272, 1235, 1185, 5989, 535, 1635, 2355, 2000, 1249, 1201, 3911, 2243, 224, 1285, 1997, 914, 2406, 4979, 2064, 922, 1262, 1408, 3751, 329, 2248, 1333, 5995, 805, 4878, 236, 6377, 1960, 3948, 1945, 95, 1380, 308, 1957, 434, 4246, 1573, 2352, 1212, 1095, 2700, 898, 2916, 4886, 5669, 3072, 852, 6874, 562, 1028, 2763, 802, 832, 5902, 1947, 3793, 1292, 3362, 4014, 2067, 534, 538, 6016, 553, 2313, 2023, 6539, 2871, 225, 230, 3052, 1407, 222, 745, 2391, 2115, 866, 1956, 1245, 4848, 3148, 1719, 2657, 1343, 1092, 4011, 4308, 5349, 1912, 1103, 926, 1282, 2333, 5418, 3448, 3421, 431, 7438, 2424, 2100, 319, 1284, 3317, 1485, 368, 2501, 3967, 2580, 1396, 1834, 2150, 5377, 1569, 446, 412, 3363, 2686, 1088, 6870, 1356, 2108, 2640, 1059, 468, 909, 3108, 647, 930, 1127, 2, 1354, 1678, 2359, 928, 410, 1777, 1254, 2770, 1608, 1248, 3424, 1077, 8961, 1086, 1958, 2186, 788, 41, 3100, 3105, 1449, 1411, 3361, 2427, 4361, 2160, 144, 2739, 14, 1374, 1269, 1955, 376, 1917, 2529, 29, 1287, 22, 3623, 1175, 1096, 3753, 314, 3683, 1283, 1217, 1391, 1224, 372, 3504, 916, 5013, 8949, 1645, 1300, 1124, 3977, 3252, 3499, 249, 3083, 5299, 2539, 1959, 2470, 2407, 2011, 215, 1680, 1885, 3060, 2915, 2300, 954, 1061, 3081, 2973, 3671, 1093, 1280, 1295, 353, 186, 3994, 3253, 720, 3435, 30707, 3, 5991, 30749, 2012, 4896, 3255, 596, 3386, 252, 8784, 2353, 1256, 477, 2081, 104, 7147, 281, 4235, 3175, 2947, 3755, 531, 2006, 5225, 3019, 2699, 164, 1131, 2065, 1883, 317, 2001, 48516, 728, 290, 1810, 163, 441, 1370, 2054, 168, 33166, 933, 2917, 1147, 1597, 3556, 1132, 2144, 1211, 428, 46578, 207, 277, 3468, 905, 3543, 3210, 4641, 1537, 5464, 31, 4262, 5, 543, 1921, 3039, 2966, 154, 381, 1277, 28, 1748, 1694, 19, 1552, 1345, 2617, 3260, 1042, 33794, 373, 237, 3095, 3174, 1260, 32587, 2985, 5618, 82, 2145, 2132, 785, 432, 2707, 417, 3730, 3983, 2919, 2724, 2318, 4720, 2369, 8622, 1965, 5015, 1693, 4370, 1344, 5945, 2278, 2357, 915, 1633, 2231, 955, 3098, 3735, 1643, 784, 233, 198, 1805, 3246, 85, 3168, 786, 6218, 5010, 1237, 3037, 1944, 1711, 6953, 1950, 125, 1909, 524, 8464, 2080, 2728, 140, 5992, 1264, 965, 971, 1251, 70, 2245, 3359, 951, 1513, 1339, 299, 3152, 1178, 1663, 2312, 6365, 1994, 4975, 3893, 1441, 2944, 1594, 3067, 2433, 950, 1057, 1171, 3360, 3044, 3510, 1238, 830, 94, 1676, 3089, 1416, 2010, 2109, 4019, 494, 911, 5878, 5378, 1914, 3198, 280, 218, 4903, 1589, 5816, 160, 492, 5673, 370, 3256, 2420, 2541, 8636, 48, 2398, 1189, 1544, 1376, 5388, 175, 1223, 2912, 1722, 3104, 8665, 6942, 3552, 707, 1303, 2863, 8970, 6787, 46, 2881, 762, 661, 8360, 1298, 2572, 3535, 4881, 1243, 1253, 4447, 1173, 1701, 24, 2467, 448, 2294, 1227, 2058, 2303, 1078, 3916, 2677, 1446, 39183, 420, 1672, 585, 2968, 2130, 481, 2112, 2455, 5956, 4239, 361, 100, 112, 2731, 5502, 2688, 1476, 968, 4776, 273, 1964, 942, 2366, 43, 6620, 491, 3910, 371, 2746, 1377, 1081, 8873, 3068, 1619, 1273, 6867, 2761, 442, 1029, 6565, 4085, 2013, 40819, 101, 6385, 48394, 4018, 3526, 1884, 1876, 3334, 1177, 3551, 2384, 30812, 1409, 1321, 213, 4002, 2003, 2819, 1683, 1320, 1916, 1611, 2690, 4326, 1614, 3545, 4007, 6863, 783, 1047, 6333, 4029, 3186, 2605, 537, 532, 3527, 193, 4025, 5135, 1022, 6807, 949, 147, 6502, 8798, 6947, 900, 3298, 1125, 653, 435, 1892, 599, 1305, 3201, 678, 2390, 1281, 3462, 3107, 2125, 2022, 305, 3863, 5291, 55820, 3969, 5679, 2729, 39292, 2951, 3000, 315, 520, 3196, 466, 334, 552, 56367, 6378, 44191, 2078, 37741, 3498, 7143, 5617, 714, 8368, 2583, 2371, 2948, 5954, 1275, 2872, 2348, 991, 3328, 196, 3952, 2469, 8958, 4310, 2788, 4321, 351, 1150, 203, 7323, 49272, 176, 333, 3702, 1289, 1949, 4008, 613, 73, 6331, 2971, 180, 1586, 2124, 2070, 1209, 2018, 4378, 1464, 4041, 5812, 1835, 2702, 3396, 79, 8638, 229, 2795, 7090, 3555, 2949, 1734, 2926, 7160, 172, 5791, 3536, 3783, 2581, 921, 5266, 1027, 1479, 2085, 3035, 3476, 2360, 3082, 1129, 2575, 2723, 2474, 123, 3005, 4223, 1176, 2701, 2161, 2490, 3178, 2431, 1620, 3271, 2439, 6440, 26, 48780, 7162, 931, 262, 44195, 1375, 501, 1215, 2803, 322, 3685, 36517, 2340, 3798, 1050, 3608, 2664, 3088, 256, 493, 1542, 1279, 2857, 485, 724, 158, 3507, 848, 4017, 2976, 3703, 5446, 48774, 8874, 35, 2068, 2859, 2694, 4855, 2478, 7139, 605, 4103, 581, 1082, 2942, 1735, 81, 2750, 1372, 48385, 514, 86, 3030, 2598, 2745, 8645, 719, 18, 1135, 6708, 1963, 2021, 5218, 145, 3993, 2002, 1939, 3451, 35836, 302, 2146, 1395, 4033, 906, 766, 1371, 940, 41997, 1927, 1913, 3163, 4, 2732, 1257, 1690, 781, 195, 4148, 3809, 4874, 549, 2648, 8981, 2203, 3285, 999, 3307, 1392, 4037, 1268, 3203, 2269, 3155, 2565, 3247, 2176, 6296, 276, 3752, 2734, 362, 1405, 44555, 1348, 3741, 3033, 33660, 1019, 3185, 2114, 2087, 57, 2405, 3717, 4280, 2463, 383, 6552, 1730, 616, 173, 30810, 3505, 3257, 74, 3020, 427, 3811, 2288, 1032, 3267, 1982, 33493, 3301, 2616, 2600, 7156, 41285, 382, 2005, 6796, 2730, 3263, 4816, 2442, 455, 2208, 2105, 3844, 1966, 1367, 5876, 934, 1350, 2282, 948, 4901, 3618, 945, 199, 4643, 5528, 1459, 3450, 2262, 8376, 7158, 3071, 540, 3469, 3534, 6934, 2805, 3467, 1873, 4023, 3169, 4327, 3129, 1161, 159, 8228, 1888, 2183, 1907, 2025, 2297, 3135, 3681, 1918, 2726, 3624, 6773, 6993, 3173, 1480, 3654, 46723, 2641, 4424, 1012, 4448, 4718, 5505, 2409, 3868, 355, 2841, 2394, 2611, 289, 1801, 3785, 2764, 303, 3134, 6380, 1644, 2485, 2622, 58559, 2567, 3007, 326, 2137, 34162]\n"
          ],
          "name": "stdout"
        }
      ]
    },
    {
      "cell_type": "code",
      "metadata": {
        "id": "rRF814EZA2T0"
      },
      "source": [
        "# filtrando e deixando apenas filmes assistidos mais de n_minimo vezes\n",
        "dict_agrupamento[0] = dict_agrupamento[0][dict_agrupamento[0].id_filmes.isin(lista_filmes_minimo)]"
      ],
      "execution_count": 43,
      "outputs": []
    },
    {
      "cell_type": "code",
      "metadata": {
        "colab": {
          "base_uri": "https://localhost:8080/",
          "height": 142
        },
        "id": "jQXDq45p937a",
        "outputId": "faab13c7-92b2-4d11-b220-af75ec3a4127"
      },
      "source": [
        "df_sug = {}\n",
        "df_sug[0] = dict_agrupamento[0].groupby(by='id_filmes').mean().sort_values(by='nota', ascending=False).head(200)\n",
        "df_sug[0].head(2)"
      ],
      "execution_count": 44,
      "outputs": [
        {
          "output_type": "execute_result",
          "data": {
            "text/html": [
              "<div>\n",
              "<style scoped>\n",
              "    .dataframe tbody tr th:only-of-type {\n",
              "        vertical-align: middle;\n",
              "    }\n",
              "\n",
              "    .dataframe tbody tr th {\n",
              "        vertical-align: top;\n",
              "    }\n",
              "\n",
              "    .dataframe thead th {\n",
              "        text-align: right;\n",
              "    }\n",
              "</style>\n",
              "<table border=\"1\" class=\"dataframe\">\n",
              "  <thead>\n",
              "    <tr style=\"text-align: right;\">\n",
              "      <th></th>\n",
              "      <th>id_usuario</th>\n",
              "      <th>nota</th>\n",
              "      <th>timestamp</th>\n",
              "      <th>grupo</th>\n",
              "    </tr>\n",
              "    <tr>\n",
              "      <th>id_filmes</th>\n",
              "      <th></th>\n",
              "      <th></th>\n",
              "      <th></th>\n",
              "      <th></th>\n",
              "    </tr>\n",
              "  </thead>\n",
              "  <tbody>\n",
              "    <tr>\n",
              "      <th>858</th>\n",
              "      <td>35372.299971</td>\n",
              "      <td>4.576984</td>\n",
              "      <td>1.012782e+09</td>\n",
              "      <td>0</td>\n",
              "    </tr>\n",
              "    <tr>\n",
              "      <th>527</th>\n",
              "      <td>35503.692534</td>\n",
              "      <td>4.504072</td>\n",
              "      <td>9.796908e+08</td>\n",
              "      <td>0</td>\n",
              "    </tr>\n",
              "  </tbody>\n",
              "</table>\n",
              "</div>"
            ],
            "text/plain": [
              "             id_usuario      nota     timestamp  grupo\n",
              "id_filmes                                             \n",
              "858        35372.299971  4.576984  1.012782e+09      0\n",
              "527        35503.692534  4.504072  9.796908e+08      0"
            ]
          },
          "metadata": {
            "tags": []
          },
          "execution_count": 44
        }
      ]
    },
    {
      "cell_type": "code",
      "metadata": {
        "colab": {
          "base_uri": "https://localhost:8080/",
          "height": 359
        },
        "id": "clrmV-1SCUjr",
        "outputId": "85b1337a-8019-4569-aa3d-bb3685f58cb7"
      },
      "source": [
        "df_final = {}\n",
        "df_final[0] = pd.merge(df_sug[0][['nota','grupo']], df_filmes, how='left', left_index=True, right_on='id_filmes')\n",
        "df_final[0].head(10)"
      ],
      "execution_count": 45,
      "outputs": [
        {
          "output_type": "execute_result",
          "data": {
            "text/html": [
              "<div>\n",
              "<style scoped>\n",
              "    .dataframe tbody tr th:only-of-type {\n",
              "        vertical-align: middle;\n",
              "    }\n",
              "\n",
              "    .dataframe tbody tr th {\n",
              "        vertical-align: top;\n",
              "    }\n",
              "\n",
              "    .dataframe thead th {\n",
              "        text-align: right;\n",
              "    }\n",
              "</style>\n",
              "<table border=\"1\" class=\"dataframe\">\n",
              "  <thead>\n",
              "    <tr style=\"text-align: right;\">\n",
              "      <th></th>\n",
              "      <th>nota</th>\n",
              "      <th>grupo</th>\n",
              "      <th>id_filmes</th>\n",
              "      <th>nomes</th>\n",
              "      <th>categorias</th>\n",
              "    </tr>\n",
              "  </thead>\n",
              "  <tbody>\n",
              "    <tr>\n",
              "      <th>843</th>\n",
              "      <td>4.576984</td>\n",
              "      <td>0</td>\n",
              "      <td>858</td>\n",
              "      <td>Godfather, The (1972)</td>\n",
              "      <td>Crime|Drama</td>\n",
              "    </tr>\n",
              "    <tr>\n",
              "      <th>523</th>\n",
              "      <td>4.504072</td>\n",
              "      <td>0</td>\n",
              "      <td>527</td>\n",
              "      <td>Schindler's List (1993)</td>\n",
              "      <td>Drama|War</td>\n",
              "    </tr>\n",
              "    <tr>\n",
              "      <th>895</th>\n",
              "      <td>4.501348</td>\n",
              "      <td>0</td>\n",
              "      <td>912</td>\n",
              "      <td>Casablanca (1942)</td>\n",
              "      <td>Drama|Romance</td>\n",
              "    </tr>\n",
              "    <tr>\n",
              "      <th>315</th>\n",
              "      <td>4.494573</td>\n",
              "      <td>0</td>\n",
              "      <td>318</td>\n",
              "      <td>Shawshank Redemption, The (1994)</td>\n",
              "      <td>Drama</td>\n",
              "    </tr>\n",
              "    <tr>\n",
              "      <th>1169</th>\n",
              "      <td>4.478460</td>\n",
              "      <td>0</td>\n",
              "      <td>1193</td>\n",
              "      <td>One Flew Over the Cuckoo's Nest (1975)</td>\n",
              "      <td>Comedy|Drama</td>\n",
              "    </tr>\n",
              "    <tr>\n",
              "      <th>737</th>\n",
              "      <td>4.476967</td>\n",
              "      <td>0</td>\n",
              "      <td>750</td>\n",
              "      <td>Dr. Strangelove or: How I Learned to Stop Worr...</td>\n",
              "      <td>Comedy|War</td>\n",
              "    </tr>\n",
              "    <tr>\n",
              "      <th>1181</th>\n",
              "      <td>4.471755</td>\n",
              "      <td>0</td>\n",
              "      <td>1207</td>\n",
              "      <td>To Kill a Mockingbird (1962)</td>\n",
              "      <td>Drama</td>\n",
              "    </tr>\n",
              "    <tr>\n",
              "      <th>1195</th>\n",
              "      <td>4.471318</td>\n",
              "      <td>0</td>\n",
              "      <td>1221</td>\n",
              "      <td>Godfather: Part II, The (1974)</td>\n",
              "      <td>Crime|Drama</td>\n",
              "    </tr>\n",
              "    <tr>\n",
              "      <th>1186</th>\n",
              "      <td>4.467983</td>\n",
              "      <td>0</td>\n",
              "      <td>1212</td>\n",
              "      <td>Third Man, The (1949)</td>\n",
              "      <td>Film-Noir|Mystery|Thriller</td>\n",
              "    </tr>\n",
              "    <tr>\n",
              "      <th>905</th>\n",
              "      <td>4.460879</td>\n",
              "      <td>0</td>\n",
              "      <td>922</td>\n",
              "      <td>Sunset Blvd. (a.k.a. Sunset Boulevard) (1950)</td>\n",
              "      <td>Drama|Film-Noir|Romance</td>\n",
              "    </tr>\n",
              "  </tbody>\n",
              "</table>\n",
              "</div>"
            ],
            "text/plain": [
              "          nota  ...                  categorias\n",
              "843   4.576984  ...                 Crime|Drama\n",
              "523   4.504072  ...                   Drama|War\n",
              "895   4.501348  ...               Drama|Romance\n",
              "315   4.494573  ...                       Drama\n",
              "1169  4.478460  ...                Comedy|Drama\n",
              "737   4.476967  ...                  Comedy|War\n",
              "1181  4.471755  ...                       Drama\n",
              "1195  4.471318  ...                 Crime|Drama\n",
              "1186  4.467983  ...  Film-Noir|Mystery|Thriller\n",
              "905   4.460879  ...     Drama|Film-Noir|Romance\n",
              "\n",
              "[10 rows x 5 columns]"
            ]
          },
          "metadata": {
            "tags": []
          },
          "execution_count": 45
        }
      ]
    },
    {
      "cell_type": "code",
      "metadata": {
        "colab": {
          "base_uri": "https://localhost:8080/"
        },
        "id": "ihuiXCYVDTmg",
        "outputId": "57642ad7-0bce-4474-849e-f793dd2d33ed"
      },
      "source": [
        "n_minimo = 500\n",
        "n_top = 200\n",
        "df_final = {}\n",
        "df_sug = {}\n",
        "\n",
        "for i in range(0,k):\n",
        "  df_temp = dict_agrupamento[i].id_filmes.value_counts()\n",
        "  lista_filmes_minimo = list( df_temp[ df_temp.gt(n_minimo)].index )\n",
        "  \n",
        "  dict_agrupamento[i] = dict_agrupamento[i][dict_agrupamento[i].id_filmes.isin(lista_filmes_minimo)]\n",
        "  \n",
        "  df_sug[i] = dict_agrupamento[i].groupby(by='id_filmes').mean().sort_values(by='nota', ascending=False).head(n_top)\n",
        "  \n",
        "  \n",
        "  df_final[i] = pd.merge(df_sug[i][['nota','grupo']], df_filmes, how='left', left_index=True, right_on='id_filmes')\n",
        "\n",
        "  print(df_final[i][['nota','nomes']].head(7))"
      ],
      "execution_count": 46,
      "outputs": [
        {
          "output_type": "stream",
          "text": [
            "          nota                                              nomes\n",
            "843   4.576984                              Godfather, The (1972)\n",
            "523   4.504072                            Schindler's List (1993)\n",
            "895   4.501348                                  Casablanca (1942)\n",
            "315   4.494573                   Shawshank Redemption, The (1994)\n",
            "1169  4.478460             One Flew Over the Cuckoo's Nest (1975)\n",
            "737   4.476967  Dr. Strangelove or: How I Learned to Stop Worr...\n",
            "1181  4.471755                       To Kill a Mockingbird (1962)\n",
            "          nota                                              nomes\n",
            "315   4.551059                   Shawshank Redemption, The (1994)\n",
            "732   4.471218             Wallace & Gromit: A Close Shave (1995)\n",
            "523   4.466521                            Schindler's List (1993)\n",
            "49    4.459681                         Usual Suspects, The (1995)\n",
            "1125  4.451563        Wallace & Gromit: The Wrong Trousers (1993)\n",
            "4879  4.449638  Amelie (Fabuleux destin d'Amélie Poulain, Le) ...\n",
            "708   4.420173  Wallace & Gromit: The Best of Aardman Animatio...\n",
            "           nota                                              nomes\n",
            "315    4.567593                   Shawshank Redemption, The (1994)\n",
            "2487   4.541261                                 Matrix, The (1999)\n",
            "10216  4.513200                            Dark Knight, The (2008)\n",
            "49     4.492563                         Usual Suspects, The (1995)\n",
            "257    4.472884  Star Wars: Episode IV - A New Hope (a.k.a. Sta...\n",
            "1173   4.472129  Raiders of the Lost Ark (Indiana Jones and the...\n",
            "1171   4.451429  Star Wars: Episode V - The Empire Strikes Back...\n",
            "           nota                                        nomes\n",
            "315    4.307078             Shawshank Redemption, The (1994)\n",
            "843    4.263654                        Godfather, The (1972)\n",
            "49     4.219186                   Usual Suspects, The (1995)\n",
            "523    4.162348                      Schindler's List (1993)\n",
            "10216  4.139043                      Dark Knight, The (2008)\n",
            "1195   4.125231               Godfather: Part II, The (1974)\n",
            "1935   4.115008  Seven Samurai (Shichinin no samurai) (1954)\n"
          ],
          "name": "stdout"
        }
      ]
    },
    {
      "cell_type": "markdown",
      "metadata": {
        "id": "puE_acgQ5VF1"
      },
      "source": [
        "# Como faço uma sugestão?\n"
      ]
    },
    {
      "cell_type": "code",
      "metadata": {
        "colab": {
          "base_uri": "https://localhost:8080/",
          "height": 204
        },
        "id": "E2lQPc5kxuE6",
        "outputId": "d0b72b42-4d5e-459b-e310-f30a5abc064d"
      },
      "source": [
        "indice_usuario_x = 215\n",
        "\n",
        "df_usuario_x = df_rate[ df_rate['id_usuario'] == indice_usuario_x ]\n",
        "df_usuario_x.head()"
      ],
      "execution_count": 47,
      "outputs": [
        {
          "output_type": "execute_result",
          "data": {
            "text/html": [
              "<div>\n",
              "<style scoped>\n",
              "    .dataframe tbody tr th:only-of-type {\n",
              "        vertical-align: middle;\n",
              "    }\n",
              "\n",
              "    .dataframe tbody tr th {\n",
              "        vertical-align: top;\n",
              "    }\n",
              "\n",
              "    .dataframe thead th {\n",
              "        text-align: right;\n",
              "    }\n",
              "</style>\n",
              "<table border=\"1\" class=\"dataframe\">\n",
              "  <thead>\n",
              "    <tr style=\"text-align: right;\">\n",
              "      <th></th>\n",
              "      <th>id_usuario</th>\n",
              "      <th>id_filmes</th>\n",
              "      <th>nota</th>\n",
              "      <th>timestamp</th>\n",
              "    </tr>\n",
              "  </thead>\n",
              "  <tbody>\n",
              "    <tr>\n",
              "      <th>27868</th>\n",
              "      <td>215</td>\n",
              "      <td>1</td>\n",
              "      <td>5.0</td>\n",
              "      <td>949015769</td>\n",
              "    </tr>\n",
              "    <tr>\n",
              "      <th>27869</th>\n",
              "      <td>215</td>\n",
              "      <td>2</td>\n",
              "      <td>4.0</td>\n",
              "      <td>949008881</td>\n",
              "    </tr>\n",
              "    <tr>\n",
              "      <th>27870</th>\n",
              "      <td>215</td>\n",
              "      <td>6</td>\n",
              "      <td>5.0</td>\n",
              "      <td>948259719</td>\n",
              "    </tr>\n",
              "    <tr>\n",
              "      <th>27871</th>\n",
              "      <td>215</td>\n",
              "      <td>10</td>\n",
              "      <td>4.0</td>\n",
              "      <td>949008811</td>\n",
              "    </tr>\n",
              "    <tr>\n",
              "      <th>27872</th>\n",
              "      <td>215</td>\n",
              "      <td>11</td>\n",
              "      <td>4.0</td>\n",
              "      <td>949016452</td>\n",
              "    </tr>\n",
              "  </tbody>\n",
              "</table>\n",
              "</div>"
            ],
            "text/plain": [
              "       id_usuario  id_filmes  nota  timestamp\n",
              "27868         215          1   5.0  949015769\n",
              "27869         215          2   4.0  949008881\n",
              "27870         215          6   5.0  948259719\n",
              "27871         215         10   4.0  949008811\n",
              "27872         215         11   4.0  949016452"
            ]
          },
          "metadata": {
            "tags": []
          },
          "execution_count": 47
        }
      ]
    },
    {
      "cell_type": "code",
      "metadata": {
        "colab": {
          "base_uri": "https://localhost:8080/",
          "height": 343
        },
        "id": "5zR_CmtqGOgs",
        "outputId": "fc3cb0d1-8737-45de-e09b-dffc2184c8f8"
      },
      "source": [
        "df_pre_sugestao = pd.merge(df_usuario_x, df_filmes_cat, how='left', on='id_filmes')\n",
        "df_pre_sugestao.head()"
      ],
      "execution_count": 48,
      "outputs": [
        {
          "output_type": "execute_result",
          "data": {
            "text/html": [
              "<div>\n",
              "<style scoped>\n",
              "    .dataframe tbody tr th:only-of-type {\n",
              "        vertical-align: middle;\n",
              "    }\n",
              "\n",
              "    .dataframe tbody tr th {\n",
              "        vertical-align: top;\n",
              "    }\n",
              "\n",
              "    .dataframe thead th {\n",
              "        text-align: right;\n",
              "    }\n",
              "</style>\n",
              "<table border=\"1\" class=\"dataframe\">\n",
              "  <thead>\n",
              "    <tr style=\"text-align: right;\">\n",
              "      <th></th>\n",
              "      <th>id_usuario</th>\n",
              "      <th>id_filmes</th>\n",
              "      <th>nota</th>\n",
              "      <th>timestamp</th>\n",
              "      <th>nomes</th>\n",
              "      <th>categorias</th>\n",
              "      <th>adventure</th>\n",
              "      <th>comedy</th>\n",
              "      <th>action</th>\n",
              "      <th>animation</th>\n",
              "      <th>drama</th>\n",
              "      <th>crime</th>\n",
              "      <th>sci-fi</th>\n",
              "      <th>children</th>\n",
              "      <th>documentary</th>\n",
              "      <th>mystery</th>\n",
              "      <th>thriller</th>\n",
              "      <th>horror</th>\n",
              "      <th>fantasy</th>\n",
              "      <th>western</th>\n",
              "      <th>film-noir</th>\n",
              "      <th>romance</th>\n",
              "      <th>war</th>\n",
              "      <th>musical</th>\n",
              "    </tr>\n",
              "  </thead>\n",
              "  <tbody>\n",
              "    <tr>\n",
              "      <th>0</th>\n",
              "      <td>215</td>\n",
              "      <td>1</td>\n",
              "      <td>5.0</td>\n",
              "      <td>949015769</td>\n",
              "      <td>Toy Story (1995)</td>\n",
              "      <td>Adventure|Animation|Children|Comedy|Fantasy</td>\n",
              "      <td>1</td>\n",
              "      <td>1</td>\n",
              "      <td>0</td>\n",
              "      <td>1</td>\n",
              "      <td>0</td>\n",
              "      <td>0</td>\n",
              "      <td>0</td>\n",
              "      <td>1</td>\n",
              "      <td>0</td>\n",
              "      <td>0</td>\n",
              "      <td>0</td>\n",
              "      <td>0</td>\n",
              "      <td>1</td>\n",
              "      <td>0</td>\n",
              "      <td>0</td>\n",
              "      <td>0</td>\n",
              "      <td>0</td>\n",
              "      <td>0</td>\n",
              "    </tr>\n",
              "    <tr>\n",
              "      <th>1</th>\n",
              "      <td>215</td>\n",
              "      <td>2</td>\n",
              "      <td>4.0</td>\n",
              "      <td>949008881</td>\n",
              "      <td>Jumanji (1995)</td>\n",
              "      <td>Adventure|Children|Fantasy</td>\n",
              "      <td>1</td>\n",
              "      <td>0</td>\n",
              "      <td>0</td>\n",
              "      <td>0</td>\n",
              "      <td>0</td>\n",
              "      <td>0</td>\n",
              "      <td>0</td>\n",
              "      <td>1</td>\n",
              "      <td>0</td>\n",
              "      <td>0</td>\n",
              "      <td>0</td>\n",
              "      <td>0</td>\n",
              "      <td>1</td>\n",
              "      <td>0</td>\n",
              "      <td>0</td>\n",
              "      <td>0</td>\n",
              "      <td>0</td>\n",
              "      <td>0</td>\n",
              "    </tr>\n",
              "    <tr>\n",
              "      <th>2</th>\n",
              "      <td>215</td>\n",
              "      <td>6</td>\n",
              "      <td>5.0</td>\n",
              "      <td>948259719</td>\n",
              "      <td>Heat (1995)</td>\n",
              "      <td>Action|Crime|Thriller</td>\n",
              "      <td>0</td>\n",
              "      <td>0</td>\n",
              "      <td>1</td>\n",
              "      <td>0</td>\n",
              "      <td>0</td>\n",
              "      <td>1</td>\n",
              "      <td>0</td>\n",
              "      <td>0</td>\n",
              "      <td>0</td>\n",
              "      <td>0</td>\n",
              "      <td>1</td>\n",
              "      <td>0</td>\n",
              "      <td>0</td>\n",
              "      <td>0</td>\n",
              "      <td>0</td>\n",
              "      <td>0</td>\n",
              "      <td>0</td>\n",
              "      <td>0</td>\n",
              "    </tr>\n",
              "    <tr>\n",
              "      <th>3</th>\n",
              "      <td>215</td>\n",
              "      <td>10</td>\n",
              "      <td>4.0</td>\n",
              "      <td>949008811</td>\n",
              "      <td>GoldenEye (1995)</td>\n",
              "      <td>Action|Adventure|Thriller</td>\n",
              "      <td>1</td>\n",
              "      <td>0</td>\n",
              "      <td>1</td>\n",
              "      <td>0</td>\n",
              "      <td>0</td>\n",
              "      <td>0</td>\n",
              "      <td>0</td>\n",
              "      <td>0</td>\n",
              "      <td>0</td>\n",
              "      <td>0</td>\n",
              "      <td>1</td>\n",
              "      <td>0</td>\n",
              "      <td>0</td>\n",
              "      <td>0</td>\n",
              "      <td>0</td>\n",
              "      <td>0</td>\n",
              "      <td>0</td>\n",
              "      <td>0</td>\n",
              "    </tr>\n",
              "    <tr>\n",
              "      <th>4</th>\n",
              "      <td>215</td>\n",
              "      <td>11</td>\n",
              "      <td>4.0</td>\n",
              "      <td>949016452</td>\n",
              "      <td>American President, The (1995)</td>\n",
              "      <td>Comedy|Drama|Romance</td>\n",
              "      <td>0</td>\n",
              "      <td>1</td>\n",
              "      <td>0</td>\n",
              "      <td>0</td>\n",
              "      <td>1</td>\n",
              "      <td>0</td>\n",
              "      <td>0</td>\n",
              "      <td>0</td>\n",
              "      <td>0</td>\n",
              "      <td>0</td>\n",
              "      <td>0</td>\n",
              "      <td>0</td>\n",
              "      <td>0</td>\n",
              "      <td>0</td>\n",
              "      <td>0</td>\n",
              "      <td>1</td>\n",
              "      <td>0</td>\n",
              "      <td>0</td>\n",
              "    </tr>\n",
              "  </tbody>\n",
              "</table>\n",
              "</div>"
            ],
            "text/plain": [
              "   id_usuario  id_filmes  nota  timestamp  ... film-noir romance  war  musical\n",
              "0         215          1   5.0  949015769  ...         0       0    0        0\n",
              "1         215          2   4.0  949008881  ...         0       0    0        0\n",
              "2         215          6   5.0  948259719  ...         0       0    0        0\n",
              "3         215         10   4.0  949008811  ...         0       0    0        0\n",
              "4         215         11   4.0  949016452  ...         0       1    0        0\n",
              "\n",
              "[5 rows x 24 columns]"
            ]
          },
          "metadata": {
            "tags": []
          },
          "execution_count": 48
        }
      ]
    },
    {
      "cell_type": "code",
      "metadata": {
        "colab": {
          "base_uri": "https://localhost:8080/",
          "height": 343
        },
        "id": "MLgPQ2mNGwdk",
        "outputId": "c89d15fd-eff4-48eb-c76a-cc30815ba071"
      },
      "source": [
        "df_pre_sugestao.iloc[:,6:] = df_pre_sugestao.iloc[:,6:].multiply(df_pre_sugestao.nota, axis = 'index')\n",
        "df_pre_sugestao.head()"
      ],
      "execution_count": 49,
      "outputs": [
        {
          "output_type": "execute_result",
          "data": {
            "text/html": [
              "<div>\n",
              "<style scoped>\n",
              "    .dataframe tbody tr th:only-of-type {\n",
              "        vertical-align: middle;\n",
              "    }\n",
              "\n",
              "    .dataframe tbody tr th {\n",
              "        vertical-align: top;\n",
              "    }\n",
              "\n",
              "    .dataframe thead th {\n",
              "        text-align: right;\n",
              "    }\n",
              "</style>\n",
              "<table border=\"1\" class=\"dataframe\">\n",
              "  <thead>\n",
              "    <tr style=\"text-align: right;\">\n",
              "      <th></th>\n",
              "      <th>id_usuario</th>\n",
              "      <th>id_filmes</th>\n",
              "      <th>nota</th>\n",
              "      <th>timestamp</th>\n",
              "      <th>nomes</th>\n",
              "      <th>categorias</th>\n",
              "      <th>adventure</th>\n",
              "      <th>comedy</th>\n",
              "      <th>action</th>\n",
              "      <th>animation</th>\n",
              "      <th>drama</th>\n",
              "      <th>crime</th>\n",
              "      <th>sci-fi</th>\n",
              "      <th>children</th>\n",
              "      <th>documentary</th>\n",
              "      <th>mystery</th>\n",
              "      <th>thriller</th>\n",
              "      <th>horror</th>\n",
              "      <th>fantasy</th>\n",
              "      <th>western</th>\n",
              "      <th>film-noir</th>\n",
              "      <th>romance</th>\n",
              "      <th>war</th>\n",
              "      <th>musical</th>\n",
              "    </tr>\n",
              "  </thead>\n",
              "  <tbody>\n",
              "    <tr>\n",
              "      <th>0</th>\n",
              "      <td>215</td>\n",
              "      <td>1</td>\n",
              "      <td>5.0</td>\n",
              "      <td>949015769</td>\n",
              "      <td>Toy Story (1995)</td>\n",
              "      <td>Adventure|Animation|Children|Comedy|Fantasy</td>\n",
              "      <td>5.0</td>\n",
              "      <td>5.0</td>\n",
              "      <td>0.0</td>\n",
              "      <td>5.0</td>\n",
              "      <td>0.0</td>\n",
              "      <td>0.0</td>\n",
              "      <td>0.0</td>\n",
              "      <td>5.0</td>\n",
              "      <td>0.0</td>\n",
              "      <td>0.0</td>\n",
              "      <td>0.0</td>\n",
              "      <td>0.0</td>\n",
              "      <td>5.0</td>\n",
              "      <td>0.0</td>\n",
              "      <td>0.0</td>\n",
              "      <td>0.0</td>\n",
              "      <td>0.0</td>\n",
              "      <td>0.0</td>\n",
              "    </tr>\n",
              "    <tr>\n",
              "      <th>1</th>\n",
              "      <td>215</td>\n",
              "      <td>2</td>\n",
              "      <td>4.0</td>\n",
              "      <td>949008881</td>\n",
              "      <td>Jumanji (1995)</td>\n",
              "      <td>Adventure|Children|Fantasy</td>\n",
              "      <td>4.0</td>\n",
              "      <td>0.0</td>\n",
              "      <td>0.0</td>\n",
              "      <td>0.0</td>\n",
              "      <td>0.0</td>\n",
              "      <td>0.0</td>\n",
              "      <td>0.0</td>\n",
              "      <td>4.0</td>\n",
              "      <td>0.0</td>\n",
              "      <td>0.0</td>\n",
              "      <td>0.0</td>\n",
              "      <td>0.0</td>\n",
              "      <td>4.0</td>\n",
              "      <td>0.0</td>\n",
              "      <td>0.0</td>\n",
              "      <td>0.0</td>\n",
              "      <td>0.0</td>\n",
              "      <td>0.0</td>\n",
              "    </tr>\n",
              "    <tr>\n",
              "      <th>2</th>\n",
              "      <td>215</td>\n",
              "      <td>6</td>\n",
              "      <td>5.0</td>\n",
              "      <td>948259719</td>\n",
              "      <td>Heat (1995)</td>\n",
              "      <td>Action|Crime|Thriller</td>\n",
              "      <td>0.0</td>\n",
              "      <td>0.0</td>\n",
              "      <td>5.0</td>\n",
              "      <td>0.0</td>\n",
              "      <td>0.0</td>\n",
              "      <td>5.0</td>\n",
              "      <td>0.0</td>\n",
              "      <td>0.0</td>\n",
              "      <td>0.0</td>\n",
              "      <td>0.0</td>\n",
              "      <td>5.0</td>\n",
              "      <td>0.0</td>\n",
              "      <td>0.0</td>\n",
              "      <td>0.0</td>\n",
              "      <td>0.0</td>\n",
              "      <td>0.0</td>\n",
              "      <td>0.0</td>\n",
              "      <td>0.0</td>\n",
              "    </tr>\n",
              "    <tr>\n",
              "      <th>3</th>\n",
              "      <td>215</td>\n",
              "      <td>10</td>\n",
              "      <td>4.0</td>\n",
              "      <td>949008811</td>\n",
              "      <td>GoldenEye (1995)</td>\n",
              "      <td>Action|Adventure|Thriller</td>\n",
              "      <td>4.0</td>\n",
              "      <td>0.0</td>\n",
              "      <td>4.0</td>\n",
              "      <td>0.0</td>\n",
              "      <td>0.0</td>\n",
              "      <td>0.0</td>\n",
              "      <td>0.0</td>\n",
              "      <td>0.0</td>\n",
              "      <td>0.0</td>\n",
              "      <td>0.0</td>\n",
              "      <td>4.0</td>\n",
              "      <td>0.0</td>\n",
              "      <td>0.0</td>\n",
              "      <td>0.0</td>\n",
              "      <td>0.0</td>\n",
              "      <td>0.0</td>\n",
              "      <td>0.0</td>\n",
              "      <td>0.0</td>\n",
              "    </tr>\n",
              "    <tr>\n",
              "      <th>4</th>\n",
              "      <td>215</td>\n",
              "      <td>11</td>\n",
              "      <td>4.0</td>\n",
              "      <td>949016452</td>\n",
              "      <td>American President, The (1995)</td>\n",
              "      <td>Comedy|Drama|Romance</td>\n",
              "      <td>0.0</td>\n",
              "      <td>4.0</td>\n",
              "      <td>0.0</td>\n",
              "      <td>0.0</td>\n",
              "      <td>4.0</td>\n",
              "      <td>0.0</td>\n",
              "      <td>0.0</td>\n",
              "      <td>0.0</td>\n",
              "      <td>0.0</td>\n",
              "      <td>0.0</td>\n",
              "      <td>0.0</td>\n",
              "      <td>0.0</td>\n",
              "      <td>0.0</td>\n",
              "      <td>0.0</td>\n",
              "      <td>0.0</td>\n",
              "      <td>4.0</td>\n",
              "      <td>0.0</td>\n",
              "      <td>0.0</td>\n",
              "    </tr>\n",
              "  </tbody>\n",
              "</table>\n",
              "</div>"
            ],
            "text/plain": [
              "   id_usuario  id_filmes  nota  timestamp  ... film-noir romance  war  musical\n",
              "0         215          1   5.0  949015769  ...       0.0     0.0  0.0      0.0\n",
              "1         215          2   4.0  949008881  ...       0.0     0.0  0.0      0.0\n",
              "2         215          6   5.0  948259719  ...       0.0     0.0  0.0      0.0\n",
              "3         215         10   4.0  949008811  ...       0.0     0.0  0.0      0.0\n",
              "4         215         11   4.0  949016452  ...       0.0     4.0  0.0      0.0\n",
              "\n",
              "[5 rows x 24 columns]"
            ]
          },
          "metadata": {
            "tags": []
          },
          "execution_count": 49
        }
      ]
    },
    {
      "cell_type": "code",
      "metadata": {
        "colab": {
          "base_uri": "https://localhost:8080/"
        },
        "id": "cAs6o-zGHM4H",
        "outputId": "6f0c4911-655d-4873-82cf-a75b34ad63a2"
      },
      "source": [
        "df_pre_sugestao.drop(labels=['id_filmes','id_usuario','timestamp'], inplace = True, axis='columns')\n",
        "df_feature_usuario_x = df_pre_sugestao.mean()\n",
        "df_feature_usuario_x"
      ],
      "execution_count": 50,
      "outputs": [
        {
          "output_type": "execute_result",
          "data": {
            "text/plain": [
              "nota           4.165862\n",
              "adventure      0.774155\n",
              "comedy         1.550725\n",
              "action         1.260467\n",
              "animation      0.175926\n",
              "drama          2.053945\n",
              "crime          0.932770\n",
              "sci-fi         0.562399\n",
              "children       0.194444\n",
              "documentary    0.070048\n",
              "mystery        0.360709\n",
              "thriller       1.187198\n",
              "horror         0.311997\n",
              "fantasy        0.370370\n",
              "western        0.126006\n",
              "film-noir      0.150161\n",
              "romance        0.627617\n",
              "war            0.214976\n",
              "musical        0.134461\n",
              "dtype: float64"
            ]
          },
          "metadata": {
            "tags": []
          },
          "execution_count": 50
        }
      ]
    },
    {
      "cell_type": "code",
      "metadata": {
        "colab": {
          "base_uri": "https://localhost:8080/"
        },
        "id": "wC6ev6yQFSCu",
        "outputId": "6fe566a3-d1a3-40a1-ca51-06574ff20fd8"
      },
      "source": [
        "# Grupo\n",
        "grupo_usuario_x = km.predict([df_feature_usuario_x.values])[0]\n",
        "grupo_usuario_x"
      ],
      "execution_count": 51,
      "outputs": [
        {
          "output_type": "execute_result",
          "data": {
            "text/plain": [
              "0"
            ]
          },
          "metadata": {
            "tags": []
          },
          "execution_count": 51
        }
      ]
    },
    {
      "cell_type": "code",
      "metadata": {
        "colab": {
          "base_uri": "https://localhost:8080/"
        },
        "id": "urfYFF6fJnW0",
        "outputId": "675f6fa4-6fe7-4384-ba17-e696f502601a"
      },
      "source": [
        "# O que ele já assistiu\n",
        "lista_assistidos = list(df_usuario_x.id_filmes.values)\n",
        "print(lista_assistidos)"
      ],
      "execution_count": 52,
      "outputs": [
        {
          "output_type": "stream",
          "text": [
            "[1, 2, 6, 10, 11, 15, 16, 17, 21, 22, 25, 26, 29, 32, 34, 36, 39, 41, 44, 47, 49, 50, 52, 59, 65, 70, 76, 81, 93, 94, 95, 110, 111, 112, 122, 125, 141, 149, 150, 151, 153, 156, 159, 160, 161, 162, 163, 164, 165, 172, 173, 176, 183, 194, 198, 203, 204, 208, 210, 223, 224, 229, 234, 235, 236, 247, 252, 256, 259, 260, 266, 268, 288, 292, 293, 296, 300, 303, 305, 316, 317, 318, 319, 322, 327, 329, 334, 335, 339, 341, 344, 345, 348, 349, 350, 353, 356, 357, 364, 367, 368, 369, 373, 376, 377, 379, 380, 410, 412, 415, 420, 431, 434, 442, 444, 448, 454, 456, 457, 464, 466, 471, 474, 475, 477, 479, 480, 482, 485, 491, 492, 494, 496, 497, 500, 501, 503, 504, 506, 507, 508, 512, 514, 517, 521, 529, 532, 535, 538, 541, 546, 551, 552, 553, 555, 562, 583, 586, 587, 588, 589, 592, 593, 595, 597, 599, 608, 610, 628, 648, 661, 663, 664, 671, 673, 695, 707, 708, 714, 719, 720, 733, 736, 737, 741, 745, 750, 757, 761, 762, 766, 778, 780, 784, 786, 788, 798, 799, 800, 806, 838, 846, 849, 851, 852, 858, 861, 864, 866, 869, 880, 898, 903, 904, 905, 908, 909, 910, 912, 913, 919, 920, 922, 923, 924, 926, 950, 951, 953, 954, 955, 968, 994, 996, 999, 1020, 1027, 1029, 1036, 1037, 1041, 1047, 1050, 1057, 1059, 1060, 1077, 1079, 1080, 1084, 1089, 1091, 1094, 1095, 1097, 1116, 1120, 1127, 1129, 1132, 1136, 1148, 1171, 1172, 1175, 1177, 1178, 1179, 1183, 1187, 1188, 1189, 1193, 1196, 1197, 1198, 1199, 1200, 1202, 1203, 1204, 1206, 1207, 1208, 1209, 1210, 1212, 1213, 1214, 1215, 1218, 1219, 1220, 1221, 1222, 1223, 1225, 1228, 1230, 1233, 1234, 1235, 1236, 1240, 1241, 1242, 1243, 1245, 1247, 1248, 1249, 1250, 1251, 1252, 1255, 1256, 1257, 1258, 1259, 1260, 1261, 1262, 1264, 1265, 1266, 1267, 1268, 1270, 1273, 1274, 1275, 1276, 1277, 1278, 1279, 1282, 1283, 1284, 1285, 1288, 1291, 1295, 1297, 1300, 1303, 1304, 1306, 1307, 1320, 1321, 1336, 1339, 1343, 1348, 1352, 1354, 1356, 1357, 1358, 1364, 1365, 1366, 1370, 1371, 1372, 1374, 1375, 1376, 1377, 1378, 1379, 1381, 1385, 1387, 1391, 1392, 1393, 1394, 1396, 1407, 1409, 1411, 1412, 1414, 1429, 1441, 1446, 1449, 1464, 1466, 1476, 1482, 1485, 1499, 1500, 1513, 1517, 1527, 1541, 1544, 1545, 1546, 1550, 1552, 1554, 1570, 1573, 1580, 1584, 1589, 1590, 1591, 1594, 1597, 1603, 1605, 1610, 1614, 1615, 1616, 1617, 1620, 1625, 1627, 1635, 1641, 1643, 1645, 1646, 1653, 1658, 1673, 1676, 1682, 1689, 1690, 1696, 1701, 1704, 1711, 1713, 1721, 1722, 1729, 1730, 1732, 1747, 1748, 1760, 1777, 1783, 1784, 1791, 1799, 1805, 1809, 1831, 1834, 1841, 1845, 1857, 1861, 1862, 1875, 1876, 1882, 1883, 1884, 1889, 1895, 1904, 1909, 1912, 1916, 1917, 1918, 1921, 1923, 1924, 1944, 1946, 1947, 1952, 1953, 1954, 1960, 1961, 1963, 1964, 1965, 1968, 1994, 1997, 2000, 2001, 2002, 2006, 2010, 2011, 2012, 2019, 2020, 2022, 2023, 2024, 2028, 2052, 2054, 2058, 2065, 2068, 2076, 2086, 2088, 2093, 2094, 2097, 2105, 2108, 2110, 2115, 2117, 2124, 2126, 2133, 2134, 2140, 2143, 2148, 2153, 2163, 2167, 2174, 2189, 2194, 2203, 2231, 2232, 2237, 2238, 2239, 2243, 2247, 2248, 2249, 2252, 2255, 2259, 2261, 2272, 2273, 2278, 2288, 2289, 2291, 2295, 2297, 2300, 2302, 2310, 2311, 2318, 2321, 2322, 2324, 2333, 2336, 2342, 2344, 2349, 2350, 2353, 2355, 2364, 2369, 2370, 2371, 2384, 2387, 2390, 2391, 2393, 2394, 2395, 2396, 2401, 2405, 2406, 2407, 2413, 2414, 2427, 2428, 2435, 2439, 2448, 2450, 2455, 2456, 2457, 2463, 2467, 2468, 2469, 2470, 2471, 2476, 2477, 2482, 2490, 2493, 2502, 2511, 2540, 2542, 2550, 2551, 2557, 2561, 2571, 2580, 2582, 2593, 2599, 2616, 2617, 2621, 2625, 2628, 2640, 2641, 2642, 2657, 2660, 2664, 2686, 2692, 2693, 2699, 2700, 2701, 2706, 2709, 2710, 2712, 2716, 2723, 2726, 2735, 2746, 2752, 2759, 2761, 2762, 2764, 2770, 2788, 2791, 2792, 2793, 2797, 2804, 2808, 2810, 2826, 2830, 2841, 2849, 2858, 2863, 2867, 2871, 2879, 2890, 2912, 2916, 2918, 2944, 2946, 2952, 2959, 2966, 2968, 2973, 2985, 2986, 2987, 2997, 3000, 3006, 3007, 3008, 3022, 3030, 3033, 3037, 3039, 3044, 3045, 3046, 3052, 3060, 3068, 3070, 3072, 3076, 3081, 3089, 3097, 3104, 3105, 3107, 3108, 3113, 3114, 3120, 3129, 3130, 3148, 3160, 3175, 3184, 3189, 3198, 3241, 3247, 3252, 3253, 3256, 3258, 3261, 3264, 3265, 3266, 3267, 3272, 3275, 3276, 3300, 3301, 3307, 3310, 3317, 3328, 3334, 3342, 3355, 3361, 3362, 3384, 3386, 3396, 3408, 3418, 3429, 3435, 3452, 3476, 3481, 3494, 3499, 3504, 3508, 3510, 3514, 3527, 3551, 3555, 3559, 3566, 3571, 3578, 3593, 3623, 3624, 3632, 3635, 3654, 3698, 3701, 3703, 3717, 3726, 3727, 3728, 3729, 3730, 3742, 3744, 3745, 3747, 3751, 3753, 3755, 3783, 3793, 3798, 3819, 3826, 3827, 3852, 3863, 3871, 3876, 3893, 3895, 3897, 3905, 3910, 3911, 3915, 3916, 3946, 3949, 3950, 3966, 3967, 3969, 3977, 3983, 3986, 3994, 3996, 3998, 3999, 4011, 4014, 4015, 4016, 4018, 4020, 4021, 4022, 4027, 4029, 4031, 4034, 4036, 4037, 4038, 4055, 4056, 4085, 4105, 4117, 4166, 4190, 4210, 4225, 4226, 4232, 4238, 4262, 4270, 4272, 4298, 4299, 4306, 4321, 4327, 4344, 4350, 4361, 4367, 4370, 4378, 4380, 4383, 4387, 4422, 4426, 4427, 4432, 4446, 4448, 4465, 4498, 4499, 4506, 4531, 4546, 4570, 4612, 4640, 4641, 4690, 4720, 4783, 4833, 4844, 4848, 4855, 4868, 4878, 4881, 4886, 4889, 4896, 4901, 4903, 4958, 4963, 4967, 4973, 4979, 4993, 4995, 5010, 5026, 5027, 5049, 5060, 5072, 5093, 5120, 5147, 5187, 5219, 5254, 5291, 5292, 5313, 5325, 5333, 5339, 5349, 5378, 5388, 5400, 5418, 5420, 5442, 5445, 5462, 5463, 5464, 5504, 5507, 5524, 5553, 5618, 5674, 5689, 5692, 5693, 5747, 5752, 5782, 5816, 5820, 5843, 5859, 5867, 5872, 5893, 5902, 5914, 5952, 5956, 5966, 5968, 5989, 5991, 5995, 6001, 6003, 6016, 6027, 6104, 6156, 6157, 6210, 6213, 6218, 6264, 6273, 6294, 6300, 6331, 6333, 6365, 6377, 6429, 6440, 6448, 6460, 6467, 6484, 6503, 6534, 6537, 6539, 6541, 6564, 6566, 6576, 6583, 6595, 6618, 6620, 6624, 6659, 6663, 6664, 6667, 6721, 6754, 6755, 6764, 6773, 6787, 6806, 6808, 6857, 6867, 6870, 6872, 6874, 6893, 6920, 6932, 6934, 6947, 6957, 6985, 7022, 7025, 7027, 7028, 7072, 7073, 7076, 7090, 7116, 7118, 7132, 7143, 7147, 7153, 7162, 7163, 7164, 7218, 7234, 7263, 7325, 7335, 7348, 7361, 7367, 7373, 7376, 7382, 7387, 7419, 7438, 7445, 7454, 7460, 7561, 7566, 7587, 7700, 7706, 7728, 7762, 7769, 7802, 7820, 7844, 7897, 7915, 7924, 7925, 7926, 8094, 8117, 8125, 8157, 8207, 8228, 8253, 8327, 8334, 8340, 8366, 8368, 8369, 8370, 8371, 8464, 8492, 8493, 8495, 8507, 8520, 8622, 8623, 8636, 8665, 8772, 8784, 8798, 8810, 8865, 8874, 8917, 8930, 8949, 8961, 8972, 8983, 8984, 25750, 25940, 26119, 26171, 26172, 26375, 26840, 26939, 27005, 27721, 27801, 27831, 27846, 27904, 30810, 30812, 31086, 31101, 31184, 31420, 31485, 31696, 31705, 31770, 31878, 31923, 32029, 32179, 32587, 32596, 32770, 33004, 33166, 33437, 33493, 33679, 33794, 34048, 34319, 34332, 34405, 34583, 36517, 36529, 37382, 37733, 37853, 37857, 38038, 38061, 39183, 39292, 39381, 40412, 40414, 40583, 40732, 40819, 40870, 40959, 41569, 41863, 42418, 44191, 44199, 44555, 44849, 45183, 45186, 46578, 46965, 47200, 47629, 47894, 48043, 48082, 48304, 48394, 48516, 48696, 48738, 48774, 48780, 49132, 49272, 49278, 49530, 49961, 50872, 51007, 51255, 51540, 52042, 52281, 52328, 52579, 52885, 53123, 53189, 53460, 53519, 53972, 54190, 54286, 54736, 54995, 54997, 54999, 55080, 55118, 55253, 55765, 55805, 55814, 55820, 56286, 56782, 57669, 58295, 58492, 58559, 58803, 59103, 59315, 60069, 60647, 60766, 60943, 61323]\n"
          ],
          "name": "stdout"
        }
      ]
    },
    {
      "cell_type": "code",
      "metadata": {
        "colab": {
          "base_uri": "https://localhost:8080/",
          "height": 359
        },
        "id": "CbLt4UIXIyaT",
        "outputId": "d038f6fc-0538-4c30-a837-5635991d00a6"
      },
      "source": [
        "# O que ele não assistiu\n",
        "sugestao = df_final[grupo_usuario_x][~(df_final[grupo_usuario_x].id_filmes.isin(lista_assistidos))]\n",
        "sugestao[['nota','id_filmes','nomes','categorias']].head(10)"
      ],
      "execution_count": 53,
      "outputs": [
        {
          "output_type": "execute_result",
          "data": {
            "text/html": [
              "<div>\n",
              "<style scoped>\n",
              "    .dataframe tbody tr th:only-of-type {\n",
              "        vertical-align: middle;\n",
              "    }\n",
              "\n",
              "    .dataframe tbody tr th {\n",
              "        vertical-align: top;\n",
              "    }\n",
              "\n",
              "    .dataframe thead th {\n",
              "        text-align: right;\n",
              "    }\n",
              "</style>\n",
              "<table border=\"1\" class=\"dataframe\">\n",
              "  <thead>\n",
              "    <tr style=\"text-align: right;\">\n",
              "      <th></th>\n",
              "      <th>nota</th>\n",
              "      <th>id_filmes</th>\n",
              "      <th>nomes</th>\n",
              "      <th>categorias</th>\n",
              "    </tr>\n",
              "  </thead>\n",
              "  <tbody>\n",
              "    <tr>\n",
              "      <th>523</th>\n",
              "      <td>4.504072</td>\n",
              "      <td>527</td>\n",
              "      <td>Schindler's List (1993)</td>\n",
              "      <td>Drama|War</td>\n",
              "    </tr>\n",
              "    <tr>\n",
              "      <th>2646</th>\n",
              "      <td>4.425971</td>\n",
              "      <td>2731</td>\n",
              "      <td>400 Blows, The (Les Quatre cents coups) (1959)</td>\n",
              "      <td>Crime|Drama</td>\n",
              "    </tr>\n",
              "    <tr>\n",
              "      <th>3049</th>\n",
              "      <td>4.397817</td>\n",
              "      <td>3134</td>\n",
              "      <td>Grand Illusion (Grande illusion, La) (1937)</td>\n",
              "      <td>Drama|War</td>\n",
              "    </tr>\n",
              "    <tr>\n",
              "      <th>1861</th>\n",
              "      <td>4.390359</td>\n",
              "      <td>1945</td>\n",
              "      <td>On the Waterfront (1954)</td>\n",
              "      <td>Crime|Drama</td>\n",
              "    </tr>\n",
              "    <tr>\n",
              "      <th>3375</th>\n",
              "      <td>4.370370</td>\n",
              "      <td>3462</td>\n",
              "      <td>Modern Times (1936)</td>\n",
              "      <td>Comedy|Romance</td>\n",
              "    </tr>\n",
              "    <tr>\n",
              "      <th>913</th>\n",
              "      <td>4.349359</td>\n",
              "      <td>930</td>\n",
              "      <td>Notorious (1946)</td>\n",
              "      <td>Film-Noir|Romance|Thriller</td>\n",
              "    </tr>\n",
              "    <tr>\n",
              "      <th>1226</th>\n",
              "      <td>4.343727</td>\n",
              "      <td>1254</td>\n",
              "      <td>Treasure of the Sierra Madre, The (1948)</td>\n",
              "      <td>Action|Adventure|Drama|Western</td>\n",
              "    </tr>\n",
              "    <tr>\n",
              "      <th>2276</th>\n",
              "      <td>4.342636</td>\n",
              "      <td>2360</td>\n",
              "      <td>Celebration, The (Festen) (1998)</td>\n",
              "      <td>Drama</td>\n",
              "    </tr>\n",
              "    <tr>\n",
              "      <th>3010</th>\n",
              "      <td>4.334762</td>\n",
              "      <td>3095</td>\n",
              "      <td>Grapes of Wrath, The (1940)</td>\n",
              "      <td>Drama</td>\n",
              "    </tr>\n",
              "    <tr>\n",
              "      <th>1108</th>\n",
              "      <td>4.334501</td>\n",
              "      <td>1131</td>\n",
              "      <td>Jean de Florette (1986)</td>\n",
              "      <td>Drama</td>\n",
              "    </tr>\n",
              "  </tbody>\n",
              "</table>\n",
              "</div>"
            ],
            "text/plain": [
              "          nota  ...                      categorias\n",
              "523   4.504072  ...                       Drama|War\n",
              "2646  4.425971  ...                     Crime|Drama\n",
              "3049  4.397817  ...                       Drama|War\n",
              "1861  4.390359  ...                     Crime|Drama\n",
              "3375  4.370370  ...                  Comedy|Romance\n",
              "913   4.349359  ...      Film-Noir|Romance|Thriller\n",
              "1226  4.343727  ...  Action|Adventure|Drama|Western\n",
              "2276  4.342636  ...                           Drama\n",
              "3010  4.334762  ...                           Drama\n",
              "1108  4.334501  ...                           Drama\n",
              "\n",
              "[10 rows x 4 columns]"
            ]
          },
          "metadata": {
            "tags": []
          },
          "execution_count": 53
        }
      ]
    },
    {
      "cell_type": "markdown",
      "metadata": {
        "id": "rEAIxIltKvD_"
      },
      "source": [
        "# Preparando para deploy"
      ]
    },
    {
      "cell_type": "markdown",
      "metadata": {
        "id": "7_hzV4HzMWed"
      },
      "source": [
        "Salvando os top 200 filmes de cada grupo em um arquivo CSV"
      ]
    },
    {
      "cell_type": "code",
      "metadata": {
        "id": "JFZa3lPXKsXd"
      },
      "source": [
        "path_deploy = '/content/drive/MyDrive/Colab Notebooks/Pós/Intro à CD/Sistema_recomendacao'\n",
        "\n",
        "for i in range(0,k):\n",
        "  nome_completo = path_deploy+'/'+'tabela_top_grupo_'+str(i)+'.csv'\n",
        "  df_final[i].to_csv(nome_completo)"
      ],
      "execution_count": 54,
      "outputs": []
    },
    {
      "cell_type": "markdown",
      "metadata": {
        "id": "T-EMPBAXMdBD"
      },
      "source": [
        "Salvar o modelo Kmeans"
      ]
    },
    {
      "cell_type": "markdown",
      "metadata": {
        "id": "hnui_PnzLSH6"
      },
      "source": [
        "Tutorial: https://machinelearningmastery.com/save-load-machine-learning-models-python-scikit-learn/"
      ]
    },
    {
      "cell_type": "code",
      "metadata": {
        "colab": {
          "base_uri": "https://localhost:8080/"
        },
        "id": "M-90fYWBMiSV",
        "outputId": "fab8db40-81b0-47e5-a85c-c20e5449173c"
      },
      "source": [
        "from joblib import dump\n",
        "\n",
        "arquivo_modelo = path_deploy+'/'+'modelo_kmeans.joblib'\n",
        "dump(km, arquivo_modelo)"
      ],
      "execution_count": 55,
      "outputs": [
        {
          "output_type": "execute_result",
          "data": {
            "text/plain": [
              "['/content/drive/MyDrive/Colab Notebooks/Pós/Intro à CD/Sistema_recomendacao/modelo_kmeans.joblib']"
            ]
          },
          "metadata": {
            "tags": []
          },
          "execution_count": 55
        }
      ]
    }
  ]
}